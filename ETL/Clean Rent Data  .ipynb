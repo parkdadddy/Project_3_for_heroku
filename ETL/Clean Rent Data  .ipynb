{
 "cells": [
  {
   "cell_type": "code",
   "execution_count": 1,
   "metadata": {},
   "outputs": [],
   "source": [
    "import pandas as pd\n",
    "import requests\n",
    "import json"
   ]
  },
  {
   "cell_type": "code",
   "execution_count": 2,
   "metadata": {},
   "outputs": [
    {
     "data": {
      "text/plain": [
       "Unnamed: 0      int64\n",
       "SA2 Code        int64\n",
       "SA2 Name       object\n",
       "Rent           object\n",
       "2006          float64\n",
       "2011          float64\n",
       "2016          float64\n",
       "dtype: object"
      ]
     },
     "execution_count": 2,
     "metadata": {},
     "output_type": "execute_result"
    }
   ],
   "source": [
    "rent_df = pd.read_csv('Rent 2006-2016.csv')\n",
    "rent_df.dtypes"
   ]
  },
  {
   "cell_type": "code",
   "execution_count": 3,
   "metadata": {},
   "outputs": [],
   "source": [
    "# rent_df.head(50)"
   ]
  },
  {
   "cell_type": "code",
   "execution_count": 4,
   "metadata": {},
   "outputs": [
    {
     "data": {
      "text/html": [
       "<div>\n",
       "<style scoped>\n",
       "    .dataframe tbody tr th:only-of-type {\n",
       "        vertical-align: middle;\n",
       "    }\n",
       "\n",
       "    .dataframe tbody tr th {\n",
       "        vertical-align: top;\n",
       "    }\n",
       "\n",
       "    .dataframe thead th {\n",
       "        text-align: right;\n",
       "    }\n",
       "</style>\n",
       "<table border=\"1\" class=\"dataframe\">\n",
       "  <thead>\n",
       "    <tr style=\"text-align: right;\">\n",
       "      <th></th>\n",
       "      <th>Unnamed: 0</th>\n",
       "      <th>SA2 Code</th>\n",
       "      <th>SA2 Name</th>\n",
       "      <th>Rent</th>\n",
       "      <th>2006</th>\n",
       "      <th>2011</th>\n",
       "      <th>2016</th>\n",
       "    </tr>\n",
       "  </thead>\n",
       "  <tbody>\n",
       "    <tr>\n",
       "      <th>1</th>\n",
       "      <td>1</td>\n",
       "      <td>502011021</td>\n",
       "      <td>Dawesville - Bouvard</td>\n",
       "      <td>$1-$74</td>\n",
       "      <td>0.0</td>\n",
       "      <td>0.0</td>\n",
       "      <td>0.0</td>\n",
       "    </tr>\n",
       "    <tr>\n",
       "      <th>2</th>\n",
       "      <td>2</td>\n",
       "      <td>502011021</td>\n",
       "      <td>Dawesville - Bouvard</td>\n",
       "      <td>$75-$99</td>\n",
       "      <td>3.0</td>\n",
       "      <td>0.0</td>\n",
       "      <td>3.0</td>\n",
       "    </tr>\n",
       "    <tr>\n",
       "      <th>3</th>\n",
       "      <td>3</td>\n",
       "      <td>502011021</td>\n",
       "      <td>Dawesville - Bouvard</td>\n",
       "      <td>$100-$124</td>\n",
       "      <td>13.0</td>\n",
       "      <td>12.0</td>\n",
       "      <td>6.0</td>\n",
       "    </tr>\n",
       "    <tr>\n",
       "      <th>4</th>\n",
       "      <td>4</td>\n",
       "      <td>502011021</td>\n",
       "      <td>Dawesville - Bouvard</td>\n",
       "      <td>$125-$149</td>\n",
       "      <td>16.0</td>\n",
       "      <td>22.0</td>\n",
       "      <td>0.0</td>\n",
       "    </tr>\n",
       "    <tr>\n",
       "      <th>5</th>\n",
       "      <td>5</td>\n",
       "      <td>502011021</td>\n",
       "      <td>Dawesville - Bouvard</td>\n",
       "      <td>$150-$174</td>\n",
       "      <td>45.0</td>\n",
       "      <td>22.0</td>\n",
       "      <td>18.0</td>\n",
       "    </tr>\n",
       "    <tr>\n",
       "      <th>...</th>\n",
       "      <td>...</td>\n",
       "      <td>...</td>\n",
       "      <td>...</td>\n",
       "      <td>...</td>\n",
       "      <td>...</td>\n",
       "      <td>...</td>\n",
       "      <td>...</td>\n",
       "    </tr>\n",
       "    <tr>\n",
       "      <th>3974</th>\n",
       "      <td>3974</td>\n",
       "      <td>507051193</td>\n",
       "      <td>Warnbro</td>\n",
       "      <td>$550-$649</td>\n",
       "      <td>0.0</td>\n",
       "      <td>3.0</td>\n",
       "      <td>6.0</td>\n",
       "    </tr>\n",
       "    <tr>\n",
       "      <th>3975</th>\n",
       "      <td>3975</td>\n",
       "      <td>507051193</td>\n",
       "      <td>Warnbro</td>\n",
       "      <td>$650-$749</td>\n",
       "      <td>0.0</td>\n",
       "      <td>3.0</td>\n",
       "      <td>0.0</td>\n",
       "    </tr>\n",
       "    <tr>\n",
       "      <th>3976</th>\n",
       "      <td>3976</td>\n",
       "      <td>507051193</td>\n",
       "      <td>Warnbro</td>\n",
       "      <td>$750-$849</td>\n",
       "      <td>0.0</td>\n",
       "      <td>3.0</td>\n",
       "      <td>0.0</td>\n",
       "    </tr>\n",
       "    <tr>\n",
       "      <th>3977</th>\n",
       "      <td>3977</td>\n",
       "      <td>507051193</td>\n",
       "      <td>Warnbro</td>\n",
       "      <td>$850-$949</td>\n",
       "      <td>0.0</td>\n",
       "      <td>0.0</td>\n",
       "      <td>0.0</td>\n",
       "    </tr>\n",
       "    <tr>\n",
       "      <th>3978</th>\n",
       "      <td>3978</td>\n",
       "      <td>507051193</td>\n",
       "      <td>Warnbro</td>\n",
       "      <td>$950 and over</td>\n",
       "      <td>10.0</td>\n",
       "      <td>5.0</td>\n",
       "      <td>6.0</td>\n",
       "    </tr>\n",
       "  </tbody>\n",
       "</table>\n",
       "<p>3806 rows × 7 columns</p>\n",
       "</div>"
      ],
      "text/plain": [
       "      Unnamed: 0   SA2 Code              SA2 Name           Rent  2006  2011  \\\n",
       "1              1  502011021  Dawesville - Bouvard         $1-$74   0.0   0.0   \n",
       "2              2  502011021  Dawesville - Bouvard        $75-$99   3.0   0.0   \n",
       "3              3  502011021  Dawesville - Bouvard      $100-$124  13.0  12.0   \n",
       "4              4  502011021  Dawesville - Bouvard      $125-$149  16.0  22.0   \n",
       "5              5  502011021  Dawesville - Bouvard      $150-$174  45.0  22.0   \n",
       "...          ...        ...                   ...            ...   ...   ...   \n",
       "3974        3974  507051193               Warnbro      $550-$649   0.0   3.0   \n",
       "3975        3975  507051193               Warnbro      $650-$749   0.0   3.0   \n",
       "3976        3976  507051193               Warnbro      $750-$849   0.0   3.0   \n",
       "3977        3977  507051193               Warnbro      $850-$949   0.0   0.0   \n",
       "3978        3978  507051193               Warnbro  $950 and over  10.0   5.0   \n",
       "\n",
       "      2016  \n",
       "1      0.0  \n",
       "2      3.0  \n",
       "3      6.0  \n",
       "4      0.0  \n",
       "5     18.0  \n",
       "...    ...  \n",
       "3974   6.0  \n",
       "3975   0.0  \n",
       "3976   0.0  \n",
       "3977   0.0  \n",
       "3978   6.0  \n",
       "\n",
       "[3806 rows x 7 columns]"
      ]
     },
     "execution_count": 4,
     "metadata": {},
     "output_type": "execute_result"
    }
   ],
   "source": [
    "rent_df[~rent_df.Rent.str.contains(\"Nil payments\")]\n",
    "# rent_df"
   ]
  },
  {
   "cell_type": "code",
   "execution_count": 5,
   "metadata": {},
   "outputs": [],
   "source": [
    "#drop nil payments\n",
    "indexNames = rent_df[ rent_df['Rent'] == 'Nil payments' ].index\n",
    "rent_df.drop(indexNames , inplace=True)\n",
    "# rent_df.head(50)"
   ]
  },
  {
   "cell_type": "code",
   "execution_count": 6,
   "metadata": {},
   "outputs": [],
   "source": [
    "# grouped_df = rent_df.groupby(\"SA2 Name\")\n",
    "# maximums = grouped_df.max()\n",
    "# maximums = maximums.reset_index()\n",
    "# print(maximums)\n",
    "\n"
   ]
  },
  {
   "cell_type": "code",
   "execution_count": 7,
   "metadata": {},
   "outputs": [],
   "source": [
    "# rent_df.groupby(\"SA2 Name\")['2006'].max()\n",
    "# rent_df[\"SA2 Name\"].unique()\n",
    "# for sa2 in rent_df[\"SA2 Name\"].unique():\n",
    "#     rent_df[rent_df[\"SA2 Name\"] == sa2 and rent_df['2006'] == rent_df['2006'].max() ]"
   ]
  },
  {
   "cell_type": "code",
   "execution_count": 8,
   "metadata": {},
   "outputs": [
    {
     "data": {
      "text/plain": [
       "45.0"
      ]
     },
     "execution_count": 8,
     "metadata": {},
     "output_type": "execute_result"
    }
   ],
   "source": [
    "rent_df[rent_df[\"SA2 Name\"]=='Dawesville - Bouvard']['2006'].max()\n"
   ]
  },
  {
   "cell_type": "code",
   "execution_count": 9,
   "metadata": {},
   "outputs": [],
   "source": [
    "rents_2006 = {}\n",
    "for sa2 in rent_df[\"SA2 Name\"].unique():\n",
    "    max = rent_df[rent_df[\"SA2 Name\"]==sa2]['2006'].max()\n",
    "    mode_rent = rent_df[(rent_df[\"SA2 Name\"]==sa2) &  (rent_df['2006']==max)]['Rent'].values[0]\n",
    "    rents_2006[sa2] = mode_rent\n",
    "\n"
   ]
  },
  {
   "cell_type": "code",
   "execution_count": 31,
   "metadata": {},
   "outputs": [
    {
     "data": {
      "text/html": [
       "<div>\n",
       "<style scoped>\n",
       "    .dataframe tbody tr th:only-of-type {\n",
       "        vertical-align: middle;\n",
       "    }\n",
       "\n",
       "    .dataframe tbody tr th {\n",
       "        vertical-align: top;\n",
       "    }\n",
       "\n",
       "    .dataframe thead th {\n",
       "        text-align: right;\n",
       "    }\n",
       "</style>\n",
       "<table border=\"1\" class=\"dataframe\">\n",
       "  <thead>\n",
       "    <tr style=\"text-align: right;\">\n",
       "      <th></th>\n",
       "      <th>SA2 Name</th>\n",
       "      <th>Rent 2006</th>\n",
       "    </tr>\n",
       "  </thead>\n",
       "  <tbody>\n",
       "    <tr>\n",
       "      <th>0</th>\n",
       "      <td>Dawesville - Bouvard</td>\n",
       "      <td>$150-$174</td>\n",
       "    </tr>\n",
       "    <tr>\n",
       "      <th>1</th>\n",
       "      <td>Falcon - Wannanup</td>\n",
       "      <td>$150-$174</td>\n",
       "    </tr>\n",
       "    <tr>\n",
       "      <th>2</th>\n",
       "      <td>Greenfields</td>\n",
       "      <td>$150-$174</td>\n",
       "    </tr>\n",
       "    <tr>\n",
       "      <th>3</th>\n",
       "      <td>Halls Head - Erskine</td>\n",
       "      <td>$175-$199</td>\n",
       "    </tr>\n",
       "    <tr>\n",
       "      <th>4</th>\n",
       "      <td>Mandurah</td>\n",
       "      <td>$150-$174</td>\n",
       "    </tr>\n",
       "    <tr>\n",
       "      <th>...</th>\n",
       "      <td>...</td>\n",
       "      <td>...</td>\n",
       "    </tr>\n",
       "    <tr>\n",
       "      <th>168</th>\n",
       "      <td>Rockingham Lakes</td>\n",
       "      <td>$1-$74</td>\n",
       "    </tr>\n",
       "    <tr>\n",
       "      <th>169</th>\n",
       "      <td>Safety Bay - Shoalwater</td>\n",
       "      <td>$150-$174</td>\n",
       "    </tr>\n",
       "    <tr>\n",
       "      <th>170</th>\n",
       "      <td>Singleton - Golden Bay - Secret Harbour</td>\n",
       "      <td>$250-$274</td>\n",
       "    </tr>\n",
       "    <tr>\n",
       "      <th>171</th>\n",
       "      <td>Waikiki</td>\n",
       "      <td>$150-$174</td>\n",
       "    </tr>\n",
       "    <tr>\n",
       "      <th>172</th>\n",
       "      <td>Warnbro</td>\n",
       "      <td>$175-$199</td>\n",
       "    </tr>\n",
       "  </tbody>\n",
       "</table>\n",
       "<p>173 rows × 2 columns</p>\n",
       "</div>"
      ],
      "text/plain": [
       "                                    SA2 Name  Rent 2006\n",
       "0                       Dawesville - Bouvard  $150-$174\n",
       "1                          Falcon - Wannanup  $150-$174\n",
       "2                                Greenfields  $150-$174\n",
       "3                       Halls Head - Erskine  $175-$199\n",
       "4                                   Mandurah  $150-$174\n",
       "..                                       ...        ...\n",
       "168                         Rockingham Lakes     $1-$74\n",
       "169                  Safety Bay - Shoalwater  $150-$174\n",
       "170  Singleton - Golden Bay - Secret Harbour  $250-$274\n",
       "171                                  Waikiki  $150-$174\n",
       "172                                  Warnbro  $175-$199\n",
       "\n",
       "[173 rows x 2 columns]"
      ]
     },
     "execution_count": 31,
     "metadata": {},
     "output_type": "execute_result"
    }
   ],
   "source": [
    "rent_df_2006 = pd.DataFrame(rents_2006, index=[0])\n",
    "rent_df_2006 = rent_df_2006.T\n",
    "rent_df_2006\n",
    "\n",
    "rent_df_2006 = rent_df_2006.reset_index()\n",
    "rent_df_2006\n",
    "\n",
    "rent_df_2006.columns =['SA2 Name', 'Rent 2006']\n",
    "rent_df_2006"
   ]
  },
  {
   "cell_type": "code",
   "execution_count": 11,
   "metadata": {},
   "outputs": [],
   "source": [
    "rents_2011 = {}\n",
    "for sa2 in rent_df[\"SA2 Name\"].unique():\n",
    "    max = rent_df[rent_df[\"SA2 Name\"]==sa2]['2011'].max()\n",
    "    mode_rent = rent_df[(rent_df[\"SA2 Name\"]==sa2) &  (rent_df['2011']==max)]['Rent'].values[0]\n",
    "    rents_2011[sa2] = mode_rent"
   ]
  },
  {
   "cell_type": "code",
   "execution_count": 12,
   "metadata": {},
   "outputs": [],
   "source": [
    "rent_df_2011 = pd.DataFrame(rents_2011, index=[0])\n",
    "rent_df_2011\n",
    "rent_df_2011 = rent_df_2011.T\n",
    "rent_df_2011 = rent_df_2011.reset_index()\n",
    "rent_df_2011.columns =['SA2 Name', 'Rent 2011']\n",
    "# rent_df_2011"
   ]
  },
  {
   "cell_type": "code",
   "execution_count": 13,
   "metadata": {},
   "outputs": [],
   "source": [
    "rents_2016 = {}\n",
    "for sa2 in rent_df[\"SA2 Name\"].unique():\n",
    "    max = rent_df[rent_df[\"SA2 Name\"]==sa2]['2016'].max()\n",
    "    mode_rent = rent_df[(rent_df[\"SA2 Name\"]==sa2) &  (rent_df['2016']==max)]['Rent'].values[0]\n",
    "    rents_2016[sa2] = mode_rent"
   ]
  },
  {
   "cell_type": "code",
   "execution_count": 14,
   "metadata": {},
   "outputs": [],
   "source": [
    "rent_df_2016 = pd.DataFrame(rents_2016, index=[0])\n",
    "rent_df_2016\n",
    "rent_df_2016 = rent_df_2016.T\n",
    "rent_df_2016 = rent_df_2016.reset_index()\n",
    "rent_df_2016.columns =['SA2 Name', 'Rent 2016']\n",
    "# rent_df_2016"
   ]
  },
  {
   "cell_type": "code",
   "execution_count": 15,
   "metadata": {},
   "outputs": [],
   "source": [
    "rent_df = pd.merge(rent_df_2006,rent_df_2011, how = 'left', on = 'SA2 Name')\n",
    "rent_df = pd.merge(rent_df,rent_df_2016, how = 'left', on = 'SA2 Name')\n",
    "# rent_df.head(60)"
   ]
  },
  {
   "cell_type": "code",
   "execution_count": 16,
   "metadata": {},
   "outputs": [
    {
     "data": {
      "text/plain": [
       "SA2 Name     object\n",
       "Rent 2006    object\n",
       "Rent 2011    object\n",
       "Rent 2016    object\n",
       "dtype: object"
      ]
     },
     "execution_count": 16,
     "metadata": {},
     "output_type": "execute_result"
    }
   ],
   "source": [
    "rent_df.dtypes"
   ]
  },
  {
   "cell_type": "code",
   "execution_count": 17,
   "metadata": {},
   "outputs": [],
   "source": [
    "# rent_df.to_csv('rent.csv')"
   ]
  },
  {
   "cell_type": "code",
   "execution_count": 18,
   "metadata": {},
   "outputs": [],
   "source": [
    "rent_df['Rent 2011'] = rent_df['Rent 2011'].replace('$950 and over', '950')\n",
    "rent_df['Rent 2016'] = rent_df['Rent 2016'].replace('$950 and over', '950')\n",
    "# rent_df.head(60)"
   ]
  },
  {
   "cell_type": "code",
   "execution_count": 19,
   "metadata": {},
   "outputs": [],
   "source": [
    "rent_df.to_csv('Modified Rent.csv')"
   ]
  },
  {
   "cell_type": "code",
   "execution_count": 20,
   "metadata": {},
   "outputs": [
    {
     "data": {
      "text/html": [
       "<div>\n",
       "<style scoped>\n",
       "    .dataframe tbody tr th:only-of-type {\n",
       "        vertical-align: middle;\n",
       "    }\n",
       "\n",
       "    .dataframe tbody tr th {\n",
       "        vertical-align: top;\n",
       "    }\n",
       "\n",
       "    .dataframe thead th {\n",
       "        text-align: right;\n",
       "    }\n",
       "</style>\n",
       "<table border=\"1\" class=\"dataframe\">\n",
       "  <thead>\n",
       "    <tr style=\"text-align: right;\">\n",
       "      <th></th>\n",
       "      <th>Unnamed: 0</th>\n",
       "      <th>SA2 Name</th>\n",
       "      <th>Rent 2006</th>\n",
       "      <th>Rent 2011</th>\n",
       "      <th>Rent 2016</th>\n",
       "    </tr>\n",
       "  </thead>\n",
       "  <tbody>\n",
       "    <tr>\n",
       "      <th>0</th>\n",
       "      <td>0</td>\n",
       "      <td>Dawesville - Bouvard</td>\n",
       "      <td>$150-$174</td>\n",
       "      <td>$300-$324</td>\n",
       "      <td>$350-$374</td>\n",
       "    </tr>\n",
       "    <tr>\n",
       "      <th>1</th>\n",
       "      <td>1</td>\n",
       "      <td>Falcon - Wannanup</td>\n",
       "      <td>$150-$174</td>\n",
       "      <td>$300-$324</td>\n",
       "      <td>$350-$374</td>\n",
       "    </tr>\n",
       "    <tr>\n",
       "      <th>2</th>\n",
       "      <td>2</td>\n",
       "      <td>Greenfields</td>\n",
       "      <td>$150-$174</td>\n",
       "      <td>$250-$274</td>\n",
       "      <td>$300-$324</td>\n",
       "    </tr>\n",
       "    <tr>\n",
       "      <th>3</th>\n",
       "      <td>3</td>\n",
       "      <td>Halls Head - Erskine</td>\n",
       "      <td>$175-$199</td>\n",
       "      <td>$300-$324</td>\n",
       "      <td>$350-$374</td>\n",
       "    </tr>\n",
       "    <tr>\n",
       "      <th>4</th>\n",
       "      <td>4</td>\n",
       "      <td>Mandurah</td>\n",
       "      <td>$150-$174</td>\n",
       "      <td>$250-$274</td>\n",
       "      <td>$300-$324</td>\n",
       "    </tr>\n",
       "    <tr>\n",
       "      <th>...</th>\n",
       "      <td>...</td>\n",
       "      <td>...</td>\n",
       "      <td>...</td>\n",
       "      <td>...</td>\n",
       "      <td>...</td>\n",
       "    </tr>\n",
       "    <tr>\n",
       "      <th>168</th>\n",
       "      <td>168</td>\n",
       "      <td>Rockingham Lakes</td>\n",
       "      <td>$1-$74</td>\n",
       "      <td>$1-$74</td>\n",
       "      <td>$1-$74</td>\n",
       "    </tr>\n",
       "    <tr>\n",
       "      <th>169</th>\n",
       "      <td>169</td>\n",
       "      <td>Safety Bay - Shoalwater</td>\n",
       "      <td>$150-$174</td>\n",
       "      <td>$300-$324</td>\n",
       "      <td>$300-$324</td>\n",
       "    </tr>\n",
       "    <tr>\n",
       "      <th>170</th>\n",
       "      <td>170</td>\n",
       "      <td>Singleton - Golden Bay - Secret Harbour</td>\n",
       "      <td>$250-$274</td>\n",
       "      <td>$350-$374</td>\n",
       "      <td>$400-$424</td>\n",
       "    </tr>\n",
       "    <tr>\n",
       "      <th>171</th>\n",
       "      <td>171</td>\n",
       "      <td>Waikiki</td>\n",
       "      <td>$150-$174</td>\n",
       "      <td>$300-$324</td>\n",
       "      <td>$350-$374</td>\n",
       "    </tr>\n",
       "    <tr>\n",
       "      <th>172</th>\n",
       "      <td>172</td>\n",
       "      <td>Warnbro</td>\n",
       "      <td>$175-$199</td>\n",
       "      <td>$300-$324</td>\n",
       "      <td>$350-$374</td>\n",
       "    </tr>\n",
       "  </tbody>\n",
       "</table>\n",
       "<p>173 rows × 5 columns</p>\n",
       "</div>"
      ],
      "text/plain": [
       "     Unnamed: 0                                 SA2 Name  Rent 2006  \\\n",
       "0             0                     Dawesville - Bouvard  $150-$174   \n",
       "1             1                        Falcon - Wannanup  $150-$174   \n",
       "2             2                              Greenfields  $150-$174   \n",
       "3             3                     Halls Head - Erskine  $175-$199   \n",
       "4             4                                 Mandurah  $150-$174   \n",
       "..          ...                                      ...        ...   \n",
       "168         168                         Rockingham Lakes     $1-$74   \n",
       "169         169                  Safety Bay - Shoalwater  $150-$174   \n",
       "170         170  Singleton - Golden Bay - Secret Harbour  $250-$274   \n",
       "171         171                                  Waikiki  $150-$174   \n",
       "172         172                                  Warnbro  $175-$199   \n",
       "\n",
       "     Rent 2011  Rent 2016  \n",
       "0    $300-$324  $350-$374  \n",
       "1    $300-$324  $350-$374  \n",
       "2    $250-$274  $300-$324  \n",
       "3    $300-$324  $350-$374  \n",
       "4    $250-$274  $300-$324  \n",
       "..         ...        ...  \n",
       "168     $1-$74     $1-$74  \n",
       "169  $300-$324  $300-$324  \n",
       "170  $350-$374  $400-$424  \n",
       "171  $300-$324  $350-$374  \n",
       "172  $300-$324  $350-$374  \n",
       "\n",
       "[173 rows x 5 columns]"
      ]
     },
     "execution_count": 20,
     "metadata": {},
     "output_type": "execute_result"
    }
   ],
   "source": [
    "rent_df = pd.read_csv('Modified Rent.csv')\n",
    "rent_df"
   ]
  },
  {
   "cell_type": "code",
   "execution_count": 21,
   "metadata": {},
   "outputs": [
    {
     "data": {
      "text/plain": [
       "Unnamed: 0     int64\n",
       "SA2 Name      object\n",
       "Rent 2006     object\n",
       "Rent 2011     object\n",
       "Rent 2016     object\n",
       "dtype: object"
      ]
     },
     "execution_count": 21,
     "metadata": {},
     "output_type": "execute_result"
    }
   ],
   "source": [
    "rent_df.set_index('SA2 Name')\n",
    "rent_df.dtypes"
   ]
  },
  {
   "cell_type": "code",
   "execution_count": 22,
   "metadata": {},
   "outputs": [],
   "source": [
    "# rent_df = rent_df.astype({\"Rent 2006\":'int', \"Rent 2011\":'int', \"Rent 2016\":'int'})  \n",
    "# rent_df.dtypes\n"
   ]
  },
  {
   "cell_type": "code",
   "execution_count": 23,
   "metadata": {},
   "outputs": [
    {
     "ename": "FileNotFoundError",
     "evalue": "[Errno 2] File Rent Percentage.csv does not exist: 'Rent Percentage.csv'",
     "output_type": "error",
     "traceback": [
      "\u001b[1;31m---------------------------------------------------------------------------\u001b[0m",
      "\u001b[1;31mFileNotFoundError\u001b[0m                         Traceback (most recent call last)",
      "\u001b[1;32m<ipython-input-23-e35a1cd51d19>\u001b[0m in \u001b[0;36m<module>\u001b[1;34m\u001b[0m\n\u001b[1;32m----> 1\u001b[1;33m \u001b[0mrent_percent\u001b[0m \u001b[1;33m=\u001b[0m \u001b[0mpd\u001b[0m\u001b[1;33m.\u001b[0m\u001b[0mread_csv\u001b[0m\u001b[1;33m(\u001b[0m\u001b[1;34m'Rent Percentage.csv'\u001b[0m\u001b[1;33m)\u001b[0m\u001b[1;33m\u001b[0m\u001b[1;33m\u001b[0m\u001b[0m\n\u001b[0m\u001b[0;32m      2\u001b[0m \u001b[0mrent_percent\u001b[0m\u001b[1;33m.\u001b[0m\u001b[0mset_index\u001b[0m\u001b[1;33m(\u001b[0m\u001b[1;34m'Unnamed: 0'\u001b[0m\u001b[1;33m)\u001b[0m\u001b[1;33m\u001b[0m\u001b[1;33m\u001b[0m\u001b[0m\n",
      "\u001b[1;32m~\\anaconda3\\lib\\site-packages\\pandas\\io\\parsers.py\u001b[0m in \u001b[0;36mparser_f\u001b[1;34m(filepath_or_buffer, sep, delimiter, header, names, index_col, usecols, squeeze, prefix, mangle_dupe_cols, dtype, engine, converters, true_values, false_values, skipinitialspace, skiprows, skipfooter, nrows, na_values, keep_default_na, na_filter, verbose, skip_blank_lines, parse_dates, infer_datetime_format, keep_date_col, date_parser, dayfirst, cache_dates, iterator, chunksize, compression, thousands, decimal, lineterminator, quotechar, quoting, doublequote, escapechar, comment, encoding, dialect, error_bad_lines, warn_bad_lines, delim_whitespace, low_memory, memory_map, float_precision)\u001b[0m\n\u001b[0;32m    674\u001b[0m         )\n\u001b[0;32m    675\u001b[0m \u001b[1;33m\u001b[0m\u001b[0m\n\u001b[1;32m--> 676\u001b[1;33m         \u001b[1;32mreturn\u001b[0m \u001b[0m_read\u001b[0m\u001b[1;33m(\u001b[0m\u001b[0mfilepath_or_buffer\u001b[0m\u001b[1;33m,\u001b[0m \u001b[0mkwds\u001b[0m\u001b[1;33m)\u001b[0m\u001b[1;33m\u001b[0m\u001b[1;33m\u001b[0m\u001b[0m\n\u001b[0m\u001b[0;32m    677\u001b[0m \u001b[1;33m\u001b[0m\u001b[0m\n\u001b[0;32m    678\u001b[0m     \u001b[0mparser_f\u001b[0m\u001b[1;33m.\u001b[0m\u001b[0m__name__\u001b[0m \u001b[1;33m=\u001b[0m \u001b[0mname\u001b[0m\u001b[1;33m\u001b[0m\u001b[1;33m\u001b[0m\u001b[0m\n",
      "\u001b[1;32m~\\anaconda3\\lib\\site-packages\\pandas\\io\\parsers.py\u001b[0m in \u001b[0;36m_read\u001b[1;34m(filepath_or_buffer, kwds)\u001b[0m\n\u001b[0;32m    446\u001b[0m \u001b[1;33m\u001b[0m\u001b[0m\n\u001b[0;32m    447\u001b[0m     \u001b[1;31m# Create the parser.\u001b[0m\u001b[1;33m\u001b[0m\u001b[1;33m\u001b[0m\u001b[1;33m\u001b[0m\u001b[0m\n\u001b[1;32m--> 448\u001b[1;33m     \u001b[0mparser\u001b[0m \u001b[1;33m=\u001b[0m \u001b[0mTextFileReader\u001b[0m\u001b[1;33m(\u001b[0m\u001b[0mfp_or_buf\u001b[0m\u001b[1;33m,\u001b[0m \u001b[1;33m**\u001b[0m\u001b[0mkwds\u001b[0m\u001b[1;33m)\u001b[0m\u001b[1;33m\u001b[0m\u001b[1;33m\u001b[0m\u001b[0m\n\u001b[0m\u001b[0;32m    449\u001b[0m \u001b[1;33m\u001b[0m\u001b[0m\n\u001b[0;32m    450\u001b[0m     \u001b[1;32mif\u001b[0m \u001b[0mchunksize\u001b[0m \u001b[1;32mor\u001b[0m \u001b[0miterator\u001b[0m\u001b[1;33m:\u001b[0m\u001b[1;33m\u001b[0m\u001b[1;33m\u001b[0m\u001b[0m\n",
      "\u001b[1;32m~\\anaconda3\\lib\\site-packages\\pandas\\io\\parsers.py\u001b[0m in \u001b[0;36m__init__\u001b[1;34m(self, f, engine, **kwds)\u001b[0m\n\u001b[0;32m    878\u001b[0m             \u001b[0mself\u001b[0m\u001b[1;33m.\u001b[0m\u001b[0moptions\u001b[0m\u001b[1;33m[\u001b[0m\u001b[1;34m\"has_index_names\"\u001b[0m\u001b[1;33m]\u001b[0m \u001b[1;33m=\u001b[0m \u001b[0mkwds\u001b[0m\u001b[1;33m[\u001b[0m\u001b[1;34m\"has_index_names\"\u001b[0m\u001b[1;33m]\u001b[0m\u001b[1;33m\u001b[0m\u001b[1;33m\u001b[0m\u001b[0m\n\u001b[0;32m    879\u001b[0m \u001b[1;33m\u001b[0m\u001b[0m\n\u001b[1;32m--> 880\u001b[1;33m         \u001b[0mself\u001b[0m\u001b[1;33m.\u001b[0m\u001b[0m_make_engine\u001b[0m\u001b[1;33m(\u001b[0m\u001b[0mself\u001b[0m\u001b[1;33m.\u001b[0m\u001b[0mengine\u001b[0m\u001b[1;33m)\u001b[0m\u001b[1;33m\u001b[0m\u001b[1;33m\u001b[0m\u001b[0m\n\u001b[0m\u001b[0;32m    881\u001b[0m \u001b[1;33m\u001b[0m\u001b[0m\n\u001b[0;32m    882\u001b[0m     \u001b[1;32mdef\u001b[0m \u001b[0mclose\u001b[0m\u001b[1;33m(\u001b[0m\u001b[0mself\u001b[0m\u001b[1;33m)\u001b[0m\u001b[1;33m:\u001b[0m\u001b[1;33m\u001b[0m\u001b[1;33m\u001b[0m\u001b[0m\n",
      "\u001b[1;32m~\\anaconda3\\lib\\site-packages\\pandas\\io\\parsers.py\u001b[0m in \u001b[0;36m_make_engine\u001b[1;34m(self, engine)\u001b[0m\n\u001b[0;32m   1112\u001b[0m     \u001b[1;32mdef\u001b[0m \u001b[0m_make_engine\u001b[0m\u001b[1;33m(\u001b[0m\u001b[0mself\u001b[0m\u001b[1;33m,\u001b[0m \u001b[0mengine\u001b[0m\u001b[1;33m=\u001b[0m\u001b[1;34m\"c\"\u001b[0m\u001b[1;33m)\u001b[0m\u001b[1;33m:\u001b[0m\u001b[1;33m\u001b[0m\u001b[1;33m\u001b[0m\u001b[0m\n\u001b[0;32m   1113\u001b[0m         \u001b[1;32mif\u001b[0m \u001b[0mengine\u001b[0m \u001b[1;33m==\u001b[0m \u001b[1;34m\"c\"\u001b[0m\u001b[1;33m:\u001b[0m\u001b[1;33m\u001b[0m\u001b[1;33m\u001b[0m\u001b[0m\n\u001b[1;32m-> 1114\u001b[1;33m             \u001b[0mself\u001b[0m\u001b[1;33m.\u001b[0m\u001b[0m_engine\u001b[0m \u001b[1;33m=\u001b[0m \u001b[0mCParserWrapper\u001b[0m\u001b[1;33m(\u001b[0m\u001b[0mself\u001b[0m\u001b[1;33m.\u001b[0m\u001b[0mf\u001b[0m\u001b[1;33m,\u001b[0m \u001b[1;33m**\u001b[0m\u001b[0mself\u001b[0m\u001b[1;33m.\u001b[0m\u001b[0moptions\u001b[0m\u001b[1;33m)\u001b[0m\u001b[1;33m\u001b[0m\u001b[1;33m\u001b[0m\u001b[0m\n\u001b[0m\u001b[0;32m   1115\u001b[0m         \u001b[1;32melse\u001b[0m\u001b[1;33m:\u001b[0m\u001b[1;33m\u001b[0m\u001b[1;33m\u001b[0m\u001b[0m\n\u001b[0;32m   1116\u001b[0m             \u001b[1;32mif\u001b[0m \u001b[0mengine\u001b[0m \u001b[1;33m==\u001b[0m \u001b[1;34m\"python\"\u001b[0m\u001b[1;33m:\u001b[0m\u001b[1;33m\u001b[0m\u001b[1;33m\u001b[0m\u001b[0m\n",
      "\u001b[1;32m~\\anaconda3\\lib\\site-packages\\pandas\\io\\parsers.py\u001b[0m in \u001b[0;36m__init__\u001b[1;34m(self, src, **kwds)\u001b[0m\n\u001b[0;32m   1889\u001b[0m         \u001b[0mkwds\u001b[0m\u001b[1;33m[\u001b[0m\u001b[1;34m\"usecols\"\u001b[0m\u001b[1;33m]\u001b[0m \u001b[1;33m=\u001b[0m \u001b[0mself\u001b[0m\u001b[1;33m.\u001b[0m\u001b[0musecols\u001b[0m\u001b[1;33m\u001b[0m\u001b[1;33m\u001b[0m\u001b[0m\n\u001b[0;32m   1890\u001b[0m \u001b[1;33m\u001b[0m\u001b[0m\n\u001b[1;32m-> 1891\u001b[1;33m         \u001b[0mself\u001b[0m\u001b[1;33m.\u001b[0m\u001b[0m_reader\u001b[0m \u001b[1;33m=\u001b[0m \u001b[0mparsers\u001b[0m\u001b[1;33m.\u001b[0m\u001b[0mTextReader\u001b[0m\u001b[1;33m(\u001b[0m\u001b[0msrc\u001b[0m\u001b[1;33m,\u001b[0m \u001b[1;33m**\u001b[0m\u001b[0mkwds\u001b[0m\u001b[1;33m)\u001b[0m\u001b[1;33m\u001b[0m\u001b[1;33m\u001b[0m\u001b[0m\n\u001b[0m\u001b[0;32m   1892\u001b[0m         \u001b[0mself\u001b[0m\u001b[1;33m.\u001b[0m\u001b[0munnamed_cols\u001b[0m \u001b[1;33m=\u001b[0m \u001b[0mself\u001b[0m\u001b[1;33m.\u001b[0m\u001b[0m_reader\u001b[0m\u001b[1;33m.\u001b[0m\u001b[0munnamed_cols\u001b[0m\u001b[1;33m\u001b[0m\u001b[1;33m\u001b[0m\u001b[0m\n\u001b[0;32m   1893\u001b[0m \u001b[1;33m\u001b[0m\u001b[0m\n",
      "\u001b[1;32mpandas\\_libs\\parsers.pyx\u001b[0m in \u001b[0;36mpandas._libs.parsers.TextReader.__cinit__\u001b[1;34m()\u001b[0m\n",
      "\u001b[1;32mpandas\\_libs\\parsers.pyx\u001b[0m in \u001b[0;36mpandas._libs.parsers.TextReader._setup_parser_source\u001b[1;34m()\u001b[0m\n",
      "\u001b[1;31mFileNotFoundError\u001b[0m: [Errno 2] File Rent Percentage.csv does not exist: 'Rent Percentage.csv'"
     ]
    }
   ],
   "source": [
    "rent_percent = pd.read_csv('Rent Percentage.csv')\n",
    "rent_percent.set_index('Unnamed: 0')"
   ]
  },
  {
   "cell_type": "code",
   "execution_count": null,
   "metadata": {},
   "outputs": [],
   "source": [
    "rent_percent.sort_values(by='%2006-2016', ascending=False)\n"
   ]
  },
  {
   "cell_type": "code",
   "execution_count": null,
   "metadata": {},
   "outputs": [],
   "source": [
    "import matplotlib.pyplot as plt\n",
    "import numpy as np\n",
    "%matplotlib inline\n",
    "np.random.seed(42)\n",
    "x = rent_percent['%2006-2016']\n",
    "plt.hist(x, density=True, bins=100)  # `density=False` would make counts\n",
    "plt.ylabel('rent')\n",
    "plt.xlabel('percent')"
   ]
  },
  {
   "cell_type": "code",
   "execution_count": null,
   "metadata": {},
   "outputs": [],
   "source": [
    "try_rent_df = pd.read_csv('Rent Percentage.csv')\n"
   ]
  },
  {
   "cell_type": "code",
   "execution_count": null,
   "metadata": {},
   "outputs": [],
   "source": [
    "try_rent_df"
   ]
  },
  {
   "cell_type": "code",
   "execution_count": null,
   "metadata": {},
   "outputs": [],
   "source": [
    "try_rent_df.drop(['Unnamed: 0'], axis=1)\n",
    "try_rent_df.to_csv('Rent_1.csv')"
   ]
  },
  {
   "cell_type": "code",
   "execution_count": null,
   "metadata": {},
   "outputs": [],
   "source": [
    "import pymongo\n",
    "from pymongo import MongoClient"
   ]
  },
  {
   "cell_type": "code",
   "execution_count": null,
   "metadata": {},
   "outputs": [],
   "source": [
    "conn = 'mongodb://localhost:27017'\n",
    "client = pymongo.MongoClient(conn)\n",
    "\n",
    "# Declare the database\n",
    "db = client.project_3_db\n",
    "\n",
    "# Declare the collection\n",
    "rent_data_per = client.project_3_db"
   ]
  },
  {
   "cell_type": "code",
   "execution_count": null,
   "metadata": {},
   "outputs": [],
   "source": []
  },
  {
   "cell_type": "code",
   "execution_count": null,
   "metadata": {},
   "outputs": [],
   "source": []
  }
 ],
 "metadata": {
  "kernelspec": {
   "display_name": "Python 3",
   "language": "python",
   "name": "python3"
  },
  "language_info": {
   "codemirror_mode": {
    "name": "ipython",
    "version": 3
   },
   "file_extension": ".py",
   "mimetype": "text/x-python",
   "name": "python",
   "nbconvert_exporter": "python",
   "pygments_lexer": "ipython3",
   "version": "3.7.6"
  }
 },
 "nbformat": 4,
 "nbformat_minor": 4
}
