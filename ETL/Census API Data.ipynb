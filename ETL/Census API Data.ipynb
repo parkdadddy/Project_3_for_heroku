{
 "cells": [
  {
   "cell_type": "code",
   "execution_count": 1,
   "metadata": {},
   "outputs": [],
   "source": [
    "import pandas as pd\n",
    "import requests\n",
    "import json"
   ]
  },
  {
   "cell_type": "code",
   "execution_count": 2,
   "metadata": {
    "scrolled": true
   },
   "outputs": [
    {
     "data": {
      "text/html": [
       "<div>\n",
       "<style scoped>\n",
       "    .dataframe tbody tr th:only-of-type {\n",
       "        vertical-align: middle;\n",
       "    }\n",
       "\n",
       "    .dataframe tbody tr th {\n",
       "        vertical-align: top;\n",
       "    }\n",
       "\n",
       "    .dataframe thead th {\n",
       "        text-align: right;\n",
       "    }\n",
       "</style>\n",
       "<table border=\"1\" class=\"dataframe\">\n",
       "  <thead>\n",
       "    <tr style=\"text-align: right;\">\n",
       "      <th></th>\n",
       "      <th>SA2_MAINCODE_2016</th>\n",
       "      <th>SA2_5DIGITCODE_2016</th>\n",
       "      <th>SA2_NAME_2016</th>\n",
       "      <th>SA3_CODE_2016</th>\n",
       "      <th>SA3_NAME_2016</th>\n",
       "      <th>SA4_CODE_2016</th>\n",
       "      <th>SA4_NAME_2016</th>\n",
       "      <th>GCCSA_CODE_2016</th>\n",
       "      <th>GCCSA_NAME_2016</th>\n",
       "      <th>STATE_CODE_2016</th>\n",
       "      <th>STATE_NAME_2016</th>\n",
       "      <th>AREA_ALBERS_SQKM</th>\n",
       "    </tr>\n",
       "  </thead>\n",
       "  <tbody>\n",
       "    <tr>\n",
       "      <th>0</th>\n",
       "      <td>101021007</td>\n",
       "      <td>11007</td>\n",
       "      <td>Braidwood</td>\n",
       "      <td>10102</td>\n",
       "      <td>Queanbeyan</td>\n",
       "      <td>101</td>\n",
       "      <td>Capital Region</td>\n",
       "      <td>1RNSW</td>\n",
       "      <td>Rest of NSW</td>\n",
       "      <td>1</td>\n",
       "      <td>New South Wales</td>\n",
       "      <td>3418.3525</td>\n",
       "    </tr>\n",
       "    <tr>\n",
       "      <th>1</th>\n",
       "      <td>101021008</td>\n",
       "      <td>11008</td>\n",
       "      <td>Karabar</td>\n",
       "      <td>10102</td>\n",
       "      <td>Queanbeyan</td>\n",
       "      <td>101</td>\n",
       "      <td>Capital Region</td>\n",
       "      <td>1RNSW</td>\n",
       "      <td>Rest of NSW</td>\n",
       "      <td>1</td>\n",
       "      <td>New South Wales</td>\n",
       "      <td>6.9825</td>\n",
       "    </tr>\n",
       "    <tr>\n",
       "      <th>2</th>\n",
       "      <td>101021009</td>\n",
       "      <td>11009</td>\n",
       "      <td>Queanbeyan</td>\n",
       "      <td>10102</td>\n",
       "      <td>Queanbeyan</td>\n",
       "      <td>101</td>\n",
       "      <td>Capital Region</td>\n",
       "      <td>1RNSW</td>\n",
       "      <td>Rest of NSW</td>\n",
       "      <td>1</td>\n",
       "      <td>New South Wales</td>\n",
       "      <td>4.7634</td>\n",
       "    </tr>\n",
       "    <tr>\n",
       "      <th>3</th>\n",
       "      <td>101021010</td>\n",
       "      <td>11010</td>\n",
       "      <td>Queanbeyan - East</td>\n",
       "      <td>10102</td>\n",
       "      <td>Queanbeyan</td>\n",
       "      <td>101</td>\n",
       "      <td>Capital Region</td>\n",
       "      <td>1RNSW</td>\n",
       "      <td>Rest of NSW</td>\n",
       "      <td>1</td>\n",
       "      <td>New South Wales</td>\n",
       "      <td>13.0034</td>\n",
       "    </tr>\n",
       "    <tr>\n",
       "      <th>4</th>\n",
       "      <td>101021011</td>\n",
       "      <td>11011</td>\n",
       "      <td>Queanbeyan Region</td>\n",
       "      <td>10102</td>\n",
       "      <td>Queanbeyan</td>\n",
       "      <td>101</td>\n",
       "      <td>Capital Region</td>\n",
       "      <td>1RNSW</td>\n",
       "      <td>Rest of NSW</td>\n",
       "      <td>1</td>\n",
       "      <td>New South Wales</td>\n",
       "      <td>3054.4099</td>\n",
       "    </tr>\n",
       "  </tbody>\n",
       "</table>\n",
       "</div>"
      ],
      "text/plain": [
       "   SA2_MAINCODE_2016  SA2_5DIGITCODE_2016      SA2_NAME_2016  SA3_CODE_2016  \\\n",
       "0          101021007                11007          Braidwood          10102   \n",
       "1          101021008                11008            Karabar          10102   \n",
       "2          101021009                11009         Queanbeyan          10102   \n",
       "3          101021010                11010  Queanbeyan - East          10102   \n",
       "4          101021011                11011  Queanbeyan Region          10102   \n",
       "\n",
       "  SA3_NAME_2016  SA4_CODE_2016   SA4_NAME_2016 GCCSA_CODE_2016  \\\n",
       "0    Queanbeyan            101  Capital Region           1RNSW   \n",
       "1    Queanbeyan            101  Capital Region           1RNSW   \n",
       "2    Queanbeyan            101  Capital Region           1RNSW   \n",
       "3    Queanbeyan            101  Capital Region           1RNSW   \n",
       "4    Queanbeyan            101  Capital Region           1RNSW   \n",
       "\n",
       "  GCCSA_NAME_2016  STATE_CODE_2016  STATE_NAME_2016  AREA_ALBERS_SQKM  \n",
       "0     Rest of NSW                1  New South Wales         3418.3525  \n",
       "1     Rest of NSW                1  New South Wales            6.9825  \n",
       "2     Rest of NSW                1  New South Wales            4.7634  \n",
       "3     Rest of NSW                1  New South Wales           13.0034  \n",
       "4     Rest of NSW                1  New South Wales         3054.4099  "
      ]
     },
     "execution_count": 2,
     "metadata": {},
     "output_type": "execute_result"
    }
   ],
   "source": [
    "g_perth_sa2 = pd.read_csv(\"SA2_2016_AUST.csv\")\n",
    "g_perth_sa2.head()"
   ]
  },
  {
   "cell_type": "code",
   "execution_count": 3,
   "metadata": {},
   "outputs": [],
   "source": [
    "g_perth_sa2 = g_perth_sa2.loc[g_perth_sa2[\"GCCSA_NAME_2016\"] == \"Greater Perth\"]\n"
   ]
  },
  {
   "cell_type": "code",
   "execution_count": 4,
   "metadata": {},
   "outputs": [],
   "source": [
    "g_perth_cols = [\"SA2_MAINCODE_2016\", \"SA2_NAME_2016\",\"GCCSA_NAME_2016\"]\n",
    "g_perth_sa2= g_perth_sa2[g_perth_cols].copy()\n",
    "\n",
    "g_perth_sa2.dtypes\n",
    "\n",
    "g_perth_sa2[\"SA2_MAINCODE_2016\"] = g_perth_sa2[\"SA2_MAINCODE_2016\"].apply(str)"
   ]
  },
  {
   "cell_type": "code",
   "execution_count": 5,
   "metadata": {},
   "outputs": [],
   "source": [
    "#make a list of SA2 Maincode for ABS API\n",
    "sa2_list = g_perth_sa2[\"SA2_MAINCODE_2016\"].tolist()\n",
    "# sa2_list\n"
   ]
  },
  {
   "cell_type": "code",
   "execution_count": 6,
   "metadata": {},
   "outputs": [],
   "source": [
    "# Census API\n",
    "base_url =  \"http://stat.data.abs.gov.au/sdmx-json/data/ABS_SEIFA2016_SA2/505011079.IRSAD.SCORE/all?detail=Full&dimensionAtObservation=AllDimensions&startPeriod=2016\"\n",
    "# response = requests.get(base_url)\n",
    "# print(response.json())\n",
    "\n",
    "part1_url = \"http://stat.data.abs.gov.au/sdmx-json/data/ABS_SEIFA2016_SA2/\"\n",
    "part2_url = \".IRSAD.SCORE/all?detail=Full&dimensionAtObservation=AllDimensions&startPeriod=2016?\"\n"
   ]
  },
  {
   "cell_type": "code",
   "execution_count": 7,
   "metadata": {},
   "outputs": [
    {
     "name": "stdout",
     "output_type": "stream",
     "text": [
      "{'header': {'id': '26d7ed98-e718-46a7-9596-3d63ab93e3f5', 'test': False, 'prepared': '2020-10-31T07:04:55.1408728Z', 'sender': {'id': 'ABS', 'name': 'Australian Bureau of Statistics'}, 'links': [{'href': 'http://stat.data.abs.gov.au:80/sdmx-json/data/ABS_SEIFA2016_SA2/502011021.IRSAD.SCORE/all?detail=Full&dimensionAtObservation=AllDimensions&startPeriod=2016', 'rel': 'request'}]}, 'dataSets': [{'action': 'Information', 'observations': {'0:0:0:0': [988.0, 0, None]}}], 'structure': {'links': [{'href': 'http://stat.data.abs.gov.au/sdmx-json/dataflow/ABS_SEIFA2016_SA2/all', 'rel': 'dataflow'}], 'name': 'SEIFA 2016 by Statistical Area 2', 'description': 'SEIFA 2016 by Statistical Area 2', 'dimensions': {'observation': [{'keyPosition': 0, 'id': 'ASGS_2016', 'name': 'Statistical Area (SA) 2', 'values': [{'id': '502011021', 'name': 'Dawesville - Bouvard'}]}, {'keyPosition': 1, 'id': 'SEIFAINDEXTYPE', 'name': 'Index Type', 'values': [{'id': 'IRSAD', 'name': 'Index of Relative Socio-economic Advantage and Disadvantage'}]}, {'keyPosition': 2, 'id': 'SEIFA_MEASURE', 'name': 'Measure', 'values': [{'id': 'SCORE', 'name': 'Score'}]}, {'id': 'TIME_PERIOD', 'name': 'Time', 'values': [{'id': '2016', 'name': '2016'}], 'role': 'TIME_PERIOD'}]}, 'attributes': {'dataSet': [], 'series': [], 'observation': [{'id': 'TIME_FORMAT', 'name': 'Time Format', 'values': [{'id': 'P1Y', 'name': 'Annual'}]}, {'id': 'OBS_STATUS', 'name': 'Observation Status', 'values': []}]}, 'annotations': [{'title': 'Statistical usage warning', 'uri': '', 'text': 'ABS.Stat beta is continuing to be developed.  Data will be updated as soon as possible following its 11:30 am release on the ABS website.'}]}}\n",
      "{'header': {'id': '82177e9d-f291-4bab-b5e0-0bb5bbb4d230', 'test': False, 'prepared': '2020-10-31T07:04:55.2581546Z', 'sender': {'id': 'ABS', 'name': 'Australian Bureau of Statistics'}, 'links': [{'href': 'http://stat.data.abs.gov.au:80/sdmx-json/data/ABS_SEIFA2016_SA2/502011022.IRSAD.SCORE/all?detail=Full&dimensionAtObservation=AllDimensions&startPeriod=2016', 'rel': 'request'}]}, 'dataSets': [{'action': 'Information', 'observations': {'0:0:0:0': [979.0, 0, None]}}], 'structure': {'links': [{'href': 'http://stat.data.abs.gov.au/sdmx-json/dataflow/ABS_SEIFA2016_SA2/all', 'rel': 'dataflow'}], 'name': 'SEIFA 2016 by Statistical Area 2', 'description': 'SEIFA 2016 by Statistical Area 2', 'dimensions': {'observation': [{'keyPosition': 0, 'id': 'ASGS_2016', 'name': 'Statistical Area (SA) 2', 'values': [{'id': '502011022', 'name': 'Falcon - Wannanup'}]}, {'keyPosition': 1, 'id': 'SEIFAINDEXTYPE', 'name': 'Index Type', 'values': [{'id': 'IRSAD', 'name': 'Index of Relative Socio-economic Advantage and Disadvantage'}]}, {'keyPosition': 2, 'id': 'SEIFA_MEASURE', 'name': 'Measure', 'values': [{'id': 'SCORE', 'name': 'Score'}]}, {'id': 'TIME_PERIOD', 'name': 'Time', 'values': [{'id': '2016', 'name': '2016'}], 'role': 'TIME_PERIOD'}]}, 'attributes': {'dataSet': [], 'series': [], 'observation': [{'id': 'TIME_FORMAT', 'name': 'Time Format', 'values': [{'id': 'P1Y', 'name': 'Annual'}]}, {'id': 'OBS_STATUS', 'name': 'Observation Status', 'values': []}]}, 'annotations': [{'title': 'Statistical usage warning', 'uri': '', 'text': 'ABS.Stat beta is continuing to be developed.  Data will be updated as soon as possible following its 11:30 am release on the ABS website.'}]}}\n",
      "{'header': {'id': 'f846da5a-21e8-4580-af03-2196fc4515c8', 'test': False, 'prepared': '2020-10-31T07:04:55.8939035Z', 'sender': {'id': 'ABS', 'name': 'Australian Bureau of Statistics'}, 'links': [{'href': 'http://stat.data.abs.gov.au:80/sdmx-json/data/ABS_SEIFA2016_SA2/502011023.IRSAD.SCORE/all?detail=Full&dimensionAtObservation=AllDimensions&startPeriod=2016', 'rel': 'request'}]}, 'dataSets': [{'action': 'Information', 'observations': {'0:0:0:0': [903.0, 0, None]}}], 'structure': {'links': [{'href': 'http://stat.data.abs.gov.au/sdmx-json/dataflow/ABS_SEIFA2016_SA2/all', 'rel': 'dataflow'}], 'name': 'SEIFA 2016 by Statistical Area 2', 'description': 'SEIFA 2016 by Statistical Area 2', 'dimensions': {'observation': [{'keyPosition': 0, 'id': 'ASGS_2016', 'name': 'Statistical Area (SA) 2', 'values': [{'id': '502011023', 'name': 'Greenfields'}]}, {'keyPosition': 1, 'id': 'SEIFAINDEXTYPE', 'name': 'Index Type', 'values': [{'id': 'IRSAD', 'name': 'Index of Relative Socio-economic Advantage and Disadvantage'}]}, {'keyPosition': 2, 'id': 'SEIFA_MEASURE', 'name': 'Measure', 'values': [{'id': 'SCORE', 'name': 'Score'}]}, {'id': 'TIME_PERIOD', 'name': 'Time', 'values': [{'id': '2016', 'name': '2016'}], 'role': 'TIME_PERIOD'}]}, 'attributes': {'dataSet': [], 'series': [], 'observation': [{'id': 'TIME_FORMAT', 'name': 'Time Format', 'values': [{'id': 'P1Y', 'name': 'Annual'}]}, {'id': 'OBS_STATUS', 'name': 'Observation Status', 'values': []}]}, 'annotations': [{'title': 'Statistical usage warning', 'uri': '', 'text': 'ABS.Stat beta is continuing to be developed.  Data will be updated as soon as possible following its 11:30 am release on the ABS website.'}]}}\n",
      "{'header': {'id': '12517aaa-644e-47cf-bdac-c77d37e1fcee', 'test': False, 'prepared': '2020-10-31T07:04:56.3287128Z', 'sender': {'id': 'ABS', 'name': 'Australian Bureau of Statistics'}, 'links': [{'href': 'http://stat.data.abs.gov.au:80/sdmx-json/data/ABS_SEIFA2016_SA2/502011024.IRSAD.SCORE/all?detail=Full&dimensionAtObservation=AllDimensions&startPeriod=2016', 'rel': 'request'}]}, 'dataSets': [{'action': 'Information', 'observations': {'0:0:0:0': [998.0, 0, None]}}], 'structure': {'links': [{'href': 'http://stat.data.abs.gov.au/sdmx-json/dataflow/ABS_SEIFA2016_SA2/all', 'rel': 'dataflow'}], 'name': 'SEIFA 2016 by Statistical Area 2', 'description': 'SEIFA 2016 by Statistical Area 2', 'dimensions': {'observation': [{'keyPosition': 0, 'id': 'ASGS_2016', 'name': 'Statistical Area (SA) 2', 'values': [{'id': '502011024', 'name': 'Halls Head - Erskine'}]}, {'keyPosition': 1, 'id': 'SEIFAINDEXTYPE', 'name': 'Index Type', 'values': [{'id': 'IRSAD', 'name': 'Index of Relative Socio-economic Advantage and Disadvantage'}]}, {'keyPosition': 2, 'id': 'SEIFA_MEASURE', 'name': 'Measure', 'values': [{'id': 'SCORE', 'name': 'Score'}]}, {'id': 'TIME_PERIOD', 'name': 'Time', 'values': [{'id': '2016', 'name': '2016'}], 'role': 'TIME_PERIOD'}]}, 'attributes': {'dataSet': [], 'series': [], 'observation': [{'id': 'TIME_FORMAT', 'name': 'Time Format', 'values': [{'id': 'P1Y', 'name': 'Annual'}]}, {'id': 'OBS_STATUS', 'name': 'Observation Status', 'values': []}]}, 'annotations': [{'title': 'Statistical usage warning', 'uri': '', 'text': 'ABS.Stat beta is continuing to be developed.  Data will be updated as soon as possible following its 11:30 am release on the ABS website.'}]}}\n",
      "{'header': {'id': '1b3d5803-b169-46de-b718-d4d5905abfd8', 'test': False, 'prepared': '2020-10-31T07:04:56.4311385Z', 'sender': {'id': 'ABS', 'name': 'Australian Bureau of Statistics'}, 'links': [{'href': 'http://stat.data.abs.gov.au:80/sdmx-json/data/ABS_SEIFA2016_SA2/502011025.IRSAD.SCORE/all?detail=Full&dimensionAtObservation=AllDimensions&startPeriod=2016', 'rel': 'request'}]}, 'dataSets': [{'action': 'Information', 'observations': {'0:0:0:0': [876.0, 0, None]}}], 'structure': {'links': [{'href': 'http://stat.data.abs.gov.au/sdmx-json/dataflow/ABS_SEIFA2016_SA2/all', 'rel': 'dataflow'}], 'name': 'SEIFA 2016 by Statistical Area 2', 'description': 'SEIFA 2016 by Statistical Area 2', 'dimensions': {'observation': [{'keyPosition': 0, 'id': 'ASGS_2016', 'name': 'Statistical Area (SA) 2', 'values': [{'id': '502011025', 'name': 'Mandurah'}]}, {'keyPosition': 1, 'id': 'SEIFAINDEXTYPE', 'name': 'Index Type', 'values': [{'id': 'IRSAD', 'name': 'Index of Relative Socio-economic Advantage and Disadvantage'}]}, {'keyPosition': 2, 'id': 'SEIFA_MEASURE', 'name': 'Measure', 'values': [{'id': 'SCORE', 'name': 'Score'}]}, {'id': 'TIME_PERIOD', 'name': 'Time', 'values': [{'id': '2016', 'name': '2016'}], 'role': 'TIME_PERIOD'}]}, 'attributes': {'dataSet': [], 'series': [], 'observation': [{'id': 'TIME_FORMAT', 'name': 'Time Format', 'values': [{'id': 'P1Y', 'name': 'Annual'}]}, {'id': 'OBS_STATUS', 'name': 'Observation Status', 'values': []}]}, 'annotations': [{'title': 'Statistical usage warning', 'uri': '', 'text': 'ABS.Stat beta is continuing to be developed.  Data will be updated as soon as possible following its 11:30 am release on the ABS website.'}]}}\n"
     ]
    },
    {
     "name": "stdout",
     "output_type": "stream",
     "text": [
      "{'header': {'id': '61d25634-8f6f-4baa-b888-a4a80480e00d', 'test': False, 'prepared': '2020-10-31T07:04:56.6971289Z', 'sender': {'id': 'ABS', 'name': 'Australian Bureau of Statistics'}, 'links': [{'href': 'http://stat.data.abs.gov.au:80/sdmx-json/data/ABS_SEIFA2016_SA2/502011026.IRSAD.SCORE/all?detail=Full&dimensionAtObservation=AllDimensions&startPeriod=2016', 'rel': 'request'}]}, 'dataSets': [{'action': 'Information', 'observations': {'0:0:0:0': [956.0, 0, None]}}], 'structure': {'links': [{'href': 'http://stat.data.abs.gov.au/sdmx-json/dataflow/ABS_SEIFA2016_SA2/all', 'rel': 'dataflow'}], 'name': 'SEIFA 2016 by Statistical Area 2', 'description': 'SEIFA 2016 by Statistical Area 2', 'dimensions': {'observation': [{'keyPosition': 0, 'id': 'ASGS_2016', 'name': 'Statistical Area (SA) 2', 'values': [{'id': '502011026', 'name': 'Mandurah - East'}]}, {'keyPosition': 1, 'id': 'SEIFAINDEXTYPE', 'name': 'Index Type', 'values': [{'id': 'IRSAD', 'name': 'Index of Relative Socio-economic Advantage and Disadvantage'}]}, {'keyPosition': 2, 'id': 'SEIFA_MEASURE', 'name': 'Measure', 'values': [{'id': 'SCORE', 'name': 'Score'}]}, {'id': 'TIME_PERIOD', 'name': 'Time', 'values': [{'id': '2016', 'name': '2016'}], 'role': 'TIME_PERIOD'}]}, 'attributes': {'dataSet': [], 'series': [], 'observation': [{'id': 'TIME_FORMAT', 'name': 'Time Format', 'values': [{'id': 'P1Y', 'name': 'Annual'}]}, {'id': 'OBS_STATUS', 'name': 'Observation Status', 'values': []}]}, 'annotations': [{'title': 'Statistical usage warning', 'uri': '', 'text': 'ABS.Stat beta is continuing to be developed.  Data will be updated as soon as possible following its 11:30 am release on the ABS website.'}]}}\n",
      "{'header': {'id': '8cffca6c-3b6e-4d04-adcf-debffb6f7901', 'test': False, 'prepared': '2020-10-31T07:04:57.2535198Z', 'sender': {'id': 'ABS', 'name': 'Australian Bureau of Statistics'}, 'links': [{'href': 'http://stat.data.abs.gov.au:80/sdmx-json/data/ABS_SEIFA2016_SA2/502011027.IRSAD.SCORE/all?detail=Full&dimensionAtObservation=AllDimensions&startPeriod=2016', 'rel': 'request'}]}, 'dataSets': [{'action': 'Information', 'observations': {'0:0:0:0': [1001.0, 0, None]}}], 'structure': {'links': [{'href': 'http://stat.data.abs.gov.au/sdmx-json/dataflow/ABS_SEIFA2016_SA2/all', 'rel': 'dataflow'}], 'name': 'SEIFA 2016 by Statistical Area 2', 'description': 'SEIFA 2016 by Statistical Area 2', 'dimensions': {'observation': [{'keyPosition': 0, 'id': 'ASGS_2016', 'name': 'Statistical Area (SA) 2', 'values': [{'id': '502011027', 'name': 'Mandurah - North'}]}, {'keyPosition': 1, 'id': 'SEIFAINDEXTYPE', 'name': 'Index Type', 'values': [{'id': 'IRSAD', 'name': 'Index of Relative Socio-economic Advantage and Disadvantage'}]}, {'keyPosition': 2, 'id': 'SEIFA_MEASURE', 'name': 'Measure', 'values': [{'id': 'SCORE', 'name': 'Score'}]}, {'id': 'TIME_PERIOD', 'name': 'Time', 'values': [{'id': '2016', 'name': '2016'}], 'role': 'TIME_PERIOD'}]}, 'attributes': {'dataSet': [], 'series': [], 'observation': [{'id': 'TIME_FORMAT', 'name': 'Time Format', 'values': [{'id': 'P1Y', 'name': 'Annual'}]}, {'id': 'OBS_STATUS', 'name': 'Observation Status', 'values': []}]}, 'annotations': [{'title': 'Statistical usage warning', 'uri': '', 'text': 'ABS.Stat beta is continuing to be developed.  Data will be updated as soon as possible following its 11:30 am release on the ABS website.'}]}}\n",
      "{'header': {'id': '409e6054-7818-4aa7-9dd0-c21d91f0acd6', 'test': False, 'prepared': '2020-10-31T07:04:57.6127315Z', 'sender': {'id': 'ABS', 'name': 'Australian Bureau of Statistics'}, 'links': [{'href': 'http://stat.data.abs.gov.au:80/sdmx-json/data/ABS_SEIFA2016_SA2/502011028.IRSAD.SCORE/all?detail=Full&dimensionAtObservation=AllDimensions&startPeriod=2016', 'rel': 'request'}]}, 'dataSets': [{'action': 'Information', 'observations': {'0:0:0:0': [906.0, 0, None]}}], 'structure': {'links': [{'href': 'http://stat.data.abs.gov.au/sdmx-json/dataflow/ABS_SEIFA2016_SA2/all', 'rel': 'dataflow'}], 'name': 'SEIFA 2016 by Statistical Area 2', 'description': 'SEIFA 2016 by Statistical Area 2', 'dimensions': {'observation': [{'keyPosition': 0, 'id': 'ASGS_2016', 'name': 'Statistical Area (SA) 2', 'values': [{'id': '502011028', 'name': 'Mandurah - South'}]}, {'keyPosition': 1, 'id': 'SEIFAINDEXTYPE', 'name': 'Index Type', 'values': [{'id': 'IRSAD', 'name': 'Index of Relative Socio-economic Advantage and Disadvantage'}]}, {'keyPosition': 2, 'id': 'SEIFA_MEASURE', 'name': 'Measure', 'values': [{'id': 'SCORE', 'name': 'Score'}]}, {'id': 'TIME_PERIOD', 'name': 'Time', 'values': [{'id': '2016', 'name': '2016'}], 'role': 'TIME_PERIOD'}]}, 'attributes': {'dataSet': [], 'series': [], 'observation': [{'id': 'TIME_FORMAT', 'name': 'Time Format', 'values': [{'id': 'P1Y', 'name': 'Annual'}]}, {'id': 'OBS_STATUS', 'name': 'Observation Status', 'values': []}]}, 'annotations': [{'title': 'Statistical usage warning', 'uri': '', 'text': 'ABS.Stat beta is continuing to be developed.  Data will be updated as soon as possible following its 11:30 am release on the ABS website.'}]}}\n",
      "{'header': {'id': '696d55cc-27f0-4c41-b1de-1545dad0df9d', 'test': False, 'prepared': '2020-10-31T07:04:57.925247Z', 'sender': {'id': 'ABS', 'name': 'Australian Bureau of Statistics'}, 'links': [{'href': 'http://stat.data.abs.gov.au:80/sdmx-json/data/ABS_SEIFA2016_SA2/502011029.IRSAD.SCORE/all?detail=Full&dimensionAtObservation=AllDimensions&startPeriod=2016', 'rel': 'request'}]}, 'dataSets': [{'action': 'Information', 'observations': {'0:0:0:0': [934.0, 0, None]}}], 'structure': {'links': [{'href': 'http://stat.data.abs.gov.au/sdmx-json/dataflow/ABS_SEIFA2016_SA2/all', 'rel': 'dataflow'}], 'name': 'SEIFA 2016 by Statistical Area 2', 'description': 'SEIFA 2016 by Statistical Area 2', 'dimensions': {'observation': [{'keyPosition': 0, 'id': 'ASGS_2016', 'name': 'Statistical Area (SA) 2', 'values': [{'id': '502011029', 'name': 'Pinjarra'}]}, {'keyPosition': 1, 'id': 'SEIFAINDEXTYPE', 'name': 'Index Type', 'values': [{'id': 'IRSAD', 'name': 'Index of Relative Socio-economic Advantage and Disadvantage'}]}, {'keyPosition': 2, 'id': 'SEIFA_MEASURE', 'name': 'Measure', 'values': [{'id': 'SCORE', 'name': 'Score'}]}, {'id': 'TIME_PERIOD', 'name': 'Time', 'values': [{'id': '2016', 'name': '2016'}], 'role': 'TIME_PERIOD'}]}, 'attributes': {'dataSet': [], 'series': [], 'observation': [{'id': 'TIME_FORMAT', 'name': 'Time Format', 'values': [{'id': 'P1Y', 'name': 'Annual'}]}, {'id': 'OBS_STATUS', 'name': 'Observation Status', 'values': []}]}, 'annotations': [{'title': 'Statistical usage warning', 'uri': '', 'text': 'ABS.Stat beta is continuing to be developed.  Data will be updated as soon as possible following its 11:30 am release on the ABS website.'}]}}\n",
      "{'header': {'id': 'd749a325-da7e-4af9-b7de-1146d789bac4', 'test': False, 'prepared': '2020-10-31T07:04:58.1845566Z', 'sender': {'id': 'ABS', 'name': 'Australian Bureau of Statistics'}, 'links': [{'href': 'http://stat.data.abs.gov.au:80/sdmx-json/data/ABS_SEIFA2016_SA2/503011030.IRSAD.SCORE/all?detail=Full&dimensionAtObservation=AllDimensions&startPeriod=2016', 'rel': 'request'}]}, 'dataSets': [{'action': 'Information', 'observations': {'0:0:0:0': [1168.0, 0, None]}}], 'structure': {'links': [{'href': 'http://stat.data.abs.gov.au/sdmx-json/dataflow/ABS_SEIFA2016_SA2/all', 'rel': 'dataflow'}], 'name': 'SEIFA 2016 by Statistical Area 2', 'description': 'SEIFA 2016 by Statistical Area 2', 'dimensions': {'observation': [{'keyPosition': 0, 'id': 'ASGS_2016', 'name': 'Statistical Area (SA) 2', 'values': [{'id': '503011030', 'name': 'City Beach'}]}, {'keyPosition': 1, 'id': 'SEIFAINDEXTYPE', 'name': 'Index Type', 'values': [{'id': 'IRSAD', 'name': 'Index of Relative Socio-economic Advantage and Disadvantage'}]}, {'keyPosition': 2, 'id': 'SEIFA_MEASURE', 'name': 'Measure', 'values': [{'id': 'SCORE', 'name': 'Score'}]}, {'id': 'TIME_PERIOD', 'name': 'Time', 'values': [{'id': '2016', 'name': '2016'}], 'role': 'TIME_PERIOD'}]}, 'attributes': {'dataSet': [], 'series': [], 'observation': [{'id': 'TIME_FORMAT', 'name': 'Time Format', 'values': [{'id': 'P1Y', 'name': 'Annual'}]}, {'id': 'OBS_STATUS', 'name': 'Observation Status', 'values': []}]}, 'annotations': [{'title': 'Statistical usage warning', 'uri': '', 'text': 'ABS.Stat beta is continuing to be developed.  Data will be updated as soon as possible following its 11:30 am release on the ABS website.'}]}}\n"
     ]
    },
    {
     "name": "stdout",
     "output_type": "stream",
     "text": [
      "{'header': {'id': '3627d62c-67a9-4a3b-a7cc-8868c6707671', 'test': False, 'prepared': '2020-10-31T07:04:58.565903Z', 'sender': {'id': 'ABS', 'name': 'Australian Bureau of Statistics'}, 'links': [{'href': 'http://stat.data.abs.gov.au:80/sdmx-json/data/ABS_SEIFA2016_SA2/503011031.IRSAD.SCORE/all?detail=Full&dimensionAtObservation=AllDimensions&startPeriod=2016', 'rel': 'request'}]}, 'dataSets': [{'action': 'Information', 'observations': {'0:0:0:0': [1119.0, 0, None]}}], 'structure': {'links': [{'href': 'http://stat.data.abs.gov.au/sdmx-json/dataflow/ABS_SEIFA2016_SA2/all', 'rel': 'dataflow'}], 'name': 'SEIFA 2016 by Statistical Area 2', 'description': 'SEIFA 2016 by Statistical Area 2', 'dimensions': {'observation': [{'keyPosition': 0, 'id': 'ASGS_2016', 'name': 'Statistical Area (SA) 2', 'values': [{'id': '503011031', 'name': 'Claremont (WA)'}]}, {'keyPosition': 1, 'id': 'SEIFAINDEXTYPE', 'name': 'Index Type', 'values': [{'id': 'IRSAD', 'name': 'Index of Relative Socio-economic Advantage and Disadvantage'}]}, {'keyPosition': 2, 'id': 'SEIFA_MEASURE', 'name': 'Measure', 'values': [{'id': 'SCORE', 'name': 'Score'}]}, {'id': 'TIME_PERIOD', 'name': 'Time', 'values': [{'id': '2016', 'name': '2016'}], 'role': 'TIME_PERIOD'}]}, 'attributes': {'dataSet': [], 'series': [], 'observation': [{'id': 'TIME_FORMAT', 'name': 'Time Format', 'values': [{'id': 'P1Y', 'name': 'Annual'}]}, {'id': 'OBS_STATUS', 'name': 'Observation Status', 'values': []}]}, 'annotations': [{'title': 'Statistical usage warning', 'uri': '', 'text': 'ABS.Stat beta is continuing to be developed.  Data will be updated as soon as possible following its 11:30 am release on the ABS website.'}]}}\n",
      "{'header': {'id': '49e67a00-777e-401c-beaf-504c1f6303a6', 'test': False, 'prepared': '2020-10-31T07:04:59.0034276Z', 'sender': {'id': 'ABS', 'name': 'Australian Bureau of Statistics'}, 'links': [{'href': 'http://stat.data.abs.gov.au:80/sdmx-json/data/ABS_SEIFA2016_SA2/503011032.IRSAD.SCORE/all?detail=Full&dimensionAtObservation=AllDimensions&startPeriod=2016', 'rel': 'request'}]}, 'dataSets': [{'action': 'Information', 'observations': {'0:0:0:0': [1166.0, 0, None]}}], 'structure': {'links': [{'href': 'http://stat.data.abs.gov.au/sdmx-json/dataflow/ABS_SEIFA2016_SA2/all', 'rel': 'dataflow'}], 'name': 'SEIFA 2016 by Statistical Area 2', 'description': 'SEIFA 2016 by Statistical Area 2', 'dimensions': {'observation': [{'keyPosition': 0, 'id': 'ASGS_2016', 'name': 'Statistical Area (SA) 2', 'values': [{'id': '503011032', 'name': 'Cottesloe'}]}, {'keyPosition': 1, 'id': 'SEIFAINDEXTYPE', 'name': 'Index Type', 'values': [{'id': 'IRSAD', 'name': 'Index of Relative Socio-economic Advantage and Disadvantage'}]}, {'keyPosition': 2, 'id': 'SEIFA_MEASURE', 'name': 'Measure', 'values': [{'id': 'SCORE', 'name': 'Score'}]}, {'id': 'TIME_PERIOD', 'name': 'Time', 'values': [{'id': '2016', 'name': '2016'}], 'role': 'TIME_PERIOD'}]}, 'attributes': {'dataSet': [], 'series': [], 'observation': [{'id': 'TIME_FORMAT', 'name': 'Time Format', 'values': [{'id': 'P1Y', 'name': 'Annual'}]}, {'id': 'OBS_STATUS', 'name': 'Observation Status', 'values': []}]}, 'annotations': [{'title': 'Statistical usage warning', 'uri': '', 'text': 'ABS.Stat beta is continuing to be developed.  Data will be updated as soon as possible following its 11:30 am release on the ABS website.'}]}}\n",
      "{'header': {'id': '0f6daafe-99c7-4947-97c3-28b149dac0ce', 'test': False, 'prepared': '2020-10-31T07:04:59.3003137Z', 'sender': {'id': 'ABS', 'name': 'Australian Bureau of Statistics'}, 'links': [{'href': 'http://stat.data.abs.gov.au:80/sdmx-json/data/ABS_SEIFA2016_SA2/503011033.IRSAD.SCORE/all?detail=Full&dimensionAtObservation=AllDimensions&startPeriod=2016', 'rel': 'request'}]}, 'dataSets': [{'action': 'Information', 'observations': {'0:0:0:0': [1177.0, 0, None]}}], 'structure': {'links': [{'href': 'http://stat.data.abs.gov.au/sdmx-json/dataflow/ABS_SEIFA2016_SA2/all', 'rel': 'dataflow'}], 'name': 'SEIFA 2016 by Statistical Area 2', 'description': 'SEIFA 2016 by Statistical Area 2', 'dimensions': {'observation': [{'keyPosition': 0, 'id': 'ASGS_2016', 'name': 'Statistical Area (SA) 2', 'values': [{'id': '503011033', 'name': 'Floreat'}]}, {'keyPosition': 1, 'id': 'SEIFAINDEXTYPE', 'name': 'Index Type', 'values': [{'id': 'IRSAD', 'name': 'Index of Relative Socio-economic Advantage and Disadvantage'}]}, {'keyPosition': 2, 'id': 'SEIFA_MEASURE', 'name': 'Measure', 'values': [{'id': 'SCORE', 'name': 'Score'}]}, {'id': 'TIME_PERIOD', 'name': 'Time', 'values': [{'id': '2016', 'name': '2016'}], 'role': 'TIME_PERIOD'}]}, 'attributes': {'dataSet': [], 'series': [], 'observation': [{'id': 'TIME_FORMAT', 'name': 'Time Format', 'values': [{'id': 'P1Y', 'name': 'Annual'}]}, {'id': 'OBS_STATUS', 'name': 'Observation Status', 'values': []}]}, 'annotations': [{'title': 'Statistical usage warning', 'uri': '', 'text': 'ABS.Stat beta is continuing to be developed.  Data will be updated as soon as possible following its 11:30 am release on the ABS website.'}]}}\n",
      "{'header': {'id': 'f29ef154-dfb1-412b-83e4-af79f62c31c0', 'test': False, 'prepared': '2020-10-31T07:04:59.2933273Z', 'sender': {'id': 'ABS', 'name': 'Australian Bureau of Statistics'}, 'links': [{'href': 'http://stat.data.abs.gov.au:80/sdmx-json/data/ABS_SEIFA2016_SA2/503011034.IRSAD.SCORE/all?detail=Full&dimensionAtObservation=AllDimensions&startPeriod=2016', 'rel': 'request'}]}, 'dataSets': [{'action': 'Information', 'observations': {'0:0:0:0': [1122.0, 0, None]}}], 'structure': {'links': [{'href': 'http://stat.data.abs.gov.au/sdmx-json/dataflow/ABS_SEIFA2016_SA2/all', 'rel': 'dataflow'}], 'name': 'SEIFA 2016 by Statistical Area 2', 'description': 'SEIFA 2016 by Statistical Area 2', 'dimensions': {'observation': [{'keyPosition': 0, 'id': 'ASGS_2016', 'name': 'Statistical Area (SA) 2', 'values': [{'id': '503011034', 'name': 'Mosman Park - Peppermint Grove'}]}, {'keyPosition': 1, 'id': 'SEIFAINDEXTYPE', 'name': 'Index Type', 'values': [{'id': 'IRSAD', 'name': 'Index of Relative Socio-economic Advantage and Disadvantage'}]}, {'keyPosition': 2, 'id': 'SEIFA_MEASURE', 'name': 'Measure', 'values': [{'id': 'SCORE', 'name': 'Score'}]}, {'id': 'TIME_PERIOD', 'name': 'Time', 'values': [{'id': '2016', 'name': '2016'}], 'role': 'TIME_PERIOD'}]}, 'attributes': {'dataSet': [], 'series': [], 'observation': [{'id': 'TIME_FORMAT', 'name': 'Time Format', 'values': [{'id': 'P1Y', 'name': 'Annual'}]}, {'id': 'OBS_STATUS', 'name': 'Observation Status', 'values': []}]}, 'annotations': [{'title': 'Statistical usage warning', 'uri': '', 'text': 'ABS.Stat beta is continuing to be developed.  Data will be updated as soon as possible following its 11:30 am release on the ABS website.'}]}}\n",
      "{'header': {'id': '30097967-209a-4035-87fb-35dffb5859f9', 'test': False, 'prepared': '2020-10-31T07:04:59.7983733Z', 'sender': {'id': 'ABS', 'name': 'Australian Bureau of Statistics'}, 'links': [{'href': 'http://stat.data.abs.gov.au:80/sdmx-json/data/ABS_SEIFA2016_SA2/503011035.IRSAD.SCORE/all?detail=Full&dimensionAtObservation=AllDimensions&startPeriod=2016', 'rel': 'request'}]}, 'dataSets': [{'action': 'Information', 'observations': {'0:0:0:0': [1150.0, 0, None]}}], 'structure': {'links': [{'href': 'http://stat.data.abs.gov.au/sdmx-json/dataflow/ABS_SEIFA2016_SA2/all', 'rel': 'dataflow'}], 'name': 'SEIFA 2016 by Statistical Area 2', 'description': 'SEIFA 2016 by Statistical Area 2', 'dimensions': {'observation': [{'keyPosition': 0, 'id': 'ASGS_2016', 'name': 'Statistical Area (SA) 2', 'values': [{'id': '503011035', 'name': 'Nedlands - Dalkeith - Crawley'}]}, {'keyPosition': 1, 'id': 'SEIFAINDEXTYPE', 'name': 'Index Type', 'values': [{'id': 'IRSAD', 'name': 'Index of Relative Socio-economic Advantage and Disadvantage'}]}, {'keyPosition': 2, 'id': 'SEIFA_MEASURE', 'name': 'Measure', 'values': [{'id': 'SCORE', 'name': 'Score'}]}, {'id': 'TIME_PERIOD', 'name': 'Time', 'values': [{'id': '2016', 'name': '2016'}], 'role': 'TIME_PERIOD'}]}, 'attributes': {'dataSet': [], 'series': [], 'observation': [{'id': 'TIME_FORMAT', 'name': 'Time Format', 'values': [{'id': 'P1Y', 'name': 'Annual'}]}, {'id': 'OBS_STATUS', 'name': 'Observation Status', 'values': []}]}, 'annotations': [{'title': 'Statistical usage warning', 'uri': '', 'text': 'ABS.Stat beta is continuing to be developed.  Data will be updated as soon as possible following its 11:30 am release on the ABS website.'}]}}\n"
     ]
    },
    {
     "name": "stdout",
     "output_type": "stream",
     "text": [
      "{'header': {'id': '1c9baf6f-3d8f-4283-b3e1-df20d0171481', 'test': False, 'prepared': '2020-10-31T07:05:00.2534942Z', 'sender': {'id': 'ABS', 'name': 'Australian Bureau of Statistics'}, 'links': [{'href': 'http://stat.data.abs.gov.au:80/sdmx-json/data/ABS_SEIFA2016_SA2/503011036.IRSAD.SCORE/all?detail=Full&dimensionAtObservation=AllDimensions&startPeriod=2016', 'rel': 'request'}]}, 'dataSets': [{'action': 'Information', 'observations': {'0:0:0:0': [1153.0, 0, None]}}], 'structure': {'links': [{'href': 'http://stat.data.abs.gov.au/sdmx-json/dataflow/ABS_SEIFA2016_SA2/all', 'rel': 'dataflow'}], 'name': 'SEIFA 2016 by Statistical Area 2', 'description': 'SEIFA 2016 by Statistical Area 2', 'dimensions': {'observation': [{'keyPosition': 0, 'id': 'ASGS_2016', 'name': 'Statistical Area (SA) 2', 'values': [{'id': '503011036', 'name': 'Swanbourne - Mount Claremont'}]}, {'keyPosition': 1, 'id': 'SEIFAINDEXTYPE', 'name': 'Index Type', 'values': [{'id': 'IRSAD', 'name': 'Index of Relative Socio-economic Advantage and Disadvantage'}]}, {'keyPosition': 2, 'id': 'SEIFA_MEASURE', 'name': 'Measure', 'values': [{'id': 'SCORE', 'name': 'Score'}]}, {'id': 'TIME_PERIOD', 'name': 'Time', 'values': [{'id': '2016', 'name': '2016'}], 'role': 'TIME_PERIOD'}]}, 'attributes': {'dataSet': [], 'series': [], 'observation': [{'id': 'TIME_FORMAT', 'name': 'Time Format', 'values': [{'id': 'P1Y', 'name': 'Annual'}]}, {'id': 'OBS_STATUS', 'name': 'Observation Status', 'values': []}]}, 'annotations': [{'title': 'Statistical usage warning', 'uri': '', 'text': 'ABS.Stat beta is continuing to be developed.  Data will be updated as soon as possible following its 11:30 am release on the ABS website.'}]}}\n",
      "{'header': {'id': 'a8f423e0-32e0-4e2e-b8fc-96bbef4d70fa', 'test': False, 'prepared': '2020-10-31T07:05:00.4859403Z', 'sender': {'id': 'ABS', 'name': 'Australian Bureau of Statistics'}, 'links': [{'href': 'http://stat.data.abs.gov.au:80/sdmx-json/data/ABS_SEIFA2016_SA2/503021037.IRSAD.SCORE/all?detail=Full&dimensionAtObservation=AllDimensions&startPeriod=2016', 'rel': 'request'}]}, 'dataSets': [{'action': 'Information', 'observations': {}}], 'structure': {'links': [{'href': 'http://stat.data.abs.gov.au/sdmx-json/dataflow/ABS_SEIFA2016_SA2/all', 'rel': 'dataflow'}], 'name': 'SEIFA 2016 by Statistical Area 2', 'description': 'SEIFA 2016 by Statistical Area 2', 'dimensions': {'observation': []}, 'attributes': {'dataSet': [], 'series': [], 'observation': [{'id': 'TIME_FORMAT', 'name': 'Time Format', 'values': []}, {'id': 'OBS_STATUS', 'name': 'Observation Status', 'values': []}]}, 'annotations': [{'title': 'Statistical usage warning', 'uri': '', 'text': 'ABS.Stat beta is continuing to be developed.  Data will be updated as soon as possible following its 11:30 am release on the ABS website.'}]}}\n",
      "{'header': {'id': 'c034ea0e-b84e-4bdf-80d3-b5ceb3a3345d', 'test': False, 'prepared': '2020-10-31T07:05:00.575786Z', 'sender': {'id': 'ABS', 'name': 'Australian Bureau of Statistics'}, 'links': [{'href': 'http://stat.data.abs.gov.au:80/sdmx-json/data/ABS_SEIFA2016_SA2/503021038.IRSAD.SCORE/all?detail=Full&dimensionAtObservation=AllDimensions&startPeriod=2016', 'rel': 'request'}]}, 'dataSets': [{'action': 'Information', 'observations': {'0:0:0:0': [1118.0, 0, None]}}], 'structure': {'links': [{'href': 'http://stat.data.abs.gov.au/sdmx-json/dataflow/ABS_SEIFA2016_SA2/all', 'rel': 'dataflow'}], 'name': 'SEIFA 2016 by Statistical Area 2', 'description': 'SEIFA 2016 by Statistical Area 2', 'dimensions': {'observation': [{'keyPosition': 0, 'id': 'ASGS_2016', 'name': 'Statistical Area (SA) 2', 'values': [{'id': '503021038', 'name': 'Mount Hawthorn - Leederville'}]}, {'keyPosition': 1, 'id': 'SEIFAINDEXTYPE', 'name': 'Index Type', 'values': [{'id': 'IRSAD', 'name': 'Index of Relative Socio-economic Advantage and Disadvantage'}]}, {'keyPosition': 2, 'id': 'SEIFA_MEASURE', 'name': 'Measure', 'values': [{'id': 'SCORE', 'name': 'Score'}]}, {'id': 'TIME_PERIOD', 'name': 'Time', 'values': [{'id': '2016', 'name': '2016'}], 'role': 'TIME_PERIOD'}]}, 'attributes': {'dataSet': [], 'series': [], 'observation': [{'id': 'TIME_FORMAT', 'name': 'Time Format', 'values': [{'id': 'P1Y', 'name': 'Annual'}]}, {'id': 'OBS_STATUS', 'name': 'Observation Status', 'values': []}]}, 'annotations': [{'title': 'Statistical usage warning', 'uri': '', 'text': 'ABS.Stat beta is continuing to be developed.  Data will be updated as soon as possible following its 11:30 am release on the ABS website.'}]}}\n",
      "{'header': {'id': '923d6594-680e-4c1f-83b5-076513f41db4', 'test': False, 'prepared': '2020-10-31T07:05:00.841672Z', 'sender': {'id': 'ABS', 'name': 'Australian Bureau of Statistics'}, 'links': [{'href': 'http://stat.data.abs.gov.au:80/sdmx-json/data/ABS_SEIFA2016_SA2/503021039.IRSAD.SCORE/all?detail=Full&dimensionAtObservation=AllDimensions&startPeriod=2016', 'rel': 'request'}]}, 'dataSets': [{'action': 'Information', 'observations': {'0:0:0:0': [1101.0, 0, None]}}], 'structure': {'links': [{'href': 'http://stat.data.abs.gov.au/sdmx-json/dataflow/ABS_SEIFA2016_SA2/all', 'rel': 'dataflow'}], 'name': 'SEIFA 2016 by Statistical Area 2', 'description': 'SEIFA 2016 by Statistical Area 2', 'dimensions': {'observation': [{'keyPosition': 0, 'id': 'ASGS_2016', 'name': 'Statistical Area (SA) 2', 'values': [{'id': '503021039', 'name': 'Mount Lawley - Inglewood'}]}, {'keyPosition': 1, 'id': 'SEIFAINDEXTYPE', 'name': 'Index Type', 'values': [{'id': 'IRSAD', 'name': 'Index of Relative Socio-economic Advantage and Disadvantage'}]}, {'keyPosition': 2, 'id': 'SEIFA_MEASURE', 'name': 'Measure', 'values': [{'id': 'SCORE', 'name': 'Score'}]}, {'id': 'TIME_PERIOD', 'name': 'Time', 'values': [{'id': '2016', 'name': '2016'}], 'role': 'TIME_PERIOD'}]}, 'attributes': {'dataSet': [], 'series': [], 'observation': [{'id': 'TIME_FORMAT', 'name': 'Time Format', 'values': [{'id': 'P1Y', 'name': 'Annual'}]}, {'id': 'OBS_STATUS', 'name': 'Observation Status', 'values': []}]}, 'annotations': [{'title': 'Statistical usage warning', 'uri': '', 'text': 'ABS.Stat beta is continuing to be developed.  Data will be updated as soon as possible following its 11:30 am release on the ABS website.'}]}}\n",
      "{'header': {'id': 'a3cbe3e8-6752-4271-8bb5-46ad7f3365ef', 'test': False, 'prepared': '2020-10-31T07:05:01.3971947Z', 'sender': {'id': 'ABS', 'name': 'Australian Bureau of Statistics'}, 'links': [{'href': 'http://stat.data.abs.gov.au:80/sdmx-json/data/ABS_SEIFA2016_SA2/503021040.IRSAD.SCORE/all?detail=Full&dimensionAtObservation=AllDimensions&startPeriod=2016', 'rel': 'request'}]}, 'dataSets': [{'action': 'Information', 'observations': {'0:0:0:0': [1099.0, 0, None]}}], 'structure': {'links': [{'href': 'http://stat.data.abs.gov.au/sdmx-json/dataflow/ABS_SEIFA2016_SA2/all', 'rel': 'dataflow'}], 'name': 'SEIFA 2016 by Statistical Area 2', 'description': 'SEIFA 2016 by Statistical Area 2', 'dimensions': {'observation': [{'keyPosition': 0, 'id': 'ASGS_2016', 'name': 'Statistical Area (SA) 2', 'values': [{'id': '503021040', 'name': 'North Perth'}]}, {'keyPosition': 1, 'id': 'SEIFAINDEXTYPE', 'name': 'Index Type', 'values': [{'id': 'IRSAD', 'name': 'Index of Relative Socio-economic Advantage and Disadvantage'}]}, {'keyPosition': 2, 'id': 'SEIFA_MEASURE', 'name': 'Measure', 'values': [{'id': 'SCORE', 'name': 'Score'}]}, {'id': 'TIME_PERIOD', 'name': 'Time', 'values': [{'id': '2016', 'name': '2016'}], 'role': 'TIME_PERIOD'}]}, 'attributes': {'dataSet': [], 'series': [], 'observation': [{'id': 'TIME_FORMAT', 'name': 'Time Format', 'values': [{'id': 'P1Y', 'name': 'Annual'}]}, {'id': 'OBS_STATUS', 'name': 'Observation Status', 'values': []}]}, 'annotations': [{'title': 'Statistical usage warning', 'uri': '', 'text': 'ABS.Stat beta is continuing to be developed.  Data will be updated as soon as possible following its 11:30 am release on the ABS website.'}]}}\n",
      "{'header': {'id': 'c922a3ce-8b82-497e-829a-708bab29c231', 'test': False, 'prepared': '2020-10-31T07:05:01.7691806Z', 'sender': {'id': 'ABS', 'name': 'Australian Bureau of Statistics'}, 'links': [{'href': 'http://stat.data.abs.gov.au:80/sdmx-json/data/ABS_SEIFA2016_SA2/503021041.IRSAD.SCORE/all?detail=Full&dimensionAtObservation=AllDimensions&startPeriod=2016', 'rel': 'request'}]}, 'dataSets': [{'action': 'Information', 'observations': {'0:0:0:0': [1083.0, 0, None]}}], 'structure': {'links': [{'href': 'http://stat.data.abs.gov.au/sdmx-json/dataflow/ABS_SEIFA2016_SA2/all', 'rel': 'dataflow'}], 'name': 'SEIFA 2016 by Statistical Area 2', 'description': 'SEIFA 2016 by Statistical Area 2', 'dimensions': {'observation': [{'keyPosition': 0, 'id': 'ASGS_2016', 'name': 'Statistical Area (SA) 2', 'values': [{'id': '503021041', 'name': 'Perth City'}]}, {'keyPosition': 1, 'id': 'SEIFAINDEXTYPE', 'name': 'Index Type', 'values': [{'id': 'IRSAD', 'name': 'Index of Relative Socio-economic Advantage and Disadvantage'}]}, {'keyPosition': 2, 'id': 'SEIFA_MEASURE', 'name': 'Measure', 'values': [{'id': 'SCORE', 'name': 'Score'}]}, {'id': 'TIME_PERIOD', 'name': 'Time', 'values': [{'id': '2016', 'name': '2016'}], 'role': 'TIME_PERIOD'}]}, 'attributes': {'dataSet': [], 'series': [], 'observation': [{'id': 'TIME_FORMAT', 'name': 'Time Format', 'values': [{'id': 'P1Y', 'name': 'Annual'}]}, {'id': 'OBS_STATUS', 'name': 'Observation Status', 'values': []}]}, 'annotations': [{'title': 'Statistical usage warning', 'uri': '', 'text': 'ABS.Stat beta is continuing to be developed.  Data will be updated as soon as possible following its 11:30 am release on the ABS website.'}]}}\n"
     ]
    },
    {
     "name": "stdout",
     "output_type": "stream",
     "text": [
      "{'header': {'id': '379031af-c67b-4574-86f7-e48a7b6aaad7', 'test': False, 'prepared': '2020-10-31T07:05:01.7487711Z', 'sender': {'id': 'ABS', 'name': 'Australian Bureau of Statistics'}, 'links': [{'href': 'http://stat.data.abs.gov.au:80/sdmx-json/data/ABS_SEIFA2016_SA2/503021042.IRSAD.SCORE/all?detail=Full&dimensionAtObservation=AllDimensions&startPeriod=2016', 'rel': 'request'}]}, 'dataSets': [{'action': 'Information', 'observations': {'0:0:0:0': [1122.0, 0, None]}}], 'structure': {'links': [{'href': 'http://stat.data.abs.gov.au/sdmx-json/dataflow/ABS_SEIFA2016_SA2/all', 'rel': 'dataflow'}], 'name': 'SEIFA 2016 by Statistical Area 2', 'description': 'SEIFA 2016 by Statistical Area 2', 'dimensions': {'observation': [{'keyPosition': 0, 'id': 'ASGS_2016', 'name': 'Statistical Area (SA) 2', 'values': [{'id': '503021042', 'name': 'Subiaco - Shenton Park'}]}, {'keyPosition': 1, 'id': 'SEIFAINDEXTYPE', 'name': 'Index Type', 'values': [{'id': 'IRSAD', 'name': 'Index of Relative Socio-economic Advantage and Disadvantage'}]}, {'keyPosition': 2, 'id': 'SEIFA_MEASURE', 'name': 'Measure', 'values': [{'id': 'SCORE', 'name': 'Score'}]}, {'id': 'TIME_PERIOD', 'name': 'Time', 'values': [{'id': '2016', 'name': '2016'}], 'role': 'TIME_PERIOD'}]}, 'attributes': {'dataSet': [], 'series': [], 'observation': [{'id': 'TIME_FORMAT', 'name': 'Time Format', 'values': [{'id': 'P1Y', 'name': 'Annual'}]}, {'id': 'OBS_STATUS', 'name': 'Observation Status', 'values': []}]}, 'annotations': [{'title': 'Statistical usage warning', 'uri': '', 'text': 'ABS.Stat beta is continuing to be developed.  Data will be updated as soon as possible following its 11:30 am release on the ABS website.'}]}}\n",
      "{'header': {'id': '0c5b56f1-a8d5-4257-88a0-e4bd51b7dbae', 'test': False, 'prepared': '2020-10-31T07:05:02.0615637Z', 'sender': {'id': 'ABS', 'name': 'Australian Bureau of Statistics'}, 'links': [{'href': 'http://stat.data.abs.gov.au:80/sdmx-json/data/ABS_SEIFA2016_SA2/503021043.IRSAD.SCORE/all?detail=Full&dimensionAtObservation=AllDimensions&startPeriod=2016', 'rel': 'request'}]}, 'dataSets': [{'action': 'Information', 'observations': {'0:0:0:0': [1091.0, 0, None]}}], 'structure': {'links': [{'href': 'http://stat.data.abs.gov.au/sdmx-json/dataflow/ABS_SEIFA2016_SA2/all', 'rel': 'dataflow'}], 'name': 'SEIFA 2016 by Statistical Area 2', 'description': 'SEIFA 2016 by Statistical Area 2', 'dimensions': {'observation': [{'keyPosition': 0, 'id': 'ASGS_2016', 'name': 'Statistical Area (SA) 2', 'values': [{'id': '503021043', 'name': 'Wembley - West Leederville - Glendalough'}]}, {'keyPosition': 1, 'id': 'SEIFAINDEXTYPE', 'name': 'Index Type', 'values': [{'id': 'IRSAD', 'name': 'Index of Relative Socio-economic Advantage and Disadvantage'}]}, {'keyPosition': 2, 'id': 'SEIFA_MEASURE', 'name': 'Measure', 'values': [{'id': 'SCORE', 'name': 'Score'}]}, {'id': 'TIME_PERIOD', 'name': 'Time', 'values': [{'id': '2016', 'name': '2016'}], 'role': 'TIME_PERIOD'}]}, 'attributes': {'dataSet': [], 'series': [], 'observation': [{'id': 'TIME_FORMAT', 'name': 'Time Format', 'values': [{'id': 'P1Y', 'name': 'Annual'}]}, {'id': 'OBS_STATUS', 'name': 'Observation Status', 'values': []}]}, 'annotations': [{'title': 'Statistical usage warning', 'uri': '', 'text': 'ABS.Stat beta is continuing to be developed.  Data will be updated as soon as possible following its 11:30 am release on the ABS website.'}]}}\n",
      "{'header': {'id': '2d721bf5-8da8-48ef-afa4-60b52c167dea', 'test': False, 'prepared': '2020-10-31T07:05:02.3587149Z', 'sender': {'id': 'ABS', 'name': 'Australian Bureau of Statistics'}, 'links': [{'href': 'http://stat.data.abs.gov.au:80/sdmx-json/data/ABS_SEIFA2016_SA2/504011044.IRSAD.SCORE/all?detail=Full&dimensionAtObservation=AllDimensions&startPeriod=2016', 'rel': 'request'}]}, 'dataSets': [{'action': 'Information', 'observations': {'0:0:0:0': [1008.0, 0, None]}}], 'structure': {'links': [{'href': 'http://stat.data.abs.gov.au/sdmx-json/dataflow/ABS_SEIFA2016_SA2/all', 'rel': 'dataflow'}], 'name': 'SEIFA 2016 by Statistical Area 2', 'description': 'SEIFA 2016 by Statistical Area 2', 'dimensions': {'observation': [{'keyPosition': 0, 'id': 'ASGS_2016', 'name': 'Statistical Area (SA) 2', 'values': [{'id': '504011044', 'name': 'Bassendean - Eden Hill - Ashfield'}]}, {'keyPosition': 1, 'id': 'SEIFAINDEXTYPE', 'name': 'Index Type', 'values': [{'id': 'IRSAD', 'name': 'Index of Relative Socio-economic Advantage and Disadvantage'}]}, {'keyPosition': 2, 'id': 'SEIFA_MEASURE', 'name': 'Measure', 'values': [{'id': 'SCORE', 'name': 'Score'}]}, {'id': 'TIME_PERIOD', 'name': 'Time', 'values': [{'id': '2016', 'name': '2016'}], 'role': 'TIME_PERIOD'}]}, 'attributes': {'dataSet': [], 'series': [], 'observation': [{'id': 'TIME_FORMAT', 'name': 'Time Format', 'values': [{'id': 'P1Y', 'name': 'Annual'}]}, {'id': 'OBS_STATUS', 'name': 'Observation Status', 'values': []}]}, 'annotations': [{'title': 'Statistical usage warning', 'uri': '', 'text': 'ABS.Stat beta is continuing to be developed.  Data will be updated as soon as possible following its 11:30 am release on the ABS website.'}]}}\n",
      "{'header': {'id': 'fef7717a-42fb-45e8-a36c-cabd6e045aae', 'test': False, 'prepared': '2020-10-31T07:05:02.9723653Z', 'sender': {'id': 'ABS', 'name': 'Australian Bureau of Statistics'}, 'links': [{'href': 'http://stat.data.abs.gov.au:80/sdmx-json/data/ABS_SEIFA2016_SA2/504011045.IRSAD.SCORE/all?detail=Full&dimensionAtObservation=AllDimensions&startPeriod=2016', 'rel': 'request'}]}, 'dataSets': [{'action': 'Information', 'observations': {'0:0:0:0': [1042.0, 0, None]}}], 'structure': {'links': [{'href': 'http://stat.data.abs.gov.au/sdmx-json/dataflow/ABS_SEIFA2016_SA2/all', 'rel': 'dataflow'}], 'name': 'SEIFA 2016 by Statistical Area 2', 'description': 'SEIFA 2016 by Statistical Area 2', 'dimensions': {'observation': [{'keyPosition': 0, 'id': 'ASGS_2016', 'name': 'Statistical Area (SA) 2', 'values': [{'id': '504011045', 'name': 'Bayswater - Embleton - Bedford'}]}, {'keyPosition': 1, 'id': 'SEIFAINDEXTYPE', 'name': 'Index Type', 'values': [{'id': 'IRSAD', 'name': 'Index of Relative Socio-economic Advantage and Disadvantage'}]}, {'keyPosition': 2, 'id': 'SEIFA_MEASURE', 'name': 'Measure', 'values': [{'id': 'SCORE', 'name': 'Score'}]}, {'id': 'TIME_PERIOD', 'name': 'Time', 'values': [{'id': '2016', 'name': '2016'}], 'role': 'TIME_PERIOD'}]}, 'attributes': {'dataSet': [], 'series': [], 'observation': [{'id': 'TIME_FORMAT', 'name': 'Time Format', 'values': [{'id': 'P1Y', 'name': 'Annual'}]}, {'id': 'OBS_STATUS', 'name': 'Observation Status', 'values': []}]}, 'annotations': [{'title': 'Statistical usage warning', 'uri': '', 'text': 'ABS.Stat beta is continuing to be developed.  Data will be updated as soon as possible following its 11:30 am release on the ABS website.'}]}}\n",
      "{'header': {'id': '5b6c72fb-23b3-4c26-bec7-33e0f53f5a46', 'test': False, 'prepared': '2020-10-31T07:05:03.1687692Z', 'sender': {'id': 'ABS', 'name': 'Australian Bureau of Statistics'}, 'links': [{'href': 'http://stat.data.abs.gov.au:80/sdmx-json/data/ABS_SEIFA2016_SA2/504011046.IRSAD.SCORE/all?detail=Full&dimensionAtObservation=AllDimensions&startPeriod=2016', 'rel': 'request'}]}, 'dataSets': [{'action': 'Information', 'observations': {'0:0:0:0': [1038.0, 0, None]}}], 'structure': {'links': [{'href': 'http://stat.data.abs.gov.au/sdmx-json/dataflow/ABS_SEIFA2016_SA2/all', 'rel': 'dataflow'}], 'name': 'SEIFA 2016 by Statistical Area 2', 'description': 'SEIFA 2016 by Statistical Area 2', 'dimensions': {'observation': [{'keyPosition': 0, 'id': 'ASGS_2016', 'name': 'Statistical Area (SA) 2', 'values': [{'id': '504011046', 'name': 'Maylands'}]}, {'keyPosition': 1, 'id': 'SEIFAINDEXTYPE', 'name': 'Index Type', 'values': [{'id': 'IRSAD', 'name': 'Index of Relative Socio-economic Advantage and Disadvantage'}]}, {'keyPosition': 2, 'id': 'SEIFA_MEASURE', 'name': 'Measure', 'values': [{'id': 'SCORE', 'name': 'Score'}]}, {'id': 'TIME_PERIOD', 'name': 'Time', 'values': [{'id': '2016', 'name': '2016'}], 'role': 'TIME_PERIOD'}]}, 'attributes': {'dataSet': [], 'series': [], 'observation': [{'id': 'TIME_FORMAT', 'name': 'Time Format', 'values': [{'id': 'P1Y', 'name': 'Annual'}]}, {'id': 'OBS_STATUS', 'name': 'Observation Status', 'values': []}]}, 'annotations': [{'title': 'Statistical usage warning', 'uri': '', 'text': 'ABS.Stat beta is continuing to be developed.  Data will be updated as soon as possible following its 11:30 am release on the ABS website.'}]}}\n"
     ]
    },
    {
     "name": "stdout",
     "output_type": "stream",
     "text": [
      "{'header': {'id': '3514c535-e777-4c15-ba2a-221dcc57d87b', 'test': False, 'prepared': '2020-10-31T07:05:03.3133173Z', 'sender': {'id': 'ABS', 'name': 'Australian Bureau of Statistics'}, 'links': [{'href': 'http://stat.data.abs.gov.au:80/sdmx-json/data/ABS_SEIFA2016_SA2/504011047.IRSAD.SCORE/all?detail=Full&dimensionAtObservation=AllDimensions&startPeriod=2016', 'rel': 'request'}]}, 'dataSets': [{'action': 'Information', 'observations': {'0:0:0:0': [992.0, 0, None]}}], 'structure': {'links': [{'href': 'http://stat.data.abs.gov.au/sdmx-json/dataflow/ABS_SEIFA2016_SA2/all', 'rel': 'dataflow'}], 'name': 'SEIFA 2016 by Statistical Area 2', 'description': 'SEIFA 2016 by Statistical Area 2', 'dimensions': {'observation': [{'keyPosition': 0, 'id': 'ASGS_2016', 'name': 'Statistical Area (SA) 2', 'values': [{'id': '504011047', 'name': 'Morley'}]}, {'keyPosition': 1, 'id': 'SEIFAINDEXTYPE', 'name': 'Index Type', 'values': [{'id': 'IRSAD', 'name': 'Index of Relative Socio-economic Advantage and Disadvantage'}]}, {'keyPosition': 2, 'id': 'SEIFA_MEASURE', 'name': 'Measure', 'values': [{'id': 'SCORE', 'name': 'Score'}]}, {'id': 'TIME_PERIOD', 'name': 'Time', 'values': [{'id': '2016', 'name': '2016'}], 'role': 'TIME_PERIOD'}]}, 'attributes': {'dataSet': [], 'series': [], 'observation': [{'id': 'TIME_FORMAT', 'name': 'Time Format', 'values': [{'id': 'P1Y', 'name': 'Annual'}]}, {'id': 'OBS_STATUS', 'name': 'Observation Status', 'values': []}]}, 'annotations': [{'title': 'Statistical usage warning', 'uri': '', 'text': 'ABS.Stat beta is continuing to be developed.  Data will be updated as soon as possible following its 11:30 am release on the ABS website.'}]}}\n",
      "{'header': {'id': '805d122a-a04e-4f8d-a53e-f1a742b3e9cc', 'test': False, 'prepared': '2020-10-31T07:05:03.625535Z', 'sender': {'id': 'ABS', 'name': 'Australian Bureau of Statistics'}, 'links': [{'href': 'http://stat.data.abs.gov.au:80/sdmx-json/data/ABS_SEIFA2016_SA2/504011048.IRSAD.SCORE/all?detail=Full&dimensionAtObservation=AllDimensions&startPeriod=2016', 'rel': 'request'}]}, 'dataSets': [{'action': 'Information', 'observations': {'0:0:0:0': [1032.0, 0, None]}}], 'structure': {'links': [{'href': 'http://stat.data.abs.gov.au/sdmx-json/dataflow/ABS_SEIFA2016_SA2/all', 'rel': 'dataflow'}], 'name': 'SEIFA 2016 by Statistical Area 2', 'description': 'SEIFA 2016 by Statistical Area 2', 'dimensions': {'observation': [{'keyPosition': 0, 'id': 'ASGS_2016', 'name': 'Statistical Area (SA) 2', 'values': [{'id': '504011048', 'name': 'Noranda'}]}, {'keyPosition': 1, 'id': 'SEIFAINDEXTYPE', 'name': 'Index Type', 'values': [{'id': 'IRSAD', 'name': 'Index of Relative Socio-economic Advantage and Disadvantage'}]}, {'keyPosition': 2, 'id': 'SEIFA_MEASURE', 'name': 'Measure', 'values': [{'id': 'SCORE', 'name': 'Score'}]}, {'id': 'TIME_PERIOD', 'name': 'Time', 'values': [{'id': '2016', 'name': '2016'}], 'role': 'TIME_PERIOD'}]}, 'attributes': {'dataSet': [], 'series': [], 'observation': [{'id': 'TIME_FORMAT', 'name': 'Time Format', 'values': [{'id': 'P1Y', 'name': 'Annual'}]}, {'id': 'OBS_STATUS', 'name': 'Observation Status', 'values': []}]}, 'annotations': [{'title': 'Statistical usage warning', 'uri': '', 'text': 'ABS.Stat beta is continuing to be developed.  Data will be updated as soon as possible following its 11:30 am release on the ABS website.'}]}}\n",
      "{'header': {'id': '7717c081-fd13-43db-acc9-efc1978ce064', 'test': False, 'prepared': '2020-10-31T07:05:04.2224422Z', 'sender': {'id': 'ABS', 'name': 'Australian Bureau of Statistics'}, 'links': [{'href': 'http://stat.data.abs.gov.au:80/sdmx-json/data/ABS_SEIFA2016_SA2/504021049.IRSAD.SCORE/all?detail=Full&dimensionAtObservation=AllDimensions&startPeriod=2016', 'rel': 'request'}]}, 'dataSets': [{'action': 'Information', 'observations': {'0:0:0:0': [1011.0, 0, None]}}], 'structure': {'links': [{'href': 'http://stat.data.abs.gov.au/sdmx-json/dataflow/ABS_SEIFA2016_SA2/all', 'rel': 'dataflow'}], 'name': 'SEIFA 2016 by Statistical Area 2', 'description': 'SEIFA 2016 by Statistical Area 2', 'dimensions': {'observation': [{'keyPosition': 0, 'id': 'ASGS_2016', 'name': 'Statistical Area (SA) 2', 'values': [{'id': '504021049', 'name': 'Chidlow'}]}, {'keyPosition': 1, 'id': 'SEIFAINDEXTYPE', 'name': 'Index Type', 'values': [{'id': 'IRSAD', 'name': 'Index of Relative Socio-economic Advantage and Disadvantage'}]}, {'keyPosition': 2, 'id': 'SEIFA_MEASURE', 'name': 'Measure', 'values': [{'id': 'SCORE', 'name': 'Score'}]}, {'id': 'TIME_PERIOD', 'name': 'Time', 'values': [{'id': '2016', 'name': '2016'}], 'role': 'TIME_PERIOD'}]}, 'attributes': {'dataSet': [], 'series': [], 'observation': [{'id': 'TIME_FORMAT', 'name': 'Time Format', 'values': [{'id': 'P1Y', 'name': 'Annual'}]}, {'id': 'OBS_STATUS', 'name': 'Observation Status', 'values': []}]}, 'annotations': [{'title': 'Statistical usage warning', 'uri': '', 'text': 'ABS.Stat beta is continuing to be developed.  Data will be updated as soon as possible following its 11:30 am release on the ABS website.'}]}}\n",
      "{'header': {'id': '6dcbb630-678e-4d4c-88b2-613bbdb92c72', 'test': False, 'prepared': '2020-10-31T07:05:04.4345338Z', 'sender': {'id': 'ABS', 'name': 'Australian Bureau of Statistics'}, 'links': [{'href': 'http://stat.data.abs.gov.au:80/sdmx-json/data/ABS_SEIFA2016_SA2/504021050.IRSAD.SCORE/all?detail=Full&dimensionAtObservation=AllDimensions&startPeriod=2016', 'rel': 'request'}]}, 'dataSets': [{'action': 'Information', 'observations': {'0:0:0:0': [1098.0, 0, None]}}], 'structure': {'links': [{'href': 'http://stat.data.abs.gov.au/sdmx-json/dataflow/ABS_SEIFA2016_SA2/all', 'rel': 'dataflow'}], 'name': 'SEIFA 2016 by Statistical Area 2', 'description': 'SEIFA 2016 by Statistical Area 2', 'dimensions': {'observation': [{'keyPosition': 0, 'id': 'ASGS_2016', 'name': 'Statistical Area (SA) 2', 'values': [{'id': '504021050', 'name': 'Glen Forrest - Darlington'}]}, {'keyPosition': 1, 'id': 'SEIFAINDEXTYPE', 'name': 'Index Type', 'values': [{'id': 'IRSAD', 'name': 'Index of Relative Socio-economic Advantage and Disadvantage'}]}, {'keyPosition': 2, 'id': 'SEIFA_MEASURE', 'name': 'Measure', 'values': [{'id': 'SCORE', 'name': 'Score'}]}, {'id': 'TIME_PERIOD', 'name': 'Time', 'values': [{'id': '2016', 'name': '2016'}], 'role': 'TIME_PERIOD'}]}, 'attributes': {'dataSet': [], 'series': [], 'observation': [{'id': 'TIME_FORMAT', 'name': 'Time Format', 'values': [{'id': 'P1Y', 'name': 'Annual'}]}, {'id': 'OBS_STATUS', 'name': 'Observation Status', 'values': []}]}, 'annotations': [{'title': 'Statistical usage warning', 'uri': '', 'text': 'ABS.Stat beta is continuing to be developed.  Data will be updated as soon as possible following its 11:30 am release on the ABS website.'}]}}\n",
      "{'header': {'id': 'cf6b66b8-f28a-4134-b6d5-809a61442c77', 'test': False, 'prepared': '2020-10-31T07:05:04.8161991Z', 'sender': {'id': 'ABS', 'name': 'Australian Bureau of Statistics'}, 'links': [{'href': 'http://stat.data.abs.gov.au:80/sdmx-json/data/ABS_SEIFA2016_SA2/504021051.IRSAD.SCORE/all?detail=Full&dimensionAtObservation=AllDimensions&startPeriod=2016', 'rel': 'request'}]}, 'dataSets': [{'action': 'Information', 'observations': {'0:0:0:0': [1024.0, 0, None]}}], 'structure': {'links': [{'href': 'http://stat.data.abs.gov.au/sdmx-json/dataflow/ABS_SEIFA2016_SA2/all', 'rel': 'dataflow'}], 'name': 'SEIFA 2016 by Statistical Area 2', 'description': 'SEIFA 2016 by Statistical Area 2', 'dimensions': {'observation': [{'keyPosition': 0, 'id': 'ASGS_2016', 'name': 'Statistical Area (SA) 2', 'values': [{'id': '504021051', 'name': 'Helena Valley - Koongamia'}]}, {'keyPosition': 1, 'id': 'SEIFAINDEXTYPE', 'name': 'Index Type', 'values': [{'id': 'IRSAD', 'name': 'Index of Relative Socio-economic Advantage and Disadvantage'}]}, {'keyPosition': 2, 'id': 'SEIFA_MEASURE', 'name': 'Measure', 'values': [{'id': 'SCORE', 'name': 'Score'}]}, {'id': 'TIME_PERIOD', 'name': 'Time', 'values': [{'id': '2016', 'name': '2016'}], 'role': 'TIME_PERIOD'}]}, 'attributes': {'dataSet': [], 'series': [], 'observation': [{'id': 'TIME_FORMAT', 'name': 'Time Format', 'values': [{'id': 'P1Y', 'name': 'Annual'}]}, {'id': 'OBS_STATUS', 'name': 'Observation Status', 'values': []}]}, 'annotations': [{'title': 'Statistical usage warning', 'uri': '', 'text': 'ABS.Stat beta is continuing to be developed.  Data will be updated as soon as possible following its 11:30 am release on the ABS website.'}]}}\n"
     ]
    },
    {
     "ename": "JSONDecodeError",
     "evalue": "Expecting property name enclosed in double quotes: line 1 column 420 (char 419)",
     "output_type": "error",
     "traceback": [
      "\u001b[1;31m---------------------------------------------------------------------------\u001b[0m",
      "\u001b[1;31mJSONDecodeError\u001b[0m                           Traceback (most recent call last)",
      "\u001b[1;32m<ipython-input-7-3680c05000d8>\u001b[0m in \u001b[0;36m<module>\u001b[1;34m\u001b[0m\n\u001b[0;32m      5\u001b[0m     \u001b[0mresponse\u001b[0m \u001b[1;33m=\u001b[0m \u001b[0mrequests\u001b[0m\u001b[1;33m.\u001b[0m\u001b[0mget\u001b[0m\u001b[1;33m(\u001b[0m\u001b[1;34mf\"http://stat.data.abs.gov.au/sdmx-json/data/ABS_SEIFA2016_SA2/{sa2}.IRSAD.SCORE/all?detail=Full&dimensionAtObservation=AllDimensions&startPeriod=2016\"\u001b[0m\u001b[1;33m)\u001b[0m\u001b[1;33m\u001b[0m\u001b[1;33m\u001b[0m\u001b[0m\n\u001b[0;32m      6\u001b[0m \u001b[1;33m\u001b[0m\u001b[0m\n\u001b[1;32m----> 7\u001b[1;33m     \u001b[0mseifa_socio\u001b[0m \u001b[1;33m=\u001b[0m \u001b[0mresponse\u001b[0m\u001b[1;33m.\u001b[0m\u001b[0mjson\u001b[0m\u001b[1;33m(\u001b[0m\u001b[1;33m)\u001b[0m\u001b[1;33m\u001b[0m\u001b[1;33m\u001b[0m\u001b[0m\n\u001b[0m\u001b[0;32m      8\u001b[0m     \u001b[0mprint\u001b[0m\u001b[1;33m(\u001b[0m\u001b[0mseifa_socio\u001b[0m\u001b[1;33m)\u001b[0m\u001b[1;33m\u001b[0m\u001b[1;33m\u001b[0m\u001b[0m\n\u001b[0;32m      9\u001b[0m \u001b[1;31m#     for seifa in seifa_socio:\u001b[0m\u001b[1;33m\u001b[0m\u001b[1;33m\u001b[0m\u001b[1;33m\u001b[0m\u001b[0m\n",
      "\u001b[1;32m~\\anaconda3\\lib\\site-packages\\requests\\models.py\u001b[0m in \u001b[0;36mjson\u001b[1;34m(self, **kwargs)\u001b[0m\n\u001b[0;32m    895\u001b[0m                     \u001b[1;31m# used.\u001b[0m\u001b[1;33m\u001b[0m\u001b[1;33m\u001b[0m\u001b[1;33m\u001b[0m\u001b[0m\n\u001b[0;32m    896\u001b[0m                     \u001b[1;32mpass\u001b[0m\u001b[1;33m\u001b[0m\u001b[1;33m\u001b[0m\u001b[0m\n\u001b[1;32m--> 897\u001b[1;33m         \u001b[1;32mreturn\u001b[0m \u001b[0mcomplexjson\u001b[0m\u001b[1;33m.\u001b[0m\u001b[0mloads\u001b[0m\u001b[1;33m(\u001b[0m\u001b[0mself\u001b[0m\u001b[1;33m.\u001b[0m\u001b[0mtext\u001b[0m\u001b[1;33m,\u001b[0m \u001b[1;33m**\u001b[0m\u001b[0mkwargs\u001b[0m\u001b[1;33m)\u001b[0m\u001b[1;33m\u001b[0m\u001b[1;33m\u001b[0m\u001b[0m\n\u001b[0m\u001b[0;32m    898\u001b[0m \u001b[1;33m\u001b[0m\u001b[0m\n\u001b[0;32m    899\u001b[0m     \u001b[1;33m@\u001b[0m\u001b[0mproperty\u001b[0m\u001b[1;33m\u001b[0m\u001b[1;33m\u001b[0m\u001b[0m\n",
      "\u001b[1;32m~\\anaconda3\\lib\\json\\__init__.py\u001b[0m in \u001b[0;36mloads\u001b[1;34m(s, encoding, cls, object_hook, parse_float, parse_int, parse_constant, object_pairs_hook, **kw)\u001b[0m\n\u001b[0;32m    346\u001b[0m             \u001b[0mparse_int\u001b[0m \u001b[1;32mis\u001b[0m \u001b[1;32mNone\u001b[0m \u001b[1;32mand\u001b[0m \u001b[0mparse_float\u001b[0m \u001b[1;32mis\u001b[0m \u001b[1;32mNone\u001b[0m \u001b[1;32mand\u001b[0m\u001b[1;33m\u001b[0m\u001b[1;33m\u001b[0m\u001b[0m\n\u001b[0;32m    347\u001b[0m             parse_constant is None and object_pairs_hook is None and not kw):\n\u001b[1;32m--> 348\u001b[1;33m         \u001b[1;32mreturn\u001b[0m \u001b[0m_default_decoder\u001b[0m\u001b[1;33m.\u001b[0m\u001b[0mdecode\u001b[0m\u001b[1;33m(\u001b[0m\u001b[0ms\u001b[0m\u001b[1;33m)\u001b[0m\u001b[1;33m\u001b[0m\u001b[1;33m\u001b[0m\u001b[0m\n\u001b[0m\u001b[0;32m    349\u001b[0m     \u001b[1;32mif\u001b[0m \u001b[0mcls\u001b[0m \u001b[1;32mis\u001b[0m \u001b[1;32mNone\u001b[0m\u001b[1;33m:\u001b[0m\u001b[1;33m\u001b[0m\u001b[1;33m\u001b[0m\u001b[0m\n\u001b[0;32m    350\u001b[0m         \u001b[0mcls\u001b[0m \u001b[1;33m=\u001b[0m \u001b[0mJSONDecoder\u001b[0m\u001b[1;33m\u001b[0m\u001b[1;33m\u001b[0m\u001b[0m\n",
      "\u001b[1;32m~\\anaconda3\\lib\\json\\decoder.py\u001b[0m in \u001b[0;36mdecode\u001b[1;34m(self, s, _w)\u001b[0m\n\u001b[0;32m    335\u001b[0m \u001b[1;33m\u001b[0m\u001b[0m\n\u001b[0;32m    336\u001b[0m         \"\"\"\n\u001b[1;32m--> 337\u001b[1;33m         \u001b[0mobj\u001b[0m\u001b[1;33m,\u001b[0m \u001b[0mend\u001b[0m \u001b[1;33m=\u001b[0m \u001b[0mself\u001b[0m\u001b[1;33m.\u001b[0m\u001b[0mraw_decode\u001b[0m\u001b[1;33m(\u001b[0m\u001b[0ms\u001b[0m\u001b[1;33m,\u001b[0m \u001b[0midx\u001b[0m\u001b[1;33m=\u001b[0m\u001b[0m_w\u001b[0m\u001b[1;33m(\u001b[0m\u001b[0ms\u001b[0m\u001b[1;33m,\u001b[0m \u001b[1;36m0\u001b[0m\u001b[1;33m)\u001b[0m\u001b[1;33m.\u001b[0m\u001b[0mend\u001b[0m\u001b[1;33m(\u001b[0m\u001b[1;33m)\u001b[0m\u001b[1;33m)\u001b[0m\u001b[1;33m\u001b[0m\u001b[1;33m\u001b[0m\u001b[0m\n\u001b[0m\u001b[0;32m    338\u001b[0m         \u001b[0mend\u001b[0m \u001b[1;33m=\u001b[0m \u001b[0m_w\u001b[0m\u001b[1;33m(\u001b[0m\u001b[0ms\u001b[0m\u001b[1;33m,\u001b[0m \u001b[0mend\u001b[0m\u001b[1;33m)\u001b[0m\u001b[1;33m.\u001b[0m\u001b[0mend\u001b[0m\u001b[1;33m(\u001b[0m\u001b[1;33m)\u001b[0m\u001b[1;33m\u001b[0m\u001b[1;33m\u001b[0m\u001b[0m\n\u001b[0;32m    339\u001b[0m         \u001b[1;32mif\u001b[0m \u001b[0mend\u001b[0m \u001b[1;33m!=\u001b[0m \u001b[0mlen\u001b[0m\u001b[1;33m(\u001b[0m\u001b[0ms\u001b[0m\u001b[1;33m)\u001b[0m\u001b[1;33m:\u001b[0m\u001b[1;33m\u001b[0m\u001b[1;33m\u001b[0m\u001b[0m\n",
      "\u001b[1;32m~\\anaconda3\\lib\\json\\decoder.py\u001b[0m in \u001b[0;36mraw_decode\u001b[1;34m(self, s, idx)\u001b[0m\n\u001b[0;32m    351\u001b[0m         \"\"\"\n\u001b[0;32m    352\u001b[0m         \u001b[1;32mtry\u001b[0m\u001b[1;33m:\u001b[0m\u001b[1;33m\u001b[0m\u001b[1;33m\u001b[0m\u001b[0m\n\u001b[1;32m--> 353\u001b[1;33m             \u001b[0mobj\u001b[0m\u001b[1;33m,\u001b[0m \u001b[0mend\u001b[0m \u001b[1;33m=\u001b[0m \u001b[0mself\u001b[0m\u001b[1;33m.\u001b[0m\u001b[0mscan_once\u001b[0m\u001b[1;33m(\u001b[0m\u001b[0ms\u001b[0m\u001b[1;33m,\u001b[0m \u001b[0midx\u001b[0m\u001b[1;33m)\u001b[0m\u001b[1;33m\u001b[0m\u001b[1;33m\u001b[0m\u001b[0m\n\u001b[0m\u001b[0;32m    354\u001b[0m         \u001b[1;32mexcept\u001b[0m \u001b[0mStopIteration\u001b[0m \u001b[1;32mas\u001b[0m \u001b[0merr\u001b[0m\u001b[1;33m:\u001b[0m\u001b[1;33m\u001b[0m\u001b[1;33m\u001b[0m\u001b[0m\n\u001b[0;32m    355\u001b[0m             \u001b[1;32mraise\u001b[0m \u001b[0mJSONDecodeError\u001b[0m\u001b[1;33m(\u001b[0m\u001b[1;34m\"Expecting value\"\u001b[0m\u001b[1;33m,\u001b[0m \u001b[0ms\u001b[0m\u001b[1;33m,\u001b[0m \u001b[0merr\u001b[0m\u001b[1;33m.\u001b[0m\u001b[0mvalue\u001b[0m\u001b[1;33m)\u001b[0m \u001b[1;32mfrom\u001b[0m \u001b[1;32mNone\u001b[0m\u001b[1;33m\u001b[0m\u001b[1;33m\u001b[0m\u001b[0m\n",
      "\u001b[1;31mJSONDecodeError\u001b[0m: Expecting property name enclosed in double quotes: line 1 column 420 (char 419)"
     ]
    }
   ],
   "source": [
    "# seifa_socio_query = f'http://stat.data.abs.gov.au/sdmx-json/data/ABS_SEIFA2016_SA2/{sa2}.IRSAD.SCORE/all?detail=Full&dimensionAtObservation=AllDimensions&startPeriod=2016'\n",
    "\n",
    "\n",
    "for sa2 in sa2_list:\n",
    "    response = requests.get(f\"http://stat.data.abs.gov.au/sdmx-json/data/ABS_SEIFA2016_SA2/{sa2}.IRSAD.SCORE/all?detail=Full&dimensionAtObservation=AllDimensions&startPeriod=2016\")\n",
    "\n",
    "    seifa_socio = response.json()\n",
    "    print(seifa_socio)\n",
    "#     for seifa in seifa_socio:\n",
    "#         print([d['dataSets'] for d in seifa_socio])"
   ]
  },
  {
   "cell_type": "code",
   "execution_count": null,
   "metadata": {},
   "outputs": [],
   "source": [
    "# Dwelling Structure\n",
    "\n",
    "rent_url = \"http://stat.data.abs.gov.au/sdmx-json/data/ABS_C16_T26_TS_SA/TOT.2.5.SA2.506071145/all?detail=Full&dimensionAtObservation=AllDimensions&startPeriod=2006&endPeriod=2016\"\n",
    "\n",
    "bins_rent = ['1','2','3','4', '5', '6', '7', '8', '9', '10', '11', '12', '13', '14', '15', '16', '17', '18', '19', '20', '21', '22', '23']\n",
    "\n",
    "\n",
    "\n",
    "    for bins in bins_rent:\n",
    "        response = requests.get(f\"http://stat.data.abs.gov.au/sdmx-json/data/ABS_C16_T26_TS_SA/TOT.{bins}.5.SA2.{sa2}/all?detail=Full&dimensionAtObservation=AllDimensions&startPeriod=2006&endPeriod=2016\")\n",
    "        rent = response.json()"
   ]
  },
  {
   "cell_type": "code",
   "execution_count": null,
   "metadata": {},
   "outputs": [],
   "source": []
  }
 ],
 "metadata": {
  "kernelspec": {
   "display_name": "Python 3",
   "language": "python",
   "name": "python3"
  },
  "language_info": {
   "codemirror_mode": {
    "name": "ipython",
    "version": 3
   },
   "file_extension": ".py",
   "mimetype": "text/x-python",
   "name": "python",
   "nbconvert_exporter": "python",
   "pygments_lexer": "ipython3",
   "version": "3.7.6"
  }
 },
 "nbformat": 4,
 "nbformat_minor": 4
}
