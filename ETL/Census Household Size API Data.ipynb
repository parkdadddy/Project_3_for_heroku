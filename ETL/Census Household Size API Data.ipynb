{
 "cells": [
  {
   "cell_type": "code",
   "execution_count": 1,
   "metadata": {},
   "outputs": [],
   "source": [
    "import pandas as pd\n",
    "import requests\n",
    "import json"
   ]
  },
  {
   "cell_type": "code",
   "execution_count": 2,
   "metadata": {},
   "outputs": [
    {
     "data": {
      "text/html": [
       "<div>\n",
       "<style scoped>\n",
       "    .dataframe tbody tr th:only-of-type {\n",
       "        vertical-align: middle;\n",
       "    }\n",
       "\n",
       "    .dataframe tbody tr th {\n",
       "        vertical-align: top;\n",
       "    }\n",
       "\n",
       "    .dataframe thead th {\n",
       "        text-align: right;\n",
       "    }\n",
       "</style>\n",
       "<table border=\"1\" class=\"dataframe\">\n",
       "  <thead>\n",
       "    <tr style=\"text-align: right;\">\n",
       "      <th></th>\n",
       "      <th>SA2_MAINCODE_2016</th>\n",
       "      <th>SA2_5DIGITCODE_2016</th>\n",
       "      <th>SA2_NAME_2016</th>\n",
       "      <th>SA3_CODE_2016</th>\n",
       "      <th>SA3_NAME_2016</th>\n",
       "      <th>SA4_CODE_2016</th>\n",
       "      <th>SA4_NAME_2016</th>\n",
       "      <th>GCCSA_CODE_2016</th>\n",
       "      <th>GCCSA_NAME_2016</th>\n",
       "      <th>STATE_CODE_2016</th>\n",
       "      <th>STATE_NAME_2016</th>\n",
       "      <th>AREA_ALBERS_SQKM</th>\n",
       "    </tr>\n",
       "  </thead>\n",
       "  <tbody>\n",
       "    <tr>\n",
       "      <th>0</th>\n",
       "      <td>101021007</td>\n",
       "      <td>11007</td>\n",
       "      <td>Braidwood</td>\n",
       "      <td>10102</td>\n",
       "      <td>Queanbeyan</td>\n",
       "      <td>101</td>\n",
       "      <td>Capital Region</td>\n",
       "      <td>1RNSW</td>\n",
       "      <td>Rest of NSW</td>\n",
       "      <td>1</td>\n",
       "      <td>New South Wales</td>\n",
       "      <td>3418.3525</td>\n",
       "    </tr>\n",
       "    <tr>\n",
       "      <th>1</th>\n",
       "      <td>101021008</td>\n",
       "      <td>11008</td>\n",
       "      <td>Karabar</td>\n",
       "      <td>10102</td>\n",
       "      <td>Queanbeyan</td>\n",
       "      <td>101</td>\n",
       "      <td>Capital Region</td>\n",
       "      <td>1RNSW</td>\n",
       "      <td>Rest of NSW</td>\n",
       "      <td>1</td>\n",
       "      <td>New South Wales</td>\n",
       "      <td>6.9825</td>\n",
       "    </tr>\n",
       "    <tr>\n",
       "      <th>2</th>\n",
       "      <td>101021009</td>\n",
       "      <td>11009</td>\n",
       "      <td>Queanbeyan</td>\n",
       "      <td>10102</td>\n",
       "      <td>Queanbeyan</td>\n",
       "      <td>101</td>\n",
       "      <td>Capital Region</td>\n",
       "      <td>1RNSW</td>\n",
       "      <td>Rest of NSW</td>\n",
       "      <td>1</td>\n",
       "      <td>New South Wales</td>\n",
       "      <td>4.7634</td>\n",
       "    </tr>\n",
       "    <tr>\n",
       "      <th>3</th>\n",
       "      <td>101021010</td>\n",
       "      <td>11010</td>\n",
       "      <td>Queanbeyan - East</td>\n",
       "      <td>10102</td>\n",
       "      <td>Queanbeyan</td>\n",
       "      <td>101</td>\n",
       "      <td>Capital Region</td>\n",
       "      <td>1RNSW</td>\n",
       "      <td>Rest of NSW</td>\n",
       "      <td>1</td>\n",
       "      <td>New South Wales</td>\n",
       "      <td>13.0034</td>\n",
       "    </tr>\n",
       "    <tr>\n",
       "      <th>4</th>\n",
       "      <td>101021011</td>\n",
       "      <td>11011</td>\n",
       "      <td>Queanbeyan Region</td>\n",
       "      <td>10102</td>\n",
       "      <td>Queanbeyan</td>\n",
       "      <td>101</td>\n",
       "      <td>Capital Region</td>\n",
       "      <td>1RNSW</td>\n",
       "      <td>Rest of NSW</td>\n",
       "      <td>1</td>\n",
       "      <td>New South Wales</td>\n",
       "      <td>3054.4099</td>\n",
       "    </tr>\n",
       "  </tbody>\n",
       "</table>\n",
       "</div>"
      ],
      "text/plain": [
       "   SA2_MAINCODE_2016  SA2_5DIGITCODE_2016      SA2_NAME_2016  SA3_CODE_2016  \\\n",
       "0          101021007                11007          Braidwood          10102   \n",
       "1          101021008                11008            Karabar          10102   \n",
       "2          101021009                11009         Queanbeyan          10102   \n",
       "3          101021010                11010  Queanbeyan - East          10102   \n",
       "4          101021011                11011  Queanbeyan Region          10102   \n",
       "\n",
       "  SA3_NAME_2016  SA4_CODE_2016   SA4_NAME_2016 GCCSA_CODE_2016  \\\n",
       "0    Queanbeyan            101  Capital Region           1RNSW   \n",
       "1    Queanbeyan            101  Capital Region           1RNSW   \n",
       "2    Queanbeyan            101  Capital Region           1RNSW   \n",
       "3    Queanbeyan            101  Capital Region           1RNSW   \n",
       "4    Queanbeyan            101  Capital Region           1RNSW   \n",
       "\n",
       "  GCCSA_NAME_2016  STATE_CODE_2016  STATE_NAME_2016  AREA_ALBERS_SQKM  \n",
       "0     Rest of NSW                1  New South Wales         3418.3525  \n",
       "1     Rest of NSW                1  New South Wales            6.9825  \n",
       "2     Rest of NSW                1  New South Wales            4.7634  \n",
       "3     Rest of NSW                1  New South Wales           13.0034  \n",
       "4     Rest of NSW                1  New South Wales         3054.4099  "
      ]
     },
     "execution_count": 2,
     "metadata": {},
     "output_type": "execute_result"
    }
   ],
   "source": [
    "g_perth_sa2 = pd.read_csv(\"SA2_2016_AUST.csv\")\n",
    "g_perth_sa2.head()"
   ]
  },
  {
   "cell_type": "code",
   "execution_count": 3,
   "metadata": {},
   "outputs": [],
   "source": [
    "g_perth_sa2 = g_perth_sa2.loc[g_perth_sa2[\"GCCSA_NAME_2016\"] == \"Greater Perth\"]\n",
    "g_perth_cols = [\"SA2_MAINCODE_2016\", \"SA2_NAME_2016\",\"GCCSA_NAME_2016\"]\n",
    "g_perth_sa2= g_perth_sa2[g_perth_cols].copy()\n",
    "g_perth_sa2.dtypes\n",
    "g_perth_sa2[\"SA2_MAINCODE_2016\"] = g_perth_sa2[\"SA2_MAINCODE_2016\"].apply(str)"
   ]
  },
  {
   "cell_type": "code",
   "execution_count": 4,
   "metadata": {},
   "outputs": [],
   "source": [
    "#make a list of SA2 Maincode for ABS API\n",
    "sa2_list = g_perth_sa2[\"SA2_MAINCODE_2016\"].tolist()\n",
    "household_dict = {\"SA2 Code\" : [], \"SA2 Name\":[], \"Household Size\":[], \"2006\":[], \"2011\":[], \"2016\":[]}"
   ]
  },
  {
   "cell_type": "code",
   "execution_count": 5,
   "metadata": {},
   "outputs": [],
   "source": [
    "# Rent 2006 2011 2016\n",
    "household_url = \"http://stat.data.abs.gov.au/sdmx-json/data/ABS_C16_T23_TS_SA/TOT.1.5.SA2.507041178/all?detail=Full&dimensionAtObservation=AllDimensions&startPeriod=2006&endPeriod=2016\"\n",
    "\n",
    "bins = ['TOT','1','2','3','4', '5', '6', '7', '8']\n",
    "    \n",
    "for sa2 in sa2_list:\n",
    "    for i in bins:\n",
    "             response = requests.get(f\"http://stat.data.abs.gov.au/sdmx-json/data/ABS_C16_T23_TS_SA/TOT.{i}.5.SA2.{sa2}/all?detail=Full&dimensionAtObservation=AllDimensions&startPeriod=2006&endPeriod=2016\")\n",
    "             household_size = response.json()\n",
    "#              print(household_size)\n",
    "             \n",
    "             household_dict[\"SA2 Code\"].append(household_size[\"structure\"][\"dimensions\"][\"observation\"][4][\"values\"][0][\"id\"])\n",
    "             household_dict[\"SA2 Name\"].append(household_size[\"structure\"][\"dimensions\"][\"observation\"][4][\"values\"][0][\"name\"])\n",
    "             household_dict[\"Household Size\"].append(household_size[\"structure\"][\"dimensions\"][\"observation\"][1][\"values\"][0][\"name\"])\n",
    "             household_dict[\"2006\"].append(household_size[\"dataSets\"][0][\"observations\"][\"0:0:0:0:0:0\"][0])\n",
    "             household_dict[\"2011\"].append(household_size[\"dataSets\"][0][\"observations\"][\"0:0:0:0:0:1\"][0])\n",
    "             household_dict[\"2016\"].append(household_size[\"dataSets\"][0][\"observations\"][\"0:0:0:0:0:2\"][0])"
   ]
  },
  {
   "cell_type": "code",
   "execution_count": 6,
   "metadata": {},
   "outputs": [
    {
     "name": "stdout",
     "output_type": "stream",
     "text": [
      "       SA2 Code              SA2 Name         Household Size    2006    2011  \\\n",
      "0     502011021  Dawesville - Bouvard                  Total  1389.0  1970.0   \n",
      "1     502011021  Dawesville - Bouvard             One person   211.0   355.0   \n",
      "2     502011021  Dawesville - Bouvard            Two persons   610.0   817.0   \n",
      "3     502011021  Dawesville - Bouvard          Three persons   184.0   267.0   \n",
      "4     502011021  Dawesville - Bouvard           Four persons   240.0   350.0   \n",
      "...         ...                   ...                    ...     ...     ...   \n",
      "1552  507051193               Warnbro           Four persons   652.0   705.0   \n",
      "1553  507051193               Warnbro           Five persons   320.0   289.0   \n",
      "1554  507051193               Warnbro            Six persons   131.0   122.0   \n",
      "1555  507051193               Warnbro          Seven persons    30.0    20.0   \n",
      "1556  507051193               Warnbro  Eight or more persons    15.0    18.0   \n",
      "\n",
      "        2016  \n",
      "0     2515.0  \n",
      "1      459.0  \n",
      "2     1061.0  \n",
      "3      371.0  \n",
      "4      405.0  \n",
      "...      ...  \n",
      "1552   601.0  \n",
      "1553   255.0  \n",
      "1554   100.0  \n",
      "1555    35.0  \n",
      "1556     9.0  \n",
      "\n",
      "[1557 rows x 6 columns]\n"
     ]
    }
   ],
   "source": [
    "household_df = pd.DataFrame(household_dict)\n",
    "print(household_df)"
   ]
  },
  {
   "cell_type": "code",
   "execution_count": 8,
   "metadata": {},
   "outputs": [],
   "source": [
    "household_df.to_csv('Total Household 2006-2016.csv')"
   ]
  },
  {
   "cell_type": "code",
   "execution_count": null,
   "metadata": {},
   "outputs": [],
   "source": []
  }
 ],
 "metadata": {
  "kernelspec": {
   "display_name": "Python 3",
   "language": "python",
   "name": "python3"
  },
  "language_info": {
   "codemirror_mode": {
    "name": "ipython",
    "version": 3
   },
   "file_extension": ".py",
   "mimetype": "text/x-python",
   "name": "python",
   "nbconvert_exporter": "python",
   "pygments_lexer": "ipython3",
   "version": "3.7.6"
  }
 },
 "nbformat": 4,
 "nbformat_minor": 4
}
