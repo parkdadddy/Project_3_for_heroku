{
 "cells": [
  {
   "cell_type": "code",
   "execution_count": 1,
   "metadata": {},
   "outputs": [
    {
     "data": {
      "text/html": [
       "<div>\n",
       "<style scoped>\n",
       "    .dataframe tbody tr th:only-of-type {\n",
       "        vertical-align: middle;\n",
       "    }\n",
       "\n",
       "    .dataframe tbody tr th {\n",
       "        vertical-align: top;\n",
       "    }\n",
       "\n",
       "    .dataframe thead th {\n",
       "        text-align: right;\n",
       "    }\n",
       "</style>\n",
       "<table border=\"1\" class=\"dataframe\">\n",
       "  <thead>\n",
       "    <tr style=\"text-align: right;\">\n",
       "      <th></th>\n",
       "      <th>Unnamed: 0</th>\n",
       "      <th>SA2 Code</th>\n",
       "      <th>SA2 Name</th>\n",
       "      <th>Rent2006</th>\n",
       "      <th>Rent2011</th>\n",
       "      <th>Rent2016</th>\n",
       "      <th>Rent%2006-2011</th>\n",
       "      <th>Rent%2011-2016</th>\n",
       "      <th>Rent%2006_2016</th>\n",
       "      <th>House_avg2006</th>\n",
       "      <th>...</th>\n",
       "      <th>Income%2006_2016</th>\n",
       "      <th>2006 Bachelor 25 and over</th>\n",
       "      <th>2011 Bachelor 25 and over</th>\n",
       "      <th>2016 Bachelor 25 and over</th>\n",
       "      <th>Bachelor%2006-2011</th>\n",
       "      <th>Bacherlor%2011-2016</th>\n",
       "      <th>Bacherlor%2006-2016</th>\n",
       "      <th>Sum2006-2011</th>\n",
       "      <th>Sum2011-2016</th>\n",
       "      <th>Sum2006-2016</th>\n",
       "    </tr>\n",
       "  </thead>\n",
       "  <tbody>\n",
       "    <tr>\n",
       "      <th>0</th>\n",
       "      <td>16</td>\n",
       "      <td>503021037</td>\n",
       "      <td>Kings Park (WA)</td>\n",
       "      <td>74</td>\n",
       "      <td>950</td>\n",
       "      <td>950</td>\n",
       "      <td>11.84</td>\n",
       "      <td>0.00</td>\n",
       "      <td>11.84</td>\n",
       "      <td>0.00</td>\n",
       "      <td>...</td>\n",
       "      <td>19.10</td>\n",
       "      <td>3</td>\n",
       "      <td>6</td>\n",
       "      <td>3</td>\n",
       "      <td>-0.73</td>\n",
       "      <td>0.03</td>\n",
       "      <td>-0.70</td>\n",
       "      <td>25.18</td>\n",
       "      <td>0.08</td>\n",
       "      <td>30.24</td>\n",
       "    </tr>\n",
       "    <tr>\n",
       "      <th>1</th>\n",
       "      <td>137</td>\n",
       "      <td>507011158</td>\n",
       "      <td>North Coogee</td>\n",
       "      <td>74</td>\n",
       "      <td>849</td>\n",
       "      <td>549</td>\n",
       "      <td>10.47</td>\n",
       "      <td>-0.35</td>\n",
       "      <td>6.42</td>\n",
       "      <td>0.00</td>\n",
       "      <td>...</td>\n",
       "      <td>11.56</td>\n",
       "      <td>0</td>\n",
       "      <td>140</td>\n",
       "      <td>563</td>\n",
       "      <td>0.44</td>\n",
       "      <td>-0.06</td>\n",
       "      <td>0.38</td>\n",
       "      <td>24.98</td>\n",
       "      <td>-0.74</td>\n",
       "      <td>18.36</td>\n",
       "    </tr>\n",
       "    <tr>\n",
       "      <th>2</th>\n",
       "      <td>67</td>\n",
       "      <td>505021088</td>\n",
       "      <td>Innaloo - Doubleview</td>\n",
       "      <td>74</td>\n",
       "      <td>549</td>\n",
       "      <td>549</td>\n",
       "      <td>6.42</td>\n",
       "      <td>0.00</td>\n",
       "      <td>6.42</td>\n",
       "      <td>2.18</td>\n",
       "      <td>...</td>\n",
       "      <td>7.36</td>\n",
       "      <td>2386</td>\n",
       "      <td>3255</td>\n",
       "      <td>4304</td>\n",
       "      <td>0.05</td>\n",
       "      <td>0.05</td>\n",
       "      <td>0.10</td>\n",
       "      <td>15.54</td>\n",
       "      <td>-0.12</td>\n",
       "      <td>13.92</td>\n",
       "    </tr>\n",
       "    <tr>\n",
       "      <th>3</th>\n",
       "      <td>145</td>\n",
       "      <td>507021165</td>\n",
       "      <td>Fremantle</td>\n",
       "      <td>74</td>\n",
       "      <td>549</td>\n",
       "      <td>549</td>\n",
       "      <td>6.42</td>\n",
       "      <td>0.00</td>\n",
       "      <td>6.42</td>\n",
       "      <td>2.02</td>\n",
       "      <td>...</td>\n",
       "      <td>7.36</td>\n",
       "      <td>2865</td>\n",
       "      <td>3648</td>\n",
       "      <td>4493</td>\n",
       "      <td>0.06</td>\n",
       "      <td>0.01</td>\n",
       "      <td>0.08</td>\n",
       "      <td>12.20</td>\n",
       "      <td>0.28</td>\n",
       "      <td>13.92</td>\n",
       "    </tr>\n",
       "    <tr>\n",
       "      <th>4</th>\n",
       "      <td>128</td>\n",
       "      <td>506071146</td>\n",
       "      <td>Manning - Waterford</td>\n",
       "      <td>74</td>\n",
       "      <td>549</td>\n",
       "      <td>549</td>\n",
       "      <td>6.42</td>\n",
       "      <td>0.00</td>\n",
       "      <td>6.42</td>\n",
       "      <td>2.63</td>\n",
       "      <td>...</td>\n",
       "      <td>7.36</td>\n",
       "      <td>2023</td>\n",
       "      <td>2438</td>\n",
       "      <td>2918</td>\n",
       "      <td>0.05</td>\n",
       "      <td>0.03</td>\n",
       "      <td>0.08</td>\n",
       "      <td>7.47</td>\n",
       "      <td>3.23</td>\n",
       "      <td>13.89</td>\n",
       "    </tr>\n",
       "  </tbody>\n",
       "</table>\n",
       "<p>5 rows × 30 columns</p>\n",
       "</div>"
      ],
      "text/plain": [
       "   Unnamed: 0   SA2 Code              SA2 Name  Rent2006  Rent2011  Rent2016  \\\n",
       "0          16  503021037       Kings Park (WA)        74       950       950   \n",
       "1         137  507011158          North Coogee        74       849       549   \n",
       "2          67  505021088  Innaloo - Doubleview        74       549       549   \n",
       "3         145  507021165             Fremantle        74       549       549   \n",
       "4         128  506071146   Manning - Waterford        74       549       549   \n",
       "\n",
       "   Rent%2006-2011  Rent%2011-2016  Rent%2006_2016  House_avg2006  ...  \\\n",
       "0           11.84            0.00           11.84           0.00  ...   \n",
       "1           10.47           -0.35            6.42           0.00  ...   \n",
       "2            6.42            0.00            6.42           2.18  ...   \n",
       "3            6.42            0.00            6.42           2.02  ...   \n",
       "4            6.42            0.00            6.42           2.63  ...   \n",
       "\n",
       "   Income%2006_2016  2006 Bachelor 25 and over  2011 Bachelor 25 and over  \\\n",
       "0             19.10                          3                          6   \n",
       "1             11.56                          0                        140   \n",
       "2              7.36                       2386                       3255   \n",
       "3              7.36                       2865                       3648   \n",
       "4              7.36                       2023                       2438   \n",
       "\n",
       "   2016 Bachelor 25 and over  Bachelor%2006-2011  Bacherlor%2011-2016  \\\n",
       "0                          3               -0.73                 0.03   \n",
       "1                        563                0.44                -0.06   \n",
       "2                       4304                0.05                 0.05   \n",
       "3                       4493                0.06                 0.01   \n",
       "4                       2918                0.05                 0.03   \n",
       "\n",
       "   Bacherlor%2006-2016  Sum2006-2011  Sum2011-2016  Sum2006-2016  \n",
       "0                -0.70         25.18          0.08         30.24  \n",
       "1                 0.38         24.98         -0.74         18.36  \n",
       "2                 0.10         15.54         -0.12         13.92  \n",
       "3                 0.08         12.20          0.28         13.92  \n",
       "4                 0.08          7.47          3.23         13.89  \n",
       "\n",
       "[5 rows x 30 columns]"
      ]
     },
     "execution_count": 1,
     "metadata": {},
     "output_type": "execute_result"
    }
   ],
   "source": [
    "import plotly.express as px\n",
    "import pandas as pd\n",
    "df = pd.read_csv('Final_merged.csv')\n",
    "df.head()"
   ]
  },
  {
   "cell_type": "code",
   "execution_count": 35,
   "metadata": {
    "scrolled": false
   },
   "outputs": [
    {
     "data": {
      "application/vnd.plotly.v1+json": {
       "config": {
        "plotlyServerURL": "https://plotly.com"
       },
       "data": [
        {
         "alignmentgroup": "True",
         "hovertemplate": "SA2 Name=%{x}<br>Rent%2006_2016=%{y}<extra></extra>",
         "legendgroup": "",
         "marker": {
          "color": "#636efa"
         },
         "name": "",
         "offsetgroup": "",
         "orientation": "v",
         "showlegend": false,
         "textposition": "auto",
         "type": "bar",
         "x": [
          "Kings Park (WA)",
          "North Coogee",
          "Innaloo - Doubleview",
          "Fremantle",
          "Manning - Waterford",
          "Swanbourne - Mount Claremont",
          "Fremantle - South",
          "Helena Valley - Koongamia",
          "Bentley - Wilson - St James",
          "Coolbellup",
          "Nedlands - Dalkeith - Crawley",
          "Mosman Park - Peppermint Grove",
          "Claremont (WA)",
          "Lesmurdie - Bickley - Carmel",
          "Neerabup National Park",
          "Rivervale - Kewdale - Cloverdale",
          "East Victoria Park - Carlisle",
          "Belmont - Ascot - Redcliffe",
          "Bayswater - Embleton - Bedford",
          "Yokine - Coolbinia - Menora",
          "Dianella",
          "Wanneroo",
          "Mundijong",
          "Glen Forrest - Darlington",
          "Noranda",
          "Mundaring",
          "Roleystone",
          "Huntingdale - Southern River",
          "Forrestfield - Wattle Grove",
          "High Wycombe",
          "Chidlow",
          "Riverton - Shelley - Rossmoyne",
          "Trigg - North Beach - Watermans Bay",
          "Bicton - Palmyra",
          "Booragoon",
          "Morley",
          "East Fremantle",
          "Casuarina - Wandi",
          "Mindarie - Quinns Rocks - Jindalee",
          "Spearwood",
          "Byford",
          "Wembley - West Leederville - Glendalough",
          "Nollamara - Westminster",
          "Maddington - Orange Grove - Martin",
          "Lockridge - Kiara",
          "Bassendean - Eden Hill - Ashfield",
          "Beechboro",
          "Hamilton Hill",
          "Mount Lawley - Inglewood",
          "Cannington - Queens Park",
          "Marangaroo",
          "Mount Nasura - Mount Richon - Bedfordale",
          "Waikiki",
          "Falcon - Wannanup",
          "Mandurah - East",
          "Swan View - Greenmount - Midvale",
          "Maylands",
          "Tuart Hill - Joondanna",
          "Alkimos - Eglinton",
          "Beckenham - Kenwick - Langford",
          "Coogee",
          "Stirling - Osborne Park",
          "Carramar",
          "Hazelmere - Guildford",
          "Gosnells",
          "Yangebup",
          "Craigie - Beldon",
          "Alexander Heights - Koondoola",
          "South Lake - Cockburn Central",
          "Parmelia - Orelia",
          "Safety Bay - Shoalwater",
          "Ballajura",
          "Camillo - Champion Lakes",
          "Kelmscott",
          "Bullsbrook",
          "Warnbro",
          "Stratton - Jane Brook",
          "Malmalling - Reservoir",
          "Serpentine - Jarrahdale",
          "Balcatta - Hamersley",
          "Thornlie",
          "Port Kennedy",
          "Kalamunda - Maida Vale - Gooseberry Hill",
          "Butler - Merriwa - Ridgewood",
          "Forrestdale - Harrisdale - Piara Waters",
          "Victoria Park - Lathlain - Burswood",
          "Gidgegannup",
          "Seville Grove",
          "Como",
          "Wembley Downs - Churchlands - Woodlands",
          "Willetton",
          "Scarborough",
          "Mount Hawthorn - Leederville",
          "South Perth - Kensington",
          "Melville",
          "Subiaco - Shenton Park",
          "Karrinyup - Gwelup - Carine",
          "Padbury",
          "Greenwood - Warwick",
          "Kingsley",
          "Hillarys",
          "Joondalup - Edgewater",
          "Leeming",
          "The Vines",
          "City Beach",
          "Murdoch - Kardinya",
          "Pinjarra",
          "Floreat",
          "Balga - Mirrabooka",
          "Midland - Guildford",
          "Parkwood - Ferndale - Lynwood",
          "Kwinana Industrial",
          "Perth City",
          "Middle Swan - Herne Hill",
          "North Perth",
          "Success - Hammond Park",
          "Banjup",
          "Madeley - Darch - Landsdale",
          "Girrawheen",
          "Mullaloo - Kallaroo",
          "Bateman",
          "Ellenbrook",
          "Armadale - Wungong - Brookdale",
          "Woodvale",
          "Currambine - Kinross",
          "Cooloongup",
          "Mandurah - North",
          "Clarkson",
          "Heathridge - Connolly",
          "Bertram - Wellard (West)",
          "Duncraig",
          "Sorrento - Marmion",
          "Singleton - Golden Bay - Secret Harbour",
          "Bull Creek",
          "Willagee",
          "Dawesville - Bouvard",
          "Applecross - Ardross",
          "Canning Vale - West",
          "Tapping - Ashby - Sinagra",
          "Ocean Reef",
          "Mandurah - South",
          "Yanchep",
          "Halls Head - Erskine",
          "Mandurah",
          "Greenfields",
          "Cottesloe",
          "Rockingham",
          "Calista",
          "Iluka - Burns Beach",
          "Beeliar - Wattleup",
          "Canning Vale - East",
          "Jandakot",
          "Two Rocks",
          "Winthrop",
          "Baldivis",
          "Carabooda - Pinjar",
          "Hope Valley - Postans",
          "Avon Valley National Park",
          "Malaga",
          "Melaleuca - Lexia",
          "Walyunga National Park",
          "Herdsman",
          "Osborne Park Industrial",
          "Ashendon - Lesley",
          "Kewdale Commercial",
          "Perth Airport",
          "Canning Vale Commercial",
          "Welshpool",
          "Bibra Lake",
          "Henderson",
          "O'Connor (WA)",
          "Rockingham Lakes",
          "Bibra Industrial"
         ],
         "xaxis": "x",
         "y": [
          11.84,
          6.42,
          6.42,
          6.42,
          6.42,
          11.84,
          6.42,
          6.42,
          6.42,
          4.05,
          2.16,
          1.61,
          1.45,
          1.45,
          6.42,
          2.16,
          2.16,
          2.16,
          2.16,
          2.16,
          2.16,
          2.16,
          2.16,
          2.16,
          2.16,
          2.16,
          2.16,
          1.76,
          1.76,
          1.76,
          1.76,
          1.45,
          1.45,
          1.45,
          1.45,
          1.45,
          1.45,
          4.73,
          1.45,
          1.44,
          1.44,
          1.17,
          1.15,
          1.15,
          1.15,
          1.15,
          1.15,
          1.15,
          2.16,
          0.88,
          1.13,
          1.15,
          1.15,
          1.15,
          1.15,
          1.15,
          0.86,
          0.86,
          4.05,
          0.86,
          1,
          0.86,
          1,
          0.89,
          0.86,
          0.89,
          0.88,
          0.88,
          0.89,
          0.86,
          0.86,
          0.89,
          0.86,
          0.86,
          0.86,
          0.88,
          0.88,
          0,
          0.86,
          0.67,
          0.67,
          0.67,
          1.45,
          0.37,
          2.16,
          2.16,
          2.16,
          0.88,
          1.76,
          1.76,
          1.45,
          1.45,
          1.45,
          1.45,
          1.45,
          1.45,
          1.45,
          1.45,
          1.45,
          1.45,
          1.45,
          1.45,
          1.45,
          1.45,
          0.73,
          1.45,
          2.02,
          1.9,
          1.15,
          1.15,
          1.15,
          0,
          1,
          1.15,
          1,
          1,
          1,
          1,
          0.86,
          1,
          1,
          1,
          0.86,
          1,
          1,
          0.86,
          0.89,
          0.89,
          0.89,
          0.67,
          1.45,
          1.45,
          0.55,
          1.2,
          0.68,
          1.15,
          1.45,
          1,
          0.84,
          1,
          0.86,
          1.15,
          0.88,
          0.86,
          0.86,
          0.69,
          0.84,
          1.17,
          0.77,
          1,
          0.69,
          1,
          0.86,
          1,
          0.55,
          0.57,
          0.57,
          0,
          0,
          0,
          0,
          0,
          0,
          0,
          0,
          0,
          0,
          0,
          0,
          0,
          0,
          0,
          0
         ],
         "yaxis": "y"
        }
       ],
       "layout": {
        "barmode": "relative",
        "legend": {
         "tracegroupgap": 0
        },
        "template": {
         "data": {
          "bar": [
           {
            "error_x": {
             "color": "#2a3f5f"
            },
            "error_y": {
             "color": "#2a3f5f"
            },
            "marker": {
             "line": {
              "color": "#E5ECF6",
              "width": 0.5
             }
            },
            "type": "bar"
           }
          ],
          "barpolar": [
           {
            "marker": {
             "line": {
              "color": "#E5ECF6",
              "width": 0.5
             }
            },
            "type": "barpolar"
           }
          ],
          "carpet": [
           {
            "aaxis": {
             "endlinecolor": "#2a3f5f",
             "gridcolor": "white",
             "linecolor": "white",
             "minorgridcolor": "white",
             "startlinecolor": "#2a3f5f"
            },
            "baxis": {
             "endlinecolor": "#2a3f5f",
             "gridcolor": "white",
             "linecolor": "white",
             "minorgridcolor": "white",
             "startlinecolor": "#2a3f5f"
            },
            "type": "carpet"
           }
          ],
          "choropleth": [
           {
            "colorbar": {
             "outlinewidth": 0,
             "ticks": ""
            },
            "type": "choropleth"
           }
          ],
          "contour": [
           {
            "colorbar": {
             "outlinewidth": 0,
             "ticks": ""
            },
            "colorscale": [
             [
              0,
              "#0d0887"
             ],
             [
              0.1111111111111111,
              "#46039f"
             ],
             [
              0.2222222222222222,
              "#7201a8"
             ],
             [
              0.3333333333333333,
              "#9c179e"
             ],
             [
              0.4444444444444444,
              "#bd3786"
             ],
             [
              0.5555555555555556,
              "#d8576b"
             ],
             [
              0.6666666666666666,
              "#ed7953"
             ],
             [
              0.7777777777777778,
              "#fb9f3a"
             ],
             [
              0.8888888888888888,
              "#fdca26"
             ],
             [
              1,
              "#f0f921"
             ]
            ],
            "type": "contour"
           }
          ],
          "contourcarpet": [
           {
            "colorbar": {
             "outlinewidth": 0,
             "ticks": ""
            },
            "type": "contourcarpet"
           }
          ],
          "heatmap": [
           {
            "colorbar": {
             "outlinewidth": 0,
             "ticks": ""
            },
            "colorscale": [
             [
              0,
              "#0d0887"
             ],
             [
              0.1111111111111111,
              "#46039f"
             ],
             [
              0.2222222222222222,
              "#7201a8"
             ],
             [
              0.3333333333333333,
              "#9c179e"
             ],
             [
              0.4444444444444444,
              "#bd3786"
             ],
             [
              0.5555555555555556,
              "#d8576b"
             ],
             [
              0.6666666666666666,
              "#ed7953"
             ],
             [
              0.7777777777777778,
              "#fb9f3a"
             ],
             [
              0.8888888888888888,
              "#fdca26"
             ],
             [
              1,
              "#f0f921"
             ]
            ],
            "type": "heatmap"
           }
          ],
          "heatmapgl": [
           {
            "colorbar": {
             "outlinewidth": 0,
             "ticks": ""
            },
            "colorscale": [
             [
              0,
              "#0d0887"
             ],
             [
              0.1111111111111111,
              "#46039f"
             ],
             [
              0.2222222222222222,
              "#7201a8"
             ],
             [
              0.3333333333333333,
              "#9c179e"
             ],
             [
              0.4444444444444444,
              "#bd3786"
             ],
             [
              0.5555555555555556,
              "#d8576b"
             ],
             [
              0.6666666666666666,
              "#ed7953"
             ],
             [
              0.7777777777777778,
              "#fb9f3a"
             ],
             [
              0.8888888888888888,
              "#fdca26"
             ],
             [
              1,
              "#f0f921"
             ]
            ],
            "type": "heatmapgl"
           }
          ],
          "histogram": [
           {
            "marker": {
             "colorbar": {
              "outlinewidth": 0,
              "ticks": ""
             }
            },
            "type": "histogram"
           }
          ],
          "histogram2d": [
           {
            "colorbar": {
             "outlinewidth": 0,
             "ticks": ""
            },
            "colorscale": [
             [
              0,
              "#0d0887"
             ],
             [
              0.1111111111111111,
              "#46039f"
             ],
             [
              0.2222222222222222,
              "#7201a8"
             ],
             [
              0.3333333333333333,
              "#9c179e"
             ],
             [
              0.4444444444444444,
              "#bd3786"
             ],
             [
              0.5555555555555556,
              "#d8576b"
             ],
             [
              0.6666666666666666,
              "#ed7953"
             ],
             [
              0.7777777777777778,
              "#fb9f3a"
             ],
             [
              0.8888888888888888,
              "#fdca26"
             ],
             [
              1,
              "#f0f921"
             ]
            ],
            "type": "histogram2d"
           }
          ],
          "histogram2dcontour": [
           {
            "colorbar": {
             "outlinewidth": 0,
             "ticks": ""
            },
            "colorscale": [
             [
              0,
              "#0d0887"
             ],
             [
              0.1111111111111111,
              "#46039f"
             ],
             [
              0.2222222222222222,
              "#7201a8"
             ],
             [
              0.3333333333333333,
              "#9c179e"
             ],
             [
              0.4444444444444444,
              "#bd3786"
             ],
             [
              0.5555555555555556,
              "#d8576b"
             ],
             [
              0.6666666666666666,
              "#ed7953"
             ],
             [
              0.7777777777777778,
              "#fb9f3a"
             ],
             [
              0.8888888888888888,
              "#fdca26"
             ],
             [
              1,
              "#f0f921"
             ]
            ],
            "type": "histogram2dcontour"
           }
          ],
          "mesh3d": [
           {
            "colorbar": {
             "outlinewidth": 0,
             "ticks": ""
            },
            "type": "mesh3d"
           }
          ],
          "parcoords": [
           {
            "line": {
             "colorbar": {
              "outlinewidth": 0,
              "ticks": ""
             }
            },
            "type": "parcoords"
           }
          ],
          "pie": [
           {
            "automargin": true,
            "type": "pie"
           }
          ],
          "scatter": [
           {
            "marker": {
             "colorbar": {
              "outlinewidth": 0,
              "ticks": ""
             }
            },
            "type": "scatter"
           }
          ],
          "scatter3d": [
           {
            "line": {
             "colorbar": {
              "outlinewidth": 0,
              "ticks": ""
             }
            },
            "marker": {
             "colorbar": {
              "outlinewidth": 0,
              "ticks": ""
             }
            },
            "type": "scatter3d"
           }
          ],
          "scattercarpet": [
           {
            "marker": {
             "colorbar": {
              "outlinewidth": 0,
              "ticks": ""
             }
            },
            "type": "scattercarpet"
           }
          ],
          "scattergeo": [
           {
            "marker": {
             "colorbar": {
              "outlinewidth": 0,
              "ticks": ""
             }
            },
            "type": "scattergeo"
           }
          ],
          "scattergl": [
           {
            "marker": {
             "colorbar": {
              "outlinewidth": 0,
              "ticks": ""
             }
            },
            "type": "scattergl"
           }
          ],
          "scattermapbox": [
           {
            "marker": {
             "colorbar": {
              "outlinewidth": 0,
              "ticks": ""
             }
            },
            "type": "scattermapbox"
           }
          ],
          "scatterpolar": [
           {
            "marker": {
             "colorbar": {
              "outlinewidth": 0,
              "ticks": ""
             }
            },
            "type": "scatterpolar"
           }
          ],
          "scatterpolargl": [
           {
            "marker": {
             "colorbar": {
              "outlinewidth": 0,
              "ticks": ""
             }
            },
            "type": "scatterpolargl"
           }
          ],
          "scatterternary": [
           {
            "marker": {
             "colorbar": {
              "outlinewidth": 0,
              "ticks": ""
             }
            },
            "type": "scatterternary"
           }
          ],
          "surface": [
           {
            "colorbar": {
             "outlinewidth": 0,
             "ticks": ""
            },
            "colorscale": [
             [
              0,
              "#0d0887"
             ],
             [
              0.1111111111111111,
              "#46039f"
             ],
             [
              0.2222222222222222,
              "#7201a8"
             ],
             [
              0.3333333333333333,
              "#9c179e"
             ],
             [
              0.4444444444444444,
              "#bd3786"
             ],
             [
              0.5555555555555556,
              "#d8576b"
             ],
             [
              0.6666666666666666,
              "#ed7953"
             ],
             [
              0.7777777777777778,
              "#fb9f3a"
             ],
             [
              0.8888888888888888,
              "#fdca26"
             ],
             [
              1,
              "#f0f921"
             ]
            ],
            "type": "surface"
           }
          ],
          "table": [
           {
            "cells": {
             "fill": {
              "color": "#EBF0F8"
             },
             "line": {
              "color": "white"
             }
            },
            "header": {
             "fill": {
              "color": "#C8D4E3"
             },
             "line": {
              "color": "white"
             }
            },
            "type": "table"
           }
          ]
         },
         "layout": {
          "annotationdefaults": {
           "arrowcolor": "#2a3f5f",
           "arrowhead": 0,
           "arrowwidth": 1
          },
          "coloraxis": {
           "colorbar": {
            "outlinewidth": 0,
            "ticks": ""
           }
          },
          "colorscale": {
           "diverging": [
            [
             0,
             "#8e0152"
            ],
            [
             0.1,
             "#c51b7d"
            ],
            [
             0.2,
             "#de77ae"
            ],
            [
             0.3,
             "#f1b6da"
            ],
            [
             0.4,
             "#fde0ef"
            ],
            [
             0.5,
             "#f7f7f7"
            ],
            [
             0.6,
             "#e6f5d0"
            ],
            [
             0.7,
             "#b8e186"
            ],
            [
             0.8,
             "#7fbc41"
            ],
            [
             0.9,
             "#4d9221"
            ],
            [
             1,
             "#276419"
            ]
           ],
           "sequential": [
            [
             0,
             "#0d0887"
            ],
            [
             0.1111111111111111,
             "#46039f"
            ],
            [
             0.2222222222222222,
             "#7201a8"
            ],
            [
             0.3333333333333333,
             "#9c179e"
            ],
            [
             0.4444444444444444,
             "#bd3786"
            ],
            [
             0.5555555555555556,
             "#d8576b"
            ],
            [
             0.6666666666666666,
             "#ed7953"
            ],
            [
             0.7777777777777778,
             "#fb9f3a"
            ],
            [
             0.8888888888888888,
             "#fdca26"
            ],
            [
             1,
             "#f0f921"
            ]
           ],
           "sequentialminus": [
            [
             0,
             "#0d0887"
            ],
            [
             0.1111111111111111,
             "#46039f"
            ],
            [
             0.2222222222222222,
             "#7201a8"
            ],
            [
             0.3333333333333333,
             "#9c179e"
            ],
            [
             0.4444444444444444,
             "#bd3786"
            ],
            [
             0.5555555555555556,
             "#d8576b"
            ],
            [
             0.6666666666666666,
             "#ed7953"
            ],
            [
             0.7777777777777778,
             "#fb9f3a"
            ],
            [
             0.8888888888888888,
             "#fdca26"
            ],
            [
             1,
             "#f0f921"
            ]
           ]
          },
          "colorway": [
           "#636efa",
           "#EF553B",
           "#00cc96",
           "#ab63fa",
           "#FFA15A",
           "#19d3f3",
           "#FF6692",
           "#B6E880",
           "#FF97FF",
           "#FECB52"
          ],
          "font": {
           "color": "#2a3f5f"
          },
          "geo": {
           "bgcolor": "white",
           "lakecolor": "white",
           "landcolor": "#E5ECF6",
           "showlakes": true,
           "showland": true,
           "subunitcolor": "white"
          },
          "hoverlabel": {
           "align": "left"
          },
          "hovermode": "closest",
          "mapbox": {
           "style": "light"
          },
          "paper_bgcolor": "white",
          "plot_bgcolor": "#E5ECF6",
          "polar": {
           "angularaxis": {
            "gridcolor": "white",
            "linecolor": "white",
            "ticks": ""
           },
           "bgcolor": "#E5ECF6",
           "radialaxis": {
            "gridcolor": "white",
            "linecolor": "white",
            "ticks": ""
           }
          },
          "scene": {
           "xaxis": {
            "backgroundcolor": "#E5ECF6",
            "gridcolor": "white",
            "gridwidth": 2,
            "linecolor": "white",
            "showbackground": true,
            "ticks": "",
            "zerolinecolor": "white"
           },
           "yaxis": {
            "backgroundcolor": "#E5ECF6",
            "gridcolor": "white",
            "gridwidth": 2,
            "linecolor": "white",
            "showbackground": true,
            "ticks": "",
            "zerolinecolor": "white"
           },
           "zaxis": {
            "backgroundcolor": "#E5ECF6",
            "gridcolor": "white",
            "gridwidth": 2,
            "linecolor": "white",
            "showbackground": true,
            "ticks": "",
            "zerolinecolor": "white"
           }
          },
          "shapedefaults": {
           "line": {
            "color": "#2a3f5f"
           }
          },
          "ternary": {
           "aaxis": {
            "gridcolor": "white",
            "linecolor": "white",
            "ticks": ""
           },
           "baxis": {
            "gridcolor": "white",
            "linecolor": "white",
            "ticks": ""
           },
           "bgcolor": "#E5ECF6",
           "caxis": {
            "gridcolor": "white",
            "linecolor": "white",
            "ticks": ""
           }
          },
          "title": {
           "x": 0.05
          },
          "xaxis": {
           "automargin": true,
           "gridcolor": "white",
           "linecolor": "white",
           "ticks": "",
           "title": {
            "standoff": 15
           },
           "zerolinecolor": "white",
           "zerolinewidth": 2
          },
          "yaxis": {
           "automargin": true,
           "gridcolor": "white",
           "linecolor": "white",
           "ticks": "",
           "title": {
            "standoff": 15
           },
           "zerolinecolor": "white",
           "zerolinewidth": 2
          }
         }
        },
        "title": {
         "text": "% Change in Rent 2006-2016"
        },
        "xaxis": {
         "anchor": "y",
         "domain": [
          0,
          1
         ],
         "title": {
          "text": "SA2 Name"
         }
        },
        "yaxis": {
         "anchor": "x",
         "domain": [
          0,
          1
         ],
         "title": {
          "text": "Rent%2006_2016"
         }
        }
       }
      },
      "text/html": [
       "<div>                            <div id=\"b61e7a7f-c529-4f13-8201-7d5a30dfe9ea\" class=\"plotly-graph-div\" style=\"height:525px; width:100%;\"></div>            <script type=\"text/javascript\">                require([\"plotly\"], function(Plotly) {                    window.PLOTLYENV=window.PLOTLYENV || {};                                    if (document.getElementById(\"b61e7a7f-c529-4f13-8201-7d5a30dfe9ea\")) {                    Plotly.newPlot(                        \"b61e7a7f-c529-4f13-8201-7d5a30dfe9ea\",                        [{\"alignmentgroup\": \"True\", \"hovertemplate\": \"SA2 Name=%{x}<br>Rent%2006_2016=%{y}<extra></extra>\", \"legendgroup\": \"\", \"marker\": {\"color\": \"#636efa\"}, \"name\": \"\", \"offsetgroup\": \"\", \"orientation\": \"v\", \"showlegend\": false, \"textposition\": \"auto\", \"type\": \"bar\", \"x\": [\"Kings Park (WA)\", \"North Coogee\", \"Innaloo - Doubleview\", \"Fremantle\", \"Manning - Waterford\", \"Swanbourne - Mount Claremont\", \"Fremantle - South\", \"Helena Valley - Koongamia\", \"Bentley - Wilson - St James\", \"Coolbellup\", \"Nedlands - Dalkeith - Crawley\", \"Mosman Park - Peppermint Grove\", \"Claremont (WA)\", \"Lesmurdie - Bickley - Carmel\", \"Neerabup National Park\", \"Rivervale - Kewdale - Cloverdale\", \"East Victoria Park - Carlisle\", \"Belmont - Ascot - Redcliffe\", \"Bayswater - Embleton - Bedford\", \"Yokine - Coolbinia - Menora\", \"Dianella\", \"Wanneroo\", \"Mundijong\", \"Glen Forrest - Darlington\", \"Noranda\", \"Mundaring\", \"Roleystone\", \"Huntingdale - Southern River\", \"Forrestfield - Wattle Grove\", \"High Wycombe\", \"Chidlow\", \"Riverton - Shelley - Rossmoyne\", \"Trigg - North Beach - Watermans Bay\", \"Bicton - Palmyra\", \"Booragoon\", \"Morley\", \"East Fremantle\", \"Casuarina - Wandi\", \"Mindarie - Quinns Rocks - Jindalee\", \"Spearwood\", \"Byford\", \"Wembley - West Leederville - Glendalough\", \"Nollamara - Westminster\", \"Maddington - Orange Grove - Martin\", \"Lockridge - Kiara\", \"Bassendean - Eden Hill - Ashfield\", \"Beechboro\", \"Hamilton Hill\", \"Mount Lawley - Inglewood\", \"Cannington - Queens Park\", \"Marangaroo\", \"Mount Nasura - Mount Richon - Bedfordale\", \"Waikiki\", \"Falcon - Wannanup\", \"Mandurah - East\", \"Swan View - Greenmount - Midvale\", \"Maylands\", \"Tuart Hill - Joondanna\", \"Alkimos - Eglinton\", \"Beckenham - Kenwick - Langford\", \"Coogee\", \"Stirling - Osborne Park\", \"Carramar\", \"Hazelmere - Guildford\", \"Gosnells\", \"Yangebup\", \"Craigie - Beldon\", \"Alexander Heights - Koondoola\", \"South Lake - Cockburn Central\", \"Parmelia - Orelia\", \"Safety Bay - Shoalwater\", \"Ballajura\", \"Camillo - Champion Lakes\", \"Kelmscott\", \"Bullsbrook\", \"Warnbro\", \"Stratton - Jane Brook\", \"Malmalling - Reservoir\", \"Serpentine - Jarrahdale\", \"Balcatta - Hamersley\", \"Thornlie\", \"Port Kennedy\", \"Kalamunda - Maida Vale - Gooseberry Hill\", \"Butler - Merriwa - Ridgewood\", \"Forrestdale - Harrisdale - Piara Waters\", \"Victoria Park - Lathlain - Burswood\", \"Gidgegannup\", \"Seville Grove\", \"Como\", \"Wembley Downs - Churchlands - Woodlands\", \"Willetton\", \"Scarborough\", \"Mount Hawthorn - Leederville\", \"South Perth - Kensington\", \"Melville\", \"Subiaco - Shenton Park\", \"Karrinyup - Gwelup - Carine\", \"Padbury\", \"Greenwood - Warwick\", \"Kingsley\", \"Hillarys\", \"Joondalup - Edgewater\", \"Leeming\", \"The Vines\", \"City Beach\", \"Murdoch - Kardinya\", \"Pinjarra\", \"Floreat\", \"Balga - Mirrabooka\", \"Midland - Guildford\", \"Parkwood - Ferndale - Lynwood\", \"Kwinana Industrial\", \"Perth City\", \"Middle Swan - Herne Hill\", \"North Perth\", \"Success - Hammond Park\", \"Banjup\", \"Madeley - Darch - Landsdale\", \"Girrawheen\", \"Mullaloo - Kallaroo\", \"Bateman\", \"Ellenbrook\", \"Armadale - Wungong - Brookdale\", \"Woodvale\", \"Currambine - Kinross\", \"Cooloongup\", \"Mandurah - North\", \"Clarkson\", \"Heathridge - Connolly\", \"Bertram - Wellard (West)\", \"Duncraig\", \"Sorrento - Marmion\", \"Singleton - Golden Bay - Secret Harbour\", \"Bull Creek\", \"Willagee\", \"Dawesville - Bouvard\", \"Applecross - Ardross\", \"Canning Vale - West\", \"Tapping - Ashby - Sinagra\", \"Ocean Reef\", \"Mandurah - South\", \"Yanchep\", \"Halls Head - Erskine\", \"Mandurah\", \"Greenfields\", \"Cottesloe\", \"Rockingham\", \"Calista\", \"Iluka - Burns Beach\", \"Beeliar - Wattleup\", \"Canning Vale - East\", \"Jandakot\", \"Two Rocks\", \"Winthrop\", \"Baldivis\", \"Carabooda - Pinjar\", \"Hope Valley - Postans\", \"Avon Valley National Park\", \"Malaga\", \"Melaleuca - Lexia\", \"Walyunga National Park\", \"Herdsman\", \"Osborne Park Industrial\", \"Ashendon - Lesley\", \"Kewdale Commercial\", \"Perth Airport\", \"Canning Vale Commercial\", \"Welshpool\", \"Bibra Lake\", \"Henderson\", \"O'Connor (WA)\", \"Rockingham Lakes\", \"Bibra Industrial\"], \"xaxis\": \"x\", \"y\": [11.84, 6.42, 6.42, 6.42, 6.42, 11.84, 6.42, 6.42, 6.42, 4.05, 2.16, 1.61, 1.45, 1.45, 6.42, 2.16, 2.16, 2.16, 2.16, 2.16, 2.16, 2.16, 2.16, 2.16, 2.16, 2.16, 2.16, 1.76, 1.76, 1.76, 1.76, 1.45, 1.45, 1.45, 1.45, 1.45, 1.45, 4.73, 1.45, 1.44, 1.44, 1.17, 1.15, 1.15, 1.15, 1.15, 1.15, 1.15, 2.16, 0.88, 1.13, 1.15, 1.15, 1.15, 1.15, 1.15, 0.86, 0.86, 4.05, 0.86, 1.0, 0.86, 1.0, 0.89, 0.86, 0.89, 0.88, 0.88, 0.89, 0.86, 0.86, 0.89, 0.86, 0.86, 0.86, 0.88, 0.88, 0.0, 0.86, 0.67, 0.67, 0.67, 1.45, 0.37, 2.16, 2.16, 2.16, 0.88, 1.76, 1.76, 1.45, 1.45, 1.45, 1.45, 1.45, 1.45, 1.45, 1.45, 1.45, 1.45, 1.45, 1.45, 1.45, 1.45, 0.73, 1.45, 2.02, 1.9, 1.15, 1.15, 1.15, 0.0, 1.0, 1.15, 1.0, 1.0, 1.0, 1.0, 0.86, 1.0, 1.0, 1.0, 0.86, 1.0, 1.0, 0.86, 0.89, 0.89, 0.89, 0.67, 1.45, 1.45, 0.55, 1.2, 0.68, 1.15, 1.45, 1.0, 0.84, 1.0, 0.86, 1.15, 0.88, 0.86, 0.86, 0.69, 0.84, 1.17, 0.77, 1.0, 0.69, 1.0, 0.86, 1.0, 0.55, 0.57, 0.57, 0.0, 0.0, 0.0, 0.0, 0.0, 0.0, 0.0, 0.0, 0.0, 0.0, 0.0, 0.0, 0.0, 0.0, 0.0, 0.0], \"yaxis\": \"y\"}],                        {\"barmode\": \"relative\", \"legend\": {\"tracegroupgap\": 0}, \"template\": {\"data\": {\"bar\": [{\"error_x\": {\"color\": \"#2a3f5f\"}, \"error_y\": {\"color\": \"#2a3f5f\"}, \"marker\": {\"line\": {\"color\": \"#E5ECF6\", \"width\": 0.5}}, \"type\": \"bar\"}], \"barpolar\": [{\"marker\": {\"line\": {\"color\": \"#E5ECF6\", \"width\": 0.5}}, \"type\": \"barpolar\"}], \"carpet\": [{\"aaxis\": {\"endlinecolor\": \"#2a3f5f\", \"gridcolor\": \"white\", \"linecolor\": \"white\", \"minorgridcolor\": \"white\", \"startlinecolor\": \"#2a3f5f\"}, \"baxis\": {\"endlinecolor\": \"#2a3f5f\", \"gridcolor\": \"white\", \"linecolor\": \"white\", \"minorgridcolor\": \"white\", \"startlinecolor\": \"#2a3f5f\"}, \"type\": \"carpet\"}], \"choropleth\": [{\"colorbar\": {\"outlinewidth\": 0, \"ticks\": \"\"}, \"type\": \"choropleth\"}], \"contour\": [{\"colorbar\": {\"outlinewidth\": 0, \"ticks\": \"\"}, \"colorscale\": [[0.0, \"#0d0887\"], [0.1111111111111111, \"#46039f\"], [0.2222222222222222, \"#7201a8\"], [0.3333333333333333, \"#9c179e\"], [0.4444444444444444, \"#bd3786\"], [0.5555555555555556, \"#d8576b\"], [0.6666666666666666, \"#ed7953\"], [0.7777777777777778, \"#fb9f3a\"], [0.8888888888888888, \"#fdca26\"], [1.0, \"#f0f921\"]], \"type\": \"contour\"}], \"contourcarpet\": [{\"colorbar\": {\"outlinewidth\": 0, \"ticks\": \"\"}, \"type\": \"contourcarpet\"}], \"heatmap\": [{\"colorbar\": {\"outlinewidth\": 0, \"ticks\": \"\"}, \"colorscale\": [[0.0, \"#0d0887\"], [0.1111111111111111, \"#46039f\"], [0.2222222222222222, \"#7201a8\"], [0.3333333333333333, \"#9c179e\"], [0.4444444444444444, \"#bd3786\"], [0.5555555555555556, \"#d8576b\"], [0.6666666666666666, \"#ed7953\"], [0.7777777777777778, \"#fb9f3a\"], [0.8888888888888888, \"#fdca26\"], [1.0, \"#f0f921\"]], \"type\": \"heatmap\"}], \"heatmapgl\": [{\"colorbar\": {\"outlinewidth\": 0, \"ticks\": \"\"}, \"colorscale\": [[0.0, \"#0d0887\"], [0.1111111111111111, \"#46039f\"], [0.2222222222222222, \"#7201a8\"], [0.3333333333333333, \"#9c179e\"], [0.4444444444444444, \"#bd3786\"], [0.5555555555555556, \"#d8576b\"], [0.6666666666666666, \"#ed7953\"], [0.7777777777777778, \"#fb9f3a\"], [0.8888888888888888, \"#fdca26\"], [1.0, \"#f0f921\"]], \"type\": \"heatmapgl\"}], \"histogram\": [{\"marker\": {\"colorbar\": {\"outlinewidth\": 0, \"ticks\": \"\"}}, \"type\": \"histogram\"}], \"histogram2d\": [{\"colorbar\": {\"outlinewidth\": 0, \"ticks\": \"\"}, \"colorscale\": [[0.0, \"#0d0887\"], [0.1111111111111111, \"#46039f\"], [0.2222222222222222, \"#7201a8\"], [0.3333333333333333, \"#9c179e\"], [0.4444444444444444, \"#bd3786\"], [0.5555555555555556, \"#d8576b\"], [0.6666666666666666, \"#ed7953\"], [0.7777777777777778, \"#fb9f3a\"], [0.8888888888888888, \"#fdca26\"], [1.0, \"#f0f921\"]], \"type\": \"histogram2d\"}], \"histogram2dcontour\": [{\"colorbar\": {\"outlinewidth\": 0, \"ticks\": \"\"}, \"colorscale\": [[0.0, \"#0d0887\"], [0.1111111111111111, \"#46039f\"], [0.2222222222222222, \"#7201a8\"], [0.3333333333333333, \"#9c179e\"], [0.4444444444444444, \"#bd3786\"], [0.5555555555555556, \"#d8576b\"], [0.6666666666666666, \"#ed7953\"], [0.7777777777777778, \"#fb9f3a\"], [0.8888888888888888, \"#fdca26\"], [1.0, \"#f0f921\"]], \"type\": \"histogram2dcontour\"}], \"mesh3d\": [{\"colorbar\": {\"outlinewidth\": 0, \"ticks\": \"\"}, \"type\": \"mesh3d\"}], \"parcoords\": [{\"line\": {\"colorbar\": {\"outlinewidth\": 0, \"ticks\": \"\"}}, \"type\": \"parcoords\"}], \"pie\": [{\"automargin\": true, \"type\": \"pie\"}], \"scatter\": [{\"marker\": {\"colorbar\": {\"outlinewidth\": 0, \"ticks\": \"\"}}, \"type\": \"scatter\"}], \"scatter3d\": [{\"line\": {\"colorbar\": {\"outlinewidth\": 0, \"ticks\": \"\"}}, \"marker\": {\"colorbar\": {\"outlinewidth\": 0, \"ticks\": \"\"}}, \"type\": \"scatter3d\"}], \"scattercarpet\": [{\"marker\": {\"colorbar\": {\"outlinewidth\": 0, \"ticks\": \"\"}}, \"type\": \"scattercarpet\"}], \"scattergeo\": [{\"marker\": {\"colorbar\": {\"outlinewidth\": 0, \"ticks\": \"\"}}, \"type\": \"scattergeo\"}], \"scattergl\": [{\"marker\": {\"colorbar\": {\"outlinewidth\": 0, \"ticks\": \"\"}}, \"type\": \"scattergl\"}], \"scattermapbox\": [{\"marker\": {\"colorbar\": {\"outlinewidth\": 0, \"ticks\": \"\"}}, \"type\": \"scattermapbox\"}], \"scatterpolar\": [{\"marker\": {\"colorbar\": {\"outlinewidth\": 0, \"ticks\": \"\"}}, \"type\": \"scatterpolar\"}], \"scatterpolargl\": [{\"marker\": {\"colorbar\": {\"outlinewidth\": 0, \"ticks\": \"\"}}, \"type\": \"scatterpolargl\"}], \"scatterternary\": [{\"marker\": {\"colorbar\": {\"outlinewidth\": 0, \"ticks\": \"\"}}, \"type\": \"scatterternary\"}], \"surface\": [{\"colorbar\": {\"outlinewidth\": 0, \"ticks\": \"\"}, \"colorscale\": [[0.0, \"#0d0887\"], [0.1111111111111111, \"#46039f\"], [0.2222222222222222, \"#7201a8\"], [0.3333333333333333, \"#9c179e\"], [0.4444444444444444, \"#bd3786\"], [0.5555555555555556, \"#d8576b\"], [0.6666666666666666, \"#ed7953\"], [0.7777777777777778, \"#fb9f3a\"], [0.8888888888888888, \"#fdca26\"], [1.0, \"#f0f921\"]], \"type\": \"surface\"}], \"table\": [{\"cells\": {\"fill\": {\"color\": \"#EBF0F8\"}, \"line\": {\"color\": \"white\"}}, \"header\": {\"fill\": {\"color\": \"#C8D4E3\"}, \"line\": {\"color\": \"white\"}}, \"type\": \"table\"}]}, \"layout\": {\"annotationdefaults\": {\"arrowcolor\": \"#2a3f5f\", \"arrowhead\": 0, \"arrowwidth\": 1}, \"coloraxis\": {\"colorbar\": {\"outlinewidth\": 0, \"ticks\": \"\"}}, \"colorscale\": {\"diverging\": [[0, \"#8e0152\"], [0.1, \"#c51b7d\"], [0.2, \"#de77ae\"], [0.3, \"#f1b6da\"], [0.4, \"#fde0ef\"], [0.5, \"#f7f7f7\"], [0.6, \"#e6f5d0\"], [0.7, \"#b8e186\"], [0.8, \"#7fbc41\"], [0.9, \"#4d9221\"], [1, \"#276419\"]], \"sequential\": [[0.0, \"#0d0887\"], [0.1111111111111111, \"#46039f\"], [0.2222222222222222, \"#7201a8\"], [0.3333333333333333, \"#9c179e\"], [0.4444444444444444, \"#bd3786\"], [0.5555555555555556, \"#d8576b\"], [0.6666666666666666, \"#ed7953\"], [0.7777777777777778, \"#fb9f3a\"], [0.8888888888888888, \"#fdca26\"], [1.0, \"#f0f921\"]], \"sequentialminus\": [[0.0, \"#0d0887\"], [0.1111111111111111, \"#46039f\"], [0.2222222222222222, \"#7201a8\"], [0.3333333333333333, \"#9c179e\"], [0.4444444444444444, \"#bd3786\"], [0.5555555555555556, \"#d8576b\"], [0.6666666666666666, \"#ed7953\"], [0.7777777777777778, \"#fb9f3a\"], [0.8888888888888888, \"#fdca26\"], [1.0, \"#f0f921\"]]}, \"colorway\": [\"#636efa\", \"#EF553B\", \"#00cc96\", \"#ab63fa\", \"#FFA15A\", \"#19d3f3\", \"#FF6692\", \"#B6E880\", \"#FF97FF\", \"#FECB52\"], \"font\": {\"color\": \"#2a3f5f\"}, \"geo\": {\"bgcolor\": \"white\", \"lakecolor\": \"white\", \"landcolor\": \"#E5ECF6\", \"showlakes\": true, \"showland\": true, \"subunitcolor\": \"white\"}, \"hoverlabel\": {\"align\": \"left\"}, \"hovermode\": \"closest\", \"mapbox\": {\"style\": \"light\"}, \"paper_bgcolor\": \"white\", \"plot_bgcolor\": \"#E5ECF6\", \"polar\": {\"angularaxis\": {\"gridcolor\": \"white\", \"linecolor\": \"white\", \"ticks\": \"\"}, \"bgcolor\": \"#E5ECF6\", \"radialaxis\": {\"gridcolor\": \"white\", \"linecolor\": \"white\", \"ticks\": \"\"}}, \"scene\": {\"xaxis\": {\"backgroundcolor\": \"#E5ECF6\", \"gridcolor\": \"white\", \"gridwidth\": 2, \"linecolor\": \"white\", \"showbackground\": true, \"ticks\": \"\", \"zerolinecolor\": \"white\"}, \"yaxis\": {\"backgroundcolor\": \"#E5ECF6\", \"gridcolor\": \"white\", \"gridwidth\": 2, \"linecolor\": \"white\", \"showbackground\": true, \"ticks\": \"\", \"zerolinecolor\": \"white\"}, \"zaxis\": {\"backgroundcolor\": \"#E5ECF6\", \"gridcolor\": \"white\", \"gridwidth\": 2, \"linecolor\": \"white\", \"showbackground\": true, \"ticks\": \"\", \"zerolinecolor\": \"white\"}}, \"shapedefaults\": {\"line\": {\"color\": \"#2a3f5f\"}}, \"ternary\": {\"aaxis\": {\"gridcolor\": \"white\", \"linecolor\": \"white\", \"ticks\": \"\"}, \"baxis\": {\"gridcolor\": \"white\", \"linecolor\": \"white\", \"ticks\": \"\"}, \"bgcolor\": \"#E5ECF6\", \"caxis\": {\"gridcolor\": \"white\", \"linecolor\": \"white\", \"ticks\": \"\"}}, \"title\": {\"x\": 0.05}, \"xaxis\": {\"automargin\": true, \"gridcolor\": \"white\", \"linecolor\": \"white\", \"ticks\": \"\", \"title\": {\"standoff\": 15}, \"zerolinecolor\": \"white\", \"zerolinewidth\": 2}, \"yaxis\": {\"automargin\": true, \"gridcolor\": \"white\", \"linecolor\": \"white\", \"ticks\": \"\", \"title\": {\"standoff\": 15}, \"zerolinecolor\": \"white\", \"zerolinewidth\": 2}}}, \"title\": {\"text\": \"% Change in Rent 2006-2016\"}, \"xaxis\": {\"anchor\": \"y\", \"domain\": [0.0, 1.0], \"title\": {\"text\": \"SA2 Name\"}}, \"yaxis\": {\"anchor\": \"x\", \"domain\": [0.0, 1.0], \"title\": {\"text\": \"Rent%2006_2016\"}}},                        {\"responsive\": true}                    ).then(function(){\n",
       "                            \n",
       "var gd = document.getElementById('b61e7a7f-c529-4f13-8201-7d5a30dfe9ea');\n",
       "var x = new MutationObserver(function (mutations, observer) {{\n",
       "        var display = window.getComputedStyle(gd).display;\n",
       "        if (!display || display === 'none') {{\n",
       "            console.log([gd, 'removed!']);\n",
       "            Plotly.purge(gd);\n",
       "            observer.disconnect();\n",
       "        }}\n",
       "}});\n",
       "\n",
       "// Listen for the removal of the full notebook cells\n",
       "var notebookContainer = gd.closest('#notebook-container');\n",
       "if (notebookContainer) {{\n",
       "    x.observe(notebookContainer, {childList: true});\n",
       "}}\n",
       "\n",
       "// Listen for the clearing of the current output cell\n",
       "var outputEl = gd.closest('.output');\n",
       "if (outputEl) {{\n",
       "    x.observe(outputEl, {childList: true});\n",
       "}}\n",
       "\n",
       "                        })                };                });            </script>        </div>"
      ]
     },
     "metadata": {},
     "output_type": "display_data"
    }
   ],
   "source": [
    "#rent\n",
    "import plotly.graph_objects as go\n",
    "import plotly.express as px\n",
    "fig_rent = px.bar(df, x='SA2 Name', y='Rent%2006_2016', title=\"% Change in Rent 2006-2016\")\n",
    "fig_rent.show()"
   ]
  },
  {
   "cell_type": "code",
   "execution_count": 29,
   "metadata": {},
   "outputs": [
    {
     "data": {
      "application/vnd.plotly.v1+json": {
       "config": {
        "plotlyServerURL": "https://plotly.com"
       },
       "data": [
        {
         "alignmentgroup": "True",
         "hovertemplate": "variable=Rent2006<br>SA2 Name=%{x}<br>value=%{y}<extra></extra>",
         "legendgroup": "Rent2006",
         "marker": {
          "color": "#636efa"
         },
         "name": "Rent2006",
         "offsetgroup": "Rent2006",
         "orientation": "v",
         "showlegend": true,
         "textposition": "auto",
         "type": "bar",
         "x": [
          "Kings Park (WA)",
          "North Coogee",
          "Innaloo - Doubleview",
          "Fremantle",
          "Manning - Waterford",
          "Swanbourne - Mount Claremont",
          "Fremantle - South",
          "Helena Valley - Koongamia",
          "Bentley - Wilson - St James",
          "Coolbellup",
          "Nedlands - Dalkeith - Crawley",
          "Mosman Park - Peppermint Grove",
          "Claremont (WA)",
          "Lesmurdie - Bickley - Carmel",
          "Neerabup National Park",
          "Rivervale - Kewdale - Cloverdale",
          "East Victoria Park - Carlisle",
          "Belmont - Ascot - Redcliffe",
          "Bayswater - Embleton - Bedford",
          "Yokine - Coolbinia - Menora",
          "Dianella",
          "Wanneroo",
          "Mundijong",
          "Glen Forrest - Darlington",
          "Noranda",
          "Mundaring",
          "Roleystone",
          "Huntingdale - Southern River",
          "Forrestfield - Wattle Grove",
          "High Wycombe",
          "Chidlow",
          "Riverton - Shelley - Rossmoyne",
          "Trigg - North Beach - Watermans Bay",
          "Bicton - Palmyra",
          "Booragoon",
          "Morley",
          "East Fremantle",
          "Casuarina - Wandi",
          "Mindarie - Quinns Rocks - Jindalee",
          "Spearwood",
          "Byford",
          "Wembley - West Leederville - Glendalough",
          "Nollamara - Westminster",
          "Maddington - Orange Grove - Martin",
          "Lockridge - Kiara",
          "Bassendean - Eden Hill - Ashfield",
          "Beechboro",
          "Hamilton Hill",
          "Mount Lawley - Inglewood",
          "Cannington - Queens Park",
          "Marangaroo",
          "Mount Nasura - Mount Richon - Bedfordale",
          "Waikiki",
          "Falcon - Wannanup",
          "Mandurah - East",
          "Swan View - Greenmount - Midvale",
          "Maylands",
          "Tuart Hill - Joondanna",
          "Alkimos - Eglinton",
          "Beckenham - Kenwick - Langford",
          "Coogee",
          "Stirling - Osborne Park",
          "Carramar",
          "Hazelmere - Guildford",
          "Gosnells",
          "Yangebup",
          "Craigie - Beldon",
          "Alexander Heights - Koondoola",
          "South Lake - Cockburn Central",
          "Parmelia - Orelia",
          "Safety Bay - Shoalwater",
          "Ballajura",
          "Camillo - Champion Lakes",
          "Kelmscott",
          "Bullsbrook",
          "Warnbro",
          "Stratton - Jane Brook",
          "Malmalling - Reservoir",
          "Serpentine - Jarrahdale",
          "Balcatta - Hamersley",
          "Thornlie",
          "Port Kennedy",
          "Kalamunda - Maida Vale - Gooseberry Hill",
          "Butler - Merriwa - Ridgewood",
          "Forrestdale - Harrisdale - Piara Waters",
          "Victoria Park - Lathlain - Burswood",
          "Gidgegannup",
          "Seville Grove",
          "Como",
          "Wembley Downs - Churchlands - Woodlands",
          "Willetton",
          "Scarborough",
          "Mount Hawthorn - Leederville",
          "South Perth - Kensington",
          "Melville",
          "Subiaco - Shenton Park",
          "Karrinyup - Gwelup - Carine",
          "Padbury",
          "Greenwood - Warwick",
          "Kingsley",
          "Hillarys",
          "Joondalup - Edgewater",
          "Leeming",
          "The Vines",
          "City Beach",
          "Murdoch - Kardinya",
          "Pinjarra",
          "Floreat",
          "Balga - Mirrabooka",
          "Midland - Guildford",
          "Parkwood - Ferndale - Lynwood",
          "Kwinana Industrial",
          "Perth City",
          "Middle Swan - Herne Hill",
          "North Perth",
          "Success - Hammond Park",
          "Banjup",
          "Madeley - Darch - Landsdale",
          "Girrawheen",
          "Mullaloo - Kallaroo",
          "Bateman",
          "Ellenbrook",
          "Armadale - Wungong - Brookdale",
          "Woodvale",
          "Currambine - Kinross",
          "Cooloongup",
          "Mandurah - North",
          "Clarkson",
          "Heathridge - Connolly",
          "Bertram - Wellard (West)",
          "Duncraig",
          "Sorrento - Marmion",
          "Singleton - Golden Bay - Secret Harbour",
          "Bull Creek",
          "Willagee",
          "Dawesville - Bouvard",
          "Applecross - Ardross",
          "Canning Vale - West",
          "Tapping - Ashby - Sinagra",
          "Ocean Reef",
          "Mandurah - South",
          "Yanchep",
          "Halls Head - Erskine",
          "Mandurah",
          "Greenfields",
          "Cottesloe",
          "Rockingham",
          "Calista",
          "Iluka - Burns Beach",
          "Beeliar - Wattleup",
          "Canning Vale - East",
          "Jandakot",
          "Two Rocks",
          "Winthrop",
          "Baldivis",
          "Carabooda - Pinjar",
          "Hope Valley - Postans",
          "Avon Valley National Park",
          "Malaga",
          "Melaleuca - Lexia",
          "Walyunga National Park",
          "Herdsman",
          "Osborne Park Industrial",
          "Ashendon - Lesley",
          "Kewdale Commercial",
          "Perth Airport",
          "Canning Vale Commercial",
          "Welshpool",
          "Bibra Lake",
          "Henderson",
          "O'Connor (WA)",
          "Rockingham Lakes",
          "Bibra Industrial"
         ],
         "xaxis": "x",
         "y": [
          74,
          74,
          74,
          74,
          74,
          74,
          74,
          74,
          74,
          74,
          174,
          124,
          224,
          224,
          74,
          174,
          174,
          174,
          174,
          174,
          174,
          174,
          174,
          174,
          174,
          174,
          174,
          199,
          199,
          199,
          199,
          224,
          224,
          224,
          224,
          224,
          224,
          74,
          224,
          174,
          174,
          149,
          174,
          174,
          174,
          174,
          174,
          174,
          174,
          199,
          199,
          174,
          174,
          174,
          174,
          174,
          174,
          174,
          74,
          174,
          274,
          174,
          274,
          224,
          174,
          224,
          199,
          199,
          224,
          174,
          174,
          224,
          174,
          174,
          174,
          199,
          199,
          74,
          174,
          224,
          224,
          224,
          224,
          274,
          174,
          174,
          174,
          199,
          199,
          199,
          224,
          224,
          224,
          224,
          224,
          224,
          224,
          224,
          224,
          224,
          224,
          224,
          224,
          224,
          549,
          224,
          124,
          224,
          174,
          174,
          174,
          74,
          274,
          174,
          274,
          274,
          274,
          274,
          174,
          274,
          274,
          274,
          174,
          274,
          274,
          174,
          224,
          224,
          224,
          224,
          224,
          224,
          274,
          249,
          74,
          174,
          224,
          274,
          299,
          274,
          174,
          174,
          199,
          174,
          174,
          324,
          149,
          149,
          424,
          274,
          324,
          274,
          174,
          324,
          274,
          174,
          174,
          74,
          74,
          74,
          74,
          74,
          74,
          74,
          74,
          74,
          74,
          74,
          74,
          74,
          74,
          74,
          74
         ],
         "yaxis": "y"
        },
        {
         "alignmentgroup": "True",
         "hovertemplate": "variable=Rent2011<br>SA2 Name=%{x}<br>value=%{y}<extra></extra>",
         "legendgroup": "Rent2011",
         "marker": {
          "color": "#EF553B"
         },
         "name": "Rent2011",
         "offsetgroup": "Rent2011",
         "orientation": "v",
         "showlegend": true,
         "textposition": "auto",
         "type": "bar",
         "x": [
          "Kings Park (WA)",
          "North Coogee",
          "Innaloo - Doubleview",
          "Fremantle",
          "Manning - Waterford",
          "Swanbourne - Mount Claremont",
          "Fremantle - South",
          "Helena Valley - Koongamia",
          "Bentley - Wilson - St James",
          "Coolbellup",
          "Nedlands - Dalkeith - Crawley",
          "Mosman Park - Peppermint Grove",
          "Claremont (WA)",
          "Lesmurdie - Bickley - Carmel",
          "Neerabup National Park",
          "Rivervale - Kewdale - Cloverdale",
          "East Victoria Park - Carlisle",
          "Belmont - Ascot - Redcliffe",
          "Bayswater - Embleton - Bedford",
          "Yokine - Coolbinia - Menora",
          "Dianella",
          "Wanneroo",
          "Mundijong",
          "Glen Forrest - Darlington",
          "Noranda",
          "Mundaring",
          "Roleystone",
          "Huntingdale - Southern River",
          "Forrestfield - Wattle Grove",
          "High Wycombe",
          "Chidlow",
          "Riverton - Shelley - Rossmoyne",
          "Trigg - North Beach - Watermans Bay",
          "Bicton - Palmyra",
          "Booragoon",
          "Morley",
          "East Fremantle",
          "Casuarina - Wandi",
          "Mindarie - Quinns Rocks - Jindalee",
          "Spearwood",
          "Byford",
          "Wembley - West Leederville - Glendalough",
          "Nollamara - Westminster",
          "Maddington - Orange Grove - Martin",
          "Lockridge - Kiara",
          "Bassendean - Eden Hill - Ashfield",
          "Beechboro",
          "Hamilton Hill",
          "Mount Lawley - Inglewood",
          "Cannington - Queens Park",
          "Marangaroo",
          "Mount Nasura - Mount Richon - Bedfordale",
          "Waikiki",
          "Falcon - Wannanup",
          "Mandurah - East",
          "Swan View - Greenmount - Midvale",
          "Maylands",
          "Tuart Hill - Joondanna",
          "Alkimos - Eglinton",
          "Beckenham - Kenwick - Langford",
          "Coogee",
          "Stirling - Osborne Park",
          "Carramar",
          "Hazelmere - Guildford",
          "Gosnells",
          "Yangebup",
          "Craigie - Beldon",
          "Alexander Heights - Koondoola",
          "South Lake - Cockburn Central",
          "Parmelia - Orelia",
          "Safety Bay - Shoalwater",
          "Ballajura",
          "Camillo - Champion Lakes",
          "Kelmscott",
          "Bullsbrook",
          "Warnbro",
          "Stratton - Jane Brook",
          "Malmalling - Reservoir",
          "Serpentine - Jarrahdale",
          "Balcatta - Hamersley",
          "Thornlie",
          "Port Kennedy",
          "Kalamunda - Maida Vale - Gooseberry Hill",
          "Butler - Merriwa - Ridgewood",
          "Forrestdale - Harrisdale - Piara Waters",
          "Victoria Park - Lathlain - Burswood",
          "Gidgegannup",
          "Seville Grove",
          "Como",
          "Wembley Downs - Churchlands - Woodlands",
          "Willetton",
          "Scarborough",
          "Mount Hawthorn - Leederville",
          "South Perth - Kensington",
          "Melville",
          "Subiaco - Shenton Park",
          "Karrinyup - Gwelup - Carine",
          "Padbury",
          "Greenwood - Warwick",
          "Kingsley",
          "Hillarys",
          "Joondalup - Edgewater",
          "Leeming",
          "The Vines",
          "City Beach",
          "Murdoch - Kardinya",
          "Pinjarra",
          "Floreat",
          "Balga - Mirrabooka",
          "Midland - Guildford",
          "Parkwood - Ferndale - Lynwood",
          "Kwinana Industrial",
          "Perth City",
          "Middle Swan - Herne Hill",
          "North Perth",
          "Success - Hammond Park",
          "Banjup",
          "Madeley - Darch - Landsdale",
          "Girrawheen",
          "Mullaloo - Kallaroo",
          "Bateman",
          "Ellenbrook",
          "Armadale - Wungong - Brookdale",
          "Woodvale",
          "Currambine - Kinross",
          "Cooloongup",
          "Mandurah - North",
          "Clarkson",
          "Heathridge - Connolly",
          "Bertram - Wellard (West)",
          "Duncraig",
          "Sorrento - Marmion",
          "Singleton - Golden Bay - Secret Harbour",
          "Bull Creek",
          "Willagee",
          "Dawesville - Bouvard",
          "Applecross - Ardross",
          "Canning Vale - West",
          "Tapping - Ashby - Sinagra",
          "Ocean Reef",
          "Mandurah - South",
          "Yanchep",
          "Halls Head - Erskine",
          "Mandurah",
          "Greenfields",
          "Cottesloe",
          "Rockingham",
          "Calista",
          "Iluka - Burns Beach",
          "Beeliar - Wattleup",
          "Canning Vale - East",
          "Jandakot",
          "Two Rocks",
          "Winthrop",
          "Baldivis",
          "Carabooda - Pinjar",
          "Hope Valley - Postans",
          "Avon Valley National Park",
          "Malaga",
          "Melaleuca - Lexia",
          "Walyunga National Park",
          "Herdsman",
          "Osborne Park Industrial",
          "Ashendon - Lesley",
          "Kewdale Commercial",
          "Perth Airport",
          "Canning Vale Commercial",
          "Welshpool",
          "Bibra Lake",
          "Henderson",
          "O'Connor (WA)",
          "Rockingham Lakes",
          "Bibra Industrial"
         ],
         "xaxis": "x",
         "y": [
          950,
          849,
          549,
          549,
          549,
          950,
          99,
          324,
          99,
          324,
          549,
          274,
          549,
          324,
          74,
          324,
          324,
          374,
          324,
          324,
          324,
          374,
          274,
          549,
          324,
          374,
          549,
          374,
          374,
          374,
          324,
          374,
          324,
          374,
          549,
          324,
          549,
          549,
          549,
          324,
          374,
          324,
          374,
          324,
          324,
          324,
          374,
          324,
          324,
          374,
          374,
          374,
          324,
          324,
          324,
          324,
          324,
          324,
          74,
          324,
          424,
          324,
          424,
          374,
          324,
          374,
          374,
          324,
          374,
          274,
          324,
          374,
          324,
          324,
          374,
          324,
          374,
          74,
          124,
          374,
          324,
          374,
          374,
          374,
          549,
          324,
          224,
          324,
          324,
          324,
          374,
          324,
          549,
          549,
          549,
          549,
          549,
          374,
          374,
          549,
          549,
          374,
          549,
          549,
          950,
          549,
          224,
          549,
          324,
          324,
          374,
          74,
          549,
          324,
          549,
          424,
          549,
          549,
          324,
          549,
          549,
          374,
          324,
          549,
          424,
          324,
          374,
          374,
          374,
          374,
          549,
          549,
          374,
          549,
          99,
          324,
          549,
          549,
          424,
          549,
          274,
          324,
          324,
          274,
          274,
          549,
          224,
          274,
          749,
          424,
          549,
          549,
          274,
          549,
          374,
          324,
          324,
          74,
          74,
          74,
          74,
          74,
          74,
          74,
          74,
          74,
          74,
          74,
          74,
          74,
          74,
          74,
          74
         ],
         "yaxis": "y"
        },
        {
         "alignmentgroup": "True",
         "hovertemplate": "variable=Rent2016<br>SA2 Name=%{x}<br>value=%{y}<extra></extra>",
         "legendgroup": "Rent2016",
         "marker": {
          "color": "#00cc96"
         },
         "name": "Rent2016",
         "offsetgroup": "Rent2016",
         "orientation": "v",
         "showlegend": true,
         "textposition": "auto",
         "type": "bar",
         "x": [
          "Kings Park (WA)",
          "North Coogee",
          "Innaloo - Doubleview",
          "Fremantle",
          "Manning - Waterford",
          "Swanbourne - Mount Claremont",
          "Fremantle - South",
          "Helena Valley - Koongamia",
          "Bentley - Wilson - St James",
          "Coolbellup",
          "Nedlands - Dalkeith - Crawley",
          "Mosman Park - Peppermint Grove",
          "Claremont (WA)",
          "Lesmurdie - Bickley - Carmel",
          "Neerabup National Park",
          "Rivervale - Kewdale - Cloverdale",
          "East Victoria Park - Carlisle",
          "Belmont - Ascot - Redcliffe",
          "Bayswater - Embleton - Bedford",
          "Yokine - Coolbinia - Menora",
          "Dianella",
          "Wanneroo",
          "Mundijong",
          "Glen Forrest - Darlington",
          "Noranda",
          "Mundaring",
          "Roleystone",
          "Huntingdale - Southern River",
          "Forrestfield - Wattle Grove",
          "High Wycombe",
          "Chidlow",
          "Riverton - Shelley - Rossmoyne",
          "Trigg - North Beach - Watermans Bay",
          "Bicton - Palmyra",
          "Booragoon",
          "Morley",
          "East Fremantle",
          "Casuarina - Wandi",
          "Mindarie - Quinns Rocks - Jindalee",
          "Spearwood",
          "Byford",
          "Wembley - West Leederville - Glendalough",
          "Nollamara - Westminster",
          "Maddington - Orange Grove - Martin",
          "Lockridge - Kiara",
          "Bassendean - Eden Hill - Ashfield",
          "Beechboro",
          "Hamilton Hill",
          "Mount Lawley - Inglewood",
          "Cannington - Queens Park",
          "Marangaroo",
          "Mount Nasura - Mount Richon - Bedfordale",
          "Waikiki",
          "Falcon - Wannanup",
          "Mandurah - East",
          "Swan View - Greenmount - Midvale",
          "Maylands",
          "Tuart Hill - Joondanna",
          "Alkimos - Eglinton",
          "Beckenham - Kenwick - Langford",
          "Coogee",
          "Stirling - Osborne Park",
          "Carramar",
          "Hazelmere - Guildford",
          "Gosnells",
          "Yangebup",
          "Craigie - Beldon",
          "Alexander Heights - Koondoola",
          "South Lake - Cockburn Central",
          "Parmelia - Orelia",
          "Safety Bay - Shoalwater",
          "Ballajura",
          "Camillo - Champion Lakes",
          "Kelmscott",
          "Bullsbrook",
          "Warnbro",
          "Stratton - Jane Brook",
          "Malmalling - Reservoir",
          "Serpentine - Jarrahdale",
          "Balcatta - Hamersley",
          "Thornlie",
          "Port Kennedy",
          "Kalamunda - Maida Vale - Gooseberry Hill",
          "Butler - Merriwa - Ridgewood",
          "Forrestdale - Harrisdale - Piara Waters",
          "Victoria Park - Lathlain - Burswood",
          "Gidgegannup",
          "Seville Grove",
          "Como",
          "Wembley Downs - Churchlands - Woodlands",
          "Willetton",
          "Scarborough",
          "Mount Hawthorn - Leederville",
          "South Perth - Kensington",
          "Melville",
          "Subiaco - Shenton Park",
          "Karrinyup - Gwelup - Carine",
          "Padbury",
          "Greenwood - Warwick",
          "Kingsley",
          "Hillarys",
          "Joondalup - Edgewater",
          "Leeming",
          "The Vines",
          "City Beach",
          "Murdoch - Kardinya",
          "Pinjarra",
          "Floreat",
          "Balga - Mirrabooka",
          "Midland - Guildford",
          "Parkwood - Ferndale - Lynwood",
          "Kwinana Industrial",
          "Perth City",
          "Middle Swan - Herne Hill",
          "North Perth",
          "Success - Hammond Park",
          "Banjup",
          "Madeley - Darch - Landsdale",
          "Girrawheen",
          "Mullaloo - Kallaroo",
          "Bateman",
          "Ellenbrook",
          "Armadale - Wungong - Brookdale",
          "Woodvale",
          "Currambine - Kinross",
          "Cooloongup",
          "Mandurah - North",
          "Clarkson",
          "Heathridge - Connolly",
          "Bertram - Wellard (West)",
          "Duncraig",
          "Sorrento - Marmion",
          "Singleton - Golden Bay - Secret Harbour",
          "Bull Creek",
          "Willagee",
          "Dawesville - Bouvard",
          "Applecross - Ardross",
          "Canning Vale - West",
          "Tapping - Ashby - Sinagra",
          "Ocean Reef",
          "Mandurah - South",
          "Yanchep",
          "Halls Head - Erskine",
          "Mandurah",
          "Greenfields",
          "Cottesloe",
          "Rockingham",
          "Calista",
          "Iluka - Burns Beach",
          "Beeliar - Wattleup",
          "Canning Vale - East",
          "Jandakot",
          "Two Rocks",
          "Winthrop",
          "Baldivis",
          "Carabooda - Pinjar",
          "Hope Valley - Postans",
          "Avon Valley National Park",
          "Malaga",
          "Melaleuca - Lexia",
          "Walyunga National Park",
          "Herdsman",
          "Osborne Park Industrial",
          "Ashendon - Lesley",
          "Kewdale Commercial",
          "Perth Airport",
          "Canning Vale Commercial",
          "Welshpool",
          "Bibra Lake",
          "Henderson",
          "O'Connor (WA)",
          "Rockingham Lakes",
          "Bibra Industrial"
         ],
         "xaxis": "x",
         "y": [
          950,
          549,
          549,
          549,
          549,
          950,
          549,
          549,
          549,
          374,
          549,
          324,
          549,
          549,
          549,
          549,
          549,
          549,
          549,
          549,
          549,
          549,
          549,
          549,
          549,
          549,
          549,
          549,
          549,
          549,
          549,
          549,
          549,
          549,
          549,
          549,
          549,
          424,
          549,
          424,
          424,
          324,
          374,
          374,
          374,
          374,
          374,
          374,
          549,
          374,
          424,
          374,
          374,
          374,
          374,
          374,
          324,
          324,
          374,
          324,
          549,
          324,
          549,
          424,
          324,
          424,
          374,
          374,
          424,
          324,
          324,
          424,
          324,
          324,
          324,
          374,
          374,
          74,
          324,
          374,
          374,
          374,
          549,
          374,
          549,
          549,
          549,
          374,
          549,
          549,
          549,
          549,
          549,
          549,
          549,
          549,
          549,
          549,
          549,
          549,
          549,
          549,
          549,
          549,
          950,
          549,
          374,
          649,
          374,
          374,
          374,
          74,
          549,
          374,
          549,
          549,
          549,
          549,
          324,
          549,
          549,
          549,
          324,
          549,
          549,
          324,
          424,
          424,
          424,
          374,
          549,
          549,
          424,
          549,
          124,
          374,
          549,
          549,
          549,
          549,
          324,
          374,
          374,
          324,
          324,
          549,
          274,
          324,
          749,
          549,
          549,
          549,
          324,
          649,
          424,
          274,
          274,
          74,
          74,
          74,
          74,
          74,
          74,
          74,
          74,
          74,
          74,
          74,
          74,
          74,
          74,
          74,
          74
         ],
         "yaxis": "y"
        }
       ],
       "layout": {
        "barmode": "relative",
        "legend": {
         "title": {
          "text": "variable"
         },
         "tracegroupgap": 0
        },
        "template": {
         "data": {
          "bar": [
           {
            "error_x": {
             "color": "#2a3f5f"
            },
            "error_y": {
             "color": "#2a3f5f"
            },
            "marker": {
             "line": {
              "color": "#E5ECF6",
              "width": 0.5
             }
            },
            "type": "bar"
           }
          ],
          "barpolar": [
           {
            "marker": {
             "line": {
              "color": "#E5ECF6",
              "width": 0.5
             }
            },
            "type": "barpolar"
           }
          ],
          "carpet": [
           {
            "aaxis": {
             "endlinecolor": "#2a3f5f",
             "gridcolor": "white",
             "linecolor": "white",
             "minorgridcolor": "white",
             "startlinecolor": "#2a3f5f"
            },
            "baxis": {
             "endlinecolor": "#2a3f5f",
             "gridcolor": "white",
             "linecolor": "white",
             "minorgridcolor": "white",
             "startlinecolor": "#2a3f5f"
            },
            "type": "carpet"
           }
          ],
          "choropleth": [
           {
            "colorbar": {
             "outlinewidth": 0,
             "ticks": ""
            },
            "type": "choropleth"
           }
          ],
          "contour": [
           {
            "colorbar": {
             "outlinewidth": 0,
             "ticks": ""
            },
            "colorscale": [
             [
              0,
              "#0d0887"
             ],
             [
              0.1111111111111111,
              "#46039f"
             ],
             [
              0.2222222222222222,
              "#7201a8"
             ],
             [
              0.3333333333333333,
              "#9c179e"
             ],
             [
              0.4444444444444444,
              "#bd3786"
             ],
             [
              0.5555555555555556,
              "#d8576b"
             ],
             [
              0.6666666666666666,
              "#ed7953"
             ],
             [
              0.7777777777777778,
              "#fb9f3a"
             ],
             [
              0.8888888888888888,
              "#fdca26"
             ],
             [
              1,
              "#f0f921"
             ]
            ],
            "type": "contour"
           }
          ],
          "contourcarpet": [
           {
            "colorbar": {
             "outlinewidth": 0,
             "ticks": ""
            },
            "type": "contourcarpet"
           }
          ],
          "heatmap": [
           {
            "colorbar": {
             "outlinewidth": 0,
             "ticks": ""
            },
            "colorscale": [
             [
              0,
              "#0d0887"
             ],
             [
              0.1111111111111111,
              "#46039f"
             ],
             [
              0.2222222222222222,
              "#7201a8"
             ],
             [
              0.3333333333333333,
              "#9c179e"
             ],
             [
              0.4444444444444444,
              "#bd3786"
             ],
             [
              0.5555555555555556,
              "#d8576b"
             ],
             [
              0.6666666666666666,
              "#ed7953"
             ],
             [
              0.7777777777777778,
              "#fb9f3a"
             ],
             [
              0.8888888888888888,
              "#fdca26"
             ],
             [
              1,
              "#f0f921"
             ]
            ],
            "type": "heatmap"
           }
          ],
          "heatmapgl": [
           {
            "colorbar": {
             "outlinewidth": 0,
             "ticks": ""
            },
            "colorscale": [
             [
              0,
              "#0d0887"
             ],
             [
              0.1111111111111111,
              "#46039f"
             ],
             [
              0.2222222222222222,
              "#7201a8"
             ],
             [
              0.3333333333333333,
              "#9c179e"
             ],
             [
              0.4444444444444444,
              "#bd3786"
             ],
             [
              0.5555555555555556,
              "#d8576b"
             ],
             [
              0.6666666666666666,
              "#ed7953"
             ],
             [
              0.7777777777777778,
              "#fb9f3a"
             ],
             [
              0.8888888888888888,
              "#fdca26"
             ],
             [
              1,
              "#f0f921"
             ]
            ],
            "type": "heatmapgl"
           }
          ],
          "histogram": [
           {
            "marker": {
             "colorbar": {
              "outlinewidth": 0,
              "ticks": ""
             }
            },
            "type": "histogram"
           }
          ],
          "histogram2d": [
           {
            "colorbar": {
             "outlinewidth": 0,
             "ticks": ""
            },
            "colorscale": [
             [
              0,
              "#0d0887"
             ],
             [
              0.1111111111111111,
              "#46039f"
             ],
             [
              0.2222222222222222,
              "#7201a8"
             ],
             [
              0.3333333333333333,
              "#9c179e"
             ],
             [
              0.4444444444444444,
              "#bd3786"
             ],
             [
              0.5555555555555556,
              "#d8576b"
             ],
             [
              0.6666666666666666,
              "#ed7953"
             ],
             [
              0.7777777777777778,
              "#fb9f3a"
             ],
             [
              0.8888888888888888,
              "#fdca26"
             ],
             [
              1,
              "#f0f921"
             ]
            ],
            "type": "histogram2d"
           }
          ],
          "histogram2dcontour": [
           {
            "colorbar": {
             "outlinewidth": 0,
             "ticks": ""
            },
            "colorscale": [
             [
              0,
              "#0d0887"
             ],
             [
              0.1111111111111111,
              "#46039f"
             ],
             [
              0.2222222222222222,
              "#7201a8"
             ],
             [
              0.3333333333333333,
              "#9c179e"
             ],
             [
              0.4444444444444444,
              "#bd3786"
             ],
             [
              0.5555555555555556,
              "#d8576b"
             ],
             [
              0.6666666666666666,
              "#ed7953"
             ],
             [
              0.7777777777777778,
              "#fb9f3a"
             ],
             [
              0.8888888888888888,
              "#fdca26"
             ],
             [
              1,
              "#f0f921"
             ]
            ],
            "type": "histogram2dcontour"
           }
          ],
          "mesh3d": [
           {
            "colorbar": {
             "outlinewidth": 0,
             "ticks": ""
            },
            "type": "mesh3d"
           }
          ],
          "parcoords": [
           {
            "line": {
             "colorbar": {
              "outlinewidth": 0,
              "ticks": ""
             }
            },
            "type": "parcoords"
           }
          ],
          "pie": [
           {
            "automargin": true,
            "type": "pie"
           }
          ],
          "scatter": [
           {
            "marker": {
             "colorbar": {
              "outlinewidth": 0,
              "ticks": ""
             }
            },
            "type": "scatter"
           }
          ],
          "scatter3d": [
           {
            "line": {
             "colorbar": {
              "outlinewidth": 0,
              "ticks": ""
             }
            },
            "marker": {
             "colorbar": {
              "outlinewidth": 0,
              "ticks": ""
             }
            },
            "type": "scatter3d"
           }
          ],
          "scattercarpet": [
           {
            "marker": {
             "colorbar": {
              "outlinewidth": 0,
              "ticks": ""
             }
            },
            "type": "scattercarpet"
           }
          ],
          "scattergeo": [
           {
            "marker": {
             "colorbar": {
              "outlinewidth": 0,
              "ticks": ""
             }
            },
            "type": "scattergeo"
           }
          ],
          "scattergl": [
           {
            "marker": {
             "colorbar": {
              "outlinewidth": 0,
              "ticks": ""
             }
            },
            "type": "scattergl"
           }
          ],
          "scattermapbox": [
           {
            "marker": {
             "colorbar": {
              "outlinewidth": 0,
              "ticks": ""
             }
            },
            "type": "scattermapbox"
           }
          ],
          "scatterpolar": [
           {
            "marker": {
             "colorbar": {
              "outlinewidth": 0,
              "ticks": ""
             }
            },
            "type": "scatterpolar"
           }
          ],
          "scatterpolargl": [
           {
            "marker": {
             "colorbar": {
              "outlinewidth": 0,
              "ticks": ""
             }
            },
            "type": "scatterpolargl"
           }
          ],
          "scatterternary": [
           {
            "marker": {
             "colorbar": {
              "outlinewidth": 0,
              "ticks": ""
             }
            },
            "type": "scatterternary"
           }
          ],
          "surface": [
           {
            "colorbar": {
             "outlinewidth": 0,
             "ticks": ""
            },
            "colorscale": [
             [
              0,
              "#0d0887"
             ],
             [
              0.1111111111111111,
              "#46039f"
             ],
             [
              0.2222222222222222,
              "#7201a8"
             ],
             [
              0.3333333333333333,
              "#9c179e"
             ],
             [
              0.4444444444444444,
              "#bd3786"
             ],
             [
              0.5555555555555556,
              "#d8576b"
             ],
             [
              0.6666666666666666,
              "#ed7953"
             ],
             [
              0.7777777777777778,
              "#fb9f3a"
             ],
             [
              0.8888888888888888,
              "#fdca26"
             ],
             [
              1,
              "#f0f921"
             ]
            ],
            "type": "surface"
           }
          ],
          "table": [
           {
            "cells": {
             "fill": {
              "color": "#EBF0F8"
             },
             "line": {
              "color": "white"
             }
            },
            "header": {
             "fill": {
              "color": "#C8D4E3"
             },
             "line": {
              "color": "white"
             }
            },
            "type": "table"
           }
          ]
         },
         "layout": {
          "annotationdefaults": {
           "arrowcolor": "#2a3f5f",
           "arrowhead": 0,
           "arrowwidth": 1
          },
          "coloraxis": {
           "colorbar": {
            "outlinewidth": 0,
            "ticks": ""
           }
          },
          "colorscale": {
           "diverging": [
            [
             0,
             "#8e0152"
            ],
            [
             0.1,
             "#c51b7d"
            ],
            [
             0.2,
             "#de77ae"
            ],
            [
             0.3,
             "#f1b6da"
            ],
            [
             0.4,
             "#fde0ef"
            ],
            [
             0.5,
             "#f7f7f7"
            ],
            [
             0.6,
             "#e6f5d0"
            ],
            [
             0.7,
             "#b8e186"
            ],
            [
             0.8,
             "#7fbc41"
            ],
            [
             0.9,
             "#4d9221"
            ],
            [
             1,
             "#276419"
            ]
           ],
           "sequential": [
            [
             0,
             "#0d0887"
            ],
            [
             0.1111111111111111,
             "#46039f"
            ],
            [
             0.2222222222222222,
             "#7201a8"
            ],
            [
             0.3333333333333333,
             "#9c179e"
            ],
            [
             0.4444444444444444,
             "#bd3786"
            ],
            [
             0.5555555555555556,
             "#d8576b"
            ],
            [
             0.6666666666666666,
             "#ed7953"
            ],
            [
             0.7777777777777778,
             "#fb9f3a"
            ],
            [
             0.8888888888888888,
             "#fdca26"
            ],
            [
             1,
             "#f0f921"
            ]
           ],
           "sequentialminus": [
            [
             0,
             "#0d0887"
            ],
            [
             0.1111111111111111,
             "#46039f"
            ],
            [
             0.2222222222222222,
             "#7201a8"
            ],
            [
             0.3333333333333333,
             "#9c179e"
            ],
            [
             0.4444444444444444,
             "#bd3786"
            ],
            [
             0.5555555555555556,
             "#d8576b"
            ],
            [
             0.6666666666666666,
             "#ed7953"
            ],
            [
             0.7777777777777778,
             "#fb9f3a"
            ],
            [
             0.8888888888888888,
             "#fdca26"
            ],
            [
             1,
             "#f0f921"
            ]
           ]
          },
          "colorway": [
           "#636efa",
           "#EF553B",
           "#00cc96",
           "#ab63fa",
           "#FFA15A",
           "#19d3f3",
           "#FF6692",
           "#B6E880",
           "#FF97FF",
           "#FECB52"
          ],
          "font": {
           "color": "#2a3f5f"
          },
          "geo": {
           "bgcolor": "white",
           "lakecolor": "white",
           "landcolor": "#E5ECF6",
           "showlakes": true,
           "showland": true,
           "subunitcolor": "white"
          },
          "hoverlabel": {
           "align": "left"
          },
          "hovermode": "closest",
          "mapbox": {
           "style": "light"
          },
          "paper_bgcolor": "white",
          "plot_bgcolor": "#E5ECF6",
          "polar": {
           "angularaxis": {
            "gridcolor": "white",
            "linecolor": "white",
            "ticks": ""
           },
           "bgcolor": "#E5ECF6",
           "radialaxis": {
            "gridcolor": "white",
            "linecolor": "white",
            "ticks": ""
           }
          },
          "scene": {
           "xaxis": {
            "backgroundcolor": "#E5ECF6",
            "gridcolor": "white",
            "gridwidth": 2,
            "linecolor": "white",
            "showbackground": true,
            "ticks": "",
            "zerolinecolor": "white"
           },
           "yaxis": {
            "backgroundcolor": "#E5ECF6",
            "gridcolor": "white",
            "gridwidth": 2,
            "linecolor": "white",
            "showbackground": true,
            "ticks": "",
            "zerolinecolor": "white"
           },
           "zaxis": {
            "backgroundcolor": "#E5ECF6",
            "gridcolor": "white",
            "gridwidth": 2,
            "linecolor": "white",
            "showbackground": true,
            "ticks": "",
            "zerolinecolor": "white"
           }
          },
          "shapedefaults": {
           "line": {
            "color": "#2a3f5f"
           }
          },
          "ternary": {
           "aaxis": {
            "gridcolor": "white",
            "linecolor": "white",
            "ticks": ""
           },
           "baxis": {
            "gridcolor": "white",
            "linecolor": "white",
            "ticks": ""
           },
           "bgcolor": "#E5ECF6",
           "caxis": {
            "gridcolor": "white",
            "linecolor": "white",
            "ticks": ""
           }
          },
          "title": {
           "x": 0.05
          },
          "xaxis": {
           "automargin": true,
           "gridcolor": "white",
           "linecolor": "white",
           "ticks": "",
           "title": {
            "standoff": 15
           },
           "zerolinecolor": "white",
           "zerolinewidth": 2
          },
          "yaxis": {
           "automargin": true,
           "gridcolor": "white",
           "linecolor": "white",
           "ticks": "",
           "title": {
            "standoff": 15
           },
           "zerolinecolor": "white",
           "zerolinewidth": 2
          }
         }
        },
        "title": {
         "text": "Rent of Census Year 2006,2011 and 2016"
        },
        "xaxis": {
         "anchor": "y",
         "domain": [
          0,
          1
         ],
         "title": {
          "text": "SA2 Name"
         }
        },
        "yaxis": {
         "anchor": "x",
         "domain": [
          0,
          1
         ],
         "title": {
          "text": "value"
         }
        }
       }
      },
      "text/html": [
       "<div>                            <div id=\"96cacd5f-e9a2-43cc-b5c6-d4c2baebd499\" class=\"plotly-graph-div\" style=\"height:525px; width:100%;\"></div>            <script type=\"text/javascript\">                require([\"plotly\"], function(Plotly) {                    window.PLOTLYENV=window.PLOTLYENV || {};                                    if (document.getElementById(\"96cacd5f-e9a2-43cc-b5c6-d4c2baebd499\")) {                    Plotly.newPlot(                        \"96cacd5f-e9a2-43cc-b5c6-d4c2baebd499\",                        [{\"alignmentgroup\": \"True\", \"hovertemplate\": \"variable=Rent2006<br>SA2 Name=%{x}<br>value=%{y}<extra></extra>\", \"legendgroup\": \"Rent2006\", \"marker\": {\"color\": \"#636efa\"}, \"name\": \"Rent2006\", \"offsetgroup\": \"Rent2006\", \"orientation\": \"v\", \"showlegend\": true, \"textposition\": \"auto\", \"type\": \"bar\", \"x\": [\"Kings Park (WA)\", \"North Coogee\", \"Innaloo - Doubleview\", \"Fremantle\", \"Manning - Waterford\", \"Swanbourne - Mount Claremont\", \"Fremantle - South\", \"Helena Valley - Koongamia\", \"Bentley - Wilson - St James\", \"Coolbellup\", \"Nedlands - Dalkeith - Crawley\", \"Mosman Park - Peppermint Grove\", \"Claremont (WA)\", \"Lesmurdie - Bickley - Carmel\", \"Neerabup National Park\", \"Rivervale - Kewdale - Cloverdale\", \"East Victoria Park - Carlisle\", \"Belmont - Ascot - Redcliffe\", \"Bayswater - Embleton - Bedford\", \"Yokine - Coolbinia - Menora\", \"Dianella\", \"Wanneroo\", \"Mundijong\", \"Glen Forrest - Darlington\", \"Noranda\", \"Mundaring\", \"Roleystone\", \"Huntingdale - Southern River\", \"Forrestfield - Wattle Grove\", \"High Wycombe\", \"Chidlow\", \"Riverton - Shelley - Rossmoyne\", \"Trigg - North Beach - Watermans Bay\", \"Bicton - Palmyra\", \"Booragoon\", \"Morley\", \"East Fremantle\", \"Casuarina - Wandi\", \"Mindarie - Quinns Rocks - Jindalee\", \"Spearwood\", \"Byford\", \"Wembley - West Leederville - Glendalough\", \"Nollamara - Westminster\", \"Maddington - Orange Grove - Martin\", \"Lockridge - Kiara\", \"Bassendean - Eden Hill - Ashfield\", \"Beechboro\", \"Hamilton Hill\", \"Mount Lawley - Inglewood\", \"Cannington - Queens Park\", \"Marangaroo\", \"Mount Nasura - Mount Richon - Bedfordale\", \"Waikiki\", \"Falcon - Wannanup\", \"Mandurah - East\", \"Swan View - Greenmount - Midvale\", \"Maylands\", \"Tuart Hill - Joondanna\", \"Alkimos - Eglinton\", \"Beckenham - Kenwick - Langford\", \"Coogee\", \"Stirling - Osborne Park\", \"Carramar\", \"Hazelmere - Guildford\", \"Gosnells\", \"Yangebup\", \"Craigie - Beldon\", \"Alexander Heights - Koondoola\", \"South Lake - Cockburn Central\", \"Parmelia - Orelia\", \"Safety Bay - Shoalwater\", \"Ballajura\", \"Camillo - Champion Lakes\", \"Kelmscott\", \"Bullsbrook\", \"Warnbro\", \"Stratton - Jane Brook\", \"Malmalling - Reservoir\", \"Serpentine - Jarrahdale\", \"Balcatta - Hamersley\", \"Thornlie\", \"Port Kennedy\", \"Kalamunda - Maida Vale - Gooseberry Hill\", \"Butler - Merriwa - Ridgewood\", \"Forrestdale - Harrisdale - Piara Waters\", \"Victoria Park - Lathlain - Burswood\", \"Gidgegannup\", \"Seville Grove\", \"Como\", \"Wembley Downs - Churchlands - Woodlands\", \"Willetton\", \"Scarborough\", \"Mount Hawthorn - Leederville\", \"South Perth - Kensington\", \"Melville\", \"Subiaco - Shenton Park\", \"Karrinyup - Gwelup - Carine\", \"Padbury\", \"Greenwood - Warwick\", \"Kingsley\", \"Hillarys\", \"Joondalup - Edgewater\", \"Leeming\", \"The Vines\", \"City Beach\", \"Murdoch - Kardinya\", \"Pinjarra\", \"Floreat\", \"Balga - Mirrabooka\", \"Midland - Guildford\", \"Parkwood - Ferndale - Lynwood\", \"Kwinana Industrial\", \"Perth City\", \"Middle Swan - Herne Hill\", \"North Perth\", \"Success - Hammond Park\", \"Banjup\", \"Madeley - Darch - Landsdale\", \"Girrawheen\", \"Mullaloo - Kallaroo\", \"Bateman\", \"Ellenbrook\", \"Armadale - Wungong - Brookdale\", \"Woodvale\", \"Currambine - Kinross\", \"Cooloongup\", \"Mandurah - North\", \"Clarkson\", \"Heathridge - Connolly\", \"Bertram - Wellard (West)\", \"Duncraig\", \"Sorrento - Marmion\", \"Singleton - Golden Bay - Secret Harbour\", \"Bull Creek\", \"Willagee\", \"Dawesville - Bouvard\", \"Applecross - Ardross\", \"Canning Vale - West\", \"Tapping - Ashby - Sinagra\", \"Ocean Reef\", \"Mandurah - South\", \"Yanchep\", \"Halls Head - Erskine\", \"Mandurah\", \"Greenfields\", \"Cottesloe\", \"Rockingham\", \"Calista\", \"Iluka - Burns Beach\", \"Beeliar - Wattleup\", \"Canning Vale - East\", \"Jandakot\", \"Two Rocks\", \"Winthrop\", \"Baldivis\", \"Carabooda - Pinjar\", \"Hope Valley - Postans\", \"Avon Valley National Park\", \"Malaga\", \"Melaleuca - Lexia\", \"Walyunga National Park\", \"Herdsman\", \"Osborne Park Industrial\", \"Ashendon - Lesley\", \"Kewdale Commercial\", \"Perth Airport\", \"Canning Vale Commercial\", \"Welshpool\", \"Bibra Lake\", \"Henderson\", \"O'Connor (WA)\", \"Rockingham Lakes\", \"Bibra Industrial\"], \"xaxis\": \"x\", \"y\": [74, 74, 74, 74, 74, 74, 74, 74, 74, 74, 174, 124, 224, 224, 74, 174, 174, 174, 174, 174, 174, 174, 174, 174, 174, 174, 174, 199, 199, 199, 199, 224, 224, 224, 224, 224, 224, 74, 224, 174, 174, 149, 174, 174, 174, 174, 174, 174, 174, 199, 199, 174, 174, 174, 174, 174, 174, 174, 74, 174, 274, 174, 274, 224, 174, 224, 199, 199, 224, 174, 174, 224, 174, 174, 174, 199, 199, 74, 174, 224, 224, 224, 224, 274, 174, 174, 174, 199, 199, 199, 224, 224, 224, 224, 224, 224, 224, 224, 224, 224, 224, 224, 224, 224, 549, 224, 124, 224, 174, 174, 174, 74, 274, 174, 274, 274, 274, 274, 174, 274, 274, 274, 174, 274, 274, 174, 224, 224, 224, 224, 224, 224, 274, 249, 74, 174, 224, 274, 299, 274, 174, 174, 199, 174, 174, 324, 149, 149, 424, 274, 324, 274, 174, 324, 274, 174, 174, 74, 74, 74, 74, 74, 74, 74, 74, 74, 74, 74, 74, 74, 74, 74, 74], \"yaxis\": \"y\"}, {\"alignmentgroup\": \"True\", \"hovertemplate\": \"variable=Rent2011<br>SA2 Name=%{x}<br>value=%{y}<extra></extra>\", \"legendgroup\": \"Rent2011\", \"marker\": {\"color\": \"#EF553B\"}, \"name\": \"Rent2011\", \"offsetgroup\": \"Rent2011\", \"orientation\": \"v\", \"showlegend\": true, \"textposition\": \"auto\", \"type\": \"bar\", \"x\": [\"Kings Park (WA)\", \"North Coogee\", \"Innaloo - Doubleview\", \"Fremantle\", \"Manning - Waterford\", \"Swanbourne - Mount Claremont\", \"Fremantle - South\", \"Helena Valley - Koongamia\", \"Bentley - Wilson - St James\", \"Coolbellup\", \"Nedlands - Dalkeith - Crawley\", \"Mosman Park - Peppermint Grove\", \"Claremont (WA)\", \"Lesmurdie - Bickley - Carmel\", \"Neerabup National Park\", \"Rivervale - Kewdale - Cloverdale\", \"East Victoria Park - Carlisle\", \"Belmont - Ascot - Redcliffe\", \"Bayswater - Embleton - Bedford\", \"Yokine - Coolbinia - Menora\", \"Dianella\", \"Wanneroo\", \"Mundijong\", \"Glen Forrest - Darlington\", \"Noranda\", \"Mundaring\", \"Roleystone\", \"Huntingdale - Southern River\", \"Forrestfield - Wattle Grove\", \"High Wycombe\", \"Chidlow\", \"Riverton - Shelley - Rossmoyne\", \"Trigg - North Beach - Watermans Bay\", \"Bicton - Palmyra\", \"Booragoon\", \"Morley\", \"East Fremantle\", \"Casuarina - Wandi\", \"Mindarie - Quinns Rocks - Jindalee\", \"Spearwood\", \"Byford\", \"Wembley - West Leederville - Glendalough\", \"Nollamara - Westminster\", \"Maddington - Orange Grove - Martin\", \"Lockridge - Kiara\", \"Bassendean - Eden Hill - Ashfield\", \"Beechboro\", \"Hamilton Hill\", \"Mount Lawley - Inglewood\", \"Cannington - Queens Park\", \"Marangaroo\", \"Mount Nasura - Mount Richon - Bedfordale\", \"Waikiki\", \"Falcon - Wannanup\", \"Mandurah - East\", \"Swan View - Greenmount - Midvale\", \"Maylands\", \"Tuart Hill - Joondanna\", \"Alkimos - Eglinton\", \"Beckenham - Kenwick - Langford\", \"Coogee\", \"Stirling - Osborne Park\", \"Carramar\", \"Hazelmere - Guildford\", \"Gosnells\", \"Yangebup\", \"Craigie - Beldon\", \"Alexander Heights - Koondoola\", \"South Lake - Cockburn Central\", \"Parmelia - Orelia\", \"Safety Bay - Shoalwater\", \"Ballajura\", \"Camillo - Champion Lakes\", \"Kelmscott\", \"Bullsbrook\", \"Warnbro\", \"Stratton - Jane Brook\", \"Malmalling - Reservoir\", \"Serpentine - Jarrahdale\", \"Balcatta - Hamersley\", \"Thornlie\", \"Port Kennedy\", \"Kalamunda - Maida Vale - Gooseberry Hill\", \"Butler - Merriwa - Ridgewood\", \"Forrestdale - Harrisdale - Piara Waters\", \"Victoria Park - Lathlain - Burswood\", \"Gidgegannup\", \"Seville Grove\", \"Como\", \"Wembley Downs - Churchlands - Woodlands\", \"Willetton\", \"Scarborough\", \"Mount Hawthorn - Leederville\", \"South Perth - Kensington\", \"Melville\", \"Subiaco - Shenton Park\", \"Karrinyup - Gwelup - Carine\", \"Padbury\", \"Greenwood - Warwick\", \"Kingsley\", \"Hillarys\", \"Joondalup - Edgewater\", \"Leeming\", \"The Vines\", \"City Beach\", \"Murdoch - Kardinya\", \"Pinjarra\", \"Floreat\", \"Balga - Mirrabooka\", \"Midland - Guildford\", \"Parkwood - Ferndale - Lynwood\", \"Kwinana Industrial\", \"Perth City\", \"Middle Swan - Herne Hill\", \"North Perth\", \"Success - Hammond Park\", \"Banjup\", \"Madeley - Darch - Landsdale\", \"Girrawheen\", \"Mullaloo - Kallaroo\", \"Bateman\", \"Ellenbrook\", \"Armadale - Wungong - Brookdale\", \"Woodvale\", \"Currambine - Kinross\", \"Cooloongup\", \"Mandurah - North\", \"Clarkson\", \"Heathridge - Connolly\", \"Bertram - Wellard (West)\", \"Duncraig\", \"Sorrento - Marmion\", \"Singleton - Golden Bay - Secret Harbour\", \"Bull Creek\", \"Willagee\", \"Dawesville - Bouvard\", \"Applecross - Ardross\", \"Canning Vale - West\", \"Tapping - Ashby - Sinagra\", \"Ocean Reef\", \"Mandurah - South\", \"Yanchep\", \"Halls Head - Erskine\", \"Mandurah\", \"Greenfields\", \"Cottesloe\", \"Rockingham\", \"Calista\", \"Iluka - Burns Beach\", \"Beeliar - Wattleup\", \"Canning Vale - East\", \"Jandakot\", \"Two Rocks\", \"Winthrop\", \"Baldivis\", \"Carabooda - Pinjar\", \"Hope Valley - Postans\", \"Avon Valley National Park\", \"Malaga\", \"Melaleuca - Lexia\", \"Walyunga National Park\", \"Herdsman\", \"Osborne Park Industrial\", \"Ashendon - Lesley\", \"Kewdale Commercial\", \"Perth Airport\", \"Canning Vale Commercial\", \"Welshpool\", \"Bibra Lake\", \"Henderson\", \"O'Connor (WA)\", \"Rockingham Lakes\", \"Bibra Industrial\"], \"xaxis\": \"x\", \"y\": [950, 849, 549, 549, 549, 950, 99, 324, 99, 324, 549, 274, 549, 324, 74, 324, 324, 374, 324, 324, 324, 374, 274, 549, 324, 374, 549, 374, 374, 374, 324, 374, 324, 374, 549, 324, 549, 549, 549, 324, 374, 324, 374, 324, 324, 324, 374, 324, 324, 374, 374, 374, 324, 324, 324, 324, 324, 324, 74, 324, 424, 324, 424, 374, 324, 374, 374, 324, 374, 274, 324, 374, 324, 324, 374, 324, 374, 74, 124, 374, 324, 374, 374, 374, 549, 324, 224, 324, 324, 324, 374, 324, 549, 549, 549, 549, 549, 374, 374, 549, 549, 374, 549, 549, 950, 549, 224, 549, 324, 324, 374, 74, 549, 324, 549, 424, 549, 549, 324, 549, 549, 374, 324, 549, 424, 324, 374, 374, 374, 374, 549, 549, 374, 549, 99, 324, 549, 549, 424, 549, 274, 324, 324, 274, 274, 549, 224, 274, 749, 424, 549, 549, 274, 549, 374, 324, 324, 74, 74, 74, 74, 74, 74, 74, 74, 74, 74, 74, 74, 74, 74, 74, 74], \"yaxis\": \"y\"}, {\"alignmentgroup\": \"True\", \"hovertemplate\": \"variable=Rent2016<br>SA2 Name=%{x}<br>value=%{y}<extra></extra>\", \"legendgroup\": \"Rent2016\", \"marker\": {\"color\": \"#00cc96\"}, \"name\": \"Rent2016\", \"offsetgroup\": \"Rent2016\", \"orientation\": \"v\", \"showlegend\": true, \"textposition\": \"auto\", \"type\": \"bar\", \"x\": [\"Kings Park (WA)\", \"North Coogee\", \"Innaloo - Doubleview\", \"Fremantle\", \"Manning - Waterford\", \"Swanbourne - Mount Claremont\", \"Fremantle - South\", \"Helena Valley - Koongamia\", \"Bentley - Wilson - St James\", \"Coolbellup\", \"Nedlands - Dalkeith - Crawley\", \"Mosman Park - Peppermint Grove\", \"Claremont (WA)\", \"Lesmurdie - Bickley - Carmel\", \"Neerabup National Park\", \"Rivervale - Kewdale - Cloverdale\", \"East Victoria Park - Carlisle\", \"Belmont - Ascot - Redcliffe\", \"Bayswater - Embleton - Bedford\", \"Yokine - Coolbinia - Menora\", \"Dianella\", \"Wanneroo\", \"Mundijong\", \"Glen Forrest - Darlington\", \"Noranda\", \"Mundaring\", \"Roleystone\", \"Huntingdale - Southern River\", \"Forrestfield - Wattle Grove\", \"High Wycombe\", \"Chidlow\", \"Riverton - Shelley - Rossmoyne\", \"Trigg - North Beach - Watermans Bay\", \"Bicton - Palmyra\", \"Booragoon\", \"Morley\", \"East Fremantle\", \"Casuarina - Wandi\", \"Mindarie - Quinns Rocks - Jindalee\", \"Spearwood\", \"Byford\", \"Wembley - West Leederville - Glendalough\", \"Nollamara - Westminster\", \"Maddington - Orange Grove - Martin\", \"Lockridge - Kiara\", \"Bassendean - Eden Hill - Ashfield\", \"Beechboro\", \"Hamilton Hill\", \"Mount Lawley - Inglewood\", \"Cannington - Queens Park\", \"Marangaroo\", \"Mount Nasura - Mount Richon - Bedfordale\", \"Waikiki\", \"Falcon - Wannanup\", \"Mandurah - East\", \"Swan View - Greenmount - Midvale\", \"Maylands\", \"Tuart Hill - Joondanna\", \"Alkimos - Eglinton\", \"Beckenham - Kenwick - Langford\", \"Coogee\", \"Stirling - Osborne Park\", \"Carramar\", \"Hazelmere - Guildford\", \"Gosnells\", \"Yangebup\", \"Craigie - Beldon\", \"Alexander Heights - Koondoola\", \"South Lake - Cockburn Central\", \"Parmelia - Orelia\", \"Safety Bay - Shoalwater\", \"Ballajura\", \"Camillo - Champion Lakes\", \"Kelmscott\", \"Bullsbrook\", \"Warnbro\", \"Stratton - Jane Brook\", \"Malmalling - Reservoir\", \"Serpentine - Jarrahdale\", \"Balcatta - Hamersley\", \"Thornlie\", \"Port Kennedy\", \"Kalamunda - Maida Vale - Gooseberry Hill\", \"Butler - Merriwa - Ridgewood\", \"Forrestdale - Harrisdale - Piara Waters\", \"Victoria Park - Lathlain - Burswood\", \"Gidgegannup\", \"Seville Grove\", \"Como\", \"Wembley Downs - Churchlands - Woodlands\", \"Willetton\", \"Scarborough\", \"Mount Hawthorn - Leederville\", \"South Perth - Kensington\", \"Melville\", \"Subiaco - Shenton Park\", \"Karrinyup - Gwelup - Carine\", \"Padbury\", \"Greenwood - Warwick\", \"Kingsley\", \"Hillarys\", \"Joondalup - Edgewater\", \"Leeming\", \"The Vines\", \"City Beach\", \"Murdoch - Kardinya\", \"Pinjarra\", \"Floreat\", \"Balga - Mirrabooka\", \"Midland - Guildford\", \"Parkwood - Ferndale - Lynwood\", \"Kwinana Industrial\", \"Perth City\", \"Middle Swan - Herne Hill\", \"North Perth\", \"Success - Hammond Park\", \"Banjup\", \"Madeley - Darch - Landsdale\", \"Girrawheen\", \"Mullaloo - Kallaroo\", \"Bateman\", \"Ellenbrook\", \"Armadale - Wungong - Brookdale\", \"Woodvale\", \"Currambine - Kinross\", \"Cooloongup\", \"Mandurah - North\", \"Clarkson\", \"Heathridge - Connolly\", \"Bertram - Wellard (West)\", \"Duncraig\", \"Sorrento - Marmion\", \"Singleton - Golden Bay - Secret Harbour\", \"Bull Creek\", \"Willagee\", \"Dawesville - Bouvard\", \"Applecross - Ardross\", \"Canning Vale - West\", \"Tapping - Ashby - Sinagra\", \"Ocean Reef\", \"Mandurah - South\", \"Yanchep\", \"Halls Head - Erskine\", \"Mandurah\", \"Greenfields\", \"Cottesloe\", \"Rockingham\", \"Calista\", \"Iluka - Burns Beach\", \"Beeliar - Wattleup\", \"Canning Vale - East\", \"Jandakot\", \"Two Rocks\", \"Winthrop\", \"Baldivis\", \"Carabooda - Pinjar\", \"Hope Valley - Postans\", \"Avon Valley National Park\", \"Malaga\", \"Melaleuca - Lexia\", \"Walyunga National Park\", \"Herdsman\", \"Osborne Park Industrial\", \"Ashendon - Lesley\", \"Kewdale Commercial\", \"Perth Airport\", \"Canning Vale Commercial\", \"Welshpool\", \"Bibra Lake\", \"Henderson\", \"O'Connor (WA)\", \"Rockingham Lakes\", \"Bibra Industrial\"], \"xaxis\": \"x\", \"y\": [950, 549, 549, 549, 549, 950, 549, 549, 549, 374, 549, 324, 549, 549, 549, 549, 549, 549, 549, 549, 549, 549, 549, 549, 549, 549, 549, 549, 549, 549, 549, 549, 549, 549, 549, 549, 549, 424, 549, 424, 424, 324, 374, 374, 374, 374, 374, 374, 549, 374, 424, 374, 374, 374, 374, 374, 324, 324, 374, 324, 549, 324, 549, 424, 324, 424, 374, 374, 424, 324, 324, 424, 324, 324, 324, 374, 374, 74, 324, 374, 374, 374, 549, 374, 549, 549, 549, 374, 549, 549, 549, 549, 549, 549, 549, 549, 549, 549, 549, 549, 549, 549, 549, 549, 950, 549, 374, 649, 374, 374, 374, 74, 549, 374, 549, 549, 549, 549, 324, 549, 549, 549, 324, 549, 549, 324, 424, 424, 424, 374, 549, 549, 424, 549, 124, 374, 549, 549, 549, 549, 324, 374, 374, 324, 324, 549, 274, 324, 749, 549, 549, 549, 324, 649, 424, 274, 274, 74, 74, 74, 74, 74, 74, 74, 74, 74, 74, 74, 74, 74, 74, 74, 74], \"yaxis\": \"y\"}],                        {\"barmode\": \"relative\", \"legend\": {\"title\": {\"text\": \"variable\"}, \"tracegroupgap\": 0}, \"template\": {\"data\": {\"bar\": [{\"error_x\": {\"color\": \"#2a3f5f\"}, \"error_y\": {\"color\": \"#2a3f5f\"}, \"marker\": {\"line\": {\"color\": \"#E5ECF6\", \"width\": 0.5}}, \"type\": \"bar\"}], \"barpolar\": [{\"marker\": {\"line\": {\"color\": \"#E5ECF6\", \"width\": 0.5}}, \"type\": \"barpolar\"}], \"carpet\": [{\"aaxis\": {\"endlinecolor\": \"#2a3f5f\", \"gridcolor\": \"white\", \"linecolor\": \"white\", \"minorgridcolor\": \"white\", \"startlinecolor\": \"#2a3f5f\"}, \"baxis\": {\"endlinecolor\": \"#2a3f5f\", \"gridcolor\": \"white\", \"linecolor\": \"white\", \"minorgridcolor\": \"white\", \"startlinecolor\": \"#2a3f5f\"}, \"type\": \"carpet\"}], \"choropleth\": [{\"colorbar\": {\"outlinewidth\": 0, \"ticks\": \"\"}, \"type\": \"choropleth\"}], \"contour\": [{\"colorbar\": {\"outlinewidth\": 0, \"ticks\": \"\"}, \"colorscale\": [[0.0, \"#0d0887\"], [0.1111111111111111, \"#46039f\"], [0.2222222222222222, \"#7201a8\"], [0.3333333333333333, \"#9c179e\"], [0.4444444444444444, \"#bd3786\"], [0.5555555555555556, \"#d8576b\"], [0.6666666666666666, \"#ed7953\"], [0.7777777777777778, \"#fb9f3a\"], [0.8888888888888888, \"#fdca26\"], [1.0, \"#f0f921\"]], \"type\": \"contour\"}], \"contourcarpet\": [{\"colorbar\": {\"outlinewidth\": 0, \"ticks\": \"\"}, \"type\": \"contourcarpet\"}], \"heatmap\": [{\"colorbar\": {\"outlinewidth\": 0, \"ticks\": \"\"}, \"colorscale\": [[0.0, \"#0d0887\"], [0.1111111111111111, \"#46039f\"], [0.2222222222222222, \"#7201a8\"], [0.3333333333333333, \"#9c179e\"], [0.4444444444444444, \"#bd3786\"], [0.5555555555555556, \"#d8576b\"], [0.6666666666666666, \"#ed7953\"], [0.7777777777777778, \"#fb9f3a\"], [0.8888888888888888, \"#fdca26\"], [1.0, \"#f0f921\"]], \"type\": \"heatmap\"}], \"heatmapgl\": [{\"colorbar\": {\"outlinewidth\": 0, \"ticks\": \"\"}, \"colorscale\": [[0.0, \"#0d0887\"], [0.1111111111111111, \"#46039f\"], [0.2222222222222222, \"#7201a8\"], [0.3333333333333333, \"#9c179e\"], [0.4444444444444444, \"#bd3786\"], [0.5555555555555556, \"#d8576b\"], [0.6666666666666666, \"#ed7953\"], [0.7777777777777778, \"#fb9f3a\"], [0.8888888888888888, \"#fdca26\"], [1.0, \"#f0f921\"]], \"type\": \"heatmapgl\"}], \"histogram\": [{\"marker\": {\"colorbar\": {\"outlinewidth\": 0, \"ticks\": \"\"}}, \"type\": \"histogram\"}], \"histogram2d\": [{\"colorbar\": {\"outlinewidth\": 0, \"ticks\": \"\"}, \"colorscale\": [[0.0, \"#0d0887\"], [0.1111111111111111, \"#46039f\"], [0.2222222222222222, \"#7201a8\"], [0.3333333333333333, \"#9c179e\"], [0.4444444444444444, \"#bd3786\"], [0.5555555555555556, \"#d8576b\"], [0.6666666666666666, \"#ed7953\"], [0.7777777777777778, \"#fb9f3a\"], [0.8888888888888888, \"#fdca26\"], [1.0, \"#f0f921\"]], \"type\": \"histogram2d\"}], \"histogram2dcontour\": [{\"colorbar\": {\"outlinewidth\": 0, \"ticks\": \"\"}, \"colorscale\": [[0.0, \"#0d0887\"], [0.1111111111111111, \"#46039f\"], [0.2222222222222222, \"#7201a8\"], [0.3333333333333333, \"#9c179e\"], [0.4444444444444444, \"#bd3786\"], [0.5555555555555556, \"#d8576b\"], [0.6666666666666666, \"#ed7953\"], [0.7777777777777778, \"#fb9f3a\"], [0.8888888888888888, \"#fdca26\"], [1.0, \"#f0f921\"]], \"type\": \"histogram2dcontour\"}], \"mesh3d\": [{\"colorbar\": {\"outlinewidth\": 0, \"ticks\": \"\"}, \"type\": \"mesh3d\"}], \"parcoords\": [{\"line\": {\"colorbar\": {\"outlinewidth\": 0, \"ticks\": \"\"}}, \"type\": \"parcoords\"}], \"pie\": [{\"automargin\": true, \"type\": \"pie\"}], \"scatter\": [{\"marker\": {\"colorbar\": {\"outlinewidth\": 0, \"ticks\": \"\"}}, \"type\": \"scatter\"}], \"scatter3d\": [{\"line\": {\"colorbar\": {\"outlinewidth\": 0, \"ticks\": \"\"}}, \"marker\": {\"colorbar\": {\"outlinewidth\": 0, \"ticks\": \"\"}}, \"type\": \"scatter3d\"}], \"scattercarpet\": [{\"marker\": {\"colorbar\": {\"outlinewidth\": 0, \"ticks\": \"\"}}, \"type\": \"scattercarpet\"}], \"scattergeo\": [{\"marker\": {\"colorbar\": {\"outlinewidth\": 0, \"ticks\": \"\"}}, \"type\": \"scattergeo\"}], \"scattergl\": [{\"marker\": {\"colorbar\": {\"outlinewidth\": 0, \"ticks\": \"\"}}, \"type\": \"scattergl\"}], \"scattermapbox\": [{\"marker\": {\"colorbar\": {\"outlinewidth\": 0, \"ticks\": \"\"}}, \"type\": \"scattermapbox\"}], \"scatterpolar\": [{\"marker\": {\"colorbar\": {\"outlinewidth\": 0, \"ticks\": \"\"}}, \"type\": \"scatterpolar\"}], \"scatterpolargl\": [{\"marker\": {\"colorbar\": {\"outlinewidth\": 0, \"ticks\": \"\"}}, \"type\": \"scatterpolargl\"}], \"scatterternary\": [{\"marker\": {\"colorbar\": {\"outlinewidth\": 0, \"ticks\": \"\"}}, \"type\": \"scatterternary\"}], \"surface\": [{\"colorbar\": {\"outlinewidth\": 0, \"ticks\": \"\"}, \"colorscale\": [[0.0, \"#0d0887\"], [0.1111111111111111, \"#46039f\"], [0.2222222222222222, \"#7201a8\"], [0.3333333333333333, \"#9c179e\"], [0.4444444444444444, \"#bd3786\"], [0.5555555555555556, \"#d8576b\"], [0.6666666666666666, \"#ed7953\"], [0.7777777777777778, \"#fb9f3a\"], [0.8888888888888888, \"#fdca26\"], [1.0, \"#f0f921\"]], \"type\": \"surface\"}], \"table\": [{\"cells\": {\"fill\": {\"color\": \"#EBF0F8\"}, \"line\": {\"color\": \"white\"}}, \"header\": {\"fill\": {\"color\": \"#C8D4E3\"}, \"line\": {\"color\": \"white\"}}, \"type\": \"table\"}]}, \"layout\": {\"annotationdefaults\": {\"arrowcolor\": \"#2a3f5f\", \"arrowhead\": 0, \"arrowwidth\": 1}, \"coloraxis\": {\"colorbar\": {\"outlinewidth\": 0, \"ticks\": \"\"}}, \"colorscale\": {\"diverging\": [[0, \"#8e0152\"], [0.1, \"#c51b7d\"], [0.2, \"#de77ae\"], [0.3, \"#f1b6da\"], [0.4, \"#fde0ef\"], [0.5, \"#f7f7f7\"], [0.6, \"#e6f5d0\"], [0.7, \"#b8e186\"], [0.8, \"#7fbc41\"], [0.9, \"#4d9221\"], [1, \"#276419\"]], \"sequential\": [[0.0, \"#0d0887\"], [0.1111111111111111, \"#46039f\"], [0.2222222222222222, \"#7201a8\"], [0.3333333333333333, \"#9c179e\"], [0.4444444444444444, \"#bd3786\"], [0.5555555555555556, \"#d8576b\"], [0.6666666666666666, \"#ed7953\"], [0.7777777777777778, \"#fb9f3a\"], [0.8888888888888888, \"#fdca26\"], [1.0, \"#f0f921\"]], \"sequentialminus\": [[0.0, \"#0d0887\"], [0.1111111111111111, \"#46039f\"], [0.2222222222222222, \"#7201a8\"], [0.3333333333333333, \"#9c179e\"], [0.4444444444444444, \"#bd3786\"], [0.5555555555555556, \"#d8576b\"], [0.6666666666666666, \"#ed7953\"], [0.7777777777777778, \"#fb9f3a\"], [0.8888888888888888, \"#fdca26\"], [1.0, \"#f0f921\"]]}, \"colorway\": [\"#636efa\", \"#EF553B\", \"#00cc96\", \"#ab63fa\", \"#FFA15A\", \"#19d3f3\", \"#FF6692\", \"#B6E880\", \"#FF97FF\", \"#FECB52\"], \"font\": {\"color\": \"#2a3f5f\"}, \"geo\": {\"bgcolor\": \"white\", \"lakecolor\": \"white\", \"landcolor\": \"#E5ECF6\", \"showlakes\": true, \"showland\": true, \"subunitcolor\": \"white\"}, \"hoverlabel\": {\"align\": \"left\"}, \"hovermode\": \"closest\", \"mapbox\": {\"style\": \"light\"}, \"paper_bgcolor\": \"white\", \"plot_bgcolor\": \"#E5ECF6\", \"polar\": {\"angularaxis\": {\"gridcolor\": \"white\", \"linecolor\": \"white\", \"ticks\": \"\"}, \"bgcolor\": \"#E5ECF6\", \"radialaxis\": {\"gridcolor\": \"white\", \"linecolor\": \"white\", \"ticks\": \"\"}}, \"scene\": {\"xaxis\": {\"backgroundcolor\": \"#E5ECF6\", \"gridcolor\": \"white\", \"gridwidth\": 2, \"linecolor\": \"white\", \"showbackground\": true, \"ticks\": \"\", \"zerolinecolor\": \"white\"}, \"yaxis\": {\"backgroundcolor\": \"#E5ECF6\", \"gridcolor\": \"white\", \"gridwidth\": 2, \"linecolor\": \"white\", \"showbackground\": true, \"ticks\": \"\", \"zerolinecolor\": \"white\"}, \"zaxis\": {\"backgroundcolor\": \"#E5ECF6\", \"gridcolor\": \"white\", \"gridwidth\": 2, \"linecolor\": \"white\", \"showbackground\": true, \"ticks\": \"\", \"zerolinecolor\": \"white\"}}, \"shapedefaults\": {\"line\": {\"color\": \"#2a3f5f\"}}, \"ternary\": {\"aaxis\": {\"gridcolor\": \"white\", \"linecolor\": \"white\", \"ticks\": \"\"}, \"baxis\": {\"gridcolor\": \"white\", \"linecolor\": \"white\", \"ticks\": \"\"}, \"bgcolor\": \"#E5ECF6\", \"caxis\": {\"gridcolor\": \"white\", \"linecolor\": \"white\", \"ticks\": \"\"}}, \"title\": {\"x\": 0.05}, \"xaxis\": {\"automargin\": true, \"gridcolor\": \"white\", \"linecolor\": \"white\", \"ticks\": \"\", \"title\": {\"standoff\": 15}, \"zerolinecolor\": \"white\", \"zerolinewidth\": 2}, \"yaxis\": {\"automargin\": true, \"gridcolor\": \"white\", \"linecolor\": \"white\", \"ticks\": \"\", \"title\": {\"standoff\": 15}, \"zerolinecolor\": \"white\", \"zerolinewidth\": 2}}}, \"title\": {\"text\": \"Rent of Census Year 2006,2011 and 2016\"}, \"xaxis\": {\"anchor\": \"y\", \"domain\": [0.0, 1.0], \"title\": {\"text\": \"SA2 Name\"}}, \"yaxis\": {\"anchor\": \"x\", \"domain\": [0.0, 1.0], \"title\": {\"text\": \"value\"}}},                        {\"responsive\": true}                    ).then(function(){\n",
       "                            \n",
       "var gd = document.getElementById('96cacd5f-e9a2-43cc-b5c6-d4c2baebd499');\n",
       "var x = new MutationObserver(function (mutations, observer) {{\n",
       "        var display = window.getComputedStyle(gd).display;\n",
       "        if (!display || display === 'none') {{\n",
       "            console.log([gd, 'removed!']);\n",
       "            Plotly.purge(gd);\n",
       "            observer.disconnect();\n",
       "        }}\n",
       "}});\n",
       "\n",
       "// Listen for the removal of the full notebook cells\n",
       "var notebookContainer = gd.closest('#notebook-container');\n",
       "if (notebookContainer) {{\n",
       "    x.observe(notebookContainer, {childList: true});\n",
       "}}\n",
       "\n",
       "// Listen for the clearing of the current output cell\n",
       "var outputEl = gd.closest('.output');\n",
       "if (outputEl) {{\n",
       "    x.observe(outputEl, {childList: true});\n",
       "}}\n",
       "\n",
       "                        })                };                });            </script>        </div>"
      ]
     },
     "metadata": {},
     "output_type": "display_data"
    }
   ],
   "source": [
    "import plotly.express as px\n",
    "\n",
    "# wide_df = px.data.df()\n",
    "\n",
    "fig_rent_total = px.bar(df, x=\"SA2 Name\", y=[\"Rent2006\", \"Rent2011\", \"Rent2016\"], title=\"Rent of Census Year 2006,2011 and 2016\")\n",
    "fig_rent_total.show()"
   ]
  },
  {
   "cell_type": "code",
   "execution_count": 32,
   "metadata": {},
   "outputs": [
    {
     "data": {
      "application/vnd.plotly.v1+json": {
       "config": {
        "plotlyServerURL": "https://plotly.com"
       },
       "data": [
        {
         "alignmentgroup": "True",
         "hovertemplate": "SA2 Name=%{x}<br>House%2011_2016=%{y}<extra></extra>",
         "legendgroup": "",
         "marker": {
          "color": "#636efa"
         },
         "name": "",
         "offsetgroup": "",
         "orientation": "v",
         "showlegend": false,
         "textposition": "auto",
         "type": "bar",
         "x": [
          "Kings Park (WA)",
          "North Coogee",
          "Innaloo - Doubleview",
          "Fremantle",
          "Manning - Waterford",
          "Swanbourne - Mount Claremont",
          "Fremantle - South",
          "Helena Valley - Koongamia",
          "Bentley - Wilson - St James",
          "Coolbellup",
          "Nedlands - Dalkeith - Crawley",
          "Mosman Park - Peppermint Grove",
          "Claremont (WA)",
          "Lesmurdie - Bickley - Carmel",
          "Neerabup National Park",
          "Rivervale - Kewdale - Cloverdale",
          "East Victoria Park - Carlisle",
          "Belmont - Ascot - Redcliffe",
          "Bayswater - Embleton - Bedford",
          "Yokine - Coolbinia - Menora",
          "Dianella",
          "Wanneroo",
          "Mundijong",
          "Glen Forrest - Darlington",
          "Noranda",
          "Mundaring",
          "Roleystone",
          "Huntingdale - Southern River",
          "Forrestfield - Wattle Grove",
          "High Wycombe",
          "Chidlow",
          "Riverton - Shelley - Rossmoyne",
          "Trigg - North Beach - Watermans Bay",
          "Bicton - Palmyra",
          "Booragoon",
          "Morley",
          "East Fremantle",
          "Casuarina - Wandi",
          "Mindarie - Quinns Rocks - Jindalee",
          "Spearwood",
          "Byford",
          "Wembley - West Leederville - Glendalough",
          "Nollamara - Westminster",
          "Maddington - Orange Grove - Martin",
          "Lockridge - Kiara",
          "Bassendean - Eden Hill - Ashfield",
          "Beechboro",
          "Hamilton Hill",
          "Mount Lawley - Inglewood",
          "Cannington - Queens Park",
          "Marangaroo",
          "Mount Nasura - Mount Richon - Bedfordale",
          "Waikiki",
          "Falcon - Wannanup",
          "Mandurah - East",
          "Swan View - Greenmount - Midvale",
          "Maylands",
          "Tuart Hill - Joondanna",
          "Alkimos - Eglinton",
          "Beckenham - Kenwick - Langford",
          "Coogee",
          "Stirling - Osborne Park",
          "Carramar",
          "Hazelmere - Guildford",
          "Gosnells",
          "Yangebup",
          "Craigie - Beldon",
          "Alexander Heights - Koondoola",
          "South Lake - Cockburn Central",
          "Parmelia - Orelia",
          "Safety Bay - Shoalwater",
          "Ballajura",
          "Camillo - Champion Lakes",
          "Kelmscott",
          "Bullsbrook",
          "Warnbro",
          "Stratton - Jane Brook",
          "Malmalling - Reservoir",
          "Serpentine - Jarrahdale",
          "Balcatta - Hamersley",
          "Thornlie",
          "Port Kennedy",
          "Kalamunda - Maida Vale - Gooseberry Hill",
          "Butler - Merriwa - Ridgewood",
          "Forrestdale - Harrisdale - Piara Waters",
          "Victoria Park - Lathlain - Burswood",
          "Gidgegannup",
          "Seville Grove",
          "Como",
          "Wembley Downs - Churchlands - Woodlands",
          "Willetton",
          "Scarborough",
          "Mount Hawthorn - Leederville",
          "South Perth - Kensington",
          "Melville",
          "Subiaco - Shenton Park",
          "Karrinyup - Gwelup - Carine",
          "Padbury",
          "Greenwood - Warwick",
          "Kingsley",
          "Hillarys",
          "Joondalup - Edgewater",
          "Leeming",
          "The Vines",
          "City Beach",
          "Murdoch - Kardinya",
          "Pinjarra",
          "Floreat",
          "Balga - Mirrabooka",
          "Midland - Guildford",
          "Parkwood - Ferndale - Lynwood",
          "Kwinana Industrial",
          "Perth City",
          "Middle Swan - Herne Hill",
          "North Perth",
          "Success - Hammond Park",
          "Banjup",
          "Madeley - Darch - Landsdale",
          "Girrawheen",
          "Mullaloo - Kallaroo",
          "Bateman",
          "Ellenbrook",
          "Armadale - Wungong - Brookdale",
          "Woodvale",
          "Currambine - Kinross",
          "Cooloongup",
          "Mandurah - North",
          "Clarkson",
          "Heathridge - Connolly",
          "Bertram - Wellard (West)",
          "Duncraig",
          "Sorrento - Marmion",
          "Singleton - Golden Bay - Secret Harbour",
          "Bull Creek",
          "Willagee",
          "Dawesville - Bouvard",
          "Applecross - Ardross",
          "Canning Vale - West",
          "Tapping - Ashby - Sinagra",
          "Ocean Reef",
          "Mandurah - South",
          "Yanchep",
          "Halls Head - Erskine",
          "Mandurah",
          "Greenfields",
          "Cottesloe",
          "Rockingham",
          "Calista",
          "Iluka - Burns Beach",
          "Beeliar - Wattleup",
          "Canning Vale - East",
          "Jandakot",
          "Two Rocks",
          "Winthrop",
          "Baldivis",
          "Carabooda - Pinjar",
          "Hope Valley - Postans",
          "Avon Valley National Park",
          "Malaga",
          "Melaleuca - Lexia",
          "Walyunga National Park",
          "Herdsman",
          "Osborne Park Industrial",
          "Ashendon - Lesley",
          "Kewdale Commercial",
          "Perth Airport",
          "Canning Vale Commercial",
          "Welshpool",
          "Bibra Lake",
          "Henderson",
          "O'Connor (WA)",
          "Rockingham Lakes",
          "Bibra Industrial"
         ],
         "xaxis": "x",
         "y": [
          -0.28,
          -0.16,
          0,
          0.02,
          0.03,
          0.02,
          0.01,
          -0.04,
          0.03,
          -0.01,
          0.01,
          0.02,
          0.01,
          -0.01,
          0,
          0.02,
          0.03,
          0.01,
          0.02,
          0.02,
          0.02,
          0,
          -0.01,
          -0.01,
          -0.01,
          -0.01,
          -0.03,
          0.04,
          0.03,
          -0.02,
          0.01,
          0.03,
          0.04,
          0.03,
          0.03,
          0.01,
          0.01,
          -0.08,
          -0.02,
          -0.01,
          -0.01,
          0.04,
          0.01,
          0.05,
          0.04,
          0.01,
          0,
          0,
          0.02,
          0.07,
          0.01,
          -0.01,
          -0.01,
          0,
          0.02,
          -0.01,
          0.04,
          0.03,
          0.18,
          0.02,
          0,
          0.01,
          -0.02,
          0,
          0.03,
          -0.01,
          0.02,
          0.02,
          -0.04,
          -0.01,
          0,
          -0.02,
          -0.04,
          0.01,
          0,
          -0.03,
          -0.03,
          0.3,
          0.02,
          0.01,
          0.01,
          -0.02,
          -0.01,
          -0.02,
          0.04,
          0.04,
          0.01,
          0.02,
          0.03,
          0.02,
          0.05,
          0.04,
          0.03,
          0.02,
          0.02,
          0.03,
          0.01,
          -0.01,
          0,
          -0.01,
          -0.01,
          -0.03,
          -0.03,
          0.01,
          0.02,
          -0.04,
          0,
          0.01,
          -0.01,
          0.02,
          0.01,
          0,
          0.03,
          -0.01,
          0.02,
          0.03,
          0.02,
          0,
          0.04,
          0,
          -0.01,
          -0.03,
          0.01,
          -0.02,
          -0.03,
          -0.01,
          0.03,
          -0.02,
          -0.01,
          0.03,
          0.01,
          0,
          -0.01,
          0.02,
          0.03,
          -0.02,
          0.02,
          -0.02,
          0,
          -0.04,
          -0.01,
          0.05,
          -0.02,
          -0.01,
          -0.03,
          0.01,
          0.01,
          0,
          -0.03,
          -0.05,
          0.02,
          -0.05,
          0.05,
          -0.04,
          -0.01,
          0.05,
          -0.04,
          0,
          0,
          0,
          0,
          0,
          0,
          0,
          0,
          0,
          0,
          0,
          0,
          0,
          0,
          0,
          0
         ],
         "yaxis": "y"
        }
       ],
       "layout": {
        "barmode": "relative",
        "legend": {
         "tracegroupgap": 0
        },
        "template": {
         "data": {
          "bar": [
           {
            "error_x": {
             "color": "#2a3f5f"
            },
            "error_y": {
             "color": "#2a3f5f"
            },
            "marker": {
             "line": {
              "color": "#E5ECF6",
              "width": 0.5
             }
            },
            "type": "bar"
           }
          ],
          "barpolar": [
           {
            "marker": {
             "line": {
              "color": "#E5ECF6",
              "width": 0.5
             }
            },
            "type": "barpolar"
           }
          ],
          "carpet": [
           {
            "aaxis": {
             "endlinecolor": "#2a3f5f",
             "gridcolor": "white",
             "linecolor": "white",
             "minorgridcolor": "white",
             "startlinecolor": "#2a3f5f"
            },
            "baxis": {
             "endlinecolor": "#2a3f5f",
             "gridcolor": "white",
             "linecolor": "white",
             "minorgridcolor": "white",
             "startlinecolor": "#2a3f5f"
            },
            "type": "carpet"
           }
          ],
          "choropleth": [
           {
            "colorbar": {
             "outlinewidth": 0,
             "ticks": ""
            },
            "type": "choropleth"
           }
          ],
          "contour": [
           {
            "colorbar": {
             "outlinewidth": 0,
             "ticks": ""
            },
            "colorscale": [
             [
              0,
              "#0d0887"
             ],
             [
              0.1111111111111111,
              "#46039f"
             ],
             [
              0.2222222222222222,
              "#7201a8"
             ],
             [
              0.3333333333333333,
              "#9c179e"
             ],
             [
              0.4444444444444444,
              "#bd3786"
             ],
             [
              0.5555555555555556,
              "#d8576b"
             ],
             [
              0.6666666666666666,
              "#ed7953"
             ],
             [
              0.7777777777777778,
              "#fb9f3a"
             ],
             [
              0.8888888888888888,
              "#fdca26"
             ],
             [
              1,
              "#f0f921"
             ]
            ],
            "type": "contour"
           }
          ],
          "contourcarpet": [
           {
            "colorbar": {
             "outlinewidth": 0,
             "ticks": ""
            },
            "type": "contourcarpet"
           }
          ],
          "heatmap": [
           {
            "colorbar": {
             "outlinewidth": 0,
             "ticks": ""
            },
            "colorscale": [
             [
              0,
              "#0d0887"
             ],
             [
              0.1111111111111111,
              "#46039f"
             ],
             [
              0.2222222222222222,
              "#7201a8"
             ],
             [
              0.3333333333333333,
              "#9c179e"
             ],
             [
              0.4444444444444444,
              "#bd3786"
             ],
             [
              0.5555555555555556,
              "#d8576b"
             ],
             [
              0.6666666666666666,
              "#ed7953"
             ],
             [
              0.7777777777777778,
              "#fb9f3a"
             ],
             [
              0.8888888888888888,
              "#fdca26"
             ],
             [
              1,
              "#f0f921"
             ]
            ],
            "type": "heatmap"
           }
          ],
          "heatmapgl": [
           {
            "colorbar": {
             "outlinewidth": 0,
             "ticks": ""
            },
            "colorscale": [
             [
              0,
              "#0d0887"
             ],
             [
              0.1111111111111111,
              "#46039f"
             ],
             [
              0.2222222222222222,
              "#7201a8"
             ],
             [
              0.3333333333333333,
              "#9c179e"
             ],
             [
              0.4444444444444444,
              "#bd3786"
             ],
             [
              0.5555555555555556,
              "#d8576b"
             ],
             [
              0.6666666666666666,
              "#ed7953"
             ],
             [
              0.7777777777777778,
              "#fb9f3a"
             ],
             [
              0.8888888888888888,
              "#fdca26"
             ],
             [
              1,
              "#f0f921"
             ]
            ],
            "type": "heatmapgl"
           }
          ],
          "histogram": [
           {
            "marker": {
             "colorbar": {
              "outlinewidth": 0,
              "ticks": ""
             }
            },
            "type": "histogram"
           }
          ],
          "histogram2d": [
           {
            "colorbar": {
             "outlinewidth": 0,
             "ticks": ""
            },
            "colorscale": [
             [
              0,
              "#0d0887"
             ],
             [
              0.1111111111111111,
              "#46039f"
             ],
             [
              0.2222222222222222,
              "#7201a8"
             ],
             [
              0.3333333333333333,
              "#9c179e"
             ],
             [
              0.4444444444444444,
              "#bd3786"
             ],
             [
              0.5555555555555556,
              "#d8576b"
             ],
             [
              0.6666666666666666,
              "#ed7953"
             ],
             [
              0.7777777777777778,
              "#fb9f3a"
             ],
             [
              0.8888888888888888,
              "#fdca26"
             ],
             [
              1,
              "#f0f921"
             ]
            ],
            "type": "histogram2d"
           }
          ],
          "histogram2dcontour": [
           {
            "colorbar": {
             "outlinewidth": 0,
             "ticks": ""
            },
            "colorscale": [
             [
              0,
              "#0d0887"
             ],
             [
              0.1111111111111111,
              "#46039f"
             ],
             [
              0.2222222222222222,
              "#7201a8"
             ],
             [
              0.3333333333333333,
              "#9c179e"
             ],
             [
              0.4444444444444444,
              "#bd3786"
             ],
             [
              0.5555555555555556,
              "#d8576b"
             ],
             [
              0.6666666666666666,
              "#ed7953"
             ],
             [
              0.7777777777777778,
              "#fb9f3a"
             ],
             [
              0.8888888888888888,
              "#fdca26"
             ],
             [
              1,
              "#f0f921"
             ]
            ],
            "type": "histogram2dcontour"
           }
          ],
          "mesh3d": [
           {
            "colorbar": {
             "outlinewidth": 0,
             "ticks": ""
            },
            "type": "mesh3d"
           }
          ],
          "parcoords": [
           {
            "line": {
             "colorbar": {
              "outlinewidth": 0,
              "ticks": ""
             }
            },
            "type": "parcoords"
           }
          ],
          "pie": [
           {
            "automargin": true,
            "type": "pie"
           }
          ],
          "scatter": [
           {
            "marker": {
             "colorbar": {
              "outlinewidth": 0,
              "ticks": ""
             }
            },
            "type": "scatter"
           }
          ],
          "scatter3d": [
           {
            "line": {
             "colorbar": {
              "outlinewidth": 0,
              "ticks": ""
             }
            },
            "marker": {
             "colorbar": {
              "outlinewidth": 0,
              "ticks": ""
             }
            },
            "type": "scatter3d"
           }
          ],
          "scattercarpet": [
           {
            "marker": {
             "colorbar": {
              "outlinewidth": 0,
              "ticks": ""
             }
            },
            "type": "scattercarpet"
           }
          ],
          "scattergeo": [
           {
            "marker": {
             "colorbar": {
              "outlinewidth": 0,
              "ticks": ""
             }
            },
            "type": "scattergeo"
           }
          ],
          "scattergl": [
           {
            "marker": {
             "colorbar": {
              "outlinewidth": 0,
              "ticks": ""
             }
            },
            "type": "scattergl"
           }
          ],
          "scattermapbox": [
           {
            "marker": {
             "colorbar": {
              "outlinewidth": 0,
              "ticks": ""
             }
            },
            "type": "scattermapbox"
           }
          ],
          "scatterpolar": [
           {
            "marker": {
             "colorbar": {
              "outlinewidth": 0,
              "ticks": ""
             }
            },
            "type": "scatterpolar"
           }
          ],
          "scatterpolargl": [
           {
            "marker": {
             "colorbar": {
              "outlinewidth": 0,
              "ticks": ""
             }
            },
            "type": "scatterpolargl"
           }
          ],
          "scatterternary": [
           {
            "marker": {
             "colorbar": {
              "outlinewidth": 0,
              "ticks": ""
             }
            },
            "type": "scatterternary"
           }
          ],
          "surface": [
           {
            "colorbar": {
             "outlinewidth": 0,
             "ticks": ""
            },
            "colorscale": [
             [
              0,
              "#0d0887"
             ],
             [
              0.1111111111111111,
              "#46039f"
             ],
             [
              0.2222222222222222,
              "#7201a8"
             ],
             [
              0.3333333333333333,
              "#9c179e"
             ],
             [
              0.4444444444444444,
              "#bd3786"
             ],
             [
              0.5555555555555556,
              "#d8576b"
             ],
             [
              0.6666666666666666,
              "#ed7953"
             ],
             [
              0.7777777777777778,
              "#fb9f3a"
             ],
             [
              0.8888888888888888,
              "#fdca26"
             ],
             [
              1,
              "#f0f921"
             ]
            ],
            "type": "surface"
           }
          ],
          "table": [
           {
            "cells": {
             "fill": {
              "color": "#EBF0F8"
             },
             "line": {
              "color": "white"
             }
            },
            "header": {
             "fill": {
              "color": "#C8D4E3"
             },
             "line": {
              "color": "white"
             }
            },
            "type": "table"
           }
          ]
         },
         "layout": {
          "annotationdefaults": {
           "arrowcolor": "#2a3f5f",
           "arrowhead": 0,
           "arrowwidth": 1
          },
          "coloraxis": {
           "colorbar": {
            "outlinewidth": 0,
            "ticks": ""
           }
          },
          "colorscale": {
           "diverging": [
            [
             0,
             "#8e0152"
            ],
            [
             0.1,
             "#c51b7d"
            ],
            [
             0.2,
             "#de77ae"
            ],
            [
             0.3,
             "#f1b6da"
            ],
            [
             0.4,
             "#fde0ef"
            ],
            [
             0.5,
             "#f7f7f7"
            ],
            [
             0.6,
             "#e6f5d0"
            ],
            [
             0.7,
             "#b8e186"
            ],
            [
             0.8,
             "#7fbc41"
            ],
            [
             0.9,
             "#4d9221"
            ],
            [
             1,
             "#276419"
            ]
           ],
           "sequential": [
            [
             0,
             "#0d0887"
            ],
            [
             0.1111111111111111,
             "#46039f"
            ],
            [
             0.2222222222222222,
             "#7201a8"
            ],
            [
             0.3333333333333333,
             "#9c179e"
            ],
            [
             0.4444444444444444,
             "#bd3786"
            ],
            [
             0.5555555555555556,
             "#d8576b"
            ],
            [
             0.6666666666666666,
             "#ed7953"
            ],
            [
             0.7777777777777778,
             "#fb9f3a"
            ],
            [
             0.8888888888888888,
             "#fdca26"
            ],
            [
             1,
             "#f0f921"
            ]
           ],
           "sequentialminus": [
            [
             0,
             "#0d0887"
            ],
            [
             0.1111111111111111,
             "#46039f"
            ],
            [
             0.2222222222222222,
             "#7201a8"
            ],
            [
             0.3333333333333333,
             "#9c179e"
            ],
            [
             0.4444444444444444,
             "#bd3786"
            ],
            [
             0.5555555555555556,
             "#d8576b"
            ],
            [
             0.6666666666666666,
             "#ed7953"
            ],
            [
             0.7777777777777778,
             "#fb9f3a"
            ],
            [
             0.8888888888888888,
             "#fdca26"
            ],
            [
             1,
             "#f0f921"
            ]
           ]
          },
          "colorway": [
           "#636efa",
           "#EF553B",
           "#00cc96",
           "#ab63fa",
           "#FFA15A",
           "#19d3f3",
           "#FF6692",
           "#B6E880",
           "#FF97FF",
           "#FECB52"
          ],
          "font": {
           "color": "#2a3f5f"
          },
          "geo": {
           "bgcolor": "white",
           "lakecolor": "white",
           "landcolor": "#E5ECF6",
           "showlakes": true,
           "showland": true,
           "subunitcolor": "white"
          },
          "hoverlabel": {
           "align": "left"
          },
          "hovermode": "closest",
          "mapbox": {
           "style": "light"
          },
          "paper_bgcolor": "white",
          "plot_bgcolor": "#E5ECF6",
          "polar": {
           "angularaxis": {
            "gridcolor": "white",
            "linecolor": "white",
            "ticks": ""
           },
           "bgcolor": "#E5ECF6",
           "radialaxis": {
            "gridcolor": "white",
            "linecolor": "white",
            "ticks": ""
           }
          },
          "scene": {
           "xaxis": {
            "backgroundcolor": "#E5ECF6",
            "gridcolor": "white",
            "gridwidth": 2,
            "linecolor": "white",
            "showbackground": true,
            "ticks": "",
            "zerolinecolor": "white"
           },
           "yaxis": {
            "backgroundcolor": "#E5ECF6",
            "gridcolor": "white",
            "gridwidth": 2,
            "linecolor": "white",
            "showbackground": true,
            "ticks": "",
            "zerolinecolor": "white"
           },
           "zaxis": {
            "backgroundcolor": "#E5ECF6",
            "gridcolor": "white",
            "gridwidth": 2,
            "linecolor": "white",
            "showbackground": true,
            "ticks": "",
            "zerolinecolor": "white"
           }
          },
          "shapedefaults": {
           "line": {
            "color": "#2a3f5f"
           }
          },
          "ternary": {
           "aaxis": {
            "gridcolor": "white",
            "linecolor": "white",
            "ticks": ""
           },
           "baxis": {
            "gridcolor": "white",
            "linecolor": "white",
            "ticks": ""
           },
           "bgcolor": "#E5ECF6",
           "caxis": {
            "gridcolor": "white",
            "linecolor": "white",
            "ticks": ""
           }
          },
          "title": {
           "x": 0.05
          },
          "xaxis": {
           "automargin": true,
           "gridcolor": "white",
           "linecolor": "white",
           "ticks": "",
           "title": {
            "standoff": 15
           },
           "zerolinecolor": "white",
           "zerolinewidth": 2
          },
          "yaxis": {
           "automargin": true,
           "gridcolor": "white",
           "linecolor": "white",
           "ticks": "",
           "title": {
            "standoff": 15
           },
           "zerolinecolor": "white",
           "zerolinewidth": 2
          }
         }
        },
        "title": {
         "text": "% Change in Average Household Size 2006-2016"
        },
        "xaxis": {
         "anchor": "y",
         "domain": [
          0,
          1
         ],
         "title": {
          "text": "SA2 Name"
         }
        },
        "yaxis": {
         "anchor": "x",
         "domain": [
          0,
          1
         ],
         "title": {
          "text": "House%2011_2016"
         }
        }
       }
      },
      "text/html": [
       "<div>                            <div id=\"68f2d026-ff20-421c-9d26-44fc50320ae9\" class=\"plotly-graph-div\" style=\"height:525px; width:100%;\"></div>            <script type=\"text/javascript\">                require([\"plotly\"], function(Plotly) {                    window.PLOTLYENV=window.PLOTLYENV || {};                                    if (document.getElementById(\"68f2d026-ff20-421c-9d26-44fc50320ae9\")) {                    Plotly.newPlot(                        \"68f2d026-ff20-421c-9d26-44fc50320ae9\",                        [{\"alignmentgroup\": \"True\", \"hovertemplate\": \"SA2 Name=%{x}<br>House%2011_2016=%{y}<extra></extra>\", \"legendgroup\": \"\", \"marker\": {\"color\": \"#636efa\"}, \"name\": \"\", \"offsetgroup\": \"\", \"orientation\": \"v\", \"showlegend\": false, \"textposition\": \"auto\", \"type\": \"bar\", \"x\": [\"Kings Park (WA)\", \"North Coogee\", \"Innaloo - Doubleview\", \"Fremantle\", \"Manning - Waterford\", \"Swanbourne - Mount Claremont\", \"Fremantle - South\", \"Helena Valley - Koongamia\", \"Bentley - Wilson - St James\", \"Coolbellup\", \"Nedlands - Dalkeith - Crawley\", \"Mosman Park - Peppermint Grove\", \"Claremont (WA)\", \"Lesmurdie - Bickley - Carmel\", \"Neerabup National Park\", \"Rivervale - Kewdale - Cloverdale\", \"East Victoria Park - Carlisle\", \"Belmont - Ascot - Redcliffe\", \"Bayswater - Embleton - Bedford\", \"Yokine - Coolbinia - Menora\", \"Dianella\", \"Wanneroo\", \"Mundijong\", \"Glen Forrest - Darlington\", \"Noranda\", \"Mundaring\", \"Roleystone\", \"Huntingdale - Southern River\", \"Forrestfield - Wattle Grove\", \"High Wycombe\", \"Chidlow\", \"Riverton - Shelley - Rossmoyne\", \"Trigg - North Beach - Watermans Bay\", \"Bicton - Palmyra\", \"Booragoon\", \"Morley\", \"East Fremantle\", \"Casuarina - Wandi\", \"Mindarie - Quinns Rocks - Jindalee\", \"Spearwood\", \"Byford\", \"Wembley - West Leederville - Glendalough\", \"Nollamara - Westminster\", \"Maddington - Orange Grove - Martin\", \"Lockridge - Kiara\", \"Bassendean - Eden Hill - Ashfield\", \"Beechboro\", \"Hamilton Hill\", \"Mount Lawley - Inglewood\", \"Cannington - Queens Park\", \"Marangaroo\", \"Mount Nasura - Mount Richon - Bedfordale\", \"Waikiki\", \"Falcon - Wannanup\", \"Mandurah - East\", \"Swan View - Greenmount - Midvale\", \"Maylands\", \"Tuart Hill - Joondanna\", \"Alkimos - Eglinton\", \"Beckenham - Kenwick - Langford\", \"Coogee\", \"Stirling - Osborne Park\", \"Carramar\", \"Hazelmere - Guildford\", \"Gosnells\", \"Yangebup\", \"Craigie - Beldon\", \"Alexander Heights - Koondoola\", \"South Lake - Cockburn Central\", \"Parmelia - Orelia\", \"Safety Bay - Shoalwater\", \"Ballajura\", \"Camillo - Champion Lakes\", \"Kelmscott\", \"Bullsbrook\", \"Warnbro\", \"Stratton - Jane Brook\", \"Malmalling - Reservoir\", \"Serpentine - Jarrahdale\", \"Balcatta - Hamersley\", \"Thornlie\", \"Port Kennedy\", \"Kalamunda - Maida Vale - Gooseberry Hill\", \"Butler - Merriwa - Ridgewood\", \"Forrestdale - Harrisdale - Piara Waters\", \"Victoria Park - Lathlain - Burswood\", \"Gidgegannup\", \"Seville Grove\", \"Como\", \"Wembley Downs - Churchlands - Woodlands\", \"Willetton\", \"Scarborough\", \"Mount Hawthorn - Leederville\", \"South Perth - Kensington\", \"Melville\", \"Subiaco - Shenton Park\", \"Karrinyup - Gwelup - Carine\", \"Padbury\", \"Greenwood - Warwick\", \"Kingsley\", \"Hillarys\", \"Joondalup - Edgewater\", \"Leeming\", \"The Vines\", \"City Beach\", \"Murdoch - Kardinya\", \"Pinjarra\", \"Floreat\", \"Balga - Mirrabooka\", \"Midland - Guildford\", \"Parkwood - Ferndale - Lynwood\", \"Kwinana Industrial\", \"Perth City\", \"Middle Swan - Herne Hill\", \"North Perth\", \"Success - Hammond Park\", \"Banjup\", \"Madeley - Darch - Landsdale\", \"Girrawheen\", \"Mullaloo - Kallaroo\", \"Bateman\", \"Ellenbrook\", \"Armadale - Wungong - Brookdale\", \"Woodvale\", \"Currambine - Kinross\", \"Cooloongup\", \"Mandurah - North\", \"Clarkson\", \"Heathridge - Connolly\", \"Bertram - Wellard (West)\", \"Duncraig\", \"Sorrento - Marmion\", \"Singleton - Golden Bay - Secret Harbour\", \"Bull Creek\", \"Willagee\", \"Dawesville - Bouvard\", \"Applecross - Ardross\", \"Canning Vale - West\", \"Tapping - Ashby - Sinagra\", \"Ocean Reef\", \"Mandurah - South\", \"Yanchep\", \"Halls Head - Erskine\", \"Mandurah\", \"Greenfields\", \"Cottesloe\", \"Rockingham\", \"Calista\", \"Iluka - Burns Beach\", \"Beeliar - Wattleup\", \"Canning Vale - East\", \"Jandakot\", \"Two Rocks\", \"Winthrop\", \"Baldivis\", \"Carabooda - Pinjar\", \"Hope Valley - Postans\", \"Avon Valley National Park\", \"Malaga\", \"Melaleuca - Lexia\", \"Walyunga National Park\", \"Herdsman\", \"Osborne Park Industrial\", \"Ashendon - Lesley\", \"Kewdale Commercial\", \"Perth Airport\", \"Canning Vale Commercial\", \"Welshpool\", \"Bibra Lake\", \"Henderson\", \"O'Connor (WA)\", \"Rockingham Lakes\", \"Bibra Industrial\"], \"xaxis\": \"x\", \"y\": [-0.28, -0.16, 0.0, 0.02, 0.03, 0.02, 0.01, -0.04, 0.03, -0.01, 0.01, 0.02, 0.01, -0.01, 0.0, 0.02, 0.03, 0.01, 0.02, 0.02, 0.02, 0.0, -0.01, -0.01, -0.01, -0.01, -0.03, 0.04, 0.03, -0.02, 0.01, 0.03, 0.04, 0.03, 0.03, 0.01, 0.01, -0.08, -0.02, -0.01, -0.01, 0.04, 0.01, 0.05, 0.04, 0.01, 0.0, 0.0, 0.02, 0.07, 0.01, -0.01, -0.01, 0.0, 0.02, -0.01, 0.04, 0.03, 0.18, 0.02, 0.0, 0.01, -0.02, 0.0, 0.03, -0.01, 0.02, 0.02, -0.04, -0.01, 0.0, -0.02, -0.04, 0.01, 0.0, -0.03, -0.03, 0.3, 0.02, 0.01, 0.01, -0.02, -0.01, -0.02, 0.04, 0.04, 0.01, 0.02, 0.03, 0.02, 0.05, 0.04, 0.03, 0.02, 0.02, 0.03, 0.01, -0.01, 0.0, -0.01, -0.01, -0.03, -0.03, 0.01, 0.02, -0.04, 0.0, 0.01, -0.01, 0.02, 0.01, 0.0, 0.03, -0.01, 0.02, 0.03, 0.02, 0.0, 0.04, 0.0, -0.01, -0.03, 0.01, -0.02, -0.03, -0.01, 0.03, -0.02, -0.01, 0.03, 0.01, 0.0, -0.01, 0.02, 0.03, -0.02, 0.02, -0.02, 0.0, -0.04, -0.01, 0.05, -0.02, -0.01, -0.03, 0.01, 0.01, 0.0, -0.03, -0.05, 0.02, -0.05, 0.05, -0.04, -0.01, 0.05, -0.04, 0.0, 0.0, 0.0, 0.0, 0.0, 0.0, 0.0, 0.0, 0.0, 0.0, 0.0, 0.0, 0.0, 0.0, 0.0, 0.0], \"yaxis\": \"y\"}],                        {\"barmode\": \"relative\", \"legend\": {\"tracegroupgap\": 0}, \"template\": {\"data\": {\"bar\": [{\"error_x\": {\"color\": \"#2a3f5f\"}, \"error_y\": {\"color\": \"#2a3f5f\"}, \"marker\": {\"line\": {\"color\": \"#E5ECF6\", \"width\": 0.5}}, \"type\": \"bar\"}], \"barpolar\": [{\"marker\": {\"line\": {\"color\": \"#E5ECF6\", \"width\": 0.5}}, \"type\": \"barpolar\"}], \"carpet\": [{\"aaxis\": {\"endlinecolor\": \"#2a3f5f\", \"gridcolor\": \"white\", \"linecolor\": \"white\", \"minorgridcolor\": \"white\", \"startlinecolor\": \"#2a3f5f\"}, \"baxis\": {\"endlinecolor\": \"#2a3f5f\", \"gridcolor\": \"white\", \"linecolor\": \"white\", \"minorgridcolor\": \"white\", \"startlinecolor\": \"#2a3f5f\"}, \"type\": \"carpet\"}], \"choropleth\": [{\"colorbar\": {\"outlinewidth\": 0, \"ticks\": \"\"}, \"type\": \"choropleth\"}], \"contour\": [{\"colorbar\": {\"outlinewidth\": 0, \"ticks\": \"\"}, \"colorscale\": [[0.0, \"#0d0887\"], [0.1111111111111111, \"#46039f\"], [0.2222222222222222, \"#7201a8\"], [0.3333333333333333, \"#9c179e\"], [0.4444444444444444, \"#bd3786\"], [0.5555555555555556, \"#d8576b\"], [0.6666666666666666, \"#ed7953\"], [0.7777777777777778, \"#fb9f3a\"], [0.8888888888888888, \"#fdca26\"], [1.0, \"#f0f921\"]], \"type\": \"contour\"}], \"contourcarpet\": [{\"colorbar\": {\"outlinewidth\": 0, \"ticks\": \"\"}, \"type\": \"contourcarpet\"}], \"heatmap\": [{\"colorbar\": {\"outlinewidth\": 0, \"ticks\": \"\"}, \"colorscale\": [[0.0, \"#0d0887\"], [0.1111111111111111, \"#46039f\"], [0.2222222222222222, \"#7201a8\"], [0.3333333333333333, \"#9c179e\"], [0.4444444444444444, \"#bd3786\"], [0.5555555555555556, \"#d8576b\"], [0.6666666666666666, \"#ed7953\"], [0.7777777777777778, \"#fb9f3a\"], [0.8888888888888888, \"#fdca26\"], [1.0, \"#f0f921\"]], \"type\": \"heatmap\"}], \"heatmapgl\": [{\"colorbar\": {\"outlinewidth\": 0, \"ticks\": \"\"}, \"colorscale\": [[0.0, \"#0d0887\"], [0.1111111111111111, \"#46039f\"], [0.2222222222222222, \"#7201a8\"], [0.3333333333333333, \"#9c179e\"], [0.4444444444444444, \"#bd3786\"], [0.5555555555555556, \"#d8576b\"], [0.6666666666666666, \"#ed7953\"], [0.7777777777777778, \"#fb9f3a\"], [0.8888888888888888, \"#fdca26\"], [1.0, \"#f0f921\"]], \"type\": \"heatmapgl\"}], \"histogram\": [{\"marker\": {\"colorbar\": {\"outlinewidth\": 0, \"ticks\": \"\"}}, \"type\": \"histogram\"}], \"histogram2d\": [{\"colorbar\": {\"outlinewidth\": 0, \"ticks\": \"\"}, \"colorscale\": [[0.0, \"#0d0887\"], [0.1111111111111111, \"#46039f\"], [0.2222222222222222, \"#7201a8\"], [0.3333333333333333, \"#9c179e\"], [0.4444444444444444, \"#bd3786\"], [0.5555555555555556, \"#d8576b\"], [0.6666666666666666, \"#ed7953\"], [0.7777777777777778, \"#fb9f3a\"], [0.8888888888888888, \"#fdca26\"], [1.0, \"#f0f921\"]], \"type\": \"histogram2d\"}], \"histogram2dcontour\": [{\"colorbar\": {\"outlinewidth\": 0, \"ticks\": \"\"}, \"colorscale\": [[0.0, \"#0d0887\"], [0.1111111111111111, \"#46039f\"], [0.2222222222222222, \"#7201a8\"], [0.3333333333333333, \"#9c179e\"], [0.4444444444444444, \"#bd3786\"], [0.5555555555555556, \"#d8576b\"], [0.6666666666666666, \"#ed7953\"], [0.7777777777777778, \"#fb9f3a\"], [0.8888888888888888, \"#fdca26\"], [1.0, \"#f0f921\"]], \"type\": \"histogram2dcontour\"}], \"mesh3d\": [{\"colorbar\": {\"outlinewidth\": 0, \"ticks\": \"\"}, \"type\": \"mesh3d\"}], \"parcoords\": [{\"line\": {\"colorbar\": {\"outlinewidth\": 0, \"ticks\": \"\"}}, \"type\": \"parcoords\"}], \"pie\": [{\"automargin\": true, \"type\": \"pie\"}], \"scatter\": [{\"marker\": {\"colorbar\": {\"outlinewidth\": 0, \"ticks\": \"\"}}, \"type\": \"scatter\"}], \"scatter3d\": [{\"line\": {\"colorbar\": {\"outlinewidth\": 0, \"ticks\": \"\"}}, \"marker\": {\"colorbar\": {\"outlinewidth\": 0, \"ticks\": \"\"}}, \"type\": \"scatter3d\"}], \"scattercarpet\": [{\"marker\": {\"colorbar\": {\"outlinewidth\": 0, \"ticks\": \"\"}}, \"type\": \"scattercarpet\"}], \"scattergeo\": [{\"marker\": {\"colorbar\": {\"outlinewidth\": 0, \"ticks\": \"\"}}, \"type\": \"scattergeo\"}], \"scattergl\": [{\"marker\": {\"colorbar\": {\"outlinewidth\": 0, \"ticks\": \"\"}}, \"type\": \"scattergl\"}], \"scattermapbox\": [{\"marker\": {\"colorbar\": {\"outlinewidth\": 0, \"ticks\": \"\"}}, \"type\": \"scattermapbox\"}], \"scatterpolar\": [{\"marker\": {\"colorbar\": {\"outlinewidth\": 0, \"ticks\": \"\"}}, \"type\": \"scatterpolar\"}], \"scatterpolargl\": [{\"marker\": {\"colorbar\": {\"outlinewidth\": 0, \"ticks\": \"\"}}, \"type\": \"scatterpolargl\"}], \"scatterternary\": [{\"marker\": {\"colorbar\": {\"outlinewidth\": 0, \"ticks\": \"\"}}, \"type\": \"scatterternary\"}], \"surface\": [{\"colorbar\": {\"outlinewidth\": 0, \"ticks\": \"\"}, \"colorscale\": [[0.0, \"#0d0887\"], [0.1111111111111111, \"#46039f\"], [0.2222222222222222, \"#7201a8\"], [0.3333333333333333, \"#9c179e\"], [0.4444444444444444, \"#bd3786\"], [0.5555555555555556, \"#d8576b\"], [0.6666666666666666, \"#ed7953\"], [0.7777777777777778, \"#fb9f3a\"], [0.8888888888888888, \"#fdca26\"], [1.0, \"#f0f921\"]], \"type\": \"surface\"}], \"table\": [{\"cells\": {\"fill\": {\"color\": \"#EBF0F8\"}, \"line\": {\"color\": \"white\"}}, \"header\": {\"fill\": {\"color\": \"#C8D4E3\"}, \"line\": {\"color\": \"white\"}}, \"type\": \"table\"}]}, \"layout\": {\"annotationdefaults\": {\"arrowcolor\": \"#2a3f5f\", \"arrowhead\": 0, \"arrowwidth\": 1}, \"coloraxis\": {\"colorbar\": {\"outlinewidth\": 0, \"ticks\": \"\"}}, \"colorscale\": {\"diverging\": [[0, \"#8e0152\"], [0.1, \"#c51b7d\"], [0.2, \"#de77ae\"], [0.3, \"#f1b6da\"], [0.4, \"#fde0ef\"], [0.5, \"#f7f7f7\"], [0.6, \"#e6f5d0\"], [0.7, \"#b8e186\"], [0.8, \"#7fbc41\"], [0.9, \"#4d9221\"], [1, \"#276419\"]], \"sequential\": [[0.0, \"#0d0887\"], [0.1111111111111111, \"#46039f\"], [0.2222222222222222, \"#7201a8\"], [0.3333333333333333, \"#9c179e\"], [0.4444444444444444, \"#bd3786\"], [0.5555555555555556, \"#d8576b\"], [0.6666666666666666, \"#ed7953\"], [0.7777777777777778, \"#fb9f3a\"], [0.8888888888888888, \"#fdca26\"], [1.0, \"#f0f921\"]], \"sequentialminus\": [[0.0, \"#0d0887\"], [0.1111111111111111, \"#46039f\"], [0.2222222222222222, \"#7201a8\"], [0.3333333333333333, \"#9c179e\"], [0.4444444444444444, \"#bd3786\"], [0.5555555555555556, \"#d8576b\"], [0.6666666666666666, \"#ed7953\"], [0.7777777777777778, \"#fb9f3a\"], [0.8888888888888888, \"#fdca26\"], [1.0, \"#f0f921\"]]}, \"colorway\": [\"#636efa\", \"#EF553B\", \"#00cc96\", \"#ab63fa\", \"#FFA15A\", \"#19d3f3\", \"#FF6692\", \"#B6E880\", \"#FF97FF\", \"#FECB52\"], \"font\": {\"color\": \"#2a3f5f\"}, \"geo\": {\"bgcolor\": \"white\", \"lakecolor\": \"white\", \"landcolor\": \"#E5ECF6\", \"showlakes\": true, \"showland\": true, \"subunitcolor\": \"white\"}, \"hoverlabel\": {\"align\": \"left\"}, \"hovermode\": \"closest\", \"mapbox\": {\"style\": \"light\"}, \"paper_bgcolor\": \"white\", \"plot_bgcolor\": \"#E5ECF6\", \"polar\": {\"angularaxis\": {\"gridcolor\": \"white\", \"linecolor\": \"white\", \"ticks\": \"\"}, \"bgcolor\": \"#E5ECF6\", \"radialaxis\": {\"gridcolor\": \"white\", \"linecolor\": \"white\", \"ticks\": \"\"}}, \"scene\": {\"xaxis\": {\"backgroundcolor\": \"#E5ECF6\", \"gridcolor\": \"white\", \"gridwidth\": 2, \"linecolor\": \"white\", \"showbackground\": true, \"ticks\": \"\", \"zerolinecolor\": \"white\"}, \"yaxis\": {\"backgroundcolor\": \"#E5ECF6\", \"gridcolor\": \"white\", \"gridwidth\": 2, \"linecolor\": \"white\", \"showbackground\": true, \"ticks\": \"\", \"zerolinecolor\": \"white\"}, \"zaxis\": {\"backgroundcolor\": \"#E5ECF6\", \"gridcolor\": \"white\", \"gridwidth\": 2, \"linecolor\": \"white\", \"showbackground\": true, \"ticks\": \"\", \"zerolinecolor\": \"white\"}}, \"shapedefaults\": {\"line\": {\"color\": \"#2a3f5f\"}}, \"ternary\": {\"aaxis\": {\"gridcolor\": \"white\", \"linecolor\": \"white\", \"ticks\": \"\"}, \"baxis\": {\"gridcolor\": \"white\", \"linecolor\": \"white\", \"ticks\": \"\"}, \"bgcolor\": \"#E5ECF6\", \"caxis\": {\"gridcolor\": \"white\", \"linecolor\": \"white\", \"ticks\": \"\"}}, \"title\": {\"x\": 0.05}, \"xaxis\": {\"automargin\": true, \"gridcolor\": \"white\", \"linecolor\": \"white\", \"ticks\": \"\", \"title\": {\"standoff\": 15}, \"zerolinecolor\": \"white\", \"zerolinewidth\": 2}, \"yaxis\": {\"automargin\": true, \"gridcolor\": \"white\", \"linecolor\": \"white\", \"ticks\": \"\", \"title\": {\"standoff\": 15}, \"zerolinecolor\": \"white\", \"zerolinewidth\": 2}}}, \"title\": {\"text\": \"% Change in Average Household Size 2006-2016\"}, \"xaxis\": {\"anchor\": \"y\", \"domain\": [0.0, 1.0], \"title\": {\"text\": \"SA2 Name\"}}, \"yaxis\": {\"anchor\": \"x\", \"domain\": [0.0, 1.0], \"title\": {\"text\": \"House%2011_2016\"}}},                        {\"responsive\": true}                    ).then(function(){\n",
       "                            \n",
       "var gd = document.getElementById('68f2d026-ff20-421c-9d26-44fc50320ae9');\n",
       "var x = new MutationObserver(function (mutations, observer) {{\n",
       "        var display = window.getComputedStyle(gd).display;\n",
       "        if (!display || display === 'none') {{\n",
       "            console.log([gd, 'removed!']);\n",
       "            Plotly.purge(gd);\n",
       "            observer.disconnect();\n",
       "        }}\n",
       "}});\n",
       "\n",
       "// Listen for the removal of the full notebook cells\n",
       "var notebookContainer = gd.closest('#notebook-container');\n",
       "if (notebookContainer) {{\n",
       "    x.observe(notebookContainer, {childList: true});\n",
       "}}\n",
       "\n",
       "// Listen for the clearing of the current output cell\n",
       "var outputEl = gd.closest('.output');\n",
       "if (outputEl) {{\n",
       "    x.observe(outputEl, {childList: true});\n",
       "}}\n",
       "\n",
       "                        })                };                });            </script>        </div>"
      ]
     },
     "metadata": {},
     "output_type": "display_data"
    }
   ],
   "source": [
    "#household size\n",
    "fig_house = px.bar(df, x='SA2 Name', y='House%2011_2016', title=\"% Change in Average Household Size 2006-2016\")\n",
    "fig_house.show()"
   ]
  },
  {
   "cell_type": "code",
   "execution_count": 31,
   "metadata": {},
   "outputs": [
    {
     "data": {
      "application/vnd.plotly.v1+json": {
       "config": {
        "plotlyServerURL": "https://plotly.com"
       },
       "data": [
        {
         "alignmentgroup": "True",
         "hovertemplate": "variable=House_avg2006<br>SA2 Name=%{x}<br>value=%{y}<extra></extra>",
         "legendgroup": "House_avg2006",
         "marker": {
          "color": "#636efa"
         },
         "name": "House_avg2006",
         "offsetgroup": "House_avg2006",
         "orientation": "v",
         "showlegend": true,
         "textposition": "auto",
         "type": "bar",
         "x": [
          "Kings Park (WA)",
          "North Coogee",
          "Innaloo - Doubleview",
          "Fremantle",
          "Manning - Waterford",
          "Swanbourne - Mount Claremont",
          "Fremantle - South",
          "Helena Valley - Koongamia",
          "Bentley - Wilson - St James",
          "Coolbellup",
          "Nedlands - Dalkeith - Crawley",
          "Mosman Park - Peppermint Grove",
          "Claremont (WA)",
          "Lesmurdie - Bickley - Carmel",
          "Neerabup National Park",
          "Rivervale - Kewdale - Cloverdale",
          "East Victoria Park - Carlisle",
          "Belmont - Ascot - Redcliffe",
          "Bayswater - Embleton - Bedford",
          "Yokine - Coolbinia - Menora",
          "Dianella",
          "Wanneroo",
          "Mundijong",
          "Glen Forrest - Darlington",
          "Noranda",
          "Mundaring",
          "Roleystone",
          "Huntingdale - Southern River",
          "Forrestfield - Wattle Grove",
          "High Wycombe",
          "Chidlow",
          "Riverton - Shelley - Rossmoyne",
          "Trigg - North Beach - Watermans Bay",
          "Bicton - Palmyra",
          "Booragoon",
          "Morley",
          "East Fremantle",
          "Casuarina - Wandi",
          "Mindarie - Quinns Rocks - Jindalee",
          "Spearwood",
          "Byford",
          "Wembley - West Leederville - Glendalough",
          "Nollamara - Westminster",
          "Maddington - Orange Grove - Martin",
          "Lockridge - Kiara",
          "Bassendean - Eden Hill - Ashfield",
          "Beechboro",
          "Hamilton Hill",
          "Mount Lawley - Inglewood",
          "Cannington - Queens Park",
          "Marangaroo",
          "Mount Nasura - Mount Richon - Bedfordale",
          "Waikiki",
          "Falcon - Wannanup",
          "Mandurah - East",
          "Swan View - Greenmount - Midvale",
          "Maylands",
          "Tuart Hill - Joondanna",
          "Alkimos - Eglinton",
          "Beckenham - Kenwick - Langford",
          "Coogee",
          "Stirling - Osborne Park",
          "Carramar",
          "Hazelmere - Guildford",
          "Gosnells",
          "Yangebup",
          "Craigie - Beldon",
          "Alexander Heights - Koondoola",
          "South Lake - Cockburn Central",
          "Parmelia - Orelia",
          "Safety Bay - Shoalwater",
          "Ballajura",
          "Camillo - Champion Lakes",
          "Kelmscott",
          "Bullsbrook",
          "Warnbro",
          "Stratton - Jane Brook",
          "Malmalling - Reservoir",
          "Serpentine - Jarrahdale",
          "Balcatta - Hamersley",
          "Thornlie",
          "Port Kennedy",
          "Kalamunda - Maida Vale - Gooseberry Hill",
          "Butler - Merriwa - Ridgewood",
          "Forrestdale - Harrisdale - Piara Waters",
          "Victoria Park - Lathlain - Burswood",
          "Gidgegannup",
          "Seville Grove",
          "Como",
          "Wembley Downs - Churchlands - Woodlands",
          "Willetton",
          "Scarborough",
          "Mount Hawthorn - Leederville",
          "South Perth - Kensington",
          "Melville",
          "Subiaco - Shenton Park",
          "Karrinyup - Gwelup - Carine",
          "Padbury",
          "Greenwood - Warwick",
          "Kingsley",
          "Hillarys",
          "Joondalup - Edgewater",
          "Leeming",
          "The Vines",
          "City Beach",
          "Murdoch - Kardinya",
          "Pinjarra",
          "Floreat",
          "Balga - Mirrabooka",
          "Midland - Guildford",
          "Parkwood - Ferndale - Lynwood",
          "Kwinana Industrial",
          "Perth City",
          "Middle Swan - Herne Hill",
          "North Perth",
          "Success - Hammond Park",
          "Banjup",
          "Madeley - Darch - Landsdale",
          "Girrawheen",
          "Mullaloo - Kallaroo",
          "Bateman",
          "Ellenbrook",
          "Armadale - Wungong - Brookdale",
          "Woodvale",
          "Currambine - Kinross",
          "Cooloongup",
          "Mandurah - North",
          "Clarkson",
          "Heathridge - Connolly",
          "Bertram - Wellard (West)",
          "Duncraig",
          "Sorrento - Marmion",
          "Singleton - Golden Bay - Secret Harbour",
          "Bull Creek",
          "Willagee",
          "Dawesville - Bouvard",
          "Applecross - Ardross",
          "Canning Vale - West",
          "Tapping - Ashby - Sinagra",
          "Ocean Reef",
          "Mandurah - South",
          "Yanchep",
          "Halls Head - Erskine",
          "Mandurah",
          "Greenfields",
          "Cottesloe",
          "Rockingham",
          "Calista",
          "Iluka - Burns Beach",
          "Beeliar - Wattleup",
          "Canning Vale - East",
          "Jandakot",
          "Two Rocks",
          "Winthrop",
          "Baldivis",
          "Carabooda - Pinjar",
          "Hope Valley - Postans",
          "Avon Valley National Park",
          "Malaga",
          "Melaleuca - Lexia",
          "Walyunga National Park",
          "Herdsman",
          "Osborne Park Industrial",
          "Ashendon - Lesley",
          "Kewdale Commercial",
          "Perth Airport",
          "Canning Vale Commercial",
          "Welshpool",
          "Bibra Lake",
          "Henderson",
          "O'Connor (WA)",
          "Rockingham Lakes",
          "Bibra Industrial"
         ],
         "xaxis": "x",
         "y": [
          0,
          0,
          2.18,
          2.02,
          2.63,
          2.68,
          2.29,
          2.8,
          2.21,
          2.42,
          2.55,
          2.32,
          2.12,
          2.78,
          0,
          2.22,
          2.11,
          2.22,
          2.29,
          2.09,
          2.42,
          2.7,
          3.02,
          2.8,
          2.79,
          2.8,
          2.82,
          2.92,
          2.64,
          2.75,
          2.85,
          2.63,
          2.34,
          2.12,
          2.43,
          2.52,
          2.44,
          3.28,
          3.04,
          2.5,
          3.04,
          2.1,
          2.21,
          2.5,
          2.61,
          2.33,
          2.91,
          2.24,
          2.2,
          2.4,
          2.89,
          2.66,
          2.77,
          2.42,
          2.41,
          2.56,
          1.77,
          1.83,
          0,
          2.62,
          2.81,
          2.32,
          3.17,
          2.44,
          2.43,
          2.7,
          2.47,
          2.93,
          2.64,
          2.52,
          2.29,
          3.1,
          2.68,
          2.51,
          2.8,
          2.8,
          2.94,
          0,
          2.74,
          2.33,
          2.79,
          3.12,
          2.64,
          2.81,
          2.8,
          2.03,
          2.95,
          3.02,
          1.95,
          2.5,
          2.86,
          1.98,
          2.29,
          2.16,
          2.44,
          2.08,
          2.68,
          2.57,
          2.57,
          2.78,
          2.91,
          2.65,
          3.04,
          2.92,
          2.8,
          2.79,
          2.5,
          2.84,
          2.69,
          2.14,
          2.48,
          0.82,
          1.78,
          2.59,
          2.22,
          2.82,
          3.16,
          3.17,
          2.55,
          2.82,
          2.96,
          3,
          2.47,
          3.11,
          3.17,
          2.51,
          2.69,
          2.91,
          2.72,
          2.91,
          2.81,
          2.78,
          3.1,
          2.69,
          2.2,
          2.66,
          2.52,
          3.35,
          2.77,
          3.14,
          2.22,
          2.58,
          2.56,
          1.89,
          2.53,
          2.46,
          2.1,
          2.35,
          3.3,
          3.02,
          3.24,
          3.05,
          2.34,
          3.28,
          3.14,
          3.01,
          2.52,
          0,
          0,
          0,
          0,
          0,
          0,
          0,
          0,
          0,
          0,
          0,
          0,
          0,
          0,
          0,
          0
         ],
         "yaxis": "y"
        },
        {
         "alignmentgroup": "True",
         "hovertemplate": "variable=House_avg2011<br>SA2 Name=%{x}<br>value=%{y}<extra></extra>",
         "legendgroup": "House_avg2011",
         "marker": {
          "color": "#EF553B"
         },
         "name": "House_avg2011",
         "offsetgroup": "House_avg2011",
         "orientation": "v",
         "showlegend": true,
         "textposition": "auto",
         "type": "bar",
         "x": [
          "Kings Park (WA)",
          "North Coogee",
          "Innaloo - Doubleview",
          "Fremantle",
          "Manning - Waterford",
          "Swanbourne - Mount Claremont",
          "Fremantle - South",
          "Helena Valley - Koongamia",
          "Bentley - Wilson - St James",
          "Coolbellup",
          "Nedlands - Dalkeith - Crawley",
          "Mosman Park - Peppermint Grove",
          "Claremont (WA)",
          "Lesmurdie - Bickley - Carmel",
          "Neerabup National Park",
          "Rivervale - Kewdale - Cloverdale",
          "East Victoria Park - Carlisle",
          "Belmont - Ascot - Redcliffe",
          "Bayswater - Embleton - Bedford",
          "Yokine - Coolbinia - Menora",
          "Dianella",
          "Wanneroo",
          "Mundijong",
          "Glen Forrest - Darlington",
          "Noranda",
          "Mundaring",
          "Roleystone",
          "Huntingdale - Southern River",
          "Forrestfield - Wattle Grove",
          "High Wycombe",
          "Chidlow",
          "Riverton - Shelley - Rossmoyne",
          "Trigg - North Beach - Watermans Bay",
          "Bicton - Palmyra",
          "Booragoon",
          "Morley",
          "East Fremantle",
          "Casuarina - Wandi",
          "Mindarie - Quinns Rocks - Jindalee",
          "Spearwood",
          "Byford",
          "Wembley - West Leederville - Glendalough",
          "Nollamara - Westminster",
          "Maddington - Orange Grove - Martin",
          "Lockridge - Kiara",
          "Bassendean - Eden Hill - Ashfield",
          "Beechboro",
          "Hamilton Hill",
          "Mount Lawley - Inglewood",
          "Cannington - Queens Park",
          "Marangaroo",
          "Mount Nasura - Mount Richon - Bedfordale",
          "Waikiki",
          "Falcon - Wannanup",
          "Mandurah - East",
          "Swan View - Greenmount - Midvale",
          "Maylands",
          "Tuart Hill - Joondanna",
          "Alkimos - Eglinton",
          "Beckenham - Kenwick - Langford",
          "Coogee",
          "Stirling - Osborne Park",
          "Carramar",
          "Hazelmere - Guildford",
          "Gosnells",
          "Yangebup",
          "Craigie - Beldon",
          "Alexander Heights - Koondoola",
          "South Lake - Cockburn Central",
          "Parmelia - Orelia",
          "Safety Bay - Shoalwater",
          "Ballajura",
          "Camillo - Champion Lakes",
          "Kelmscott",
          "Bullsbrook",
          "Warnbro",
          "Stratton - Jane Brook",
          "Malmalling - Reservoir",
          "Serpentine - Jarrahdale",
          "Balcatta - Hamersley",
          "Thornlie",
          "Port Kennedy",
          "Kalamunda - Maida Vale - Gooseberry Hill",
          "Butler - Merriwa - Ridgewood",
          "Forrestdale - Harrisdale - Piara Waters",
          "Victoria Park - Lathlain - Burswood",
          "Gidgegannup",
          "Seville Grove",
          "Como",
          "Wembley Downs - Churchlands - Woodlands",
          "Willetton",
          "Scarborough",
          "Mount Hawthorn - Leederville",
          "South Perth - Kensington",
          "Melville",
          "Subiaco - Shenton Park",
          "Karrinyup - Gwelup - Carine",
          "Padbury",
          "Greenwood - Warwick",
          "Kingsley",
          "Hillarys",
          "Joondalup - Edgewater",
          "Leeming",
          "The Vines",
          "City Beach",
          "Murdoch - Kardinya",
          "Pinjarra",
          "Floreat",
          "Balga - Mirrabooka",
          "Midland - Guildford",
          "Parkwood - Ferndale - Lynwood",
          "Kwinana Industrial",
          "Perth City",
          "Middle Swan - Herne Hill",
          "North Perth",
          "Success - Hammond Park",
          "Banjup",
          "Madeley - Darch - Landsdale",
          "Girrawheen",
          "Mullaloo - Kallaroo",
          "Bateman",
          "Ellenbrook",
          "Armadale - Wungong - Brookdale",
          "Woodvale",
          "Currambine - Kinross",
          "Cooloongup",
          "Mandurah - North",
          "Clarkson",
          "Heathridge - Connolly",
          "Bertram - Wellard (West)",
          "Duncraig",
          "Sorrento - Marmion",
          "Singleton - Golden Bay - Secret Harbour",
          "Bull Creek",
          "Willagee",
          "Dawesville - Bouvard",
          "Applecross - Ardross",
          "Canning Vale - West",
          "Tapping - Ashby - Sinagra",
          "Ocean Reef",
          "Mandurah - South",
          "Yanchep",
          "Halls Head - Erskine",
          "Mandurah",
          "Greenfields",
          "Cottesloe",
          "Rockingham",
          "Calista",
          "Iluka - Burns Beach",
          "Beeliar - Wattleup",
          "Canning Vale - East",
          "Jandakot",
          "Two Rocks",
          "Winthrop",
          "Baldivis",
          "Carabooda - Pinjar",
          "Hope Valley - Postans",
          "Avon Valley National Park",
          "Malaga",
          "Melaleuca - Lexia",
          "Walyunga National Park",
          "Herdsman",
          "Osborne Park Industrial",
          "Ashendon - Lesley",
          "Kewdale Commercial",
          "Perth Airport",
          "Canning Vale Commercial",
          "Welshpool",
          "Bibra Lake",
          "Henderson",
          "O'Connor (WA)",
          "Rockingham Lakes",
          "Bibra Industrial"
         ],
         "xaxis": "x",
         "y": [
          1.8,
          2.92,
          2.26,
          2.08,
          2.61,
          2.68,
          2.36,
          2.71,
          2.37,
          2.44,
          2.67,
          2.37,
          2.2,
          2.8,
          0,
          2.35,
          2.28,
          2.39,
          2.39,
          2.2,
          2.48,
          2.72,
          3.1,
          2.76,
          2.73,
          2.78,
          2.84,
          2.99,
          2.67,
          2.69,
          2.66,
          2.7,
          2.39,
          2.22,
          2.47,
          2.55,
          2.48,
          3.09,
          3.08,
          2.44,
          3.03,
          2.23,
          2.3,
          2.57,
          2.62,
          2.39,
          2.95,
          2.27,
          2.24,
          2.61,
          2.9,
          2.73,
          2.75,
          2.42,
          2.35,
          2.53,
          1.96,
          1.96,
          2.33,
          2.73,
          2.76,
          2.43,
          3.12,
          2.52,
          2.47,
          2.76,
          2.46,
          2.9,
          2.62,
          2.56,
          2.32,
          3.07,
          2.7,
          2.46,
          2.83,
          2.78,
          2.88,
          2,
          2.69,
          2.34,
          2.78,
          3.09,
          2.62,
          2.86,
          2.93,
          2.17,
          2.88,
          2.94,
          2.05,
          2.62,
          2.9,
          2.06,
          2.4,
          2.23,
          2.53,
          2.12,
          2.72,
          2.62,
          2.61,
          2.7,
          2.88,
          2.6,
          2.95,
          2.9,
          2.84,
          2.71,
          2.55,
          2.97,
          2.76,
          2.14,
          2.5,
          0,
          1.85,
          2.57,
          2.34,
          2.82,
          3.08,
          3.18,
          2.62,
          2.79,
          2.9,
          3.02,
          2.45,
          2.99,
          3.07,
          2.5,
          2.71,
          2.8,
          2.68,
          2.91,
          2.81,
          2.75,
          3.16,
          2.63,
          2.34,
          2.63,
          2.54,
          3.27,
          2.99,
          3.07,
          2.27,
          2.65,
          2.53,
          1.96,
          2.44,
          2.47,
          2.11,
          2.49,
          3.3,
          3,
          3.15,
          3.04,
          2.47,
          3.21,
          2.99,
          2.88,
          2.47,
          0,
          0.6,
          0,
          0,
          0,
          0,
          0,
          0,
          0,
          0,
          0,
          0,
          1,
          0,
          0,
          0
         ],
         "yaxis": "y"
        },
        {
         "alignmentgroup": "True",
         "hovertemplate": "variable=House_avg2016<br>SA2 Name=%{x}<br>value=%{y}<extra></extra>",
         "legendgroup": "House_avg2016",
         "marker": {
          "color": "#00cc96"
         },
         "name": "House_avg2016",
         "offsetgroup": "House_avg2016",
         "orientation": "v",
         "showlegend": true,
         "textposition": "auto",
         "type": "bar",
         "x": [
          "Kings Park (WA)",
          "North Coogee",
          "Innaloo - Doubleview",
          "Fremantle",
          "Manning - Waterford",
          "Swanbourne - Mount Claremont",
          "Fremantle - South",
          "Helena Valley - Koongamia",
          "Bentley - Wilson - St James",
          "Coolbellup",
          "Nedlands - Dalkeith - Crawley",
          "Mosman Park - Peppermint Grove",
          "Claremont (WA)",
          "Lesmurdie - Bickley - Carmel",
          "Neerabup National Park",
          "Rivervale - Kewdale - Cloverdale",
          "East Victoria Park - Carlisle",
          "Belmont - Ascot - Redcliffe",
          "Bayswater - Embleton - Bedford",
          "Yokine - Coolbinia - Menora",
          "Dianella",
          "Wanneroo",
          "Mundijong",
          "Glen Forrest - Darlington",
          "Noranda",
          "Mundaring",
          "Roleystone",
          "Huntingdale - Southern River",
          "Forrestfield - Wattle Grove",
          "High Wycombe",
          "Chidlow",
          "Riverton - Shelley - Rossmoyne",
          "Trigg - North Beach - Watermans Bay",
          "Bicton - Palmyra",
          "Booragoon",
          "Morley",
          "East Fremantle",
          "Casuarina - Wandi",
          "Mindarie - Quinns Rocks - Jindalee",
          "Spearwood",
          "Byford",
          "Wembley - West Leederville - Glendalough",
          "Nollamara - Westminster",
          "Maddington - Orange Grove - Martin",
          "Lockridge - Kiara",
          "Bassendean - Eden Hill - Ashfield",
          "Beechboro",
          "Hamilton Hill",
          "Mount Lawley - Inglewood",
          "Cannington - Queens Park",
          "Marangaroo",
          "Mount Nasura - Mount Richon - Bedfordale",
          "Waikiki",
          "Falcon - Wannanup",
          "Mandurah - East",
          "Swan View - Greenmount - Midvale",
          "Maylands",
          "Tuart Hill - Joondanna",
          "Alkimos - Eglinton",
          "Beckenham - Kenwick - Langford",
          "Coogee",
          "Stirling - Osborne Park",
          "Carramar",
          "Hazelmere - Guildford",
          "Gosnells",
          "Yangebup",
          "Craigie - Beldon",
          "Alexander Heights - Koondoola",
          "South Lake - Cockburn Central",
          "Parmelia - Orelia",
          "Safety Bay - Shoalwater",
          "Ballajura",
          "Camillo - Champion Lakes",
          "Kelmscott",
          "Bullsbrook",
          "Warnbro",
          "Stratton - Jane Brook",
          "Malmalling - Reservoir",
          "Serpentine - Jarrahdale",
          "Balcatta - Hamersley",
          "Thornlie",
          "Port Kennedy",
          "Kalamunda - Maida Vale - Gooseberry Hill",
          "Butler - Merriwa - Ridgewood",
          "Forrestdale - Harrisdale - Piara Waters",
          "Victoria Park - Lathlain - Burswood",
          "Gidgegannup",
          "Seville Grove",
          "Como",
          "Wembley Downs - Churchlands - Woodlands",
          "Willetton",
          "Scarborough",
          "Mount Hawthorn - Leederville",
          "South Perth - Kensington",
          "Melville",
          "Subiaco - Shenton Park",
          "Karrinyup - Gwelup - Carine",
          "Padbury",
          "Greenwood - Warwick",
          "Kingsley",
          "Hillarys",
          "Joondalup - Edgewater",
          "Leeming",
          "The Vines",
          "City Beach",
          "Murdoch - Kardinya",
          "Pinjarra",
          "Floreat",
          "Balga - Mirrabooka",
          "Midland - Guildford",
          "Parkwood - Ferndale - Lynwood",
          "Kwinana Industrial",
          "Perth City",
          "Middle Swan - Herne Hill",
          "North Perth",
          "Success - Hammond Park",
          "Banjup",
          "Madeley - Darch - Landsdale",
          "Girrawheen",
          "Mullaloo - Kallaroo",
          "Bateman",
          "Ellenbrook",
          "Armadale - Wungong - Brookdale",
          "Woodvale",
          "Currambine - Kinross",
          "Cooloongup",
          "Mandurah - North",
          "Clarkson",
          "Heathridge - Connolly",
          "Bertram - Wellard (West)",
          "Duncraig",
          "Sorrento - Marmion",
          "Singleton - Golden Bay - Secret Harbour",
          "Bull Creek",
          "Willagee",
          "Dawesville - Bouvard",
          "Applecross - Ardross",
          "Canning Vale - West",
          "Tapping - Ashby - Sinagra",
          "Ocean Reef",
          "Mandurah - South",
          "Yanchep",
          "Halls Head - Erskine",
          "Mandurah",
          "Greenfields",
          "Cottesloe",
          "Rockingham",
          "Calista",
          "Iluka - Burns Beach",
          "Beeliar - Wattleup",
          "Canning Vale - East",
          "Jandakot",
          "Two Rocks",
          "Winthrop",
          "Baldivis",
          "Carabooda - Pinjar",
          "Hope Valley - Postans",
          "Avon Valley National Park",
          "Malaga",
          "Melaleuca - Lexia",
          "Walyunga National Park",
          "Herdsman",
          "Osborne Park Industrial",
          "Ashendon - Lesley",
          "Kewdale Commercial",
          "Perth Airport",
          "Canning Vale Commercial",
          "Welshpool",
          "Bibra Lake",
          "Henderson",
          "O'Connor (WA)",
          "Rockingham Lakes",
          "Bibra Industrial"
         ],
         "xaxis": "x",
         "y": [
          1.3,
          2.45,
          2.26,
          2.13,
          2.69,
          2.74,
          2.37,
          2.6,
          2.44,
          2.41,
          2.7,
          2.42,
          2.23,
          2.78,
          0,
          2.4,
          2.35,
          2.41,
          2.44,
          2.25,
          2.52,
          2.72,
          3.08,
          2.75,
          2.7,
          2.75,
          2.75,
          3.11,
          2.74,
          2.65,
          2.68,
          2.79,
          2.47,
          2.28,
          2.55,
          2.58,
          2.51,
          2.84,
          3.01,
          2.41,
          2.99,
          2.32,
          2.34,
          2.7,
          2.71,
          2.42,
          2.96,
          2.27,
          2.28,
          2.79,
          2.92,
          2.69,
          2.73,
          2.43,
          2.4,
          2.49,
          2.04,
          2.03,
          2.75,
          2.79,
          2.75,
          2.47,
          3.07,
          2.52,
          2.55,
          2.74,
          2.51,
          2.97,
          2.5,
          2.53,
          2.31,
          3,
          2.58,
          2.48,
          2.84,
          2.68,
          2.79,
          2.6,
          2.74,
          2.37,
          2.79,
          3.03,
          2.59,
          2.81,
          3.03,
          2.25,
          2.91,
          3,
          2.11,
          2.68,
          3.05,
          2.13,
          2.46,
          2.28,
          2.59,
          2.19,
          2.76,
          2.59,
          2.6,
          2.66,
          2.86,
          2.53,
          2.86,
          2.93,
          2.88,
          2.61,
          2.57,
          3.01,
          2.72,
          2.19,
          2.52,
          3.5,
          1.9,
          2.55,
          2.39,
          2.9,
          3.14,
          3.17,
          2.73,
          2.8,
          2.88,
          2.95,
          2.49,
          2.93,
          2.98,
          2.48,
          2.79,
          2.74,
          2.64,
          3,
          2.84,
          2.75,
          3.12,
          2.68,
          2.41,
          2.58,
          2.59,
          3.2,
          2.99,
          2.96,
          2.25,
          2.79,
          2.47,
          1.94,
          2.37,
          2.5,
          2.13,
          2.49,
          3.22,
          2.86,
          3.21,
          2.89,
          2.61,
          3.1,
          2.94,
          3.03,
          2.38,
          0,
          0,
          0,
          0,
          0,
          0,
          0,
          0,
          0,
          0,
          0,
          0,
          1,
          0,
          0,
          0
         ],
         "yaxis": "y"
        }
       ],
       "layout": {
        "barmode": "relative",
        "legend": {
         "title": {
          "text": "variable"
         },
         "tracegroupgap": 0
        },
        "template": {
         "data": {
          "bar": [
           {
            "error_x": {
             "color": "#2a3f5f"
            },
            "error_y": {
             "color": "#2a3f5f"
            },
            "marker": {
             "line": {
              "color": "#E5ECF6",
              "width": 0.5
             }
            },
            "type": "bar"
           }
          ],
          "barpolar": [
           {
            "marker": {
             "line": {
              "color": "#E5ECF6",
              "width": 0.5
             }
            },
            "type": "barpolar"
           }
          ],
          "carpet": [
           {
            "aaxis": {
             "endlinecolor": "#2a3f5f",
             "gridcolor": "white",
             "linecolor": "white",
             "minorgridcolor": "white",
             "startlinecolor": "#2a3f5f"
            },
            "baxis": {
             "endlinecolor": "#2a3f5f",
             "gridcolor": "white",
             "linecolor": "white",
             "minorgridcolor": "white",
             "startlinecolor": "#2a3f5f"
            },
            "type": "carpet"
           }
          ],
          "choropleth": [
           {
            "colorbar": {
             "outlinewidth": 0,
             "ticks": ""
            },
            "type": "choropleth"
           }
          ],
          "contour": [
           {
            "colorbar": {
             "outlinewidth": 0,
             "ticks": ""
            },
            "colorscale": [
             [
              0,
              "#0d0887"
             ],
             [
              0.1111111111111111,
              "#46039f"
             ],
             [
              0.2222222222222222,
              "#7201a8"
             ],
             [
              0.3333333333333333,
              "#9c179e"
             ],
             [
              0.4444444444444444,
              "#bd3786"
             ],
             [
              0.5555555555555556,
              "#d8576b"
             ],
             [
              0.6666666666666666,
              "#ed7953"
             ],
             [
              0.7777777777777778,
              "#fb9f3a"
             ],
             [
              0.8888888888888888,
              "#fdca26"
             ],
             [
              1,
              "#f0f921"
             ]
            ],
            "type": "contour"
           }
          ],
          "contourcarpet": [
           {
            "colorbar": {
             "outlinewidth": 0,
             "ticks": ""
            },
            "type": "contourcarpet"
           }
          ],
          "heatmap": [
           {
            "colorbar": {
             "outlinewidth": 0,
             "ticks": ""
            },
            "colorscale": [
             [
              0,
              "#0d0887"
             ],
             [
              0.1111111111111111,
              "#46039f"
             ],
             [
              0.2222222222222222,
              "#7201a8"
             ],
             [
              0.3333333333333333,
              "#9c179e"
             ],
             [
              0.4444444444444444,
              "#bd3786"
             ],
             [
              0.5555555555555556,
              "#d8576b"
             ],
             [
              0.6666666666666666,
              "#ed7953"
             ],
             [
              0.7777777777777778,
              "#fb9f3a"
             ],
             [
              0.8888888888888888,
              "#fdca26"
             ],
             [
              1,
              "#f0f921"
             ]
            ],
            "type": "heatmap"
           }
          ],
          "heatmapgl": [
           {
            "colorbar": {
             "outlinewidth": 0,
             "ticks": ""
            },
            "colorscale": [
             [
              0,
              "#0d0887"
             ],
             [
              0.1111111111111111,
              "#46039f"
             ],
             [
              0.2222222222222222,
              "#7201a8"
             ],
             [
              0.3333333333333333,
              "#9c179e"
             ],
             [
              0.4444444444444444,
              "#bd3786"
             ],
             [
              0.5555555555555556,
              "#d8576b"
             ],
             [
              0.6666666666666666,
              "#ed7953"
             ],
             [
              0.7777777777777778,
              "#fb9f3a"
             ],
             [
              0.8888888888888888,
              "#fdca26"
             ],
             [
              1,
              "#f0f921"
             ]
            ],
            "type": "heatmapgl"
           }
          ],
          "histogram": [
           {
            "marker": {
             "colorbar": {
              "outlinewidth": 0,
              "ticks": ""
             }
            },
            "type": "histogram"
           }
          ],
          "histogram2d": [
           {
            "colorbar": {
             "outlinewidth": 0,
             "ticks": ""
            },
            "colorscale": [
             [
              0,
              "#0d0887"
             ],
             [
              0.1111111111111111,
              "#46039f"
             ],
             [
              0.2222222222222222,
              "#7201a8"
             ],
             [
              0.3333333333333333,
              "#9c179e"
             ],
             [
              0.4444444444444444,
              "#bd3786"
             ],
             [
              0.5555555555555556,
              "#d8576b"
             ],
             [
              0.6666666666666666,
              "#ed7953"
             ],
             [
              0.7777777777777778,
              "#fb9f3a"
             ],
             [
              0.8888888888888888,
              "#fdca26"
             ],
             [
              1,
              "#f0f921"
             ]
            ],
            "type": "histogram2d"
           }
          ],
          "histogram2dcontour": [
           {
            "colorbar": {
             "outlinewidth": 0,
             "ticks": ""
            },
            "colorscale": [
             [
              0,
              "#0d0887"
             ],
             [
              0.1111111111111111,
              "#46039f"
             ],
             [
              0.2222222222222222,
              "#7201a8"
             ],
             [
              0.3333333333333333,
              "#9c179e"
             ],
             [
              0.4444444444444444,
              "#bd3786"
             ],
             [
              0.5555555555555556,
              "#d8576b"
             ],
             [
              0.6666666666666666,
              "#ed7953"
             ],
             [
              0.7777777777777778,
              "#fb9f3a"
             ],
             [
              0.8888888888888888,
              "#fdca26"
             ],
             [
              1,
              "#f0f921"
             ]
            ],
            "type": "histogram2dcontour"
           }
          ],
          "mesh3d": [
           {
            "colorbar": {
             "outlinewidth": 0,
             "ticks": ""
            },
            "type": "mesh3d"
           }
          ],
          "parcoords": [
           {
            "line": {
             "colorbar": {
              "outlinewidth": 0,
              "ticks": ""
             }
            },
            "type": "parcoords"
           }
          ],
          "pie": [
           {
            "automargin": true,
            "type": "pie"
           }
          ],
          "scatter": [
           {
            "marker": {
             "colorbar": {
              "outlinewidth": 0,
              "ticks": ""
             }
            },
            "type": "scatter"
           }
          ],
          "scatter3d": [
           {
            "line": {
             "colorbar": {
              "outlinewidth": 0,
              "ticks": ""
             }
            },
            "marker": {
             "colorbar": {
              "outlinewidth": 0,
              "ticks": ""
             }
            },
            "type": "scatter3d"
           }
          ],
          "scattercarpet": [
           {
            "marker": {
             "colorbar": {
              "outlinewidth": 0,
              "ticks": ""
             }
            },
            "type": "scattercarpet"
           }
          ],
          "scattergeo": [
           {
            "marker": {
             "colorbar": {
              "outlinewidth": 0,
              "ticks": ""
             }
            },
            "type": "scattergeo"
           }
          ],
          "scattergl": [
           {
            "marker": {
             "colorbar": {
              "outlinewidth": 0,
              "ticks": ""
             }
            },
            "type": "scattergl"
           }
          ],
          "scattermapbox": [
           {
            "marker": {
             "colorbar": {
              "outlinewidth": 0,
              "ticks": ""
             }
            },
            "type": "scattermapbox"
           }
          ],
          "scatterpolar": [
           {
            "marker": {
             "colorbar": {
              "outlinewidth": 0,
              "ticks": ""
             }
            },
            "type": "scatterpolar"
           }
          ],
          "scatterpolargl": [
           {
            "marker": {
             "colorbar": {
              "outlinewidth": 0,
              "ticks": ""
             }
            },
            "type": "scatterpolargl"
           }
          ],
          "scatterternary": [
           {
            "marker": {
             "colorbar": {
              "outlinewidth": 0,
              "ticks": ""
             }
            },
            "type": "scatterternary"
           }
          ],
          "surface": [
           {
            "colorbar": {
             "outlinewidth": 0,
             "ticks": ""
            },
            "colorscale": [
             [
              0,
              "#0d0887"
             ],
             [
              0.1111111111111111,
              "#46039f"
             ],
             [
              0.2222222222222222,
              "#7201a8"
             ],
             [
              0.3333333333333333,
              "#9c179e"
             ],
             [
              0.4444444444444444,
              "#bd3786"
             ],
             [
              0.5555555555555556,
              "#d8576b"
             ],
             [
              0.6666666666666666,
              "#ed7953"
             ],
             [
              0.7777777777777778,
              "#fb9f3a"
             ],
             [
              0.8888888888888888,
              "#fdca26"
             ],
             [
              1,
              "#f0f921"
             ]
            ],
            "type": "surface"
           }
          ],
          "table": [
           {
            "cells": {
             "fill": {
              "color": "#EBF0F8"
             },
             "line": {
              "color": "white"
             }
            },
            "header": {
             "fill": {
              "color": "#C8D4E3"
             },
             "line": {
              "color": "white"
             }
            },
            "type": "table"
           }
          ]
         },
         "layout": {
          "annotationdefaults": {
           "arrowcolor": "#2a3f5f",
           "arrowhead": 0,
           "arrowwidth": 1
          },
          "coloraxis": {
           "colorbar": {
            "outlinewidth": 0,
            "ticks": ""
           }
          },
          "colorscale": {
           "diverging": [
            [
             0,
             "#8e0152"
            ],
            [
             0.1,
             "#c51b7d"
            ],
            [
             0.2,
             "#de77ae"
            ],
            [
             0.3,
             "#f1b6da"
            ],
            [
             0.4,
             "#fde0ef"
            ],
            [
             0.5,
             "#f7f7f7"
            ],
            [
             0.6,
             "#e6f5d0"
            ],
            [
             0.7,
             "#b8e186"
            ],
            [
             0.8,
             "#7fbc41"
            ],
            [
             0.9,
             "#4d9221"
            ],
            [
             1,
             "#276419"
            ]
           ],
           "sequential": [
            [
             0,
             "#0d0887"
            ],
            [
             0.1111111111111111,
             "#46039f"
            ],
            [
             0.2222222222222222,
             "#7201a8"
            ],
            [
             0.3333333333333333,
             "#9c179e"
            ],
            [
             0.4444444444444444,
             "#bd3786"
            ],
            [
             0.5555555555555556,
             "#d8576b"
            ],
            [
             0.6666666666666666,
             "#ed7953"
            ],
            [
             0.7777777777777778,
             "#fb9f3a"
            ],
            [
             0.8888888888888888,
             "#fdca26"
            ],
            [
             1,
             "#f0f921"
            ]
           ],
           "sequentialminus": [
            [
             0,
             "#0d0887"
            ],
            [
             0.1111111111111111,
             "#46039f"
            ],
            [
             0.2222222222222222,
             "#7201a8"
            ],
            [
             0.3333333333333333,
             "#9c179e"
            ],
            [
             0.4444444444444444,
             "#bd3786"
            ],
            [
             0.5555555555555556,
             "#d8576b"
            ],
            [
             0.6666666666666666,
             "#ed7953"
            ],
            [
             0.7777777777777778,
             "#fb9f3a"
            ],
            [
             0.8888888888888888,
             "#fdca26"
            ],
            [
             1,
             "#f0f921"
            ]
           ]
          },
          "colorway": [
           "#636efa",
           "#EF553B",
           "#00cc96",
           "#ab63fa",
           "#FFA15A",
           "#19d3f3",
           "#FF6692",
           "#B6E880",
           "#FF97FF",
           "#FECB52"
          ],
          "font": {
           "color": "#2a3f5f"
          },
          "geo": {
           "bgcolor": "white",
           "lakecolor": "white",
           "landcolor": "#E5ECF6",
           "showlakes": true,
           "showland": true,
           "subunitcolor": "white"
          },
          "hoverlabel": {
           "align": "left"
          },
          "hovermode": "closest",
          "mapbox": {
           "style": "light"
          },
          "paper_bgcolor": "white",
          "plot_bgcolor": "#E5ECF6",
          "polar": {
           "angularaxis": {
            "gridcolor": "white",
            "linecolor": "white",
            "ticks": ""
           },
           "bgcolor": "#E5ECF6",
           "radialaxis": {
            "gridcolor": "white",
            "linecolor": "white",
            "ticks": ""
           }
          },
          "scene": {
           "xaxis": {
            "backgroundcolor": "#E5ECF6",
            "gridcolor": "white",
            "gridwidth": 2,
            "linecolor": "white",
            "showbackground": true,
            "ticks": "",
            "zerolinecolor": "white"
           },
           "yaxis": {
            "backgroundcolor": "#E5ECF6",
            "gridcolor": "white",
            "gridwidth": 2,
            "linecolor": "white",
            "showbackground": true,
            "ticks": "",
            "zerolinecolor": "white"
           },
           "zaxis": {
            "backgroundcolor": "#E5ECF6",
            "gridcolor": "white",
            "gridwidth": 2,
            "linecolor": "white",
            "showbackground": true,
            "ticks": "",
            "zerolinecolor": "white"
           }
          },
          "shapedefaults": {
           "line": {
            "color": "#2a3f5f"
           }
          },
          "ternary": {
           "aaxis": {
            "gridcolor": "white",
            "linecolor": "white",
            "ticks": ""
           },
           "baxis": {
            "gridcolor": "white",
            "linecolor": "white",
            "ticks": ""
           },
           "bgcolor": "#E5ECF6",
           "caxis": {
            "gridcolor": "white",
            "linecolor": "white",
            "ticks": ""
           }
          },
          "title": {
           "x": 0.05
          },
          "xaxis": {
           "automargin": true,
           "gridcolor": "white",
           "linecolor": "white",
           "ticks": "",
           "title": {
            "standoff": 15
           },
           "zerolinecolor": "white",
           "zerolinewidth": 2
          },
          "yaxis": {
           "automargin": true,
           "gridcolor": "white",
           "linecolor": "white",
           "ticks": "",
           "title": {
            "standoff": 15
           },
           "zerolinecolor": "white",
           "zerolinewidth": 2
          }
         }
        },
        "title": {
         "text": "Average Household Size of Census Year 2006,2011 and 2016"
        },
        "xaxis": {
         "anchor": "y",
         "domain": [
          0,
          1
         ],
         "title": {
          "text": "SA2 Name"
         }
        },
        "yaxis": {
         "anchor": "x",
         "domain": [
          0,
          1
         ],
         "title": {
          "text": "value"
         }
        }
       }
      },
      "text/html": [
       "<div>                            <div id=\"c5d69c6f-bfb3-4621-b5fe-aabedfbe5ca8\" class=\"plotly-graph-div\" style=\"height:525px; width:100%;\"></div>            <script type=\"text/javascript\">                require([\"plotly\"], function(Plotly) {                    window.PLOTLYENV=window.PLOTLYENV || {};                                    if (document.getElementById(\"c5d69c6f-bfb3-4621-b5fe-aabedfbe5ca8\")) {                    Plotly.newPlot(                        \"c5d69c6f-bfb3-4621-b5fe-aabedfbe5ca8\",                        [{\"alignmentgroup\": \"True\", \"hovertemplate\": \"variable=House_avg2006<br>SA2 Name=%{x}<br>value=%{y}<extra></extra>\", \"legendgroup\": \"House_avg2006\", \"marker\": {\"color\": \"#636efa\"}, \"name\": \"House_avg2006\", \"offsetgroup\": \"House_avg2006\", \"orientation\": \"v\", \"showlegend\": true, \"textposition\": \"auto\", \"type\": \"bar\", \"x\": [\"Kings Park (WA)\", \"North Coogee\", \"Innaloo - Doubleview\", \"Fremantle\", \"Manning - Waterford\", \"Swanbourne - Mount Claremont\", \"Fremantle - South\", \"Helena Valley - Koongamia\", \"Bentley - Wilson - St James\", \"Coolbellup\", \"Nedlands - Dalkeith - Crawley\", \"Mosman Park - Peppermint Grove\", \"Claremont (WA)\", \"Lesmurdie - Bickley - Carmel\", \"Neerabup National Park\", \"Rivervale - Kewdale - Cloverdale\", \"East Victoria Park - Carlisle\", \"Belmont - Ascot - Redcliffe\", \"Bayswater - Embleton - Bedford\", \"Yokine - Coolbinia - Menora\", \"Dianella\", \"Wanneroo\", \"Mundijong\", \"Glen Forrest - Darlington\", \"Noranda\", \"Mundaring\", \"Roleystone\", \"Huntingdale - Southern River\", \"Forrestfield - Wattle Grove\", \"High Wycombe\", \"Chidlow\", \"Riverton - Shelley - Rossmoyne\", \"Trigg - North Beach - Watermans Bay\", \"Bicton - Palmyra\", \"Booragoon\", \"Morley\", \"East Fremantle\", \"Casuarina - Wandi\", \"Mindarie - Quinns Rocks - Jindalee\", \"Spearwood\", \"Byford\", \"Wembley - West Leederville - Glendalough\", \"Nollamara - Westminster\", \"Maddington - Orange Grove - Martin\", \"Lockridge - Kiara\", \"Bassendean - Eden Hill - Ashfield\", \"Beechboro\", \"Hamilton Hill\", \"Mount Lawley - Inglewood\", \"Cannington - Queens Park\", \"Marangaroo\", \"Mount Nasura - Mount Richon - Bedfordale\", \"Waikiki\", \"Falcon - Wannanup\", \"Mandurah - East\", \"Swan View - Greenmount - Midvale\", \"Maylands\", \"Tuart Hill - Joondanna\", \"Alkimos - Eglinton\", \"Beckenham - Kenwick - Langford\", \"Coogee\", \"Stirling - Osborne Park\", \"Carramar\", \"Hazelmere - Guildford\", \"Gosnells\", \"Yangebup\", \"Craigie - Beldon\", \"Alexander Heights - Koondoola\", \"South Lake - Cockburn Central\", \"Parmelia - Orelia\", \"Safety Bay - Shoalwater\", \"Ballajura\", \"Camillo - Champion Lakes\", \"Kelmscott\", \"Bullsbrook\", \"Warnbro\", \"Stratton - Jane Brook\", \"Malmalling - Reservoir\", \"Serpentine - Jarrahdale\", \"Balcatta - Hamersley\", \"Thornlie\", \"Port Kennedy\", \"Kalamunda - Maida Vale - Gooseberry Hill\", \"Butler - Merriwa - Ridgewood\", \"Forrestdale - Harrisdale - Piara Waters\", \"Victoria Park - Lathlain - Burswood\", \"Gidgegannup\", \"Seville Grove\", \"Como\", \"Wembley Downs - Churchlands - Woodlands\", \"Willetton\", \"Scarborough\", \"Mount Hawthorn - Leederville\", \"South Perth - Kensington\", \"Melville\", \"Subiaco - Shenton Park\", \"Karrinyup - Gwelup - Carine\", \"Padbury\", \"Greenwood - Warwick\", \"Kingsley\", \"Hillarys\", \"Joondalup - Edgewater\", \"Leeming\", \"The Vines\", \"City Beach\", \"Murdoch - Kardinya\", \"Pinjarra\", \"Floreat\", \"Balga - Mirrabooka\", \"Midland - Guildford\", \"Parkwood - Ferndale - Lynwood\", \"Kwinana Industrial\", \"Perth City\", \"Middle Swan - Herne Hill\", \"North Perth\", \"Success - Hammond Park\", \"Banjup\", \"Madeley - Darch - Landsdale\", \"Girrawheen\", \"Mullaloo - Kallaroo\", \"Bateman\", \"Ellenbrook\", \"Armadale - Wungong - Brookdale\", \"Woodvale\", \"Currambine - Kinross\", \"Cooloongup\", \"Mandurah - North\", \"Clarkson\", \"Heathridge - Connolly\", \"Bertram - Wellard (West)\", \"Duncraig\", \"Sorrento - Marmion\", \"Singleton - Golden Bay - Secret Harbour\", \"Bull Creek\", \"Willagee\", \"Dawesville - Bouvard\", \"Applecross - Ardross\", \"Canning Vale - West\", \"Tapping - Ashby - Sinagra\", \"Ocean Reef\", \"Mandurah - South\", \"Yanchep\", \"Halls Head - Erskine\", \"Mandurah\", \"Greenfields\", \"Cottesloe\", \"Rockingham\", \"Calista\", \"Iluka - Burns Beach\", \"Beeliar - Wattleup\", \"Canning Vale - East\", \"Jandakot\", \"Two Rocks\", \"Winthrop\", \"Baldivis\", \"Carabooda - Pinjar\", \"Hope Valley - Postans\", \"Avon Valley National Park\", \"Malaga\", \"Melaleuca - Lexia\", \"Walyunga National Park\", \"Herdsman\", \"Osborne Park Industrial\", \"Ashendon - Lesley\", \"Kewdale Commercial\", \"Perth Airport\", \"Canning Vale Commercial\", \"Welshpool\", \"Bibra Lake\", \"Henderson\", \"O'Connor (WA)\", \"Rockingham Lakes\", \"Bibra Industrial\"], \"xaxis\": \"x\", \"y\": [0.0, 0.0, 2.18, 2.02, 2.63, 2.68, 2.29, 2.8, 2.21, 2.42, 2.55, 2.32, 2.12, 2.78, 0.0, 2.22, 2.11, 2.22, 2.29, 2.09, 2.42, 2.7, 3.02, 2.8, 2.79, 2.8, 2.82, 2.92, 2.64, 2.75, 2.85, 2.63, 2.34, 2.12, 2.43, 2.52, 2.44, 3.28, 3.04, 2.5, 3.04, 2.1, 2.21, 2.5, 2.61, 2.33, 2.91, 2.24, 2.2, 2.4, 2.89, 2.66, 2.77, 2.42, 2.41, 2.56, 1.77, 1.83, 0.0, 2.62, 2.81, 2.32, 3.17, 2.44, 2.43, 2.7, 2.47, 2.93, 2.64, 2.52, 2.29, 3.1, 2.68, 2.51, 2.8, 2.8, 2.94, 0.0, 2.74, 2.33, 2.79, 3.12, 2.64, 2.81, 2.8, 2.03, 2.95, 3.02, 1.95, 2.5, 2.86, 1.98, 2.29, 2.16, 2.44, 2.08, 2.68, 2.57, 2.57, 2.78, 2.91, 2.65, 3.04, 2.92, 2.8, 2.79, 2.5, 2.84, 2.69, 2.14, 2.48, 0.82, 1.78, 2.59, 2.22, 2.82, 3.16, 3.17, 2.55, 2.82, 2.96, 3.0, 2.47, 3.11, 3.17, 2.51, 2.69, 2.91, 2.72, 2.91, 2.81, 2.78, 3.1, 2.69, 2.2, 2.66, 2.52, 3.35, 2.77, 3.14, 2.22, 2.58, 2.56, 1.89, 2.53, 2.46, 2.1, 2.35, 3.3, 3.02, 3.24, 3.05, 2.34, 3.28, 3.14, 3.01, 2.52, 0.0, 0.0, 0.0, 0.0, 0.0, 0.0, 0.0, 0.0, 0.0, 0.0, 0.0, 0.0, 0.0, 0.0, 0.0, 0.0], \"yaxis\": \"y\"}, {\"alignmentgroup\": \"True\", \"hovertemplate\": \"variable=House_avg2011<br>SA2 Name=%{x}<br>value=%{y}<extra></extra>\", \"legendgroup\": \"House_avg2011\", \"marker\": {\"color\": \"#EF553B\"}, \"name\": \"House_avg2011\", \"offsetgroup\": \"House_avg2011\", \"orientation\": \"v\", \"showlegend\": true, \"textposition\": \"auto\", \"type\": \"bar\", \"x\": [\"Kings Park (WA)\", \"North Coogee\", \"Innaloo - Doubleview\", \"Fremantle\", \"Manning - Waterford\", \"Swanbourne - Mount Claremont\", \"Fremantle - South\", \"Helena Valley - Koongamia\", \"Bentley - Wilson - St James\", \"Coolbellup\", \"Nedlands - Dalkeith - Crawley\", \"Mosman Park - Peppermint Grove\", \"Claremont (WA)\", \"Lesmurdie - Bickley - Carmel\", \"Neerabup National Park\", \"Rivervale - Kewdale - Cloverdale\", \"East Victoria Park - Carlisle\", \"Belmont - Ascot - Redcliffe\", \"Bayswater - Embleton - Bedford\", \"Yokine - Coolbinia - Menora\", \"Dianella\", \"Wanneroo\", \"Mundijong\", \"Glen Forrest - Darlington\", \"Noranda\", \"Mundaring\", \"Roleystone\", \"Huntingdale - Southern River\", \"Forrestfield - Wattle Grove\", \"High Wycombe\", \"Chidlow\", \"Riverton - Shelley - Rossmoyne\", \"Trigg - North Beach - Watermans Bay\", \"Bicton - Palmyra\", \"Booragoon\", \"Morley\", \"East Fremantle\", \"Casuarina - Wandi\", \"Mindarie - Quinns Rocks - Jindalee\", \"Spearwood\", \"Byford\", \"Wembley - West Leederville - Glendalough\", \"Nollamara - Westminster\", \"Maddington - Orange Grove - Martin\", \"Lockridge - Kiara\", \"Bassendean - Eden Hill - Ashfield\", \"Beechboro\", \"Hamilton Hill\", \"Mount Lawley - Inglewood\", \"Cannington - Queens Park\", \"Marangaroo\", \"Mount Nasura - Mount Richon - Bedfordale\", \"Waikiki\", \"Falcon - Wannanup\", \"Mandurah - East\", \"Swan View - Greenmount - Midvale\", \"Maylands\", \"Tuart Hill - Joondanna\", \"Alkimos - Eglinton\", \"Beckenham - Kenwick - Langford\", \"Coogee\", \"Stirling - Osborne Park\", \"Carramar\", \"Hazelmere - Guildford\", \"Gosnells\", \"Yangebup\", \"Craigie - Beldon\", \"Alexander Heights - Koondoola\", \"South Lake - Cockburn Central\", \"Parmelia - Orelia\", \"Safety Bay - Shoalwater\", \"Ballajura\", \"Camillo - Champion Lakes\", \"Kelmscott\", \"Bullsbrook\", \"Warnbro\", \"Stratton - Jane Brook\", \"Malmalling - Reservoir\", \"Serpentine - Jarrahdale\", \"Balcatta - Hamersley\", \"Thornlie\", \"Port Kennedy\", \"Kalamunda - Maida Vale - Gooseberry Hill\", \"Butler - Merriwa - Ridgewood\", \"Forrestdale - Harrisdale - Piara Waters\", \"Victoria Park - Lathlain - Burswood\", \"Gidgegannup\", \"Seville Grove\", \"Como\", \"Wembley Downs - Churchlands - Woodlands\", \"Willetton\", \"Scarborough\", \"Mount Hawthorn - Leederville\", \"South Perth - Kensington\", \"Melville\", \"Subiaco - Shenton Park\", \"Karrinyup - Gwelup - Carine\", \"Padbury\", \"Greenwood - Warwick\", \"Kingsley\", \"Hillarys\", \"Joondalup - Edgewater\", \"Leeming\", \"The Vines\", \"City Beach\", \"Murdoch - Kardinya\", \"Pinjarra\", \"Floreat\", \"Balga - Mirrabooka\", \"Midland - Guildford\", \"Parkwood - Ferndale - Lynwood\", \"Kwinana Industrial\", \"Perth City\", \"Middle Swan - Herne Hill\", \"North Perth\", \"Success - Hammond Park\", \"Banjup\", \"Madeley - Darch - Landsdale\", \"Girrawheen\", \"Mullaloo - Kallaroo\", \"Bateman\", \"Ellenbrook\", \"Armadale - Wungong - Brookdale\", \"Woodvale\", \"Currambine - Kinross\", \"Cooloongup\", \"Mandurah - North\", \"Clarkson\", \"Heathridge - Connolly\", \"Bertram - Wellard (West)\", \"Duncraig\", \"Sorrento - Marmion\", \"Singleton - Golden Bay - Secret Harbour\", \"Bull Creek\", \"Willagee\", \"Dawesville - Bouvard\", \"Applecross - Ardross\", \"Canning Vale - West\", \"Tapping - Ashby - Sinagra\", \"Ocean Reef\", \"Mandurah - South\", \"Yanchep\", \"Halls Head - Erskine\", \"Mandurah\", \"Greenfields\", \"Cottesloe\", \"Rockingham\", \"Calista\", \"Iluka - Burns Beach\", \"Beeliar - Wattleup\", \"Canning Vale - East\", \"Jandakot\", \"Two Rocks\", \"Winthrop\", \"Baldivis\", \"Carabooda - Pinjar\", \"Hope Valley - Postans\", \"Avon Valley National Park\", \"Malaga\", \"Melaleuca - Lexia\", \"Walyunga National Park\", \"Herdsman\", \"Osborne Park Industrial\", \"Ashendon - Lesley\", \"Kewdale Commercial\", \"Perth Airport\", \"Canning Vale Commercial\", \"Welshpool\", \"Bibra Lake\", \"Henderson\", \"O'Connor (WA)\", \"Rockingham Lakes\", \"Bibra Industrial\"], \"xaxis\": \"x\", \"y\": [1.8, 2.92, 2.26, 2.08, 2.61, 2.68, 2.36, 2.71, 2.37, 2.44, 2.67, 2.37, 2.2, 2.8, 0.0, 2.35, 2.28, 2.39, 2.39, 2.2, 2.48, 2.72, 3.1, 2.76, 2.73, 2.78, 2.84, 2.99, 2.67, 2.69, 2.66, 2.7, 2.39, 2.22, 2.47, 2.55, 2.48, 3.09, 3.08, 2.44, 3.03, 2.23, 2.3, 2.57, 2.62, 2.39, 2.95, 2.27, 2.24, 2.61, 2.9, 2.73, 2.75, 2.42, 2.35, 2.53, 1.96, 1.96, 2.33, 2.73, 2.76, 2.43, 3.12, 2.52, 2.47, 2.76, 2.46, 2.9, 2.62, 2.56, 2.32, 3.07, 2.7, 2.46, 2.83, 2.78, 2.88, 2.0, 2.69, 2.34, 2.78, 3.09, 2.62, 2.86, 2.93, 2.17, 2.88, 2.94, 2.05, 2.62, 2.9, 2.06, 2.4, 2.23, 2.53, 2.12, 2.72, 2.62, 2.61, 2.7, 2.88, 2.6, 2.95, 2.9, 2.84, 2.71, 2.55, 2.97, 2.76, 2.14, 2.5, 0.0, 1.85, 2.57, 2.34, 2.82, 3.08, 3.18, 2.62, 2.79, 2.9, 3.02, 2.45, 2.99, 3.07, 2.5, 2.71, 2.8, 2.68, 2.91, 2.81, 2.75, 3.16, 2.63, 2.34, 2.63, 2.54, 3.27, 2.99, 3.07, 2.27, 2.65, 2.53, 1.96, 2.44, 2.47, 2.11, 2.49, 3.3, 3.0, 3.15, 3.04, 2.47, 3.21, 2.99, 2.88, 2.47, 0.0, 0.6, 0.0, 0.0, 0.0, 0.0, 0.0, 0.0, 0.0, 0.0, 0.0, 0.0, 1.0, 0.0, 0.0, 0.0], \"yaxis\": \"y\"}, {\"alignmentgroup\": \"True\", \"hovertemplate\": \"variable=House_avg2016<br>SA2 Name=%{x}<br>value=%{y}<extra></extra>\", \"legendgroup\": \"House_avg2016\", \"marker\": {\"color\": \"#00cc96\"}, \"name\": \"House_avg2016\", \"offsetgroup\": \"House_avg2016\", \"orientation\": \"v\", \"showlegend\": true, \"textposition\": \"auto\", \"type\": \"bar\", \"x\": [\"Kings Park (WA)\", \"North Coogee\", \"Innaloo - Doubleview\", \"Fremantle\", \"Manning - Waterford\", \"Swanbourne - Mount Claremont\", \"Fremantle - South\", \"Helena Valley - Koongamia\", \"Bentley - Wilson - St James\", \"Coolbellup\", \"Nedlands - Dalkeith - Crawley\", \"Mosman Park - Peppermint Grove\", \"Claremont (WA)\", \"Lesmurdie - Bickley - Carmel\", \"Neerabup National Park\", \"Rivervale - Kewdale - Cloverdale\", \"East Victoria Park - Carlisle\", \"Belmont - Ascot - Redcliffe\", \"Bayswater - Embleton - Bedford\", \"Yokine - Coolbinia - Menora\", \"Dianella\", \"Wanneroo\", \"Mundijong\", \"Glen Forrest - Darlington\", \"Noranda\", \"Mundaring\", \"Roleystone\", \"Huntingdale - Southern River\", \"Forrestfield - Wattle Grove\", \"High Wycombe\", \"Chidlow\", \"Riverton - Shelley - Rossmoyne\", \"Trigg - North Beach - Watermans Bay\", \"Bicton - Palmyra\", \"Booragoon\", \"Morley\", \"East Fremantle\", \"Casuarina - Wandi\", \"Mindarie - Quinns Rocks - Jindalee\", \"Spearwood\", \"Byford\", \"Wembley - West Leederville - Glendalough\", \"Nollamara - Westminster\", \"Maddington - Orange Grove - Martin\", \"Lockridge - Kiara\", \"Bassendean - Eden Hill - Ashfield\", \"Beechboro\", \"Hamilton Hill\", \"Mount Lawley - Inglewood\", \"Cannington - Queens Park\", \"Marangaroo\", \"Mount Nasura - Mount Richon - Bedfordale\", \"Waikiki\", \"Falcon - Wannanup\", \"Mandurah - East\", \"Swan View - Greenmount - Midvale\", \"Maylands\", \"Tuart Hill - Joondanna\", \"Alkimos - Eglinton\", \"Beckenham - Kenwick - Langford\", \"Coogee\", \"Stirling - Osborne Park\", \"Carramar\", \"Hazelmere - Guildford\", \"Gosnells\", \"Yangebup\", \"Craigie - Beldon\", \"Alexander Heights - Koondoola\", \"South Lake - Cockburn Central\", \"Parmelia - Orelia\", \"Safety Bay - Shoalwater\", \"Ballajura\", \"Camillo - Champion Lakes\", \"Kelmscott\", \"Bullsbrook\", \"Warnbro\", \"Stratton - Jane Brook\", \"Malmalling - Reservoir\", \"Serpentine - Jarrahdale\", \"Balcatta - Hamersley\", \"Thornlie\", \"Port Kennedy\", \"Kalamunda - Maida Vale - Gooseberry Hill\", \"Butler - Merriwa - Ridgewood\", \"Forrestdale - Harrisdale - Piara Waters\", \"Victoria Park - Lathlain - Burswood\", \"Gidgegannup\", \"Seville Grove\", \"Como\", \"Wembley Downs - Churchlands - Woodlands\", \"Willetton\", \"Scarborough\", \"Mount Hawthorn - Leederville\", \"South Perth - Kensington\", \"Melville\", \"Subiaco - Shenton Park\", \"Karrinyup - Gwelup - Carine\", \"Padbury\", \"Greenwood - Warwick\", \"Kingsley\", \"Hillarys\", \"Joondalup - Edgewater\", \"Leeming\", \"The Vines\", \"City Beach\", \"Murdoch - Kardinya\", \"Pinjarra\", \"Floreat\", \"Balga - Mirrabooka\", \"Midland - Guildford\", \"Parkwood - Ferndale - Lynwood\", \"Kwinana Industrial\", \"Perth City\", \"Middle Swan - Herne Hill\", \"North Perth\", \"Success - Hammond Park\", \"Banjup\", \"Madeley - Darch - Landsdale\", \"Girrawheen\", \"Mullaloo - Kallaroo\", \"Bateman\", \"Ellenbrook\", \"Armadale - Wungong - Brookdale\", \"Woodvale\", \"Currambine - Kinross\", \"Cooloongup\", \"Mandurah - North\", \"Clarkson\", \"Heathridge - Connolly\", \"Bertram - Wellard (West)\", \"Duncraig\", \"Sorrento - Marmion\", \"Singleton - Golden Bay - Secret Harbour\", \"Bull Creek\", \"Willagee\", \"Dawesville - Bouvard\", \"Applecross - Ardross\", \"Canning Vale - West\", \"Tapping - Ashby - Sinagra\", \"Ocean Reef\", \"Mandurah - South\", \"Yanchep\", \"Halls Head - Erskine\", \"Mandurah\", \"Greenfields\", \"Cottesloe\", \"Rockingham\", \"Calista\", \"Iluka - Burns Beach\", \"Beeliar - Wattleup\", \"Canning Vale - East\", \"Jandakot\", \"Two Rocks\", \"Winthrop\", \"Baldivis\", \"Carabooda - Pinjar\", \"Hope Valley - Postans\", \"Avon Valley National Park\", \"Malaga\", \"Melaleuca - Lexia\", \"Walyunga National Park\", \"Herdsman\", \"Osborne Park Industrial\", \"Ashendon - Lesley\", \"Kewdale Commercial\", \"Perth Airport\", \"Canning Vale Commercial\", \"Welshpool\", \"Bibra Lake\", \"Henderson\", \"O'Connor (WA)\", \"Rockingham Lakes\", \"Bibra Industrial\"], \"xaxis\": \"x\", \"y\": [1.3, 2.45, 2.26, 2.13, 2.69, 2.74, 2.37, 2.6, 2.44, 2.41, 2.7, 2.42, 2.23, 2.78, 0.0, 2.4, 2.35, 2.41, 2.44, 2.25, 2.52, 2.72, 3.08, 2.75, 2.7, 2.75, 2.75, 3.11, 2.74, 2.65, 2.68, 2.79, 2.47, 2.28, 2.55, 2.58, 2.51, 2.84, 3.01, 2.41, 2.99, 2.32, 2.34, 2.7, 2.71, 2.42, 2.96, 2.27, 2.28, 2.79, 2.92, 2.69, 2.73, 2.43, 2.4, 2.49, 2.04, 2.03, 2.75, 2.79, 2.75, 2.47, 3.07, 2.52, 2.55, 2.74, 2.51, 2.97, 2.5, 2.53, 2.31, 3.0, 2.58, 2.48, 2.84, 2.68, 2.79, 2.6, 2.74, 2.37, 2.79, 3.03, 2.59, 2.81, 3.03, 2.25, 2.91, 3.0, 2.11, 2.68, 3.05, 2.13, 2.46, 2.28, 2.59, 2.19, 2.76, 2.59, 2.6, 2.66, 2.86, 2.53, 2.86, 2.93, 2.88, 2.61, 2.57, 3.01, 2.72, 2.19, 2.52, 3.5, 1.9, 2.55, 2.39, 2.9, 3.14, 3.17, 2.73, 2.8, 2.88, 2.95, 2.49, 2.93, 2.98, 2.48, 2.79, 2.74, 2.64, 3.0, 2.84, 2.75, 3.12, 2.68, 2.41, 2.58, 2.59, 3.2, 2.99, 2.96, 2.25, 2.79, 2.47, 1.94, 2.37, 2.5, 2.13, 2.49, 3.22, 2.86, 3.21, 2.89, 2.61, 3.1, 2.94, 3.03, 2.38, 0.0, 0.0, 0.0, 0.0, 0.0, 0.0, 0.0, 0.0, 0.0, 0.0, 0.0, 0.0, 1.0, 0.0, 0.0, 0.0], \"yaxis\": \"y\"}],                        {\"barmode\": \"relative\", \"legend\": {\"title\": {\"text\": \"variable\"}, \"tracegroupgap\": 0}, \"template\": {\"data\": {\"bar\": [{\"error_x\": {\"color\": \"#2a3f5f\"}, \"error_y\": {\"color\": \"#2a3f5f\"}, \"marker\": {\"line\": {\"color\": \"#E5ECF6\", \"width\": 0.5}}, \"type\": \"bar\"}], \"barpolar\": [{\"marker\": {\"line\": {\"color\": \"#E5ECF6\", \"width\": 0.5}}, \"type\": \"barpolar\"}], \"carpet\": [{\"aaxis\": {\"endlinecolor\": \"#2a3f5f\", \"gridcolor\": \"white\", \"linecolor\": \"white\", \"minorgridcolor\": \"white\", \"startlinecolor\": \"#2a3f5f\"}, \"baxis\": {\"endlinecolor\": \"#2a3f5f\", \"gridcolor\": \"white\", \"linecolor\": \"white\", \"minorgridcolor\": \"white\", \"startlinecolor\": \"#2a3f5f\"}, \"type\": \"carpet\"}], \"choropleth\": [{\"colorbar\": {\"outlinewidth\": 0, \"ticks\": \"\"}, \"type\": \"choropleth\"}], \"contour\": [{\"colorbar\": {\"outlinewidth\": 0, \"ticks\": \"\"}, \"colorscale\": [[0.0, \"#0d0887\"], [0.1111111111111111, \"#46039f\"], [0.2222222222222222, \"#7201a8\"], [0.3333333333333333, \"#9c179e\"], [0.4444444444444444, \"#bd3786\"], [0.5555555555555556, \"#d8576b\"], [0.6666666666666666, \"#ed7953\"], [0.7777777777777778, \"#fb9f3a\"], [0.8888888888888888, \"#fdca26\"], [1.0, \"#f0f921\"]], \"type\": \"contour\"}], \"contourcarpet\": [{\"colorbar\": {\"outlinewidth\": 0, \"ticks\": \"\"}, \"type\": \"contourcarpet\"}], \"heatmap\": [{\"colorbar\": {\"outlinewidth\": 0, \"ticks\": \"\"}, \"colorscale\": [[0.0, \"#0d0887\"], [0.1111111111111111, \"#46039f\"], [0.2222222222222222, \"#7201a8\"], [0.3333333333333333, \"#9c179e\"], [0.4444444444444444, \"#bd3786\"], [0.5555555555555556, \"#d8576b\"], [0.6666666666666666, \"#ed7953\"], [0.7777777777777778, \"#fb9f3a\"], [0.8888888888888888, \"#fdca26\"], [1.0, \"#f0f921\"]], \"type\": \"heatmap\"}], \"heatmapgl\": [{\"colorbar\": {\"outlinewidth\": 0, \"ticks\": \"\"}, \"colorscale\": [[0.0, \"#0d0887\"], [0.1111111111111111, \"#46039f\"], [0.2222222222222222, \"#7201a8\"], [0.3333333333333333, \"#9c179e\"], [0.4444444444444444, \"#bd3786\"], [0.5555555555555556, \"#d8576b\"], [0.6666666666666666, \"#ed7953\"], [0.7777777777777778, \"#fb9f3a\"], [0.8888888888888888, \"#fdca26\"], [1.0, \"#f0f921\"]], \"type\": \"heatmapgl\"}], \"histogram\": [{\"marker\": {\"colorbar\": {\"outlinewidth\": 0, \"ticks\": \"\"}}, \"type\": \"histogram\"}], \"histogram2d\": [{\"colorbar\": {\"outlinewidth\": 0, \"ticks\": \"\"}, \"colorscale\": [[0.0, \"#0d0887\"], [0.1111111111111111, \"#46039f\"], [0.2222222222222222, \"#7201a8\"], [0.3333333333333333, \"#9c179e\"], [0.4444444444444444, \"#bd3786\"], [0.5555555555555556, \"#d8576b\"], [0.6666666666666666, \"#ed7953\"], [0.7777777777777778, \"#fb9f3a\"], [0.8888888888888888, \"#fdca26\"], [1.0, \"#f0f921\"]], \"type\": \"histogram2d\"}], \"histogram2dcontour\": [{\"colorbar\": {\"outlinewidth\": 0, \"ticks\": \"\"}, \"colorscale\": [[0.0, \"#0d0887\"], [0.1111111111111111, \"#46039f\"], [0.2222222222222222, \"#7201a8\"], [0.3333333333333333, \"#9c179e\"], [0.4444444444444444, \"#bd3786\"], [0.5555555555555556, \"#d8576b\"], [0.6666666666666666, \"#ed7953\"], [0.7777777777777778, \"#fb9f3a\"], [0.8888888888888888, \"#fdca26\"], [1.0, \"#f0f921\"]], \"type\": \"histogram2dcontour\"}], \"mesh3d\": [{\"colorbar\": {\"outlinewidth\": 0, \"ticks\": \"\"}, \"type\": \"mesh3d\"}], \"parcoords\": [{\"line\": {\"colorbar\": {\"outlinewidth\": 0, \"ticks\": \"\"}}, \"type\": \"parcoords\"}], \"pie\": [{\"automargin\": true, \"type\": \"pie\"}], \"scatter\": [{\"marker\": {\"colorbar\": {\"outlinewidth\": 0, \"ticks\": \"\"}}, \"type\": \"scatter\"}], \"scatter3d\": [{\"line\": {\"colorbar\": {\"outlinewidth\": 0, \"ticks\": \"\"}}, \"marker\": {\"colorbar\": {\"outlinewidth\": 0, \"ticks\": \"\"}}, \"type\": \"scatter3d\"}], \"scattercarpet\": [{\"marker\": {\"colorbar\": {\"outlinewidth\": 0, \"ticks\": \"\"}}, \"type\": \"scattercarpet\"}], \"scattergeo\": [{\"marker\": {\"colorbar\": {\"outlinewidth\": 0, \"ticks\": \"\"}}, \"type\": \"scattergeo\"}], \"scattergl\": [{\"marker\": {\"colorbar\": {\"outlinewidth\": 0, \"ticks\": \"\"}}, \"type\": \"scattergl\"}], \"scattermapbox\": [{\"marker\": {\"colorbar\": {\"outlinewidth\": 0, \"ticks\": \"\"}}, \"type\": \"scattermapbox\"}], \"scatterpolar\": [{\"marker\": {\"colorbar\": {\"outlinewidth\": 0, \"ticks\": \"\"}}, \"type\": \"scatterpolar\"}], \"scatterpolargl\": [{\"marker\": {\"colorbar\": {\"outlinewidth\": 0, \"ticks\": \"\"}}, \"type\": \"scatterpolargl\"}], \"scatterternary\": [{\"marker\": {\"colorbar\": {\"outlinewidth\": 0, \"ticks\": \"\"}}, \"type\": \"scatterternary\"}], \"surface\": [{\"colorbar\": {\"outlinewidth\": 0, \"ticks\": \"\"}, \"colorscale\": [[0.0, \"#0d0887\"], [0.1111111111111111, \"#46039f\"], [0.2222222222222222, \"#7201a8\"], [0.3333333333333333, \"#9c179e\"], [0.4444444444444444, \"#bd3786\"], [0.5555555555555556, \"#d8576b\"], [0.6666666666666666, \"#ed7953\"], [0.7777777777777778, \"#fb9f3a\"], [0.8888888888888888, \"#fdca26\"], [1.0, \"#f0f921\"]], \"type\": \"surface\"}], \"table\": [{\"cells\": {\"fill\": {\"color\": \"#EBF0F8\"}, \"line\": {\"color\": \"white\"}}, \"header\": {\"fill\": {\"color\": \"#C8D4E3\"}, \"line\": {\"color\": \"white\"}}, \"type\": \"table\"}]}, \"layout\": {\"annotationdefaults\": {\"arrowcolor\": \"#2a3f5f\", \"arrowhead\": 0, \"arrowwidth\": 1}, \"coloraxis\": {\"colorbar\": {\"outlinewidth\": 0, \"ticks\": \"\"}}, \"colorscale\": {\"diverging\": [[0, \"#8e0152\"], [0.1, \"#c51b7d\"], [0.2, \"#de77ae\"], [0.3, \"#f1b6da\"], [0.4, \"#fde0ef\"], [0.5, \"#f7f7f7\"], [0.6, \"#e6f5d0\"], [0.7, \"#b8e186\"], [0.8, \"#7fbc41\"], [0.9, \"#4d9221\"], [1, \"#276419\"]], \"sequential\": [[0.0, \"#0d0887\"], [0.1111111111111111, \"#46039f\"], [0.2222222222222222, \"#7201a8\"], [0.3333333333333333, \"#9c179e\"], [0.4444444444444444, \"#bd3786\"], [0.5555555555555556, \"#d8576b\"], [0.6666666666666666, \"#ed7953\"], [0.7777777777777778, \"#fb9f3a\"], [0.8888888888888888, \"#fdca26\"], [1.0, \"#f0f921\"]], \"sequentialminus\": [[0.0, \"#0d0887\"], [0.1111111111111111, \"#46039f\"], [0.2222222222222222, \"#7201a8\"], [0.3333333333333333, \"#9c179e\"], [0.4444444444444444, \"#bd3786\"], [0.5555555555555556, \"#d8576b\"], [0.6666666666666666, \"#ed7953\"], [0.7777777777777778, \"#fb9f3a\"], [0.8888888888888888, \"#fdca26\"], [1.0, \"#f0f921\"]]}, \"colorway\": [\"#636efa\", \"#EF553B\", \"#00cc96\", \"#ab63fa\", \"#FFA15A\", \"#19d3f3\", \"#FF6692\", \"#B6E880\", \"#FF97FF\", \"#FECB52\"], \"font\": {\"color\": \"#2a3f5f\"}, \"geo\": {\"bgcolor\": \"white\", \"lakecolor\": \"white\", \"landcolor\": \"#E5ECF6\", \"showlakes\": true, \"showland\": true, \"subunitcolor\": \"white\"}, \"hoverlabel\": {\"align\": \"left\"}, \"hovermode\": \"closest\", \"mapbox\": {\"style\": \"light\"}, \"paper_bgcolor\": \"white\", \"plot_bgcolor\": \"#E5ECF6\", \"polar\": {\"angularaxis\": {\"gridcolor\": \"white\", \"linecolor\": \"white\", \"ticks\": \"\"}, \"bgcolor\": \"#E5ECF6\", \"radialaxis\": {\"gridcolor\": \"white\", \"linecolor\": \"white\", \"ticks\": \"\"}}, \"scene\": {\"xaxis\": {\"backgroundcolor\": \"#E5ECF6\", \"gridcolor\": \"white\", \"gridwidth\": 2, \"linecolor\": \"white\", \"showbackground\": true, \"ticks\": \"\", \"zerolinecolor\": \"white\"}, \"yaxis\": {\"backgroundcolor\": \"#E5ECF6\", \"gridcolor\": \"white\", \"gridwidth\": 2, \"linecolor\": \"white\", \"showbackground\": true, \"ticks\": \"\", \"zerolinecolor\": \"white\"}, \"zaxis\": {\"backgroundcolor\": \"#E5ECF6\", \"gridcolor\": \"white\", \"gridwidth\": 2, \"linecolor\": \"white\", \"showbackground\": true, \"ticks\": \"\", \"zerolinecolor\": \"white\"}}, \"shapedefaults\": {\"line\": {\"color\": \"#2a3f5f\"}}, \"ternary\": {\"aaxis\": {\"gridcolor\": \"white\", \"linecolor\": \"white\", \"ticks\": \"\"}, \"baxis\": {\"gridcolor\": \"white\", \"linecolor\": \"white\", \"ticks\": \"\"}, \"bgcolor\": \"#E5ECF6\", \"caxis\": {\"gridcolor\": \"white\", \"linecolor\": \"white\", \"ticks\": \"\"}}, \"title\": {\"x\": 0.05}, \"xaxis\": {\"automargin\": true, \"gridcolor\": \"white\", \"linecolor\": \"white\", \"ticks\": \"\", \"title\": {\"standoff\": 15}, \"zerolinecolor\": \"white\", \"zerolinewidth\": 2}, \"yaxis\": {\"automargin\": true, \"gridcolor\": \"white\", \"linecolor\": \"white\", \"ticks\": \"\", \"title\": {\"standoff\": 15}, \"zerolinecolor\": \"white\", \"zerolinewidth\": 2}}}, \"title\": {\"text\": \"Average Household Size of Census Year 2006,2011 and 2016\"}, \"xaxis\": {\"anchor\": \"y\", \"domain\": [0.0, 1.0], \"title\": {\"text\": \"SA2 Name\"}}, \"yaxis\": {\"anchor\": \"x\", \"domain\": [0.0, 1.0], \"title\": {\"text\": \"value\"}}},                        {\"responsive\": true}                    ).then(function(){\n",
       "                            \n",
       "var gd = document.getElementById('c5d69c6f-bfb3-4621-b5fe-aabedfbe5ca8');\n",
       "var x = new MutationObserver(function (mutations, observer) {{\n",
       "        var display = window.getComputedStyle(gd).display;\n",
       "        if (!display || display === 'none') {{\n",
       "            console.log([gd, 'removed!']);\n",
       "            Plotly.purge(gd);\n",
       "            observer.disconnect();\n",
       "        }}\n",
       "}});\n",
       "\n",
       "// Listen for the removal of the full notebook cells\n",
       "var notebookContainer = gd.closest('#notebook-container');\n",
       "if (notebookContainer) {{\n",
       "    x.observe(notebookContainer, {childList: true});\n",
       "}}\n",
       "\n",
       "// Listen for the clearing of the current output cell\n",
       "var outputEl = gd.closest('.output');\n",
       "if (outputEl) {{\n",
       "    x.observe(outputEl, {childList: true});\n",
       "}}\n",
       "\n",
       "                        })                };                });            </script>        </div>"
      ]
     },
     "metadata": {},
     "output_type": "display_data"
    }
   ],
   "source": [
    "# wide_df = px.data.df()\n",
    "\n",
    "fig_house_total = px.bar(df, x=\"SA2 Name\", y=[\"House_avg2006\", \"House_avg2011\", \"House_avg2016\"], title=\"Average Household Size of Census Year 2006,2011 and 2016\")\n",
    "fig_house_total.show()"
   ]
  },
  {
   "cell_type": "code",
   "execution_count": 36,
   "metadata": {},
   "outputs": [
    {
     "data": {
      "application/vnd.plotly.v1+json": {
       "config": {
        "plotlyServerURL": "https://plotly.com"
       },
       "data": [
        {
         "alignmentgroup": "True",
         "hovertemplate": "SA2 Name=%{x}<br>Income%2006_2016=%{y}<extra></extra>",
         "legendgroup": "",
         "marker": {
          "color": "#636efa"
         },
         "name": "",
         "offsetgroup": "",
         "orientation": "v",
         "showlegend": false,
         "textposition": "auto",
         "type": "bar",
         "x": [
          "Kings Park (WA)",
          "North Coogee",
          "Innaloo - Doubleview",
          "Fremantle",
          "Manning - Waterford",
          "Swanbourne - Mount Claremont",
          "Fremantle - South",
          "Helena Valley - Koongamia",
          "Bentley - Wilson - St James",
          "Coolbellup",
          "Nedlands - Dalkeith - Crawley",
          "Mosman Park - Peppermint Grove",
          "Claremont (WA)",
          "Lesmurdie - Bickley - Carmel",
          "Neerabup National Park",
          "Rivervale - Kewdale - Cloverdale",
          "East Victoria Park - Carlisle",
          "Belmont - Ascot - Redcliffe",
          "Bayswater - Embleton - Bedford",
          "Yokine - Coolbinia - Menora",
          "Dianella",
          "Wanneroo",
          "Mundijong",
          "Glen Forrest - Darlington",
          "Noranda",
          "Mundaring",
          "Roleystone",
          "Huntingdale - Southern River",
          "Forrestfield - Wattle Grove",
          "High Wycombe",
          "Chidlow",
          "Riverton - Shelley - Rossmoyne",
          "Trigg - North Beach - Watermans Bay",
          "Bicton - Palmyra",
          "Booragoon",
          "Morley",
          "East Fremantle",
          "Casuarina - Wandi",
          "Mindarie - Quinns Rocks - Jindalee",
          "Spearwood",
          "Byford",
          "Wembley - West Leederville - Glendalough",
          "Nollamara - Westminster",
          "Maddington - Orange Grove - Martin",
          "Lockridge - Kiara",
          "Bassendean - Eden Hill - Ashfield",
          "Beechboro",
          "Hamilton Hill",
          "Mount Lawley - Inglewood",
          "Cannington - Queens Park",
          "Marangaroo",
          "Mount Nasura - Mount Richon - Bedfordale",
          "Waikiki",
          "Falcon - Wannanup",
          "Mandurah - East",
          "Swan View - Greenmount - Midvale",
          "Maylands",
          "Tuart Hill - Joondanna",
          "Alkimos - Eglinton",
          "Beckenham - Kenwick - Langford",
          "Coogee",
          "Stirling - Osborne Park",
          "Carramar",
          "Hazelmere - Guildford",
          "Gosnells",
          "Yangebup",
          "Craigie - Beldon",
          "Alexander Heights - Koondoola",
          "South Lake - Cockburn Central",
          "Parmelia - Orelia",
          "Safety Bay - Shoalwater",
          "Ballajura",
          "Camillo - Champion Lakes",
          "Kelmscott",
          "Bullsbrook",
          "Warnbro",
          "Stratton - Jane Brook",
          "Malmalling - Reservoir",
          "Serpentine - Jarrahdale",
          "Balcatta - Hamersley",
          "Thornlie",
          "Port Kennedy",
          "Kalamunda - Maida Vale - Gooseberry Hill",
          "Butler - Merriwa - Ridgewood",
          "Forrestdale - Harrisdale - Piara Waters",
          "Victoria Park - Lathlain - Burswood",
          "Gidgegannup",
          "Seville Grove",
          "Como",
          "Wembley Downs - Churchlands - Woodlands",
          "Willetton",
          "Scarborough",
          "Mount Hawthorn - Leederville",
          "South Perth - Kensington",
          "Melville",
          "Subiaco - Shenton Park",
          "Karrinyup - Gwelup - Carine",
          "Padbury",
          "Greenwood - Warwick",
          "Kingsley",
          "Hillarys",
          "Joondalup - Edgewater",
          "Leeming",
          "The Vines",
          "City Beach",
          "Murdoch - Kardinya",
          "Pinjarra",
          "Floreat",
          "Balga - Mirrabooka",
          "Midland - Guildford",
          "Parkwood - Ferndale - Lynwood",
          "Kwinana Industrial",
          "Perth City",
          "Middle Swan - Herne Hill",
          "North Perth",
          "Success - Hammond Park",
          "Banjup",
          "Madeley - Darch - Landsdale",
          "Girrawheen",
          "Mullaloo - Kallaroo",
          "Bateman",
          "Ellenbrook",
          "Armadale - Wungong - Brookdale",
          "Woodvale",
          "Currambine - Kinross",
          "Cooloongup",
          "Mandurah - North",
          "Clarkson",
          "Heathridge - Connolly",
          "Bertram - Wellard (West)",
          "Duncraig",
          "Sorrento - Marmion",
          "Singleton - Golden Bay - Secret Harbour",
          "Bull Creek",
          "Willagee",
          "Dawesville - Bouvard",
          "Applecross - Ardross",
          "Canning Vale - West",
          "Tapping - Ashby - Sinagra",
          "Ocean Reef",
          "Mandurah - South",
          "Yanchep",
          "Halls Head - Erskine",
          "Mandurah",
          "Greenfields",
          "Cottesloe",
          "Rockingham",
          "Calista",
          "Iluka - Burns Beach",
          "Beeliar - Wattleup",
          "Canning Vale - East",
          "Jandakot",
          "Two Rocks",
          "Winthrop",
          "Baldivis",
          "Carabooda - Pinjar",
          "Hope Valley - Postans",
          "Avon Valley National Park",
          "Malaga",
          "Melaleuca - Lexia",
          "Walyunga National Park",
          "Herdsman",
          "Osborne Park Industrial",
          "Ashendon - Lesley",
          "Kewdale Commercial",
          "Perth Airport",
          "Canning Vale Commercial",
          "Welshpool",
          "Bibra Lake",
          "Henderson",
          "O'Connor (WA)",
          "Rockingham Lakes",
          "Bibra Industrial"
         ],
         "xaxis": "x",
         "y": [
          19.1,
          11.56,
          7.36,
          7.36,
          7.36,
          1,
          5.26,
          5.26,
          3.17,
          5.26,
          5.4,
          5.26,
          5.26,
          5.26,
          -0.25,
          3.17,
          3.17,
          3.17,
          3.17,
          3.17,
          3.17,
          3.17,
          3.17,
          3.17,
          3.17,
          3.17,
          3.17,
          3.17,
          3.17,
          3.17,
          3.17,
          3.17,
          3.17,
          3.17,
          3.17,
          3.17,
          3.17,
          0,
          3.17,
          3.17,
          3.17,
          3.17,
          3.17,
          3.17,
          3.17,
          3.17,
          3.17,
          3.17,
          2.13,
          3.17,
          3.17,
          3.17,
          3.17,
          3.17,
          3.17,
          3.17,
          3.17,
          3.17,
          0,
          3.17,
          3.17,
          3.17,
          3.17,
          3.17,
          3.17,
          3.17,
          3.17,
          3.17,
          3.17,
          3.17,
          3.17,
          3.17,
          3.17,
          3.17,
          3.17,
          3.17,
          3.17,
          4.02,
          3.17,
          3.17,
          3.17,
          3.17,
          2.13,
          3.17,
          1,
          1,
          1,
          2.13,
          1,
          1,
          1,
          1,
          1,
          1,
          1,
          1,
          1,
          1,
          1,
          1,
          1,
          1,
          1,
          1,
          1.67,
          1,
          0.33,
          0.33,
          1.09,
          1.09,
          1,
          -0.76,
          1,
          1,
          1,
          1,
          1,
          1,
          1.09,
          1,
          1,
          1,
          1.09,
          1,
          1,
          1.09,
          1,
          1,
          1,
          1,
          0.25,
          0.25,
          1,
          0.25,
          0.67,
          0.33,
          -0.17,
          0.25,
          0.25,
          0.25,
          0.33,
          0,
          0.33,
          0.25,
          0.33,
          0.33,
          0.25,
          -0.17,
          0.25,
          0,
          0.25,
          0,
          0,
          -0.17,
          0.25,
          0,
          -0.38,
          -0.25,
          -0.25,
          -0.25,
          -0.25,
          -0.25,
          -0.25,
          -0.25,
          -0.25,
          -0.25,
          -0.25,
          -0.25,
          -0.25,
          -0.25,
          -0.25,
          -0.25,
          -0.85
         ],
         "yaxis": "y"
        }
       ],
       "layout": {
        "barmode": "relative",
        "legend": {
         "tracegroupgap": 0
        },
        "template": {
         "data": {
          "bar": [
           {
            "error_x": {
             "color": "#2a3f5f"
            },
            "error_y": {
             "color": "#2a3f5f"
            },
            "marker": {
             "line": {
              "color": "#E5ECF6",
              "width": 0.5
             }
            },
            "type": "bar"
           }
          ],
          "barpolar": [
           {
            "marker": {
             "line": {
              "color": "#E5ECF6",
              "width": 0.5
             }
            },
            "type": "barpolar"
           }
          ],
          "carpet": [
           {
            "aaxis": {
             "endlinecolor": "#2a3f5f",
             "gridcolor": "white",
             "linecolor": "white",
             "minorgridcolor": "white",
             "startlinecolor": "#2a3f5f"
            },
            "baxis": {
             "endlinecolor": "#2a3f5f",
             "gridcolor": "white",
             "linecolor": "white",
             "minorgridcolor": "white",
             "startlinecolor": "#2a3f5f"
            },
            "type": "carpet"
           }
          ],
          "choropleth": [
           {
            "colorbar": {
             "outlinewidth": 0,
             "ticks": ""
            },
            "type": "choropleth"
           }
          ],
          "contour": [
           {
            "colorbar": {
             "outlinewidth": 0,
             "ticks": ""
            },
            "colorscale": [
             [
              0,
              "#0d0887"
             ],
             [
              0.1111111111111111,
              "#46039f"
             ],
             [
              0.2222222222222222,
              "#7201a8"
             ],
             [
              0.3333333333333333,
              "#9c179e"
             ],
             [
              0.4444444444444444,
              "#bd3786"
             ],
             [
              0.5555555555555556,
              "#d8576b"
             ],
             [
              0.6666666666666666,
              "#ed7953"
             ],
             [
              0.7777777777777778,
              "#fb9f3a"
             ],
             [
              0.8888888888888888,
              "#fdca26"
             ],
             [
              1,
              "#f0f921"
             ]
            ],
            "type": "contour"
           }
          ],
          "contourcarpet": [
           {
            "colorbar": {
             "outlinewidth": 0,
             "ticks": ""
            },
            "type": "contourcarpet"
           }
          ],
          "heatmap": [
           {
            "colorbar": {
             "outlinewidth": 0,
             "ticks": ""
            },
            "colorscale": [
             [
              0,
              "#0d0887"
             ],
             [
              0.1111111111111111,
              "#46039f"
             ],
             [
              0.2222222222222222,
              "#7201a8"
             ],
             [
              0.3333333333333333,
              "#9c179e"
             ],
             [
              0.4444444444444444,
              "#bd3786"
             ],
             [
              0.5555555555555556,
              "#d8576b"
             ],
             [
              0.6666666666666666,
              "#ed7953"
             ],
             [
              0.7777777777777778,
              "#fb9f3a"
             ],
             [
              0.8888888888888888,
              "#fdca26"
             ],
             [
              1,
              "#f0f921"
             ]
            ],
            "type": "heatmap"
           }
          ],
          "heatmapgl": [
           {
            "colorbar": {
             "outlinewidth": 0,
             "ticks": ""
            },
            "colorscale": [
             [
              0,
              "#0d0887"
             ],
             [
              0.1111111111111111,
              "#46039f"
             ],
             [
              0.2222222222222222,
              "#7201a8"
             ],
             [
              0.3333333333333333,
              "#9c179e"
             ],
             [
              0.4444444444444444,
              "#bd3786"
             ],
             [
              0.5555555555555556,
              "#d8576b"
             ],
             [
              0.6666666666666666,
              "#ed7953"
             ],
             [
              0.7777777777777778,
              "#fb9f3a"
             ],
             [
              0.8888888888888888,
              "#fdca26"
             ],
             [
              1,
              "#f0f921"
             ]
            ],
            "type": "heatmapgl"
           }
          ],
          "histogram": [
           {
            "marker": {
             "colorbar": {
              "outlinewidth": 0,
              "ticks": ""
             }
            },
            "type": "histogram"
           }
          ],
          "histogram2d": [
           {
            "colorbar": {
             "outlinewidth": 0,
             "ticks": ""
            },
            "colorscale": [
             [
              0,
              "#0d0887"
             ],
             [
              0.1111111111111111,
              "#46039f"
             ],
             [
              0.2222222222222222,
              "#7201a8"
             ],
             [
              0.3333333333333333,
              "#9c179e"
             ],
             [
              0.4444444444444444,
              "#bd3786"
             ],
             [
              0.5555555555555556,
              "#d8576b"
             ],
             [
              0.6666666666666666,
              "#ed7953"
             ],
             [
              0.7777777777777778,
              "#fb9f3a"
             ],
             [
              0.8888888888888888,
              "#fdca26"
             ],
             [
              1,
              "#f0f921"
             ]
            ],
            "type": "histogram2d"
           }
          ],
          "histogram2dcontour": [
           {
            "colorbar": {
             "outlinewidth": 0,
             "ticks": ""
            },
            "colorscale": [
             [
              0,
              "#0d0887"
             ],
             [
              0.1111111111111111,
              "#46039f"
             ],
             [
              0.2222222222222222,
              "#7201a8"
             ],
             [
              0.3333333333333333,
              "#9c179e"
             ],
             [
              0.4444444444444444,
              "#bd3786"
             ],
             [
              0.5555555555555556,
              "#d8576b"
             ],
             [
              0.6666666666666666,
              "#ed7953"
             ],
             [
              0.7777777777777778,
              "#fb9f3a"
             ],
             [
              0.8888888888888888,
              "#fdca26"
             ],
             [
              1,
              "#f0f921"
             ]
            ],
            "type": "histogram2dcontour"
           }
          ],
          "mesh3d": [
           {
            "colorbar": {
             "outlinewidth": 0,
             "ticks": ""
            },
            "type": "mesh3d"
           }
          ],
          "parcoords": [
           {
            "line": {
             "colorbar": {
              "outlinewidth": 0,
              "ticks": ""
             }
            },
            "type": "parcoords"
           }
          ],
          "pie": [
           {
            "automargin": true,
            "type": "pie"
           }
          ],
          "scatter": [
           {
            "marker": {
             "colorbar": {
              "outlinewidth": 0,
              "ticks": ""
             }
            },
            "type": "scatter"
           }
          ],
          "scatter3d": [
           {
            "line": {
             "colorbar": {
              "outlinewidth": 0,
              "ticks": ""
             }
            },
            "marker": {
             "colorbar": {
              "outlinewidth": 0,
              "ticks": ""
             }
            },
            "type": "scatter3d"
           }
          ],
          "scattercarpet": [
           {
            "marker": {
             "colorbar": {
              "outlinewidth": 0,
              "ticks": ""
             }
            },
            "type": "scattercarpet"
           }
          ],
          "scattergeo": [
           {
            "marker": {
             "colorbar": {
              "outlinewidth": 0,
              "ticks": ""
             }
            },
            "type": "scattergeo"
           }
          ],
          "scattergl": [
           {
            "marker": {
             "colorbar": {
              "outlinewidth": 0,
              "ticks": ""
             }
            },
            "type": "scattergl"
           }
          ],
          "scattermapbox": [
           {
            "marker": {
             "colorbar": {
              "outlinewidth": 0,
              "ticks": ""
             }
            },
            "type": "scattermapbox"
           }
          ],
          "scatterpolar": [
           {
            "marker": {
             "colorbar": {
              "outlinewidth": 0,
              "ticks": ""
             }
            },
            "type": "scatterpolar"
           }
          ],
          "scatterpolargl": [
           {
            "marker": {
             "colorbar": {
              "outlinewidth": 0,
              "ticks": ""
             }
            },
            "type": "scatterpolargl"
           }
          ],
          "scatterternary": [
           {
            "marker": {
             "colorbar": {
              "outlinewidth": 0,
              "ticks": ""
             }
            },
            "type": "scatterternary"
           }
          ],
          "surface": [
           {
            "colorbar": {
             "outlinewidth": 0,
             "ticks": ""
            },
            "colorscale": [
             [
              0,
              "#0d0887"
             ],
             [
              0.1111111111111111,
              "#46039f"
             ],
             [
              0.2222222222222222,
              "#7201a8"
             ],
             [
              0.3333333333333333,
              "#9c179e"
             ],
             [
              0.4444444444444444,
              "#bd3786"
             ],
             [
              0.5555555555555556,
              "#d8576b"
             ],
             [
              0.6666666666666666,
              "#ed7953"
             ],
             [
              0.7777777777777778,
              "#fb9f3a"
             ],
             [
              0.8888888888888888,
              "#fdca26"
             ],
             [
              1,
              "#f0f921"
             ]
            ],
            "type": "surface"
           }
          ],
          "table": [
           {
            "cells": {
             "fill": {
              "color": "#EBF0F8"
             },
             "line": {
              "color": "white"
             }
            },
            "header": {
             "fill": {
              "color": "#C8D4E3"
             },
             "line": {
              "color": "white"
             }
            },
            "type": "table"
           }
          ]
         },
         "layout": {
          "annotationdefaults": {
           "arrowcolor": "#2a3f5f",
           "arrowhead": 0,
           "arrowwidth": 1
          },
          "coloraxis": {
           "colorbar": {
            "outlinewidth": 0,
            "ticks": ""
           }
          },
          "colorscale": {
           "diverging": [
            [
             0,
             "#8e0152"
            ],
            [
             0.1,
             "#c51b7d"
            ],
            [
             0.2,
             "#de77ae"
            ],
            [
             0.3,
             "#f1b6da"
            ],
            [
             0.4,
             "#fde0ef"
            ],
            [
             0.5,
             "#f7f7f7"
            ],
            [
             0.6,
             "#e6f5d0"
            ],
            [
             0.7,
             "#b8e186"
            ],
            [
             0.8,
             "#7fbc41"
            ],
            [
             0.9,
             "#4d9221"
            ],
            [
             1,
             "#276419"
            ]
           ],
           "sequential": [
            [
             0,
             "#0d0887"
            ],
            [
             0.1111111111111111,
             "#46039f"
            ],
            [
             0.2222222222222222,
             "#7201a8"
            ],
            [
             0.3333333333333333,
             "#9c179e"
            ],
            [
             0.4444444444444444,
             "#bd3786"
            ],
            [
             0.5555555555555556,
             "#d8576b"
            ],
            [
             0.6666666666666666,
             "#ed7953"
            ],
            [
             0.7777777777777778,
             "#fb9f3a"
            ],
            [
             0.8888888888888888,
             "#fdca26"
            ],
            [
             1,
             "#f0f921"
            ]
           ],
           "sequentialminus": [
            [
             0,
             "#0d0887"
            ],
            [
             0.1111111111111111,
             "#46039f"
            ],
            [
             0.2222222222222222,
             "#7201a8"
            ],
            [
             0.3333333333333333,
             "#9c179e"
            ],
            [
             0.4444444444444444,
             "#bd3786"
            ],
            [
             0.5555555555555556,
             "#d8576b"
            ],
            [
             0.6666666666666666,
             "#ed7953"
            ],
            [
             0.7777777777777778,
             "#fb9f3a"
            ],
            [
             0.8888888888888888,
             "#fdca26"
            ],
            [
             1,
             "#f0f921"
            ]
           ]
          },
          "colorway": [
           "#636efa",
           "#EF553B",
           "#00cc96",
           "#ab63fa",
           "#FFA15A",
           "#19d3f3",
           "#FF6692",
           "#B6E880",
           "#FF97FF",
           "#FECB52"
          ],
          "font": {
           "color": "#2a3f5f"
          },
          "geo": {
           "bgcolor": "white",
           "lakecolor": "white",
           "landcolor": "#E5ECF6",
           "showlakes": true,
           "showland": true,
           "subunitcolor": "white"
          },
          "hoverlabel": {
           "align": "left"
          },
          "hovermode": "closest",
          "mapbox": {
           "style": "light"
          },
          "paper_bgcolor": "white",
          "plot_bgcolor": "#E5ECF6",
          "polar": {
           "angularaxis": {
            "gridcolor": "white",
            "linecolor": "white",
            "ticks": ""
           },
           "bgcolor": "#E5ECF6",
           "radialaxis": {
            "gridcolor": "white",
            "linecolor": "white",
            "ticks": ""
           }
          },
          "scene": {
           "xaxis": {
            "backgroundcolor": "#E5ECF6",
            "gridcolor": "white",
            "gridwidth": 2,
            "linecolor": "white",
            "showbackground": true,
            "ticks": "",
            "zerolinecolor": "white"
           },
           "yaxis": {
            "backgroundcolor": "#E5ECF6",
            "gridcolor": "white",
            "gridwidth": 2,
            "linecolor": "white",
            "showbackground": true,
            "ticks": "",
            "zerolinecolor": "white"
           },
           "zaxis": {
            "backgroundcolor": "#E5ECF6",
            "gridcolor": "white",
            "gridwidth": 2,
            "linecolor": "white",
            "showbackground": true,
            "ticks": "",
            "zerolinecolor": "white"
           }
          },
          "shapedefaults": {
           "line": {
            "color": "#2a3f5f"
           }
          },
          "ternary": {
           "aaxis": {
            "gridcolor": "white",
            "linecolor": "white",
            "ticks": ""
           },
           "baxis": {
            "gridcolor": "white",
            "linecolor": "white",
            "ticks": ""
           },
           "bgcolor": "#E5ECF6",
           "caxis": {
            "gridcolor": "white",
            "linecolor": "white",
            "ticks": ""
           }
          },
          "title": {
           "x": 0.05
          },
          "xaxis": {
           "automargin": true,
           "gridcolor": "white",
           "linecolor": "white",
           "ticks": "",
           "title": {
            "standoff": 15
           },
           "zerolinecolor": "white",
           "zerolinewidth": 2
          },
          "yaxis": {
           "automargin": true,
           "gridcolor": "white",
           "linecolor": "white",
           "ticks": "",
           "title": {
            "standoff": 15
           },
           "zerolinecolor": "white",
           "zerolinewidth": 2
          }
         }
        },
        "title": {
         "text": " % Change in Income 2006-2016 "
        },
        "xaxis": {
         "anchor": "y",
         "domain": [
          0,
          1
         ],
         "title": {
          "text": "SA2 Name"
         }
        },
        "yaxis": {
         "anchor": "x",
         "domain": [
          0,
          1
         ],
         "title": {
          "text": "Income%2006_2016"
         }
        }
       }
      },
      "text/html": [
       "<div>                            <div id=\"39096104-e981-4d29-83dc-693a781857a5\" class=\"plotly-graph-div\" style=\"height:525px; width:100%;\"></div>            <script type=\"text/javascript\">                require([\"plotly\"], function(Plotly) {                    window.PLOTLYENV=window.PLOTLYENV || {};                                    if (document.getElementById(\"39096104-e981-4d29-83dc-693a781857a5\")) {                    Plotly.newPlot(                        \"39096104-e981-4d29-83dc-693a781857a5\",                        [{\"alignmentgroup\": \"True\", \"hovertemplate\": \"SA2 Name=%{x}<br>Income%2006_2016=%{y}<extra></extra>\", \"legendgroup\": \"\", \"marker\": {\"color\": \"#636efa\"}, \"name\": \"\", \"offsetgroup\": \"\", \"orientation\": \"v\", \"showlegend\": false, \"textposition\": \"auto\", \"type\": \"bar\", \"x\": [\"Kings Park (WA)\", \"North Coogee\", \"Innaloo - Doubleview\", \"Fremantle\", \"Manning - Waterford\", \"Swanbourne - Mount Claremont\", \"Fremantle - South\", \"Helena Valley - Koongamia\", \"Bentley - Wilson - St James\", \"Coolbellup\", \"Nedlands - Dalkeith - Crawley\", \"Mosman Park - Peppermint Grove\", \"Claremont (WA)\", \"Lesmurdie - Bickley - Carmel\", \"Neerabup National Park\", \"Rivervale - Kewdale - Cloverdale\", \"East Victoria Park - Carlisle\", \"Belmont - Ascot - Redcliffe\", \"Bayswater - Embleton - Bedford\", \"Yokine - Coolbinia - Menora\", \"Dianella\", \"Wanneroo\", \"Mundijong\", \"Glen Forrest - Darlington\", \"Noranda\", \"Mundaring\", \"Roleystone\", \"Huntingdale - Southern River\", \"Forrestfield - Wattle Grove\", \"High Wycombe\", \"Chidlow\", \"Riverton - Shelley - Rossmoyne\", \"Trigg - North Beach - Watermans Bay\", \"Bicton - Palmyra\", \"Booragoon\", \"Morley\", \"East Fremantle\", \"Casuarina - Wandi\", \"Mindarie - Quinns Rocks - Jindalee\", \"Spearwood\", \"Byford\", \"Wembley - West Leederville - Glendalough\", \"Nollamara - Westminster\", \"Maddington - Orange Grove - Martin\", \"Lockridge - Kiara\", \"Bassendean - Eden Hill - Ashfield\", \"Beechboro\", \"Hamilton Hill\", \"Mount Lawley - Inglewood\", \"Cannington - Queens Park\", \"Marangaroo\", \"Mount Nasura - Mount Richon - Bedfordale\", \"Waikiki\", \"Falcon - Wannanup\", \"Mandurah - East\", \"Swan View - Greenmount - Midvale\", \"Maylands\", \"Tuart Hill - Joondanna\", \"Alkimos - Eglinton\", \"Beckenham - Kenwick - Langford\", \"Coogee\", \"Stirling - Osborne Park\", \"Carramar\", \"Hazelmere - Guildford\", \"Gosnells\", \"Yangebup\", \"Craigie - Beldon\", \"Alexander Heights - Koondoola\", \"South Lake - Cockburn Central\", \"Parmelia - Orelia\", \"Safety Bay - Shoalwater\", \"Ballajura\", \"Camillo - Champion Lakes\", \"Kelmscott\", \"Bullsbrook\", \"Warnbro\", \"Stratton - Jane Brook\", \"Malmalling - Reservoir\", \"Serpentine - Jarrahdale\", \"Balcatta - Hamersley\", \"Thornlie\", \"Port Kennedy\", \"Kalamunda - Maida Vale - Gooseberry Hill\", \"Butler - Merriwa - Ridgewood\", \"Forrestdale - Harrisdale - Piara Waters\", \"Victoria Park - Lathlain - Burswood\", \"Gidgegannup\", \"Seville Grove\", \"Como\", \"Wembley Downs - Churchlands - Woodlands\", \"Willetton\", \"Scarborough\", \"Mount Hawthorn - Leederville\", \"South Perth - Kensington\", \"Melville\", \"Subiaco - Shenton Park\", \"Karrinyup - Gwelup - Carine\", \"Padbury\", \"Greenwood - Warwick\", \"Kingsley\", \"Hillarys\", \"Joondalup - Edgewater\", \"Leeming\", \"The Vines\", \"City Beach\", \"Murdoch - Kardinya\", \"Pinjarra\", \"Floreat\", \"Balga - Mirrabooka\", \"Midland - Guildford\", \"Parkwood - Ferndale - Lynwood\", \"Kwinana Industrial\", \"Perth City\", \"Middle Swan - Herne Hill\", \"North Perth\", \"Success - Hammond Park\", \"Banjup\", \"Madeley - Darch - Landsdale\", \"Girrawheen\", \"Mullaloo - Kallaroo\", \"Bateman\", \"Ellenbrook\", \"Armadale - Wungong - Brookdale\", \"Woodvale\", \"Currambine - Kinross\", \"Cooloongup\", \"Mandurah - North\", \"Clarkson\", \"Heathridge - Connolly\", \"Bertram - Wellard (West)\", \"Duncraig\", \"Sorrento - Marmion\", \"Singleton - Golden Bay - Secret Harbour\", \"Bull Creek\", \"Willagee\", \"Dawesville - Bouvard\", \"Applecross - Ardross\", \"Canning Vale - West\", \"Tapping - Ashby - Sinagra\", \"Ocean Reef\", \"Mandurah - South\", \"Yanchep\", \"Halls Head - Erskine\", \"Mandurah\", \"Greenfields\", \"Cottesloe\", \"Rockingham\", \"Calista\", \"Iluka - Burns Beach\", \"Beeliar - Wattleup\", \"Canning Vale - East\", \"Jandakot\", \"Two Rocks\", \"Winthrop\", \"Baldivis\", \"Carabooda - Pinjar\", \"Hope Valley - Postans\", \"Avon Valley National Park\", \"Malaga\", \"Melaleuca - Lexia\", \"Walyunga National Park\", \"Herdsman\", \"Osborne Park Industrial\", \"Ashendon - Lesley\", \"Kewdale Commercial\", \"Perth Airport\", \"Canning Vale Commercial\", \"Welshpool\", \"Bibra Lake\", \"Henderson\", \"O'Connor (WA)\", \"Rockingham Lakes\", \"Bibra Industrial\"], \"xaxis\": \"x\", \"y\": [19.1, 11.56, 7.36, 7.36, 7.36, 1.0, 5.26, 5.26, 3.17, 5.26, 5.4, 5.26, 5.26, 5.26, -0.25, 3.17, 3.17, 3.17, 3.17, 3.17, 3.17, 3.17, 3.17, 3.17, 3.17, 3.17, 3.17, 3.17, 3.17, 3.17, 3.17, 3.17, 3.17, 3.17, 3.17, 3.17, 3.17, 0.0, 3.17, 3.17, 3.17, 3.17, 3.17, 3.17, 3.17, 3.17, 3.17, 3.17, 2.13, 3.17, 3.17, 3.17, 3.17, 3.17, 3.17, 3.17, 3.17, 3.17, 0.0, 3.17, 3.17, 3.17, 3.17, 3.17, 3.17, 3.17, 3.17, 3.17, 3.17, 3.17, 3.17, 3.17, 3.17, 3.17, 3.17, 3.17, 3.17, 4.02, 3.17, 3.17, 3.17, 3.17, 2.13, 3.17, 1.0, 1.0, 1.0, 2.13, 1.0, 1.0, 1.0, 1.0, 1.0, 1.0, 1.0, 1.0, 1.0, 1.0, 1.0, 1.0, 1.0, 1.0, 1.0, 1.0, 1.67, 1.0, 0.33, 0.33, 1.09, 1.09, 1.0, -0.76, 1.0, 1.0, 1.0, 1.0, 1.0, 1.0, 1.09, 1.0, 1.0, 1.0, 1.09, 1.0, 1.0, 1.09, 1.0, 1.0, 1.0, 1.0, 0.25, 0.25, 1.0, 0.25, 0.67, 0.33, -0.17, 0.25, 0.25, 0.25, 0.33, 0.0, 0.33, 0.25, 0.33, 0.33, 0.25, -0.17, 0.25, 0.0, 0.25, 0.0, 0.0, -0.17, 0.25, 0.0, -0.38, -0.25, -0.25, -0.25, -0.25, -0.25, -0.25, -0.25, -0.25, -0.25, -0.25, -0.25, -0.25, -0.25, -0.25, -0.25, -0.85], \"yaxis\": \"y\"}],                        {\"barmode\": \"relative\", \"legend\": {\"tracegroupgap\": 0}, \"template\": {\"data\": {\"bar\": [{\"error_x\": {\"color\": \"#2a3f5f\"}, \"error_y\": {\"color\": \"#2a3f5f\"}, \"marker\": {\"line\": {\"color\": \"#E5ECF6\", \"width\": 0.5}}, \"type\": \"bar\"}], \"barpolar\": [{\"marker\": {\"line\": {\"color\": \"#E5ECF6\", \"width\": 0.5}}, \"type\": \"barpolar\"}], \"carpet\": [{\"aaxis\": {\"endlinecolor\": \"#2a3f5f\", \"gridcolor\": \"white\", \"linecolor\": \"white\", \"minorgridcolor\": \"white\", \"startlinecolor\": \"#2a3f5f\"}, \"baxis\": {\"endlinecolor\": \"#2a3f5f\", \"gridcolor\": \"white\", \"linecolor\": \"white\", \"minorgridcolor\": \"white\", \"startlinecolor\": \"#2a3f5f\"}, \"type\": \"carpet\"}], \"choropleth\": [{\"colorbar\": {\"outlinewidth\": 0, \"ticks\": \"\"}, \"type\": \"choropleth\"}], \"contour\": [{\"colorbar\": {\"outlinewidth\": 0, \"ticks\": \"\"}, \"colorscale\": [[0.0, \"#0d0887\"], [0.1111111111111111, \"#46039f\"], [0.2222222222222222, \"#7201a8\"], [0.3333333333333333, \"#9c179e\"], [0.4444444444444444, \"#bd3786\"], [0.5555555555555556, \"#d8576b\"], [0.6666666666666666, \"#ed7953\"], [0.7777777777777778, \"#fb9f3a\"], [0.8888888888888888, \"#fdca26\"], [1.0, \"#f0f921\"]], \"type\": \"contour\"}], \"contourcarpet\": [{\"colorbar\": {\"outlinewidth\": 0, \"ticks\": \"\"}, \"type\": \"contourcarpet\"}], \"heatmap\": [{\"colorbar\": {\"outlinewidth\": 0, \"ticks\": \"\"}, \"colorscale\": [[0.0, \"#0d0887\"], [0.1111111111111111, \"#46039f\"], [0.2222222222222222, \"#7201a8\"], [0.3333333333333333, \"#9c179e\"], [0.4444444444444444, \"#bd3786\"], [0.5555555555555556, \"#d8576b\"], [0.6666666666666666, \"#ed7953\"], [0.7777777777777778, \"#fb9f3a\"], [0.8888888888888888, \"#fdca26\"], [1.0, \"#f0f921\"]], \"type\": \"heatmap\"}], \"heatmapgl\": [{\"colorbar\": {\"outlinewidth\": 0, \"ticks\": \"\"}, \"colorscale\": [[0.0, \"#0d0887\"], [0.1111111111111111, \"#46039f\"], [0.2222222222222222, \"#7201a8\"], [0.3333333333333333, \"#9c179e\"], [0.4444444444444444, \"#bd3786\"], [0.5555555555555556, \"#d8576b\"], [0.6666666666666666, \"#ed7953\"], [0.7777777777777778, \"#fb9f3a\"], [0.8888888888888888, \"#fdca26\"], [1.0, \"#f0f921\"]], \"type\": \"heatmapgl\"}], \"histogram\": [{\"marker\": {\"colorbar\": {\"outlinewidth\": 0, \"ticks\": \"\"}}, \"type\": \"histogram\"}], \"histogram2d\": [{\"colorbar\": {\"outlinewidth\": 0, \"ticks\": \"\"}, \"colorscale\": [[0.0, \"#0d0887\"], [0.1111111111111111, \"#46039f\"], [0.2222222222222222, \"#7201a8\"], [0.3333333333333333, \"#9c179e\"], [0.4444444444444444, \"#bd3786\"], [0.5555555555555556, \"#d8576b\"], [0.6666666666666666, \"#ed7953\"], [0.7777777777777778, \"#fb9f3a\"], [0.8888888888888888, \"#fdca26\"], [1.0, \"#f0f921\"]], \"type\": \"histogram2d\"}], \"histogram2dcontour\": [{\"colorbar\": {\"outlinewidth\": 0, \"ticks\": \"\"}, \"colorscale\": [[0.0, \"#0d0887\"], [0.1111111111111111, \"#46039f\"], [0.2222222222222222, \"#7201a8\"], [0.3333333333333333, \"#9c179e\"], [0.4444444444444444, \"#bd3786\"], [0.5555555555555556, \"#d8576b\"], [0.6666666666666666, \"#ed7953\"], [0.7777777777777778, \"#fb9f3a\"], [0.8888888888888888, \"#fdca26\"], [1.0, \"#f0f921\"]], \"type\": \"histogram2dcontour\"}], \"mesh3d\": [{\"colorbar\": {\"outlinewidth\": 0, \"ticks\": \"\"}, \"type\": \"mesh3d\"}], \"parcoords\": [{\"line\": {\"colorbar\": {\"outlinewidth\": 0, \"ticks\": \"\"}}, \"type\": \"parcoords\"}], \"pie\": [{\"automargin\": true, \"type\": \"pie\"}], \"scatter\": [{\"marker\": {\"colorbar\": {\"outlinewidth\": 0, \"ticks\": \"\"}}, \"type\": \"scatter\"}], \"scatter3d\": [{\"line\": {\"colorbar\": {\"outlinewidth\": 0, \"ticks\": \"\"}}, \"marker\": {\"colorbar\": {\"outlinewidth\": 0, \"ticks\": \"\"}}, \"type\": \"scatter3d\"}], \"scattercarpet\": [{\"marker\": {\"colorbar\": {\"outlinewidth\": 0, \"ticks\": \"\"}}, \"type\": \"scattercarpet\"}], \"scattergeo\": [{\"marker\": {\"colorbar\": {\"outlinewidth\": 0, \"ticks\": \"\"}}, \"type\": \"scattergeo\"}], \"scattergl\": [{\"marker\": {\"colorbar\": {\"outlinewidth\": 0, \"ticks\": \"\"}}, \"type\": \"scattergl\"}], \"scattermapbox\": [{\"marker\": {\"colorbar\": {\"outlinewidth\": 0, \"ticks\": \"\"}}, \"type\": \"scattermapbox\"}], \"scatterpolar\": [{\"marker\": {\"colorbar\": {\"outlinewidth\": 0, \"ticks\": \"\"}}, \"type\": \"scatterpolar\"}], \"scatterpolargl\": [{\"marker\": {\"colorbar\": {\"outlinewidth\": 0, \"ticks\": \"\"}}, \"type\": \"scatterpolargl\"}], \"scatterternary\": [{\"marker\": {\"colorbar\": {\"outlinewidth\": 0, \"ticks\": \"\"}}, \"type\": \"scatterternary\"}], \"surface\": [{\"colorbar\": {\"outlinewidth\": 0, \"ticks\": \"\"}, \"colorscale\": [[0.0, \"#0d0887\"], [0.1111111111111111, \"#46039f\"], [0.2222222222222222, \"#7201a8\"], [0.3333333333333333, \"#9c179e\"], [0.4444444444444444, \"#bd3786\"], [0.5555555555555556, \"#d8576b\"], [0.6666666666666666, \"#ed7953\"], [0.7777777777777778, \"#fb9f3a\"], [0.8888888888888888, \"#fdca26\"], [1.0, \"#f0f921\"]], \"type\": \"surface\"}], \"table\": [{\"cells\": {\"fill\": {\"color\": \"#EBF0F8\"}, \"line\": {\"color\": \"white\"}}, \"header\": {\"fill\": {\"color\": \"#C8D4E3\"}, \"line\": {\"color\": \"white\"}}, \"type\": \"table\"}]}, \"layout\": {\"annotationdefaults\": {\"arrowcolor\": \"#2a3f5f\", \"arrowhead\": 0, \"arrowwidth\": 1}, \"coloraxis\": {\"colorbar\": {\"outlinewidth\": 0, \"ticks\": \"\"}}, \"colorscale\": {\"diverging\": [[0, \"#8e0152\"], [0.1, \"#c51b7d\"], [0.2, \"#de77ae\"], [0.3, \"#f1b6da\"], [0.4, \"#fde0ef\"], [0.5, \"#f7f7f7\"], [0.6, \"#e6f5d0\"], [0.7, \"#b8e186\"], [0.8, \"#7fbc41\"], [0.9, \"#4d9221\"], [1, \"#276419\"]], \"sequential\": [[0.0, \"#0d0887\"], [0.1111111111111111, \"#46039f\"], [0.2222222222222222, \"#7201a8\"], [0.3333333333333333, \"#9c179e\"], [0.4444444444444444, \"#bd3786\"], [0.5555555555555556, \"#d8576b\"], [0.6666666666666666, \"#ed7953\"], [0.7777777777777778, \"#fb9f3a\"], [0.8888888888888888, \"#fdca26\"], [1.0, \"#f0f921\"]], \"sequentialminus\": [[0.0, \"#0d0887\"], [0.1111111111111111, \"#46039f\"], [0.2222222222222222, \"#7201a8\"], [0.3333333333333333, \"#9c179e\"], [0.4444444444444444, \"#bd3786\"], [0.5555555555555556, \"#d8576b\"], [0.6666666666666666, \"#ed7953\"], [0.7777777777777778, \"#fb9f3a\"], [0.8888888888888888, \"#fdca26\"], [1.0, \"#f0f921\"]]}, \"colorway\": [\"#636efa\", \"#EF553B\", \"#00cc96\", \"#ab63fa\", \"#FFA15A\", \"#19d3f3\", \"#FF6692\", \"#B6E880\", \"#FF97FF\", \"#FECB52\"], \"font\": {\"color\": \"#2a3f5f\"}, \"geo\": {\"bgcolor\": \"white\", \"lakecolor\": \"white\", \"landcolor\": \"#E5ECF6\", \"showlakes\": true, \"showland\": true, \"subunitcolor\": \"white\"}, \"hoverlabel\": {\"align\": \"left\"}, \"hovermode\": \"closest\", \"mapbox\": {\"style\": \"light\"}, \"paper_bgcolor\": \"white\", \"plot_bgcolor\": \"#E5ECF6\", \"polar\": {\"angularaxis\": {\"gridcolor\": \"white\", \"linecolor\": \"white\", \"ticks\": \"\"}, \"bgcolor\": \"#E5ECF6\", \"radialaxis\": {\"gridcolor\": \"white\", \"linecolor\": \"white\", \"ticks\": \"\"}}, \"scene\": {\"xaxis\": {\"backgroundcolor\": \"#E5ECF6\", \"gridcolor\": \"white\", \"gridwidth\": 2, \"linecolor\": \"white\", \"showbackground\": true, \"ticks\": \"\", \"zerolinecolor\": \"white\"}, \"yaxis\": {\"backgroundcolor\": \"#E5ECF6\", \"gridcolor\": \"white\", \"gridwidth\": 2, \"linecolor\": \"white\", \"showbackground\": true, \"ticks\": \"\", \"zerolinecolor\": \"white\"}, \"zaxis\": {\"backgroundcolor\": \"#E5ECF6\", \"gridcolor\": \"white\", \"gridwidth\": 2, \"linecolor\": \"white\", \"showbackground\": true, \"ticks\": \"\", \"zerolinecolor\": \"white\"}}, \"shapedefaults\": {\"line\": {\"color\": \"#2a3f5f\"}}, \"ternary\": {\"aaxis\": {\"gridcolor\": \"white\", \"linecolor\": \"white\", \"ticks\": \"\"}, \"baxis\": {\"gridcolor\": \"white\", \"linecolor\": \"white\", \"ticks\": \"\"}, \"bgcolor\": \"#E5ECF6\", \"caxis\": {\"gridcolor\": \"white\", \"linecolor\": \"white\", \"ticks\": \"\"}}, \"title\": {\"x\": 0.05}, \"xaxis\": {\"automargin\": true, \"gridcolor\": \"white\", \"linecolor\": \"white\", \"ticks\": \"\", \"title\": {\"standoff\": 15}, \"zerolinecolor\": \"white\", \"zerolinewidth\": 2}, \"yaxis\": {\"automargin\": true, \"gridcolor\": \"white\", \"linecolor\": \"white\", \"ticks\": \"\", \"title\": {\"standoff\": 15}, \"zerolinecolor\": \"white\", \"zerolinewidth\": 2}}}, \"title\": {\"text\": \" % Change in Income 2006-2016 \"}, \"xaxis\": {\"anchor\": \"y\", \"domain\": [0.0, 1.0], \"title\": {\"text\": \"SA2 Name\"}}, \"yaxis\": {\"anchor\": \"x\", \"domain\": [0.0, 1.0], \"title\": {\"text\": \"Income%2006_2016\"}}},                        {\"responsive\": true}                    ).then(function(){\n",
       "                            \n",
       "var gd = document.getElementById('39096104-e981-4d29-83dc-693a781857a5');\n",
       "var x = new MutationObserver(function (mutations, observer) {{\n",
       "        var display = window.getComputedStyle(gd).display;\n",
       "        if (!display || display === 'none') {{\n",
       "            console.log([gd, 'removed!']);\n",
       "            Plotly.purge(gd);\n",
       "            observer.disconnect();\n",
       "        }}\n",
       "}});\n",
       "\n",
       "// Listen for the removal of the full notebook cells\n",
       "var notebookContainer = gd.closest('#notebook-container');\n",
       "if (notebookContainer) {{\n",
       "    x.observe(notebookContainer, {childList: true});\n",
       "}}\n",
       "\n",
       "// Listen for the clearing of the current output cell\n",
       "var outputEl = gd.closest('.output');\n",
       "if (outputEl) {{\n",
       "    x.observe(outputEl, {childList: true});\n",
       "}}\n",
       "\n",
       "                        })                };                });            </script>        </div>"
      ]
     },
     "metadata": {},
     "output_type": "display_data"
    }
   ],
   "source": [
    "#Income\n",
    "fig_income = px.bar(df, x='SA2 Name', y='Income%2006_2016', title=\" % Change in Income 2006-2016 \")\n",
    "fig_income.show()"
   ]
  },
  {
   "cell_type": "code",
   "execution_count": 34,
   "metadata": {},
   "outputs": [
    {
     "data": {
      "application/vnd.plotly.v1+json": {
       "config": {
        "plotlyServerURL": "https://plotly.com"
       },
       "data": [
        {
         "alignmentgroup": "True",
         "hovertemplate": "variable=Income_total_2006<br>SA2 Name=%{x}<br>value=%{y}<extra></extra>",
         "legendgroup": "Income_total_2006",
         "marker": {
          "color": "#636efa"
         },
         "name": "Income_total_2006",
         "offsetgroup": "Income_total_2006",
         "orientation": "v",
         "showlegend": true,
         "textposition": "auto",
         "type": "bar",
         "x": [
          "Kings Park (WA)",
          "North Coogee",
          "Innaloo - Doubleview",
          "Fremantle",
          "Manning - Waterford",
          "Swanbourne - Mount Claremont",
          "Fremantle - South",
          "Helena Valley - Koongamia",
          "Bentley - Wilson - St James",
          "Coolbellup",
          "Nedlands - Dalkeith - Crawley",
          "Mosman Park - Peppermint Grove",
          "Claremont (WA)",
          "Lesmurdie - Bickley - Carmel",
          "Neerabup National Park",
          "Rivervale - Kewdale - Cloverdale",
          "East Victoria Park - Carlisle",
          "Belmont - Ascot - Redcliffe",
          "Bayswater - Embleton - Bedford",
          "Yokine - Coolbinia - Menora",
          "Dianella",
          "Wanneroo",
          "Mundijong",
          "Glen Forrest - Darlington",
          "Noranda",
          "Mundaring",
          "Roleystone",
          "Huntingdale - Southern River",
          "Forrestfield - Wattle Grove",
          "High Wycombe",
          "Chidlow",
          "Riverton - Shelley - Rossmoyne",
          "Trigg - North Beach - Watermans Bay",
          "Bicton - Palmyra",
          "Booragoon",
          "Morley",
          "East Fremantle",
          "Casuarina - Wandi",
          "Mindarie - Quinns Rocks - Jindalee",
          "Spearwood",
          "Byford",
          "Wembley - West Leederville - Glendalough",
          "Nollamara - Westminster",
          "Maddington - Orange Grove - Martin",
          "Lockridge - Kiara",
          "Bassendean - Eden Hill - Ashfield",
          "Beechboro",
          "Hamilton Hill",
          "Mount Lawley - Inglewood",
          "Cannington - Queens Park",
          "Marangaroo",
          "Mount Nasura - Mount Richon - Bedfordale",
          "Waikiki",
          "Falcon - Wannanup",
          "Mandurah - East",
          "Swan View - Greenmount - Midvale",
          "Maylands",
          "Tuart Hill - Joondanna",
          "Alkimos - Eglinton",
          "Beckenham - Kenwick - Langford",
          "Coogee",
          "Stirling - Osborne Park",
          "Carramar",
          "Hazelmere - Guildford",
          "Gosnells",
          "Yangebup",
          "Craigie - Beldon",
          "Alexander Heights - Koondoola",
          "South Lake - Cockburn Central",
          "Parmelia - Orelia",
          "Safety Bay - Shoalwater",
          "Ballajura",
          "Camillo - Champion Lakes",
          "Kelmscott",
          "Bullsbrook",
          "Warnbro",
          "Stratton - Jane Brook",
          "Malmalling - Reservoir",
          "Serpentine - Jarrahdale",
          "Balcatta - Hamersley",
          "Thornlie",
          "Port Kennedy",
          "Kalamunda - Maida Vale - Gooseberry Hill",
          "Butler - Merriwa - Ridgewood",
          "Forrestdale - Harrisdale - Piara Waters",
          "Victoria Park - Lathlain - Burswood",
          "Gidgegannup",
          "Seville Grove",
          "Como",
          "Wembley Downs - Churchlands - Woodlands",
          "Willetton",
          "Scarborough",
          "Mount Hawthorn - Leederville",
          "South Perth - Kensington",
          "Melville",
          "Subiaco - Shenton Park",
          "Karrinyup - Gwelup - Carine",
          "Padbury",
          "Greenwood - Warwick",
          "Kingsley",
          "Hillarys",
          "Joondalup - Edgewater",
          "Leeming",
          "The Vines",
          "City Beach",
          "Murdoch - Kardinya",
          "Pinjarra",
          "Floreat",
          "Balga - Mirrabooka",
          "Midland - Guildford",
          "Parkwood - Ferndale - Lynwood",
          "Kwinana Industrial",
          "Perth City",
          "Middle Swan - Herne Hill",
          "North Perth",
          "Success - Hammond Park",
          "Banjup",
          "Madeley - Darch - Landsdale",
          "Girrawheen",
          "Mullaloo - Kallaroo",
          "Bateman",
          "Ellenbrook",
          "Armadale - Wungong - Brookdale",
          "Woodvale",
          "Currambine - Kinross",
          "Cooloongup",
          "Mandurah - North",
          "Clarkson",
          "Heathridge - Connolly",
          "Bertram - Wellard (West)",
          "Duncraig",
          "Sorrento - Marmion",
          "Singleton - Golden Bay - Secret Harbour",
          "Bull Creek",
          "Willagee",
          "Dawesville - Bouvard",
          "Applecross - Ardross",
          "Canning Vale - West",
          "Tapping - Ashby - Sinagra",
          "Ocean Reef",
          "Mandurah - South",
          "Yanchep",
          "Halls Head - Erskine",
          "Mandurah",
          "Greenfields",
          "Cottesloe",
          "Rockingham",
          "Calista",
          "Iluka - Burns Beach",
          "Beeliar - Wattleup",
          "Canning Vale - East",
          "Jandakot",
          "Two Rocks",
          "Winthrop",
          "Baldivis",
          "Carabooda - Pinjar",
          "Hope Valley - Postans",
          "Avon Valley National Park",
          "Malaga",
          "Melaleuca - Lexia",
          "Walyunga National Park",
          "Herdsman",
          "Osborne Park Industrial",
          "Ashendon - Lesley",
          "Kewdale Commercial",
          "Perth Airport",
          "Canning Vale Commercial",
          "Welshpool",
          "Bibra Lake",
          "Henderson",
          "O'Connor (WA)",
          "Rockingham Lakes",
          "Bibra Industrial"
         ],
         "xaxis": "x",
         "y": [
          199,
          199,
          299,
          299,
          299,
          1999,
          399,
          399,
          599,
          399,
          1249,
          399,
          399,
          399,
          199,
          599,
          599,
          599,
          599,
          599,
          599,
          599,
          599,
          599,
          599,
          599,
          599,
          599,
          599,
          599,
          599,
          599,
          599,
          599,
          599,
          599,
          599,
          0,
          599,
          599,
          599,
          599,
          599,
          599,
          599,
          599,
          599,
          599,
          799,
          599,
          599,
          599,
          599,
          599,
          599,
          599,
          599,
          599,
          0,
          599,
          599,
          599,
          599,
          599,
          599,
          599,
          599,
          599,
          599,
          599,
          599,
          599,
          599,
          599,
          599,
          599,
          599,
          199,
          599,
          599,
          599,
          599,
          799,
          599,
          1249,
          1249,
          1249,
          799,
          1249,
          1249,
          1249,
          1249,
          1249,
          1249,
          1249,
          1249,
          1249,
          1249,
          1249,
          1249,
          1249,
          1249,
          1249,
          1249,
          2999,
          1249,
          599,
          2999,
          599,
          599,
          1249,
          1249,
          1249,
          1249,
          1249,
          1249,
          1249,
          1249,
          599,
          1249,
          1249,
          1249,
          599,
          1249,
          1249,
          599,
          1249,
          1249,
          1249,
          1249,
          1999,
          1999,
          1249,
          1999,
          299,
          599,
          2999,
          1999,
          1999,
          1999,
          599,
          0,
          599,
          399,
          599,
          2999,
          399,
          599,
          1999,
          0,
          1999,
          0,
          0,
          2999,
          1999,
          0,
          799,
          199,
          199,
          199,
          199,
          199,
          199,
          199,
          199,
          199,
          199,
          199,
          199,
          199,
          199,
          199,
          999
         ],
         "yaxis": "y"
        },
        {
         "alignmentgroup": "True",
         "hovertemplate": "variable=Income_total_2011<br>SA2 Name=%{x}<br>value=%{y}<extra></extra>",
         "legendgroup": "Income_total_2011",
         "marker": {
          "color": "#EF553B"
         },
         "name": "Income_total_2011",
         "offsetgroup": "Income_total_2011",
         "orientation": "v",
         "showlegend": true,
         "textposition": "auto",
         "type": "bar",
         "x": [
          "Kings Park (WA)",
          "North Coogee",
          "Innaloo - Doubleview",
          "Fremantle",
          "Manning - Waterford",
          "Swanbourne - Mount Claremont",
          "Fremantle - South",
          "Helena Valley - Koongamia",
          "Bentley - Wilson - St James",
          "Coolbellup",
          "Nedlands - Dalkeith - Crawley",
          "Mosman Park - Peppermint Grove",
          "Claremont (WA)",
          "Lesmurdie - Bickley - Carmel",
          "Neerabup National Park",
          "Rivervale - Kewdale - Cloverdale",
          "East Victoria Park - Carlisle",
          "Belmont - Ascot - Redcliffe",
          "Bayswater - Embleton - Bedford",
          "Yokine - Coolbinia - Menora",
          "Dianella",
          "Wanneroo",
          "Mundijong",
          "Glen Forrest - Darlington",
          "Noranda",
          "Mundaring",
          "Roleystone",
          "Huntingdale - Southern River",
          "Forrestfield - Wattle Grove",
          "High Wycombe",
          "Chidlow",
          "Riverton - Shelley - Rossmoyne",
          "Trigg - North Beach - Watermans Bay",
          "Bicton - Palmyra",
          "Booragoon",
          "Morley",
          "East Fremantle",
          "Casuarina - Wandi",
          "Mindarie - Quinns Rocks - Jindalee",
          "Spearwood",
          "Byford",
          "Wembley - West Leederville - Glendalough",
          "Nollamara - Westminster",
          "Maddington - Orange Grove - Martin",
          "Lockridge - Kiara",
          "Bassendean - Eden Hill - Ashfield",
          "Beechboro",
          "Hamilton Hill",
          "Mount Lawley - Inglewood",
          "Cannington - Queens Park",
          "Marangaroo",
          "Mount Nasura - Mount Richon - Bedfordale",
          "Waikiki",
          "Falcon - Wannanup",
          "Mandurah - East",
          "Swan View - Greenmount - Midvale",
          "Maylands",
          "Tuart Hill - Joondanna",
          "Alkimos - Eglinton",
          "Beckenham - Kenwick - Langford",
          "Coogee",
          "Stirling - Osborne Park",
          "Carramar",
          "Hazelmere - Guildford",
          "Gosnells",
          "Yangebup",
          "Craigie - Beldon",
          "Alexander Heights - Koondoola",
          "South Lake - Cockburn Central",
          "Parmelia - Orelia",
          "Safety Bay - Shoalwater",
          "Ballajura",
          "Camillo - Champion Lakes",
          "Kelmscott",
          "Bullsbrook",
          "Warnbro",
          "Stratton - Jane Brook",
          "Malmalling - Reservoir",
          "Serpentine - Jarrahdale",
          "Balcatta - Hamersley",
          "Thornlie",
          "Port Kennedy",
          "Kalamunda - Maida Vale - Gooseberry Hill",
          "Butler - Merriwa - Ridgewood",
          "Forrestdale - Harrisdale - Piara Waters",
          "Victoria Park - Lathlain - Burswood",
          "Gidgegannup",
          "Seville Grove",
          "Como",
          "Wembley Downs - Churchlands - Woodlands",
          "Willetton",
          "Scarborough",
          "Mount Hawthorn - Leederville",
          "South Perth - Kensington",
          "Melville",
          "Subiaco - Shenton Park",
          "Karrinyup - Gwelup - Carine",
          "Padbury",
          "Greenwood - Warwick",
          "Kingsley",
          "Hillarys",
          "Joondalup - Edgewater",
          "Leeming",
          "The Vines",
          "City Beach",
          "Murdoch - Kardinya",
          "Pinjarra",
          "Floreat",
          "Balga - Mirrabooka",
          "Midland - Guildford",
          "Parkwood - Ferndale - Lynwood",
          "Kwinana Industrial",
          "Perth City",
          "Middle Swan - Herne Hill",
          "North Perth",
          "Success - Hammond Park",
          "Banjup",
          "Madeley - Darch - Landsdale",
          "Girrawheen",
          "Mullaloo - Kallaroo",
          "Bateman",
          "Ellenbrook",
          "Armadale - Wungong - Brookdale",
          "Woodvale",
          "Currambine - Kinross",
          "Cooloongup",
          "Mandurah - North",
          "Clarkson",
          "Heathridge - Connolly",
          "Bertram - Wellard (West)",
          "Duncraig",
          "Sorrento - Marmion",
          "Singleton - Golden Bay - Secret Harbour",
          "Bull Creek",
          "Willagee",
          "Dawesville - Bouvard",
          "Applecross - Ardross",
          "Canning Vale - West",
          "Tapping - Ashby - Sinagra",
          "Ocean Reef",
          "Mandurah - South",
          "Yanchep",
          "Halls Head - Erskine",
          "Mandurah",
          "Greenfields",
          "Cottesloe",
          "Rockingham",
          "Calista",
          "Iluka - Burns Beach",
          "Beeliar - Wattleup",
          "Canning Vale - East",
          "Jandakot",
          "Two Rocks",
          "Winthrop",
          "Baldivis",
          "Carabooda - Pinjar",
          "Hope Valley - Postans",
          "Avon Valley National Park",
          "Malaga",
          "Melaleuca - Lexia",
          "Walyunga National Park",
          "Herdsman",
          "Osborne Park Industrial",
          "Ashendon - Lesley",
          "Kewdale Commercial",
          "Perth Airport",
          "Canning Vale Commercial",
          "Welshpool",
          "Bibra Lake",
          "Henderson",
          "O'Connor (WA)",
          "Rockingham Lakes",
          "Bibra Industrial"
         ],
         "xaxis": "x",
         "y": [
          2999,
          2999,
          3000,
          1999,
          599,
          2999,
          399,
          599,
          399,
          399,
          2999,
          3000,
          2999,
          1999,
          199,
          1999,
          1999,
          1999,
          1999,
          1999,
          1999,
          1999,
          999,
          1499,
          1999,
          1999,
          799,
          1999,
          1999,
          1999,
          399,
          1999,
          3000,
          1999,
          1999,
          1999,
          3000,
          0,
          1999,
          1999,
          1999,
          1999,
          1999,
          1249,
          599,
          599,
          1249,
          599,
          1999,
          1999,
          599,
          1999,
          1999,
          599,
          599,
          599,
          1249,
          1999,
          0,
          1249,
          1999,
          1999,
          1999,
          1249,
          599,
          1999,
          1999,
          399,
          1999,
          599,
          599,
          1999,
          599,
          599,
          599,
          1999,
          799,
          199,
          1999,
          1999,
          1999,
          1999,
          799,
          1999,
          1999,
          1999,
          1999,
          1999,
          1999,
          3000,
          1999,
          3000,
          3000,
          2999,
          1999,
          2999,
          2999,
          1999,
          1999,
          1999,
          2999,
          1999,
          1999,
          3000,
          3000,
          1999,
          599,
          3000,
          599,
          799,
          999,
          1249,
          2999,
          1249,
          3000,
          1999,
          1999,
          1999,
          599,
          2999,
          1999,
          1999,
          599,
          2999,
          1999,
          599,
          1999,
          1999,
          1999,
          1999,
          1999,
          3000,
          1999,
          1999,
          399,
          599,
          2999,
          2999,
          1999,
          2999,
          599,
          0,
          1999,
          599,
          599,
          3000,
          599,
          599,
          2999,
          0,
          2999,
          0,
          0,
          2999,
          1999,
          0,
          1249,
          199,
          199,
          199,
          199,
          199,
          199,
          199,
          799,
          199,
          199,
          1999,
          199,
          199,
          199,
          199,
          1499
         ],
         "yaxis": "y"
        },
        {
         "alignmentgroup": "True",
         "hovertemplate": "variable=Income_total_2016<br>SA2 Name=%{x}<br>value=%{y}<extra></extra>",
         "legendgroup": "Income_total_2016",
         "marker": {
          "color": "#00cc96"
         },
         "name": "Income_total_2016",
         "offsetgroup": "Income_total_2016",
         "orientation": "v",
         "showlegend": true,
         "textposition": "auto",
         "type": "bar",
         "x": [
          "Kings Park (WA)",
          "North Coogee",
          "Innaloo - Doubleview",
          "Fremantle",
          "Manning - Waterford",
          "Swanbourne - Mount Claremont",
          "Fremantle - South",
          "Helena Valley - Koongamia",
          "Bentley - Wilson - St James",
          "Coolbellup",
          "Nedlands - Dalkeith - Crawley",
          "Mosman Park - Peppermint Grove",
          "Claremont (WA)",
          "Lesmurdie - Bickley - Carmel",
          "Neerabup National Park",
          "Rivervale - Kewdale - Cloverdale",
          "East Victoria Park - Carlisle",
          "Belmont - Ascot - Redcliffe",
          "Bayswater - Embleton - Bedford",
          "Yokine - Coolbinia - Menora",
          "Dianella",
          "Wanneroo",
          "Mundijong",
          "Glen Forrest - Darlington",
          "Noranda",
          "Mundaring",
          "Roleystone",
          "Huntingdale - Southern River",
          "Forrestfield - Wattle Grove",
          "High Wycombe",
          "Chidlow",
          "Riverton - Shelley - Rossmoyne",
          "Trigg - North Beach - Watermans Bay",
          "Bicton - Palmyra",
          "Booragoon",
          "Morley",
          "East Fremantle",
          "Casuarina - Wandi",
          "Mindarie - Quinns Rocks - Jindalee",
          "Spearwood",
          "Byford",
          "Wembley - West Leederville - Glendalough",
          "Nollamara - Westminster",
          "Maddington - Orange Grove - Martin",
          "Lockridge - Kiara",
          "Bassendean - Eden Hill - Ashfield",
          "Beechboro",
          "Hamilton Hill",
          "Mount Lawley - Inglewood",
          "Cannington - Queens Park",
          "Marangaroo",
          "Mount Nasura - Mount Richon - Bedfordale",
          "Waikiki",
          "Falcon - Wannanup",
          "Mandurah - East",
          "Swan View - Greenmount - Midvale",
          "Maylands",
          "Tuart Hill - Joondanna",
          "Alkimos - Eglinton",
          "Beckenham - Kenwick - Langford",
          "Coogee",
          "Stirling - Osborne Park",
          "Carramar",
          "Hazelmere - Guildford",
          "Gosnells",
          "Yangebup",
          "Craigie - Beldon",
          "Alexander Heights - Koondoola",
          "South Lake - Cockburn Central",
          "Parmelia - Orelia",
          "Safety Bay - Shoalwater",
          "Ballajura",
          "Camillo - Champion Lakes",
          "Kelmscott",
          "Bullsbrook",
          "Warnbro",
          "Stratton - Jane Brook",
          "Malmalling - Reservoir",
          "Serpentine - Jarrahdale",
          "Balcatta - Hamersley",
          "Thornlie",
          "Port Kennedy",
          "Kalamunda - Maida Vale - Gooseberry Hill",
          "Butler - Merriwa - Ridgewood",
          "Forrestdale - Harrisdale - Piara Waters",
          "Victoria Park - Lathlain - Burswood",
          "Gidgegannup",
          "Seville Grove",
          "Como",
          "Wembley Downs - Churchlands - Woodlands",
          "Willetton",
          "Scarborough",
          "Mount Hawthorn - Leederville",
          "South Perth - Kensington",
          "Melville",
          "Subiaco - Shenton Park",
          "Karrinyup - Gwelup - Carine",
          "Padbury",
          "Greenwood - Warwick",
          "Kingsley",
          "Hillarys",
          "Joondalup - Edgewater",
          "Leeming",
          "The Vines",
          "City Beach",
          "Murdoch - Kardinya",
          "Pinjarra",
          "Floreat",
          "Balga - Mirrabooka",
          "Midland - Guildford",
          "Parkwood - Ferndale - Lynwood",
          "Kwinana Industrial",
          "Perth City",
          "Middle Swan - Herne Hill",
          "North Perth",
          "Success - Hammond Park",
          "Banjup",
          "Madeley - Darch - Landsdale",
          "Girrawheen",
          "Mullaloo - Kallaroo",
          "Bateman",
          "Ellenbrook",
          "Armadale - Wungong - Brookdale",
          "Woodvale",
          "Currambine - Kinross",
          "Cooloongup",
          "Mandurah - North",
          "Clarkson",
          "Heathridge - Connolly",
          "Bertram - Wellard (West)",
          "Duncraig",
          "Sorrento - Marmion",
          "Singleton - Golden Bay - Secret Harbour",
          "Bull Creek",
          "Willagee",
          "Dawesville - Bouvard",
          "Applecross - Ardross",
          "Canning Vale - West",
          "Tapping - Ashby - Sinagra",
          "Ocean Reef",
          "Mandurah - South",
          "Yanchep",
          "Halls Head - Erskine",
          "Mandurah",
          "Greenfields",
          "Cottesloe",
          "Rockingham",
          "Calista",
          "Iluka - Burns Beach",
          "Beeliar - Wattleup",
          "Canning Vale - East",
          "Jandakot",
          "Two Rocks",
          "Winthrop",
          "Baldivis",
          "Carabooda - Pinjar",
          "Hope Valley - Postans",
          "Avon Valley National Park",
          "Malaga",
          "Melaleuca - Lexia",
          "Walyunga National Park",
          "Herdsman",
          "Osborne Park Industrial",
          "Ashendon - Lesley",
          "Kewdale Commercial",
          "Perth Airport",
          "Canning Vale Commercial",
          "Welshpool",
          "Bibra Lake",
          "Henderson",
          "O'Connor (WA)",
          "Rockingham Lakes",
          "Bibra Industrial"
         ],
         "xaxis": "x",
         "y": [
          3999,
          2499,
          2499,
          2499,
          2499,
          3999,
          2499,
          2499,
          2499,
          2499,
          7999,
          2499,
          2499,
          2499,
          149,
          2499,
          2499,
          2499,
          2499,
          2499,
          2499,
          2499,
          2499,
          2499,
          2499,
          2499,
          2499,
          2499,
          2499,
          2499,
          2499,
          2499,
          2499,
          2499,
          2499,
          2499,
          2499,
          2499,
          2499,
          2499,
          2499,
          2499,
          2499,
          2499,
          2499,
          2499,
          2499,
          2499,
          2499,
          2499,
          2499,
          2499,
          2499,
          2499,
          2499,
          2499,
          2499,
          2499,
          2499,
          2499,
          2499,
          2499,
          2499,
          2499,
          2499,
          2499,
          2499,
          2499,
          2499,
          2499,
          2499,
          2499,
          2499,
          2499,
          2499,
          2499,
          2499,
          999,
          2499,
          2499,
          2499,
          2499,
          2499,
          2499,
          2499,
          2499,
          2499,
          2499,
          2499,
          2499,
          2499,
          2499,
          2499,
          2499,
          2499,
          2499,
          2499,
          2499,
          2499,
          2499,
          2499,
          2499,
          2499,
          2499,
          7999,
          2499,
          799,
          3999,
          1249,
          1249,
          2499,
          299,
          2499,
          2499,
          2499,
          2499,
          2499,
          2499,
          1249,
          2499,
          2499,
          2499,
          1249,
          2499,
          2499,
          1249,
          2499,
          2499,
          2499,
          2499,
          2499,
          2499,
          2499,
          2499,
          499,
          799,
          2499,
          2499,
          2499,
          2499,
          799,
          2499,
          799,
          499,
          799,
          3999,
          499,
          499,
          2499,
          2499,
          2499,
          2499,
          799,
          2499,
          2499,
          2499,
          499,
          149,
          149,
          149,
          149,
          149,
          149,
          149,
          149,
          149,
          149,
          149,
          149,
          149,
          149,
          149,
          149
         ],
         "yaxis": "y"
        }
       ],
       "layout": {
        "barmode": "relative",
        "legend": {
         "title": {
          "text": "variable"
         },
         "tracegroupgap": 0
        },
        "template": {
         "data": {
          "bar": [
           {
            "error_x": {
             "color": "#2a3f5f"
            },
            "error_y": {
             "color": "#2a3f5f"
            },
            "marker": {
             "line": {
              "color": "#E5ECF6",
              "width": 0.5
             }
            },
            "type": "bar"
           }
          ],
          "barpolar": [
           {
            "marker": {
             "line": {
              "color": "#E5ECF6",
              "width": 0.5
             }
            },
            "type": "barpolar"
           }
          ],
          "carpet": [
           {
            "aaxis": {
             "endlinecolor": "#2a3f5f",
             "gridcolor": "white",
             "linecolor": "white",
             "minorgridcolor": "white",
             "startlinecolor": "#2a3f5f"
            },
            "baxis": {
             "endlinecolor": "#2a3f5f",
             "gridcolor": "white",
             "linecolor": "white",
             "minorgridcolor": "white",
             "startlinecolor": "#2a3f5f"
            },
            "type": "carpet"
           }
          ],
          "choropleth": [
           {
            "colorbar": {
             "outlinewidth": 0,
             "ticks": ""
            },
            "type": "choropleth"
           }
          ],
          "contour": [
           {
            "colorbar": {
             "outlinewidth": 0,
             "ticks": ""
            },
            "colorscale": [
             [
              0,
              "#0d0887"
             ],
             [
              0.1111111111111111,
              "#46039f"
             ],
             [
              0.2222222222222222,
              "#7201a8"
             ],
             [
              0.3333333333333333,
              "#9c179e"
             ],
             [
              0.4444444444444444,
              "#bd3786"
             ],
             [
              0.5555555555555556,
              "#d8576b"
             ],
             [
              0.6666666666666666,
              "#ed7953"
             ],
             [
              0.7777777777777778,
              "#fb9f3a"
             ],
             [
              0.8888888888888888,
              "#fdca26"
             ],
             [
              1,
              "#f0f921"
             ]
            ],
            "type": "contour"
           }
          ],
          "contourcarpet": [
           {
            "colorbar": {
             "outlinewidth": 0,
             "ticks": ""
            },
            "type": "contourcarpet"
           }
          ],
          "heatmap": [
           {
            "colorbar": {
             "outlinewidth": 0,
             "ticks": ""
            },
            "colorscale": [
             [
              0,
              "#0d0887"
             ],
             [
              0.1111111111111111,
              "#46039f"
             ],
             [
              0.2222222222222222,
              "#7201a8"
             ],
             [
              0.3333333333333333,
              "#9c179e"
             ],
             [
              0.4444444444444444,
              "#bd3786"
             ],
             [
              0.5555555555555556,
              "#d8576b"
             ],
             [
              0.6666666666666666,
              "#ed7953"
             ],
             [
              0.7777777777777778,
              "#fb9f3a"
             ],
             [
              0.8888888888888888,
              "#fdca26"
             ],
             [
              1,
              "#f0f921"
             ]
            ],
            "type": "heatmap"
           }
          ],
          "heatmapgl": [
           {
            "colorbar": {
             "outlinewidth": 0,
             "ticks": ""
            },
            "colorscale": [
             [
              0,
              "#0d0887"
             ],
             [
              0.1111111111111111,
              "#46039f"
             ],
             [
              0.2222222222222222,
              "#7201a8"
             ],
             [
              0.3333333333333333,
              "#9c179e"
             ],
             [
              0.4444444444444444,
              "#bd3786"
             ],
             [
              0.5555555555555556,
              "#d8576b"
             ],
             [
              0.6666666666666666,
              "#ed7953"
             ],
             [
              0.7777777777777778,
              "#fb9f3a"
             ],
             [
              0.8888888888888888,
              "#fdca26"
             ],
             [
              1,
              "#f0f921"
             ]
            ],
            "type": "heatmapgl"
           }
          ],
          "histogram": [
           {
            "marker": {
             "colorbar": {
              "outlinewidth": 0,
              "ticks": ""
             }
            },
            "type": "histogram"
           }
          ],
          "histogram2d": [
           {
            "colorbar": {
             "outlinewidth": 0,
             "ticks": ""
            },
            "colorscale": [
             [
              0,
              "#0d0887"
             ],
             [
              0.1111111111111111,
              "#46039f"
             ],
             [
              0.2222222222222222,
              "#7201a8"
             ],
             [
              0.3333333333333333,
              "#9c179e"
             ],
             [
              0.4444444444444444,
              "#bd3786"
             ],
             [
              0.5555555555555556,
              "#d8576b"
             ],
             [
              0.6666666666666666,
              "#ed7953"
             ],
             [
              0.7777777777777778,
              "#fb9f3a"
             ],
             [
              0.8888888888888888,
              "#fdca26"
             ],
             [
              1,
              "#f0f921"
             ]
            ],
            "type": "histogram2d"
           }
          ],
          "histogram2dcontour": [
           {
            "colorbar": {
             "outlinewidth": 0,
             "ticks": ""
            },
            "colorscale": [
             [
              0,
              "#0d0887"
             ],
             [
              0.1111111111111111,
              "#46039f"
             ],
             [
              0.2222222222222222,
              "#7201a8"
             ],
             [
              0.3333333333333333,
              "#9c179e"
             ],
             [
              0.4444444444444444,
              "#bd3786"
             ],
             [
              0.5555555555555556,
              "#d8576b"
             ],
             [
              0.6666666666666666,
              "#ed7953"
             ],
             [
              0.7777777777777778,
              "#fb9f3a"
             ],
             [
              0.8888888888888888,
              "#fdca26"
             ],
             [
              1,
              "#f0f921"
             ]
            ],
            "type": "histogram2dcontour"
           }
          ],
          "mesh3d": [
           {
            "colorbar": {
             "outlinewidth": 0,
             "ticks": ""
            },
            "type": "mesh3d"
           }
          ],
          "parcoords": [
           {
            "line": {
             "colorbar": {
              "outlinewidth": 0,
              "ticks": ""
             }
            },
            "type": "parcoords"
           }
          ],
          "pie": [
           {
            "automargin": true,
            "type": "pie"
           }
          ],
          "scatter": [
           {
            "marker": {
             "colorbar": {
              "outlinewidth": 0,
              "ticks": ""
             }
            },
            "type": "scatter"
           }
          ],
          "scatter3d": [
           {
            "line": {
             "colorbar": {
              "outlinewidth": 0,
              "ticks": ""
             }
            },
            "marker": {
             "colorbar": {
              "outlinewidth": 0,
              "ticks": ""
             }
            },
            "type": "scatter3d"
           }
          ],
          "scattercarpet": [
           {
            "marker": {
             "colorbar": {
              "outlinewidth": 0,
              "ticks": ""
             }
            },
            "type": "scattercarpet"
           }
          ],
          "scattergeo": [
           {
            "marker": {
             "colorbar": {
              "outlinewidth": 0,
              "ticks": ""
             }
            },
            "type": "scattergeo"
           }
          ],
          "scattergl": [
           {
            "marker": {
             "colorbar": {
              "outlinewidth": 0,
              "ticks": ""
             }
            },
            "type": "scattergl"
           }
          ],
          "scattermapbox": [
           {
            "marker": {
             "colorbar": {
              "outlinewidth": 0,
              "ticks": ""
             }
            },
            "type": "scattermapbox"
           }
          ],
          "scatterpolar": [
           {
            "marker": {
             "colorbar": {
              "outlinewidth": 0,
              "ticks": ""
             }
            },
            "type": "scatterpolar"
           }
          ],
          "scatterpolargl": [
           {
            "marker": {
             "colorbar": {
              "outlinewidth": 0,
              "ticks": ""
             }
            },
            "type": "scatterpolargl"
           }
          ],
          "scatterternary": [
           {
            "marker": {
             "colorbar": {
              "outlinewidth": 0,
              "ticks": ""
             }
            },
            "type": "scatterternary"
           }
          ],
          "surface": [
           {
            "colorbar": {
             "outlinewidth": 0,
             "ticks": ""
            },
            "colorscale": [
             [
              0,
              "#0d0887"
             ],
             [
              0.1111111111111111,
              "#46039f"
             ],
             [
              0.2222222222222222,
              "#7201a8"
             ],
             [
              0.3333333333333333,
              "#9c179e"
             ],
             [
              0.4444444444444444,
              "#bd3786"
             ],
             [
              0.5555555555555556,
              "#d8576b"
             ],
             [
              0.6666666666666666,
              "#ed7953"
             ],
             [
              0.7777777777777778,
              "#fb9f3a"
             ],
             [
              0.8888888888888888,
              "#fdca26"
             ],
             [
              1,
              "#f0f921"
             ]
            ],
            "type": "surface"
           }
          ],
          "table": [
           {
            "cells": {
             "fill": {
              "color": "#EBF0F8"
             },
             "line": {
              "color": "white"
             }
            },
            "header": {
             "fill": {
              "color": "#C8D4E3"
             },
             "line": {
              "color": "white"
             }
            },
            "type": "table"
           }
          ]
         },
         "layout": {
          "annotationdefaults": {
           "arrowcolor": "#2a3f5f",
           "arrowhead": 0,
           "arrowwidth": 1
          },
          "coloraxis": {
           "colorbar": {
            "outlinewidth": 0,
            "ticks": ""
           }
          },
          "colorscale": {
           "diverging": [
            [
             0,
             "#8e0152"
            ],
            [
             0.1,
             "#c51b7d"
            ],
            [
             0.2,
             "#de77ae"
            ],
            [
             0.3,
             "#f1b6da"
            ],
            [
             0.4,
             "#fde0ef"
            ],
            [
             0.5,
             "#f7f7f7"
            ],
            [
             0.6,
             "#e6f5d0"
            ],
            [
             0.7,
             "#b8e186"
            ],
            [
             0.8,
             "#7fbc41"
            ],
            [
             0.9,
             "#4d9221"
            ],
            [
             1,
             "#276419"
            ]
           ],
           "sequential": [
            [
             0,
             "#0d0887"
            ],
            [
             0.1111111111111111,
             "#46039f"
            ],
            [
             0.2222222222222222,
             "#7201a8"
            ],
            [
             0.3333333333333333,
             "#9c179e"
            ],
            [
             0.4444444444444444,
             "#bd3786"
            ],
            [
             0.5555555555555556,
             "#d8576b"
            ],
            [
             0.6666666666666666,
             "#ed7953"
            ],
            [
             0.7777777777777778,
             "#fb9f3a"
            ],
            [
             0.8888888888888888,
             "#fdca26"
            ],
            [
             1,
             "#f0f921"
            ]
           ],
           "sequentialminus": [
            [
             0,
             "#0d0887"
            ],
            [
             0.1111111111111111,
             "#46039f"
            ],
            [
             0.2222222222222222,
             "#7201a8"
            ],
            [
             0.3333333333333333,
             "#9c179e"
            ],
            [
             0.4444444444444444,
             "#bd3786"
            ],
            [
             0.5555555555555556,
             "#d8576b"
            ],
            [
             0.6666666666666666,
             "#ed7953"
            ],
            [
             0.7777777777777778,
             "#fb9f3a"
            ],
            [
             0.8888888888888888,
             "#fdca26"
            ],
            [
             1,
             "#f0f921"
            ]
           ]
          },
          "colorway": [
           "#636efa",
           "#EF553B",
           "#00cc96",
           "#ab63fa",
           "#FFA15A",
           "#19d3f3",
           "#FF6692",
           "#B6E880",
           "#FF97FF",
           "#FECB52"
          ],
          "font": {
           "color": "#2a3f5f"
          },
          "geo": {
           "bgcolor": "white",
           "lakecolor": "white",
           "landcolor": "#E5ECF6",
           "showlakes": true,
           "showland": true,
           "subunitcolor": "white"
          },
          "hoverlabel": {
           "align": "left"
          },
          "hovermode": "closest",
          "mapbox": {
           "style": "light"
          },
          "paper_bgcolor": "white",
          "plot_bgcolor": "#E5ECF6",
          "polar": {
           "angularaxis": {
            "gridcolor": "white",
            "linecolor": "white",
            "ticks": ""
           },
           "bgcolor": "#E5ECF6",
           "radialaxis": {
            "gridcolor": "white",
            "linecolor": "white",
            "ticks": ""
           }
          },
          "scene": {
           "xaxis": {
            "backgroundcolor": "#E5ECF6",
            "gridcolor": "white",
            "gridwidth": 2,
            "linecolor": "white",
            "showbackground": true,
            "ticks": "",
            "zerolinecolor": "white"
           },
           "yaxis": {
            "backgroundcolor": "#E5ECF6",
            "gridcolor": "white",
            "gridwidth": 2,
            "linecolor": "white",
            "showbackground": true,
            "ticks": "",
            "zerolinecolor": "white"
           },
           "zaxis": {
            "backgroundcolor": "#E5ECF6",
            "gridcolor": "white",
            "gridwidth": 2,
            "linecolor": "white",
            "showbackground": true,
            "ticks": "",
            "zerolinecolor": "white"
           }
          },
          "shapedefaults": {
           "line": {
            "color": "#2a3f5f"
           }
          },
          "ternary": {
           "aaxis": {
            "gridcolor": "white",
            "linecolor": "white",
            "ticks": ""
           },
           "baxis": {
            "gridcolor": "white",
            "linecolor": "white",
            "ticks": ""
           },
           "bgcolor": "#E5ECF6",
           "caxis": {
            "gridcolor": "white",
            "linecolor": "white",
            "ticks": ""
           }
          },
          "title": {
           "x": 0.05
          },
          "xaxis": {
           "automargin": true,
           "gridcolor": "white",
           "linecolor": "white",
           "ticks": "",
           "title": {
            "standoff": 15
           },
           "zerolinecolor": "white",
           "zerolinewidth": 2
          },
          "yaxis": {
           "automargin": true,
           "gridcolor": "white",
           "linecolor": "white",
           "ticks": "",
           "title": {
            "standoff": 15
           },
           "zerolinecolor": "white",
           "zerolinewidth": 2
          }
         }
        },
        "title": {
         "text": "Income of Census Year 2006,2011 and 2016"
        },
        "xaxis": {
         "anchor": "y",
         "domain": [
          0,
          1
         ],
         "title": {
          "text": "SA2 Name"
         }
        },
        "yaxis": {
         "anchor": "x",
         "domain": [
          0,
          1
         ],
         "title": {
          "text": "value"
         }
        }
       }
      },
      "text/html": [
       "<div>                            <div id=\"c11fa909-286f-46ea-a649-a6046c6534a2\" class=\"plotly-graph-div\" style=\"height:525px; width:100%;\"></div>            <script type=\"text/javascript\">                require([\"plotly\"], function(Plotly) {                    window.PLOTLYENV=window.PLOTLYENV || {};                                    if (document.getElementById(\"c11fa909-286f-46ea-a649-a6046c6534a2\")) {                    Plotly.newPlot(                        \"c11fa909-286f-46ea-a649-a6046c6534a2\",                        [{\"alignmentgroup\": \"True\", \"hovertemplate\": \"variable=Income_total_2006<br>SA2 Name=%{x}<br>value=%{y}<extra></extra>\", \"legendgroup\": \"Income_total_2006\", \"marker\": {\"color\": \"#636efa\"}, \"name\": \"Income_total_2006\", \"offsetgroup\": \"Income_total_2006\", \"orientation\": \"v\", \"showlegend\": true, \"textposition\": \"auto\", \"type\": \"bar\", \"x\": [\"Kings Park (WA)\", \"North Coogee\", \"Innaloo - Doubleview\", \"Fremantle\", \"Manning - Waterford\", \"Swanbourne - Mount Claremont\", \"Fremantle - South\", \"Helena Valley - Koongamia\", \"Bentley - Wilson - St James\", \"Coolbellup\", \"Nedlands - Dalkeith - Crawley\", \"Mosman Park - Peppermint Grove\", \"Claremont (WA)\", \"Lesmurdie - Bickley - Carmel\", \"Neerabup National Park\", \"Rivervale - Kewdale - Cloverdale\", \"East Victoria Park - Carlisle\", \"Belmont - Ascot - Redcliffe\", \"Bayswater - Embleton - Bedford\", \"Yokine - Coolbinia - Menora\", \"Dianella\", \"Wanneroo\", \"Mundijong\", \"Glen Forrest - Darlington\", \"Noranda\", \"Mundaring\", \"Roleystone\", \"Huntingdale - Southern River\", \"Forrestfield - Wattle Grove\", \"High Wycombe\", \"Chidlow\", \"Riverton - Shelley - Rossmoyne\", \"Trigg - North Beach - Watermans Bay\", \"Bicton - Palmyra\", \"Booragoon\", \"Morley\", \"East Fremantle\", \"Casuarina - Wandi\", \"Mindarie - Quinns Rocks - Jindalee\", \"Spearwood\", \"Byford\", \"Wembley - West Leederville - Glendalough\", \"Nollamara - Westminster\", \"Maddington - Orange Grove - Martin\", \"Lockridge - Kiara\", \"Bassendean - Eden Hill - Ashfield\", \"Beechboro\", \"Hamilton Hill\", \"Mount Lawley - Inglewood\", \"Cannington - Queens Park\", \"Marangaroo\", \"Mount Nasura - Mount Richon - Bedfordale\", \"Waikiki\", \"Falcon - Wannanup\", \"Mandurah - East\", \"Swan View - Greenmount - Midvale\", \"Maylands\", \"Tuart Hill - Joondanna\", \"Alkimos - Eglinton\", \"Beckenham - Kenwick - Langford\", \"Coogee\", \"Stirling - Osborne Park\", \"Carramar\", \"Hazelmere - Guildford\", \"Gosnells\", \"Yangebup\", \"Craigie - Beldon\", \"Alexander Heights - Koondoola\", \"South Lake - Cockburn Central\", \"Parmelia - Orelia\", \"Safety Bay - Shoalwater\", \"Ballajura\", \"Camillo - Champion Lakes\", \"Kelmscott\", \"Bullsbrook\", \"Warnbro\", \"Stratton - Jane Brook\", \"Malmalling - Reservoir\", \"Serpentine - Jarrahdale\", \"Balcatta - Hamersley\", \"Thornlie\", \"Port Kennedy\", \"Kalamunda - Maida Vale - Gooseberry Hill\", \"Butler - Merriwa - Ridgewood\", \"Forrestdale - Harrisdale - Piara Waters\", \"Victoria Park - Lathlain - Burswood\", \"Gidgegannup\", \"Seville Grove\", \"Como\", \"Wembley Downs - Churchlands - Woodlands\", \"Willetton\", \"Scarborough\", \"Mount Hawthorn - Leederville\", \"South Perth - Kensington\", \"Melville\", \"Subiaco - Shenton Park\", \"Karrinyup - Gwelup - Carine\", \"Padbury\", \"Greenwood - Warwick\", \"Kingsley\", \"Hillarys\", \"Joondalup - Edgewater\", \"Leeming\", \"The Vines\", \"City Beach\", \"Murdoch - Kardinya\", \"Pinjarra\", \"Floreat\", \"Balga - Mirrabooka\", \"Midland - Guildford\", \"Parkwood - Ferndale - Lynwood\", \"Kwinana Industrial\", \"Perth City\", \"Middle Swan - Herne Hill\", \"North Perth\", \"Success - Hammond Park\", \"Banjup\", \"Madeley - Darch - Landsdale\", \"Girrawheen\", \"Mullaloo - Kallaroo\", \"Bateman\", \"Ellenbrook\", \"Armadale - Wungong - Brookdale\", \"Woodvale\", \"Currambine - Kinross\", \"Cooloongup\", \"Mandurah - North\", \"Clarkson\", \"Heathridge - Connolly\", \"Bertram - Wellard (West)\", \"Duncraig\", \"Sorrento - Marmion\", \"Singleton - Golden Bay - Secret Harbour\", \"Bull Creek\", \"Willagee\", \"Dawesville - Bouvard\", \"Applecross - Ardross\", \"Canning Vale - West\", \"Tapping - Ashby - Sinagra\", \"Ocean Reef\", \"Mandurah - South\", \"Yanchep\", \"Halls Head - Erskine\", \"Mandurah\", \"Greenfields\", \"Cottesloe\", \"Rockingham\", \"Calista\", \"Iluka - Burns Beach\", \"Beeliar - Wattleup\", \"Canning Vale - East\", \"Jandakot\", \"Two Rocks\", \"Winthrop\", \"Baldivis\", \"Carabooda - Pinjar\", \"Hope Valley - Postans\", \"Avon Valley National Park\", \"Malaga\", \"Melaleuca - Lexia\", \"Walyunga National Park\", \"Herdsman\", \"Osborne Park Industrial\", \"Ashendon - Lesley\", \"Kewdale Commercial\", \"Perth Airport\", \"Canning Vale Commercial\", \"Welshpool\", \"Bibra Lake\", \"Henderson\", \"O'Connor (WA)\", \"Rockingham Lakes\", \"Bibra Industrial\"], \"xaxis\": \"x\", \"y\": [199, 199, 299, 299, 299, 1999, 399, 399, 599, 399, 1249, 399, 399, 399, 199, 599, 599, 599, 599, 599, 599, 599, 599, 599, 599, 599, 599, 599, 599, 599, 599, 599, 599, 599, 599, 599, 599, 0, 599, 599, 599, 599, 599, 599, 599, 599, 599, 599, 799, 599, 599, 599, 599, 599, 599, 599, 599, 599, 0, 599, 599, 599, 599, 599, 599, 599, 599, 599, 599, 599, 599, 599, 599, 599, 599, 599, 599, 199, 599, 599, 599, 599, 799, 599, 1249, 1249, 1249, 799, 1249, 1249, 1249, 1249, 1249, 1249, 1249, 1249, 1249, 1249, 1249, 1249, 1249, 1249, 1249, 1249, 2999, 1249, 599, 2999, 599, 599, 1249, 1249, 1249, 1249, 1249, 1249, 1249, 1249, 599, 1249, 1249, 1249, 599, 1249, 1249, 599, 1249, 1249, 1249, 1249, 1999, 1999, 1249, 1999, 299, 599, 2999, 1999, 1999, 1999, 599, 0, 599, 399, 599, 2999, 399, 599, 1999, 0, 1999, 0, 0, 2999, 1999, 0, 799, 199, 199, 199, 199, 199, 199, 199, 199, 199, 199, 199, 199, 199, 199, 199, 999], \"yaxis\": \"y\"}, {\"alignmentgroup\": \"True\", \"hovertemplate\": \"variable=Income_total_2011<br>SA2 Name=%{x}<br>value=%{y}<extra></extra>\", \"legendgroup\": \"Income_total_2011\", \"marker\": {\"color\": \"#EF553B\"}, \"name\": \"Income_total_2011\", \"offsetgroup\": \"Income_total_2011\", \"orientation\": \"v\", \"showlegend\": true, \"textposition\": \"auto\", \"type\": \"bar\", \"x\": [\"Kings Park (WA)\", \"North Coogee\", \"Innaloo - Doubleview\", \"Fremantle\", \"Manning - Waterford\", \"Swanbourne - Mount Claremont\", \"Fremantle - South\", \"Helena Valley - Koongamia\", \"Bentley - Wilson - St James\", \"Coolbellup\", \"Nedlands - Dalkeith - Crawley\", \"Mosman Park - Peppermint Grove\", \"Claremont (WA)\", \"Lesmurdie - Bickley - Carmel\", \"Neerabup National Park\", \"Rivervale - Kewdale - Cloverdale\", \"East Victoria Park - Carlisle\", \"Belmont - Ascot - Redcliffe\", \"Bayswater - Embleton - Bedford\", \"Yokine - Coolbinia - Menora\", \"Dianella\", \"Wanneroo\", \"Mundijong\", \"Glen Forrest - Darlington\", \"Noranda\", \"Mundaring\", \"Roleystone\", \"Huntingdale - Southern River\", \"Forrestfield - Wattle Grove\", \"High Wycombe\", \"Chidlow\", \"Riverton - Shelley - Rossmoyne\", \"Trigg - North Beach - Watermans Bay\", \"Bicton - Palmyra\", \"Booragoon\", \"Morley\", \"East Fremantle\", \"Casuarina - Wandi\", \"Mindarie - Quinns Rocks - Jindalee\", \"Spearwood\", \"Byford\", \"Wembley - West Leederville - Glendalough\", \"Nollamara - Westminster\", \"Maddington - Orange Grove - Martin\", \"Lockridge - Kiara\", \"Bassendean - Eden Hill - Ashfield\", \"Beechboro\", \"Hamilton Hill\", \"Mount Lawley - Inglewood\", \"Cannington - Queens Park\", \"Marangaroo\", \"Mount Nasura - Mount Richon - Bedfordale\", \"Waikiki\", \"Falcon - Wannanup\", \"Mandurah - East\", \"Swan View - Greenmount - Midvale\", \"Maylands\", \"Tuart Hill - Joondanna\", \"Alkimos - Eglinton\", \"Beckenham - Kenwick - Langford\", \"Coogee\", \"Stirling - Osborne Park\", \"Carramar\", \"Hazelmere - Guildford\", \"Gosnells\", \"Yangebup\", \"Craigie - Beldon\", \"Alexander Heights - Koondoola\", \"South Lake - Cockburn Central\", \"Parmelia - Orelia\", \"Safety Bay - Shoalwater\", \"Ballajura\", \"Camillo - Champion Lakes\", \"Kelmscott\", \"Bullsbrook\", \"Warnbro\", \"Stratton - Jane Brook\", \"Malmalling - Reservoir\", \"Serpentine - Jarrahdale\", \"Balcatta - Hamersley\", \"Thornlie\", \"Port Kennedy\", \"Kalamunda - Maida Vale - Gooseberry Hill\", \"Butler - Merriwa - Ridgewood\", \"Forrestdale - Harrisdale - Piara Waters\", \"Victoria Park - Lathlain - Burswood\", \"Gidgegannup\", \"Seville Grove\", \"Como\", \"Wembley Downs - Churchlands - Woodlands\", \"Willetton\", \"Scarborough\", \"Mount Hawthorn - Leederville\", \"South Perth - Kensington\", \"Melville\", \"Subiaco - Shenton Park\", \"Karrinyup - Gwelup - Carine\", \"Padbury\", \"Greenwood - Warwick\", \"Kingsley\", \"Hillarys\", \"Joondalup - Edgewater\", \"Leeming\", \"The Vines\", \"City Beach\", \"Murdoch - Kardinya\", \"Pinjarra\", \"Floreat\", \"Balga - Mirrabooka\", \"Midland - Guildford\", \"Parkwood - Ferndale - Lynwood\", \"Kwinana Industrial\", \"Perth City\", \"Middle Swan - Herne Hill\", \"North Perth\", \"Success - Hammond Park\", \"Banjup\", \"Madeley - Darch - Landsdale\", \"Girrawheen\", \"Mullaloo - Kallaroo\", \"Bateman\", \"Ellenbrook\", \"Armadale - Wungong - Brookdale\", \"Woodvale\", \"Currambine - Kinross\", \"Cooloongup\", \"Mandurah - North\", \"Clarkson\", \"Heathridge - Connolly\", \"Bertram - Wellard (West)\", \"Duncraig\", \"Sorrento - Marmion\", \"Singleton - Golden Bay - Secret Harbour\", \"Bull Creek\", \"Willagee\", \"Dawesville - Bouvard\", \"Applecross - Ardross\", \"Canning Vale - West\", \"Tapping - Ashby - Sinagra\", \"Ocean Reef\", \"Mandurah - South\", \"Yanchep\", \"Halls Head - Erskine\", \"Mandurah\", \"Greenfields\", \"Cottesloe\", \"Rockingham\", \"Calista\", \"Iluka - Burns Beach\", \"Beeliar - Wattleup\", \"Canning Vale - East\", \"Jandakot\", \"Two Rocks\", \"Winthrop\", \"Baldivis\", \"Carabooda - Pinjar\", \"Hope Valley - Postans\", \"Avon Valley National Park\", \"Malaga\", \"Melaleuca - Lexia\", \"Walyunga National Park\", \"Herdsman\", \"Osborne Park Industrial\", \"Ashendon - Lesley\", \"Kewdale Commercial\", \"Perth Airport\", \"Canning Vale Commercial\", \"Welshpool\", \"Bibra Lake\", \"Henderson\", \"O'Connor (WA)\", \"Rockingham Lakes\", \"Bibra Industrial\"], \"xaxis\": \"x\", \"y\": [2999, 2999, 3000, 1999, 599, 2999, 399, 599, 399, 399, 2999, 3000, 2999, 1999, 199, 1999, 1999, 1999, 1999, 1999, 1999, 1999, 999, 1499, 1999, 1999, 799, 1999, 1999, 1999, 399, 1999, 3000, 1999, 1999, 1999, 3000, 0, 1999, 1999, 1999, 1999, 1999, 1249, 599, 599, 1249, 599, 1999, 1999, 599, 1999, 1999, 599, 599, 599, 1249, 1999, 0, 1249, 1999, 1999, 1999, 1249, 599, 1999, 1999, 399, 1999, 599, 599, 1999, 599, 599, 599, 1999, 799, 199, 1999, 1999, 1999, 1999, 799, 1999, 1999, 1999, 1999, 1999, 1999, 3000, 1999, 3000, 3000, 2999, 1999, 2999, 2999, 1999, 1999, 1999, 2999, 1999, 1999, 3000, 3000, 1999, 599, 3000, 599, 799, 999, 1249, 2999, 1249, 3000, 1999, 1999, 1999, 599, 2999, 1999, 1999, 599, 2999, 1999, 599, 1999, 1999, 1999, 1999, 1999, 3000, 1999, 1999, 399, 599, 2999, 2999, 1999, 2999, 599, 0, 1999, 599, 599, 3000, 599, 599, 2999, 0, 2999, 0, 0, 2999, 1999, 0, 1249, 199, 199, 199, 199, 199, 199, 199, 799, 199, 199, 1999, 199, 199, 199, 199, 1499], \"yaxis\": \"y\"}, {\"alignmentgroup\": \"True\", \"hovertemplate\": \"variable=Income_total_2016<br>SA2 Name=%{x}<br>value=%{y}<extra></extra>\", \"legendgroup\": \"Income_total_2016\", \"marker\": {\"color\": \"#00cc96\"}, \"name\": \"Income_total_2016\", \"offsetgroup\": \"Income_total_2016\", \"orientation\": \"v\", \"showlegend\": true, \"textposition\": \"auto\", \"type\": \"bar\", \"x\": [\"Kings Park (WA)\", \"North Coogee\", \"Innaloo - Doubleview\", \"Fremantle\", \"Manning - Waterford\", \"Swanbourne - Mount Claremont\", \"Fremantle - South\", \"Helena Valley - Koongamia\", \"Bentley - Wilson - St James\", \"Coolbellup\", \"Nedlands - Dalkeith - Crawley\", \"Mosman Park - Peppermint Grove\", \"Claremont (WA)\", \"Lesmurdie - Bickley - Carmel\", \"Neerabup National Park\", \"Rivervale - Kewdale - Cloverdale\", \"East Victoria Park - Carlisle\", \"Belmont - Ascot - Redcliffe\", \"Bayswater - Embleton - Bedford\", \"Yokine - Coolbinia - Menora\", \"Dianella\", \"Wanneroo\", \"Mundijong\", \"Glen Forrest - Darlington\", \"Noranda\", \"Mundaring\", \"Roleystone\", \"Huntingdale - Southern River\", \"Forrestfield - Wattle Grove\", \"High Wycombe\", \"Chidlow\", \"Riverton - Shelley - Rossmoyne\", \"Trigg - North Beach - Watermans Bay\", \"Bicton - Palmyra\", \"Booragoon\", \"Morley\", \"East Fremantle\", \"Casuarina - Wandi\", \"Mindarie - Quinns Rocks - Jindalee\", \"Spearwood\", \"Byford\", \"Wembley - West Leederville - Glendalough\", \"Nollamara - Westminster\", \"Maddington - Orange Grove - Martin\", \"Lockridge - Kiara\", \"Bassendean - Eden Hill - Ashfield\", \"Beechboro\", \"Hamilton Hill\", \"Mount Lawley - Inglewood\", \"Cannington - Queens Park\", \"Marangaroo\", \"Mount Nasura - Mount Richon - Bedfordale\", \"Waikiki\", \"Falcon - Wannanup\", \"Mandurah - East\", \"Swan View - Greenmount - Midvale\", \"Maylands\", \"Tuart Hill - Joondanna\", \"Alkimos - Eglinton\", \"Beckenham - Kenwick - Langford\", \"Coogee\", \"Stirling - Osborne Park\", \"Carramar\", \"Hazelmere - Guildford\", \"Gosnells\", \"Yangebup\", \"Craigie - Beldon\", \"Alexander Heights - Koondoola\", \"South Lake - Cockburn Central\", \"Parmelia - Orelia\", \"Safety Bay - Shoalwater\", \"Ballajura\", \"Camillo - Champion Lakes\", \"Kelmscott\", \"Bullsbrook\", \"Warnbro\", \"Stratton - Jane Brook\", \"Malmalling - Reservoir\", \"Serpentine - Jarrahdale\", \"Balcatta - Hamersley\", \"Thornlie\", \"Port Kennedy\", \"Kalamunda - Maida Vale - Gooseberry Hill\", \"Butler - Merriwa - Ridgewood\", \"Forrestdale - Harrisdale - Piara Waters\", \"Victoria Park - Lathlain - Burswood\", \"Gidgegannup\", \"Seville Grove\", \"Como\", \"Wembley Downs - Churchlands - Woodlands\", \"Willetton\", \"Scarborough\", \"Mount Hawthorn - Leederville\", \"South Perth - Kensington\", \"Melville\", \"Subiaco - Shenton Park\", \"Karrinyup - Gwelup - Carine\", \"Padbury\", \"Greenwood - Warwick\", \"Kingsley\", \"Hillarys\", \"Joondalup - Edgewater\", \"Leeming\", \"The Vines\", \"City Beach\", \"Murdoch - Kardinya\", \"Pinjarra\", \"Floreat\", \"Balga - Mirrabooka\", \"Midland - Guildford\", \"Parkwood - Ferndale - Lynwood\", \"Kwinana Industrial\", \"Perth City\", \"Middle Swan - Herne Hill\", \"North Perth\", \"Success - Hammond Park\", \"Banjup\", \"Madeley - Darch - Landsdale\", \"Girrawheen\", \"Mullaloo - Kallaroo\", \"Bateman\", \"Ellenbrook\", \"Armadale - Wungong - Brookdale\", \"Woodvale\", \"Currambine - Kinross\", \"Cooloongup\", \"Mandurah - North\", \"Clarkson\", \"Heathridge - Connolly\", \"Bertram - Wellard (West)\", \"Duncraig\", \"Sorrento - Marmion\", \"Singleton - Golden Bay - Secret Harbour\", \"Bull Creek\", \"Willagee\", \"Dawesville - Bouvard\", \"Applecross - Ardross\", \"Canning Vale - West\", \"Tapping - Ashby - Sinagra\", \"Ocean Reef\", \"Mandurah - South\", \"Yanchep\", \"Halls Head - Erskine\", \"Mandurah\", \"Greenfields\", \"Cottesloe\", \"Rockingham\", \"Calista\", \"Iluka - Burns Beach\", \"Beeliar - Wattleup\", \"Canning Vale - East\", \"Jandakot\", \"Two Rocks\", \"Winthrop\", \"Baldivis\", \"Carabooda - Pinjar\", \"Hope Valley - Postans\", \"Avon Valley National Park\", \"Malaga\", \"Melaleuca - Lexia\", \"Walyunga National Park\", \"Herdsman\", \"Osborne Park Industrial\", \"Ashendon - Lesley\", \"Kewdale Commercial\", \"Perth Airport\", \"Canning Vale Commercial\", \"Welshpool\", \"Bibra Lake\", \"Henderson\", \"O'Connor (WA)\", \"Rockingham Lakes\", \"Bibra Industrial\"], \"xaxis\": \"x\", \"y\": [3999, 2499, 2499, 2499, 2499, 3999, 2499, 2499, 2499, 2499, 7999, 2499, 2499, 2499, 149, 2499, 2499, 2499, 2499, 2499, 2499, 2499, 2499, 2499, 2499, 2499, 2499, 2499, 2499, 2499, 2499, 2499, 2499, 2499, 2499, 2499, 2499, 2499, 2499, 2499, 2499, 2499, 2499, 2499, 2499, 2499, 2499, 2499, 2499, 2499, 2499, 2499, 2499, 2499, 2499, 2499, 2499, 2499, 2499, 2499, 2499, 2499, 2499, 2499, 2499, 2499, 2499, 2499, 2499, 2499, 2499, 2499, 2499, 2499, 2499, 2499, 2499, 999, 2499, 2499, 2499, 2499, 2499, 2499, 2499, 2499, 2499, 2499, 2499, 2499, 2499, 2499, 2499, 2499, 2499, 2499, 2499, 2499, 2499, 2499, 2499, 2499, 2499, 2499, 7999, 2499, 799, 3999, 1249, 1249, 2499, 299, 2499, 2499, 2499, 2499, 2499, 2499, 1249, 2499, 2499, 2499, 1249, 2499, 2499, 1249, 2499, 2499, 2499, 2499, 2499, 2499, 2499, 2499, 499, 799, 2499, 2499, 2499, 2499, 799, 2499, 799, 499, 799, 3999, 499, 499, 2499, 2499, 2499, 2499, 799, 2499, 2499, 2499, 499, 149, 149, 149, 149, 149, 149, 149, 149, 149, 149, 149, 149, 149, 149, 149, 149], \"yaxis\": \"y\"}],                        {\"barmode\": \"relative\", \"legend\": {\"title\": {\"text\": \"variable\"}, \"tracegroupgap\": 0}, \"template\": {\"data\": {\"bar\": [{\"error_x\": {\"color\": \"#2a3f5f\"}, \"error_y\": {\"color\": \"#2a3f5f\"}, \"marker\": {\"line\": {\"color\": \"#E5ECF6\", \"width\": 0.5}}, \"type\": \"bar\"}], \"barpolar\": [{\"marker\": {\"line\": {\"color\": \"#E5ECF6\", \"width\": 0.5}}, \"type\": \"barpolar\"}], \"carpet\": [{\"aaxis\": {\"endlinecolor\": \"#2a3f5f\", \"gridcolor\": \"white\", \"linecolor\": \"white\", \"minorgridcolor\": \"white\", \"startlinecolor\": \"#2a3f5f\"}, \"baxis\": {\"endlinecolor\": \"#2a3f5f\", \"gridcolor\": \"white\", \"linecolor\": \"white\", \"minorgridcolor\": \"white\", \"startlinecolor\": \"#2a3f5f\"}, \"type\": \"carpet\"}], \"choropleth\": [{\"colorbar\": {\"outlinewidth\": 0, \"ticks\": \"\"}, \"type\": \"choropleth\"}], \"contour\": [{\"colorbar\": {\"outlinewidth\": 0, \"ticks\": \"\"}, \"colorscale\": [[0.0, \"#0d0887\"], [0.1111111111111111, \"#46039f\"], [0.2222222222222222, \"#7201a8\"], [0.3333333333333333, \"#9c179e\"], [0.4444444444444444, \"#bd3786\"], [0.5555555555555556, \"#d8576b\"], [0.6666666666666666, \"#ed7953\"], [0.7777777777777778, \"#fb9f3a\"], [0.8888888888888888, \"#fdca26\"], [1.0, \"#f0f921\"]], \"type\": \"contour\"}], \"contourcarpet\": [{\"colorbar\": {\"outlinewidth\": 0, \"ticks\": \"\"}, \"type\": \"contourcarpet\"}], \"heatmap\": [{\"colorbar\": {\"outlinewidth\": 0, \"ticks\": \"\"}, \"colorscale\": [[0.0, \"#0d0887\"], [0.1111111111111111, \"#46039f\"], [0.2222222222222222, \"#7201a8\"], [0.3333333333333333, \"#9c179e\"], [0.4444444444444444, \"#bd3786\"], [0.5555555555555556, \"#d8576b\"], [0.6666666666666666, \"#ed7953\"], [0.7777777777777778, \"#fb9f3a\"], [0.8888888888888888, \"#fdca26\"], [1.0, \"#f0f921\"]], \"type\": \"heatmap\"}], \"heatmapgl\": [{\"colorbar\": {\"outlinewidth\": 0, \"ticks\": \"\"}, \"colorscale\": [[0.0, \"#0d0887\"], [0.1111111111111111, \"#46039f\"], [0.2222222222222222, \"#7201a8\"], [0.3333333333333333, \"#9c179e\"], [0.4444444444444444, \"#bd3786\"], [0.5555555555555556, \"#d8576b\"], [0.6666666666666666, \"#ed7953\"], [0.7777777777777778, \"#fb9f3a\"], [0.8888888888888888, \"#fdca26\"], [1.0, \"#f0f921\"]], \"type\": \"heatmapgl\"}], \"histogram\": [{\"marker\": {\"colorbar\": {\"outlinewidth\": 0, \"ticks\": \"\"}}, \"type\": \"histogram\"}], \"histogram2d\": [{\"colorbar\": {\"outlinewidth\": 0, \"ticks\": \"\"}, \"colorscale\": [[0.0, \"#0d0887\"], [0.1111111111111111, \"#46039f\"], [0.2222222222222222, \"#7201a8\"], [0.3333333333333333, \"#9c179e\"], [0.4444444444444444, \"#bd3786\"], [0.5555555555555556, \"#d8576b\"], [0.6666666666666666, \"#ed7953\"], [0.7777777777777778, \"#fb9f3a\"], [0.8888888888888888, \"#fdca26\"], [1.0, \"#f0f921\"]], \"type\": \"histogram2d\"}], \"histogram2dcontour\": [{\"colorbar\": {\"outlinewidth\": 0, \"ticks\": \"\"}, \"colorscale\": [[0.0, \"#0d0887\"], [0.1111111111111111, \"#46039f\"], [0.2222222222222222, \"#7201a8\"], [0.3333333333333333, \"#9c179e\"], [0.4444444444444444, \"#bd3786\"], [0.5555555555555556, \"#d8576b\"], [0.6666666666666666, \"#ed7953\"], [0.7777777777777778, \"#fb9f3a\"], [0.8888888888888888, \"#fdca26\"], [1.0, \"#f0f921\"]], \"type\": \"histogram2dcontour\"}], \"mesh3d\": [{\"colorbar\": {\"outlinewidth\": 0, \"ticks\": \"\"}, \"type\": \"mesh3d\"}], \"parcoords\": [{\"line\": {\"colorbar\": {\"outlinewidth\": 0, \"ticks\": \"\"}}, \"type\": \"parcoords\"}], \"pie\": [{\"automargin\": true, \"type\": \"pie\"}], \"scatter\": [{\"marker\": {\"colorbar\": {\"outlinewidth\": 0, \"ticks\": \"\"}}, \"type\": \"scatter\"}], \"scatter3d\": [{\"line\": {\"colorbar\": {\"outlinewidth\": 0, \"ticks\": \"\"}}, \"marker\": {\"colorbar\": {\"outlinewidth\": 0, \"ticks\": \"\"}}, \"type\": \"scatter3d\"}], \"scattercarpet\": [{\"marker\": {\"colorbar\": {\"outlinewidth\": 0, \"ticks\": \"\"}}, \"type\": \"scattercarpet\"}], \"scattergeo\": [{\"marker\": {\"colorbar\": {\"outlinewidth\": 0, \"ticks\": \"\"}}, \"type\": \"scattergeo\"}], \"scattergl\": [{\"marker\": {\"colorbar\": {\"outlinewidth\": 0, \"ticks\": \"\"}}, \"type\": \"scattergl\"}], \"scattermapbox\": [{\"marker\": {\"colorbar\": {\"outlinewidth\": 0, \"ticks\": \"\"}}, \"type\": \"scattermapbox\"}], \"scatterpolar\": [{\"marker\": {\"colorbar\": {\"outlinewidth\": 0, \"ticks\": \"\"}}, \"type\": \"scatterpolar\"}], \"scatterpolargl\": [{\"marker\": {\"colorbar\": {\"outlinewidth\": 0, \"ticks\": \"\"}}, \"type\": \"scatterpolargl\"}], \"scatterternary\": [{\"marker\": {\"colorbar\": {\"outlinewidth\": 0, \"ticks\": \"\"}}, \"type\": \"scatterternary\"}], \"surface\": [{\"colorbar\": {\"outlinewidth\": 0, \"ticks\": \"\"}, \"colorscale\": [[0.0, \"#0d0887\"], [0.1111111111111111, \"#46039f\"], [0.2222222222222222, \"#7201a8\"], [0.3333333333333333, \"#9c179e\"], [0.4444444444444444, \"#bd3786\"], [0.5555555555555556, \"#d8576b\"], [0.6666666666666666, \"#ed7953\"], [0.7777777777777778, \"#fb9f3a\"], [0.8888888888888888, \"#fdca26\"], [1.0, \"#f0f921\"]], \"type\": \"surface\"}], \"table\": [{\"cells\": {\"fill\": {\"color\": \"#EBF0F8\"}, \"line\": {\"color\": \"white\"}}, \"header\": {\"fill\": {\"color\": \"#C8D4E3\"}, \"line\": {\"color\": \"white\"}}, \"type\": \"table\"}]}, \"layout\": {\"annotationdefaults\": {\"arrowcolor\": \"#2a3f5f\", \"arrowhead\": 0, \"arrowwidth\": 1}, \"coloraxis\": {\"colorbar\": {\"outlinewidth\": 0, \"ticks\": \"\"}}, \"colorscale\": {\"diverging\": [[0, \"#8e0152\"], [0.1, \"#c51b7d\"], [0.2, \"#de77ae\"], [0.3, \"#f1b6da\"], [0.4, \"#fde0ef\"], [0.5, \"#f7f7f7\"], [0.6, \"#e6f5d0\"], [0.7, \"#b8e186\"], [0.8, \"#7fbc41\"], [0.9, \"#4d9221\"], [1, \"#276419\"]], \"sequential\": [[0.0, \"#0d0887\"], [0.1111111111111111, \"#46039f\"], [0.2222222222222222, \"#7201a8\"], [0.3333333333333333, \"#9c179e\"], [0.4444444444444444, \"#bd3786\"], [0.5555555555555556, \"#d8576b\"], [0.6666666666666666, \"#ed7953\"], [0.7777777777777778, \"#fb9f3a\"], [0.8888888888888888, \"#fdca26\"], [1.0, \"#f0f921\"]], \"sequentialminus\": [[0.0, \"#0d0887\"], [0.1111111111111111, \"#46039f\"], [0.2222222222222222, \"#7201a8\"], [0.3333333333333333, \"#9c179e\"], [0.4444444444444444, \"#bd3786\"], [0.5555555555555556, \"#d8576b\"], [0.6666666666666666, \"#ed7953\"], [0.7777777777777778, \"#fb9f3a\"], [0.8888888888888888, \"#fdca26\"], [1.0, \"#f0f921\"]]}, \"colorway\": [\"#636efa\", \"#EF553B\", \"#00cc96\", \"#ab63fa\", \"#FFA15A\", \"#19d3f3\", \"#FF6692\", \"#B6E880\", \"#FF97FF\", \"#FECB52\"], \"font\": {\"color\": \"#2a3f5f\"}, \"geo\": {\"bgcolor\": \"white\", \"lakecolor\": \"white\", \"landcolor\": \"#E5ECF6\", \"showlakes\": true, \"showland\": true, \"subunitcolor\": \"white\"}, \"hoverlabel\": {\"align\": \"left\"}, \"hovermode\": \"closest\", \"mapbox\": {\"style\": \"light\"}, \"paper_bgcolor\": \"white\", \"plot_bgcolor\": \"#E5ECF6\", \"polar\": {\"angularaxis\": {\"gridcolor\": \"white\", \"linecolor\": \"white\", \"ticks\": \"\"}, \"bgcolor\": \"#E5ECF6\", \"radialaxis\": {\"gridcolor\": \"white\", \"linecolor\": \"white\", \"ticks\": \"\"}}, \"scene\": {\"xaxis\": {\"backgroundcolor\": \"#E5ECF6\", \"gridcolor\": \"white\", \"gridwidth\": 2, \"linecolor\": \"white\", \"showbackground\": true, \"ticks\": \"\", \"zerolinecolor\": \"white\"}, \"yaxis\": {\"backgroundcolor\": \"#E5ECF6\", \"gridcolor\": \"white\", \"gridwidth\": 2, \"linecolor\": \"white\", \"showbackground\": true, \"ticks\": \"\", \"zerolinecolor\": \"white\"}, \"zaxis\": {\"backgroundcolor\": \"#E5ECF6\", \"gridcolor\": \"white\", \"gridwidth\": 2, \"linecolor\": \"white\", \"showbackground\": true, \"ticks\": \"\", \"zerolinecolor\": \"white\"}}, \"shapedefaults\": {\"line\": {\"color\": \"#2a3f5f\"}}, \"ternary\": {\"aaxis\": {\"gridcolor\": \"white\", \"linecolor\": \"white\", \"ticks\": \"\"}, \"baxis\": {\"gridcolor\": \"white\", \"linecolor\": \"white\", \"ticks\": \"\"}, \"bgcolor\": \"#E5ECF6\", \"caxis\": {\"gridcolor\": \"white\", \"linecolor\": \"white\", \"ticks\": \"\"}}, \"title\": {\"x\": 0.05}, \"xaxis\": {\"automargin\": true, \"gridcolor\": \"white\", \"linecolor\": \"white\", \"ticks\": \"\", \"title\": {\"standoff\": 15}, \"zerolinecolor\": \"white\", \"zerolinewidth\": 2}, \"yaxis\": {\"automargin\": true, \"gridcolor\": \"white\", \"linecolor\": \"white\", \"ticks\": \"\", \"title\": {\"standoff\": 15}, \"zerolinecolor\": \"white\", \"zerolinewidth\": 2}}}, \"title\": {\"text\": \"Income of Census Year 2006,2011 and 2016\"}, \"xaxis\": {\"anchor\": \"y\", \"domain\": [0.0, 1.0], \"title\": {\"text\": \"SA2 Name\"}}, \"yaxis\": {\"anchor\": \"x\", \"domain\": [0.0, 1.0], \"title\": {\"text\": \"value\"}}},                        {\"responsive\": true}                    ).then(function(){\n",
       "                            \n",
       "var gd = document.getElementById('c11fa909-286f-46ea-a649-a6046c6534a2');\n",
       "var x = new MutationObserver(function (mutations, observer) {{\n",
       "        var display = window.getComputedStyle(gd).display;\n",
       "        if (!display || display === 'none') {{\n",
       "            console.log([gd, 'removed!']);\n",
       "            Plotly.purge(gd);\n",
       "            observer.disconnect();\n",
       "        }}\n",
       "}});\n",
       "\n",
       "// Listen for the removal of the full notebook cells\n",
       "var notebookContainer = gd.closest('#notebook-container');\n",
       "if (notebookContainer) {{\n",
       "    x.observe(notebookContainer, {childList: true});\n",
       "}}\n",
       "\n",
       "// Listen for the clearing of the current output cell\n",
       "var outputEl = gd.closest('.output');\n",
       "if (outputEl) {{\n",
       "    x.observe(outputEl, {childList: true});\n",
       "}}\n",
       "\n",
       "                        })                };                });            </script>        </div>"
      ]
     },
     "metadata": {},
     "output_type": "display_data"
    }
   ],
   "source": [
    "fig_income_total = px.bar(df, x=\"SA2 Name\", y=[\"Income_total_2006\", \"Income_total_2011\", \"Income_total_2016\"], title=\"Income of Census Year 2006,2011 and 2016\")\n",
    "fig_income_total.show()"
   ]
  },
  {
   "cell_type": "code",
   "execution_count": 38,
   "metadata": {},
   "outputs": [
    {
     "data": {
      "application/vnd.plotly.v1+json": {
       "config": {
        "plotlyServerURL": "https://plotly.com"
       },
       "data": [
        {
         "alignmentgroup": "True",
         "hovertemplate": "SA2 Name=%{x}<br>Bacherlor%2006-2016=%{y}<extra></extra>",
         "legendgroup": "",
         "marker": {
          "color": "#636efa"
         },
         "name": "",
         "offsetgroup": "",
         "orientation": "v",
         "showlegend": false,
         "textposition": "auto",
         "type": "bar",
         "x": [
          "Kings Park (WA)",
          "North Coogee",
          "Innaloo - Doubleview",
          "Fremantle",
          "Manning - Waterford",
          "Swanbourne - Mount Claremont",
          "Fremantle - South",
          "Helena Valley - Koongamia",
          "Bentley - Wilson - St James",
          "Coolbellup",
          "Nedlands - Dalkeith - Crawley",
          "Mosman Park - Peppermint Grove",
          "Claremont (WA)",
          "Lesmurdie - Bickley - Carmel",
          "Neerabup National Park",
          "Rivervale - Kewdale - Cloverdale",
          "East Victoria Park - Carlisle",
          "Belmont - Ascot - Redcliffe",
          "Bayswater - Embleton - Bedford",
          "Yokine - Coolbinia - Menora",
          "Dianella",
          "Wanneroo",
          "Mundijong",
          "Glen Forrest - Darlington",
          "Noranda",
          "Mundaring",
          "Roleystone",
          "Huntingdale - Southern River",
          "Forrestfield - Wattle Grove",
          "High Wycombe",
          "Chidlow",
          "Riverton - Shelley - Rossmoyne",
          "Trigg - North Beach - Watermans Bay",
          "Bicton - Palmyra",
          "Booragoon",
          "Morley",
          "East Fremantle",
          "Casuarina - Wandi",
          "Mindarie - Quinns Rocks - Jindalee",
          "Spearwood",
          "Byford",
          "Wembley - West Leederville - Glendalough",
          "Nollamara - Westminster",
          "Maddington - Orange Grove - Martin",
          "Lockridge - Kiara",
          "Bassendean - Eden Hill - Ashfield",
          "Beechboro",
          "Hamilton Hill",
          "Mount Lawley - Inglewood",
          "Cannington - Queens Park",
          "Marangaroo",
          "Mount Nasura - Mount Richon - Bedfordale",
          "Waikiki",
          "Falcon - Wannanup",
          "Mandurah - East",
          "Swan View - Greenmount - Midvale",
          "Maylands",
          "Tuart Hill - Joondanna",
          "Alkimos - Eglinton",
          "Beckenham - Kenwick - Langford",
          "Coogee",
          "Stirling - Osborne Park",
          "Carramar",
          "Hazelmere - Guildford",
          "Gosnells",
          "Yangebup",
          "Craigie - Beldon",
          "Alexander Heights - Koondoola",
          "South Lake - Cockburn Central",
          "Parmelia - Orelia",
          "Safety Bay - Shoalwater",
          "Ballajura",
          "Camillo - Champion Lakes",
          "Kelmscott",
          "Bullsbrook",
          "Warnbro",
          "Stratton - Jane Brook",
          "Malmalling - Reservoir",
          "Serpentine - Jarrahdale",
          "Balcatta - Hamersley",
          "Thornlie",
          "Port Kennedy",
          "Kalamunda - Maida Vale - Gooseberry Hill",
          "Butler - Merriwa - Ridgewood",
          "Forrestdale - Harrisdale - Piara Waters",
          "Victoria Park - Lathlain - Burswood",
          "Gidgegannup",
          "Seville Grove",
          "Como",
          "Wembley Downs - Churchlands - Woodlands",
          "Willetton",
          "Scarborough",
          "Mount Hawthorn - Leederville",
          "South Perth - Kensington",
          "Melville",
          "Subiaco - Shenton Park",
          "Karrinyup - Gwelup - Carine",
          "Padbury",
          "Greenwood - Warwick",
          "Kingsley",
          "Hillarys",
          "Joondalup - Edgewater",
          "Leeming",
          "The Vines",
          "City Beach",
          "Murdoch - Kardinya",
          "Pinjarra",
          "Floreat",
          "Balga - Mirrabooka",
          "Midland - Guildford",
          "Parkwood - Ferndale - Lynwood",
          "Kwinana Industrial",
          "Perth City",
          "Middle Swan - Herne Hill",
          "North Perth",
          "Success - Hammond Park",
          "Banjup",
          "Madeley - Darch - Landsdale",
          "Girrawheen",
          "Mullaloo - Kallaroo",
          "Bateman",
          "Ellenbrook",
          "Armadale - Wungong - Brookdale",
          "Woodvale",
          "Currambine - Kinross",
          "Cooloongup",
          "Mandurah - North",
          "Clarkson",
          "Heathridge - Connolly",
          "Bertram - Wellard (West)",
          "Duncraig",
          "Sorrento - Marmion",
          "Singleton - Golden Bay - Secret Harbour",
          "Bull Creek",
          "Willagee",
          "Dawesville - Bouvard",
          "Applecross - Ardross",
          "Canning Vale - West",
          "Tapping - Ashby - Sinagra",
          "Ocean Reef",
          "Mandurah - South",
          "Yanchep",
          "Halls Head - Erskine",
          "Mandurah",
          "Greenfields",
          "Cottesloe",
          "Rockingham",
          "Calista",
          "Iluka - Burns Beach",
          "Beeliar - Wattleup",
          "Canning Vale - East",
          "Jandakot",
          "Two Rocks",
          "Winthrop",
          "Baldivis",
          "Carabooda - Pinjar",
          "Hope Valley - Postans",
          "Avon Valley National Park",
          "Malaga",
          "Melaleuca - Lexia",
          "Walyunga National Park",
          "Herdsman",
          "Osborne Park Industrial",
          "Ashendon - Lesley",
          "Kewdale Commercial",
          "Perth Airport",
          "Canning Vale Commercial",
          "Welshpool",
          "Bibra Lake",
          "Henderson",
          "O'Connor (WA)",
          "Rockingham Lakes",
          "Bibra Industrial"
         ],
         "xaxis": "x",
         "y": [
          -0.7,
          0.38,
          0.1,
          0.08,
          0.08,
          0.09,
          0.09,
          0.03,
          0.12,
          0.1,
          0.09,
          0.1,
          0.07,
          0.04,
          0,
          0.13,
          0.1,
          0.08,
          0.1,
          0.09,
          0.09,
          0.09,
          0.04,
          0.05,
          0.05,
          0.03,
          0.02,
          0.17,
          0.11,
          0.06,
          -0.02,
          0.12,
          0.11,
          0.1,
          0.11,
          0.11,
          0.06,
          0.11,
          0.07,
          0.09,
          0.06,
          0.12,
          0.17,
          0.1,
          0.11,
          0.1,
          0.09,
          0.09,
          0.08,
          0.2,
          0.07,
          0.04,
          0.06,
          0.04,
          0.03,
          0.04,
          0.14,
          0.13,
          0.22,
          0.15,
          0.09,
          0.14,
          0.09,
          0.09,
          0.08,
          0.09,
          0.09,
          0.06,
          0.1,
          0.07,
          0.05,
          0.05,
          0.08,
          0.05,
          0,
          0.04,
          0.04,
          0,
          -0.02,
          0.09,
          0.1,
          0.03,
          0.05,
          0.03,
          0.25,
          0.13,
          0,
          0.09,
          0.13,
          0.09,
          0.14,
          0.11,
          0.1,
          0.11,
          0.08,
          0.08,
          0.08,
          0.09,
          0.08,
          0.1,
          0.08,
          0.1,
          0.09,
          0.02,
          0.04,
          0.09,
          0.03,
          0.09,
          0.12,
          0.06,
          0.12,
          -0.23,
          0.14,
          0.06,
          0.11,
          0.14,
          0.13,
          0.11,
          0.08,
          0.08,
          0.1,
          0.05,
          0.07,
          0.08,
          0.07,
          0.05,
          0.03,
          0.1,
          0.07,
          0.18,
          0.1,
          0.08,
          0.03,
          0.12,
          0.08,
          0.04,
          0.1,
          0.1,
          0.1,
          0.06,
          0.04,
          0.01,
          0.04,
          0.09,
          0.04,
          0.12,
          0.05,
          0.07,
          0.08,
          0.13,
          0.15,
          0.07,
          0.01,
          0.09,
          0.02,
          -0.01,
          -0.02,
          0,
          0,
          0,
          0,
          0,
          0,
          0,
          0,
          0,
          0,
          0,
          0,
          0,
          0,
          0,
          0
         ],
         "yaxis": "y"
        }
       ],
       "layout": {
        "barmode": "relative",
        "legend": {
         "tracegroupgap": 0
        },
        "template": {
         "data": {
          "bar": [
           {
            "error_x": {
             "color": "#2a3f5f"
            },
            "error_y": {
             "color": "#2a3f5f"
            },
            "marker": {
             "line": {
              "color": "#E5ECF6",
              "width": 0.5
             }
            },
            "type": "bar"
           }
          ],
          "barpolar": [
           {
            "marker": {
             "line": {
              "color": "#E5ECF6",
              "width": 0.5
             }
            },
            "type": "barpolar"
           }
          ],
          "carpet": [
           {
            "aaxis": {
             "endlinecolor": "#2a3f5f",
             "gridcolor": "white",
             "linecolor": "white",
             "minorgridcolor": "white",
             "startlinecolor": "#2a3f5f"
            },
            "baxis": {
             "endlinecolor": "#2a3f5f",
             "gridcolor": "white",
             "linecolor": "white",
             "minorgridcolor": "white",
             "startlinecolor": "#2a3f5f"
            },
            "type": "carpet"
           }
          ],
          "choropleth": [
           {
            "colorbar": {
             "outlinewidth": 0,
             "ticks": ""
            },
            "type": "choropleth"
           }
          ],
          "contour": [
           {
            "colorbar": {
             "outlinewidth": 0,
             "ticks": ""
            },
            "colorscale": [
             [
              0,
              "#0d0887"
             ],
             [
              0.1111111111111111,
              "#46039f"
             ],
             [
              0.2222222222222222,
              "#7201a8"
             ],
             [
              0.3333333333333333,
              "#9c179e"
             ],
             [
              0.4444444444444444,
              "#bd3786"
             ],
             [
              0.5555555555555556,
              "#d8576b"
             ],
             [
              0.6666666666666666,
              "#ed7953"
             ],
             [
              0.7777777777777778,
              "#fb9f3a"
             ],
             [
              0.8888888888888888,
              "#fdca26"
             ],
             [
              1,
              "#f0f921"
             ]
            ],
            "type": "contour"
           }
          ],
          "contourcarpet": [
           {
            "colorbar": {
             "outlinewidth": 0,
             "ticks": ""
            },
            "type": "contourcarpet"
           }
          ],
          "heatmap": [
           {
            "colorbar": {
             "outlinewidth": 0,
             "ticks": ""
            },
            "colorscale": [
             [
              0,
              "#0d0887"
             ],
             [
              0.1111111111111111,
              "#46039f"
             ],
             [
              0.2222222222222222,
              "#7201a8"
             ],
             [
              0.3333333333333333,
              "#9c179e"
             ],
             [
              0.4444444444444444,
              "#bd3786"
             ],
             [
              0.5555555555555556,
              "#d8576b"
             ],
             [
              0.6666666666666666,
              "#ed7953"
             ],
             [
              0.7777777777777778,
              "#fb9f3a"
             ],
             [
              0.8888888888888888,
              "#fdca26"
             ],
             [
              1,
              "#f0f921"
             ]
            ],
            "type": "heatmap"
           }
          ],
          "heatmapgl": [
           {
            "colorbar": {
             "outlinewidth": 0,
             "ticks": ""
            },
            "colorscale": [
             [
              0,
              "#0d0887"
             ],
             [
              0.1111111111111111,
              "#46039f"
             ],
             [
              0.2222222222222222,
              "#7201a8"
             ],
             [
              0.3333333333333333,
              "#9c179e"
             ],
             [
              0.4444444444444444,
              "#bd3786"
             ],
             [
              0.5555555555555556,
              "#d8576b"
             ],
             [
              0.6666666666666666,
              "#ed7953"
             ],
             [
              0.7777777777777778,
              "#fb9f3a"
             ],
             [
              0.8888888888888888,
              "#fdca26"
             ],
             [
              1,
              "#f0f921"
             ]
            ],
            "type": "heatmapgl"
           }
          ],
          "histogram": [
           {
            "marker": {
             "colorbar": {
              "outlinewidth": 0,
              "ticks": ""
             }
            },
            "type": "histogram"
           }
          ],
          "histogram2d": [
           {
            "colorbar": {
             "outlinewidth": 0,
             "ticks": ""
            },
            "colorscale": [
             [
              0,
              "#0d0887"
             ],
             [
              0.1111111111111111,
              "#46039f"
             ],
             [
              0.2222222222222222,
              "#7201a8"
             ],
             [
              0.3333333333333333,
              "#9c179e"
             ],
             [
              0.4444444444444444,
              "#bd3786"
             ],
             [
              0.5555555555555556,
              "#d8576b"
             ],
             [
              0.6666666666666666,
              "#ed7953"
             ],
             [
              0.7777777777777778,
              "#fb9f3a"
             ],
             [
              0.8888888888888888,
              "#fdca26"
             ],
             [
              1,
              "#f0f921"
             ]
            ],
            "type": "histogram2d"
           }
          ],
          "histogram2dcontour": [
           {
            "colorbar": {
             "outlinewidth": 0,
             "ticks": ""
            },
            "colorscale": [
             [
              0,
              "#0d0887"
             ],
             [
              0.1111111111111111,
              "#46039f"
             ],
             [
              0.2222222222222222,
              "#7201a8"
             ],
             [
              0.3333333333333333,
              "#9c179e"
             ],
             [
              0.4444444444444444,
              "#bd3786"
             ],
             [
              0.5555555555555556,
              "#d8576b"
             ],
             [
              0.6666666666666666,
              "#ed7953"
             ],
             [
              0.7777777777777778,
              "#fb9f3a"
             ],
             [
              0.8888888888888888,
              "#fdca26"
             ],
             [
              1,
              "#f0f921"
             ]
            ],
            "type": "histogram2dcontour"
           }
          ],
          "mesh3d": [
           {
            "colorbar": {
             "outlinewidth": 0,
             "ticks": ""
            },
            "type": "mesh3d"
           }
          ],
          "parcoords": [
           {
            "line": {
             "colorbar": {
              "outlinewidth": 0,
              "ticks": ""
             }
            },
            "type": "parcoords"
           }
          ],
          "pie": [
           {
            "automargin": true,
            "type": "pie"
           }
          ],
          "scatter": [
           {
            "marker": {
             "colorbar": {
              "outlinewidth": 0,
              "ticks": ""
             }
            },
            "type": "scatter"
           }
          ],
          "scatter3d": [
           {
            "line": {
             "colorbar": {
              "outlinewidth": 0,
              "ticks": ""
             }
            },
            "marker": {
             "colorbar": {
              "outlinewidth": 0,
              "ticks": ""
             }
            },
            "type": "scatter3d"
           }
          ],
          "scattercarpet": [
           {
            "marker": {
             "colorbar": {
              "outlinewidth": 0,
              "ticks": ""
             }
            },
            "type": "scattercarpet"
           }
          ],
          "scattergeo": [
           {
            "marker": {
             "colorbar": {
              "outlinewidth": 0,
              "ticks": ""
             }
            },
            "type": "scattergeo"
           }
          ],
          "scattergl": [
           {
            "marker": {
             "colorbar": {
              "outlinewidth": 0,
              "ticks": ""
             }
            },
            "type": "scattergl"
           }
          ],
          "scattermapbox": [
           {
            "marker": {
             "colorbar": {
              "outlinewidth": 0,
              "ticks": ""
             }
            },
            "type": "scattermapbox"
           }
          ],
          "scatterpolar": [
           {
            "marker": {
             "colorbar": {
              "outlinewidth": 0,
              "ticks": ""
             }
            },
            "type": "scatterpolar"
           }
          ],
          "scatterpolargl": [
           {
            "marker": {
             "colorbar": {
              "outlinewidth": 0,
              "ticks": ""
             }
            },
            "type": "scatterpolargl"
           }
          ],
          "scatterternary": [
           {
            "marker": {
             "colorbar": {
              "outlinewidth": 0,
              "ticks": ""
             }
            },
            "type": "scatterternary"
           }
          ],
          "surface": [
           {
            "colorbar": {
             "outlinewidth": 0,
             "ticks": ""
            },
            "colorscale": [
             [
              0,
              "#0d0887"
             ],
             [
              0.1111111111111111,
              "#46039f"
             ],
             [
              0.2222222222222222,
              "#7201a8"
             ],
             [
              0.3333333333333333,
              "#9c179e"
             ],
             [
              0.4444444444444444,
              "#bd3786"
             ],
             [
              0.5555555555555556,
              "#d8576b"
             ],
             [
              0.6666666666666666,
              "#ed7953"
             ],
             [
              0.7777777777777778,
              "#fb9f3a"
             ],
             [
              0.8888888888888888,
              "#fdca26"
             ],
             [
              1,
              "#f0f921"
             ]
            ],
            "type": "surface"
           }
          ],
          "table": [
           {
            "cells": {
             "fill": {
              "color": "#EBF0F8"
             },
             "line": {
              "color": "white"
             }
            },
            "header": {
             "fill": {
              "color": "#C8D4E3"
             },
             "line": {
              "color": "white"
             }
            },
            "type": "table"
           }
          ]
         },
         "layout": {
          "annotationdefaults": {
           "arrowcolor": "#2a3f5f",
           "arrowhead": 0,
           "arrowwidth": 1
          },
          "coloraxis": {
           "colorbar": {
            "outlinewidth": 0,
            "ticks": ""
           }
          },
          "colorscale": {
           "diverging": [
            [
             0,
             "#8e0152"
            ],
            [
             0.1,
             "#c51b7d"
            ],
            [
             0.2,
             "#de77ae"
            ],
            [
             0.3,
             "#f1b6da"
            ],
            [
             0.4,
             "#fde0ef"
            ],
            [
             0.5,
             "#f7f7f7"
            ],
            [
             0.6,
             "#e6f5d0"
            ],
            [
             0.7,
             "#b8e186"
            ],
            [
             0.8,
             "#7fbc41"
            ],
            [
             0.9,
             "#4d9221"
            ],
            [
             1,
             "#276419"
            ]
           ],
           "sequential": [
            [
             0,
             "#0d0887"
            ],
            [
             0.1111111111111111,
             "#46039f"
            ],
            [
             0.2222222222222222,
             "#7201a8"
            ],
            [
             0.3333333333333333,
             "#9c179e"
            ],
            [
             0.4444444444444444,
             "#bd3786"
            ],
            [
             0.5555555555555556,
             "#d8576b"
            ],
            [
             0.6666666666666666,
             "#ed7953"
            ],
            [
             0.7777777777777778,
             "#fb9f3a"
            ],
            [
             0.8888888888888888,
             "#fdca26"
            ],
            [
             1,
             "#f0f921"
            ]
           ],
           "sequentialminus": [
            [
             0,
             "#0d0887"
            ],
            [
             0.1111111111111111,
             "#46039f"
            ],
            [
             0.2222222222222222,
             "#7201a8"
            ],
            [
             0.3333333333333333,
             "#9c179e"
            ],
            [
             0.4444444444444444,
             "#bd3786"
            ],
            [
             0.5555555555555556,
             "#d8576b"
            ],
            [
             0.6666666666666666,
             "#ed7953"
            ],
            [
             0.7777777777777778,
             "#fb9f3a"
            ],
            [
             0.8888888888888888,
             "#fdca26"
            ],
            [
             1,
             "#f0f921"
            ]
           ]
          },
          "colorway": [
           "#636efa",
           "#EF553B",
           "#00cc96",
           "#ab63fa",
           "#FFA15A",
           "#19d3f3",
           "#FF6692",
           "#B6E880",
           "#FF97FF",
           "#FECB52"
          ],
          "font": {
           "color": "#2a3f5f"
          },
          "geo": {
           "bgcolor": "white",
           "lakecolor": "white",
           "landcolor": "#E5ECF6",
           "showlakes": true,
           "showland": true,
           "subunitcolor": "white"
          },
          "hoverlabel": {
           "align": "left"
          },
          "hovermode": "closest",
          "mapbox": {
           "style": "light"
          },
          "paper_bgcolor": "white",
          "plot_bgcolor": "#E5ECF6",
          "polar": {
           "angularaxis": {
            "gridcolor": "white",
            "linecolor": "white",
            "ticks": ""
           },
           "bgcolor": "#E5ECF6",
           "radialaxis": {
            "gridcolor": "white",
            "linecolor": "white",
            "ticks": ""
           }
          },
          "scene": {
           "xaxis": {
            "backgroundcolor": "#E5ECF6",
            "gridcolor": "white",
            "gridwidth": 2,
            "linecolor": "white",
            "showbackground": true,
            "ticks": "",
            "zerolinecolor": "white"
           },
           "yaxis": {
            "backgroundcolor": "#E5ECF6",
            "gridcolor": "white",
            "gridwidth": 2,
            "linecolor": "white",
            "showbackground": true,
            "ticks": "",
            "zerolinecolor": "white"
           },
           "zaxis": {
            "backgroundcolor": "#E5ECF6",
            "gridcolor": "white",
            "gridwidth": 2,
            "linecolor": "white",
            "showbackground": true,
            "ticks": "",
            "zerolinecolor": "white"
           }
          },
          "shapedefaults": {
           "line": {
            "color": "#2a3f5f"
           }
          },
          "ternary": {
           "aaxis": {
            "gridcolor": "white",
            "linecolor": "white",
            "ticks": ""
           },
           "baxis": {
            "gridcolor": "white",
            "linecolor": "white",
            "ticks": ""
           },
           "bgcolor": "#E5ECF6",
           "caxis": {
            "gridcolor": "white",
            "linecolor": "white",
            "ticks": ""
           }
          },
          "title": {
           "x": 0.05
          },
          "xaxis": {
           "automargin": true,
           "gridcolor": "white",
           "linecolor": "white",
           "ticks": "",
           "title": {
            "standoff": 15
           },
           "zerolinecolor": "white",
           "zerolinewidth": 2
          },
          "yaxis": {
           "automargin": true,
           "gridcolor": "white",
           "linecolor": "white",
           "ticks": "",
           "title": {
            "standoff": 15
           },
           "zerolinecolor": "white",
           "zerolinewidth": 2
          }
         }
        },
        "title": {
         "text": "% Change in People who are 25 or over and hold a Bachelor Degree or Higher 2006-2016"
        },
        "xaxis": {
         "anchor": "y",
         "domain": [
          0,
          1
         ],
         "title": {
          "text": "SA2 Name"
         }
        },
        "yaxis": {
         "anchor": "x",
         "domain": [
          0,
          1
         ],
         "title": {
          "text": "Bacherlor%2006-2016"
         }
        }
       }
      },
      "text/html": [
       "<div>                            <div id=\"caf7e657-7f3a-46f9-8b96-3c9587200b23\" class=\"plotly-graph-div\" style=\"height:525px; width:100%;\"></div>            <script type=\"text/javascript\">                require([\"plotly\"], function(Plotly) {                    window.PLOTLYENV=window.PLOTLYENV || {};                                    if (document.getElementById(\"caf7e657-7f3a-46f9-8b96-3c9587200b23\")) {                    Plotly.newPlot(                        \"caf7e657-7f3a-46f9-8b96-3c9587200b23\",                        [{\"alignmentgroup\": \"True\", \"hovertemplate\": \"SA2 Name=%{x}<br>Bacherlor%2006-2016=%{y}<extra></extra>\", \"legendgroup\": \"\", \"marker\": {\"color\": \"#636efa\"}, \"name\": \"\", \"offsetgroup\": \"\", \"orientation\": \"v\", \"showlegend\": false, \"textposition\": \"auto\", \"type\": \"bar\", \"x\": [\"Kings Park (WA)\", \"North Coogee\", \"Innaloo - Doubleview\", \"Fremantle\", \"Manning - Waterford\", \"Swanbourne - Mount Claremont\", \"Fremantle - South\", \"Helena Valley - Koongamia\", \"Bentley - Wilson - St James\", \"Coolbellup\", \"Nedlands - Dalkeith - Crawley\", \"Mosman Park - Peppermint Grove\", \"Claremont (WA)\", \"Lesmurdie - Bickley - Carmel\", \"Neerabup National Park\", \"Rivervale - Kewdale - Cloverdale\", \"East Victoria Park - Carlisle\", \"Belmont - Ascot - Redcliffe\", \"Bayswater - Embleton - Bedford\", \"Yokine - Coolbinia - Menora\", \"Dianella\", \"Wanneroo\", \"Mundijong\", \"Glen Forrest - Darlington\", \"Noranda\", \"Mundaring\", \"Roleystone\", \"Huntingdale - Southern River\", \"Forrestfield - Wattle Grove\", \"High Wycombe\", \"Chidlow\", \"Riverton - Shelley - Rossmoyne\", \"Trigg - North Beach - Watermans Bay\", \"Bicton - Palmyra\", \"Booragoon\", \"Morley\", \"East Fremantle\", \"Casuarina - Wandi\", \"Mindarie - Quinns Rocks - Jindalee\", \"Spearwood\", \"Byford\", \"Wembley - West Leederville - Glendalough\", \"Nollamara - Westminster\", \"Maddington - Orange Grove - Martin\", \"Lockridge - Kiara\", \"Bassendean - Eden Hill - Ashfield\", \"Beechboro\", \"Hamilton Hill\", \"Mount Lawley - Inglewood\", \"Cannington - Queens Park\", \"Marangaroo\", \"Mount Nasura - Mount Richon - Bedfordale\", \"Waikiki\", \"Falcon - Wannanup\", \"Mandurah - East\", \"Swan View - Greenmount - Midvale\", \"Maylands\", \"Tuart Hill - Joondanna\", \"Alkimos - Eglinton\", \"Beckenham - Kenwick - Langford\", \"Coogee\", \"Stirling - Osborne Park\", \"Carramar\", \"Hazelmere - Guildford\", \"Gosnells\", \"Yangebup\", \"Craigie - Beldon\", \"Alexander Heights - Koondoola\", \"South Lake - Cockburn Central\", \"Parmelia - Orelia\", \"Safety Bay - Shoalwater\", \"Ballajura\", \"Camillo - Champion Lakes\", \"Kelmscott\", \"Bullsbrook\", \"Warnbro\", \"Stratton - Jane Brook\", \"Malmalling - Reservoir\", \"Serpentine - Jarrahdale\", \"Balcatta - Hamersley\", \"Thornlie\", \"Port Kennedy\", \"Kalamunda - Maida Vale - Gooseberry Hill\", \"Butler - Merriwa - Ridgewood\", \"Forrestdale - Harrisdale - Piara Waters\", \"Victoria Park - Lathlain - Burswood\", \"Gidgegannup\", \"Seville Grove\", \"Como\", \"Wembley Downs - Churchlands - Woodlands\", \"Willetton\", \"Scarborough\", \"Mount Hawthorn - Leederville\", \"South Perth - Kensington\", \"Melville\", \"Subiaco - Shenton Park\", \"Karrinyup - Gwelup - Carine\", \"Padbury\", \"Greenwood - Warwick\", \"Kingsley\", \"Hillarys\", \"Joondalup - Edgewater\", \"Leeming\", \"The Vines\", \"City Beach\", \"Murdoch - Kardinya\", \"Pinjarra\", \"Floreat\", \"Balga - Mirrabooka\", \"Midland - Guildford\", \"Parkwood - Ferndale - Lynwood\", \"Kwinana Industrial\", \"Perth City\", \"Middle Swan - Herne Hill\", \"North Perth\", \"Success - Hammond Park\", \"Banjup\", \"Madeley - Darch - Landsdale\", \"Girrawheen\", \"Mullaloo - Kallaroo\", \"Bateman\", \"Ellenbrook\", \"Armadale - Wungong - Brookdale\", \"Woodvale\", \"Currambine - Kinross\", \"Cooloongup\", \"Mandurah - North\", \"Clarkson\", \"Heathridge - Connolly\", \"Bertram - Wellard (West)\", \"Duncraig\", \"Sorrento - Marmion\", \"Singleton - Golden Bay - Secret Harbour\", \"Bull Creek\", \"Willagee\", \"Dawesville - Bouvard\", \"Applecross - Ardross\", \"Canning Vale - West\", \"Tapping - Ashby - Sinagra\", \"Ocean Reef\", \"Mandurah - South\", \"Yanchep\", \"Halls Head - Erskine\", \"Mandurah\", \"Greenfields\", \"Cottesloe\", \"Rockingham\", \"Calista\", \"Iluka - Burns Beach\", \"Beeliar - Wattleup\", \"Canning Vale - East\", \"Jandakot\", \"Two Rocks\", \"Winthrop\", \"Baldivis\", \"Carabooda - Pinjar\", \"Hope Valley - Postans\", \"Avon Valley National Park\", \"Malaga\", \"Melaleuca - Lexia\", \"Walyunga National Park\", \"Herdsman\", \"Osborne Park Industrial\", \"Ashendon - Lesley\", \"Kewdale Commercial\", \"Perth Airport\", \"Canning Vale Commercial\", \"Welshpool\", \"Bibra Lake\", \"Henderson\", \"O'Connor (WA)\", \"Rockingham Lakes\", \"Bibra Industrial\"], \"xaxis\": \"x\", \"y\": [-0.7, 0.38, 0.1, 0.08, 0.08, 0.09, 0.09, 0.03, 0.12, 0.1, 0.09, 0.1, 0.07, 0.04, 0.0, 0.13, 0.1, 0.08, 0.1, 0.09, 0.09, 0.09, 0.04, 0.05, 0.05, 0.03, 0.02, 0.17, 0.11, 0.06, -0.02, 0.12, 0.11, 0.1, 0.11, 0.11, 0.06, 0.11, 0.07, 0.09, 0.06, 0.12, 0.17, 0.1, 0.11, 0.1, 0.09, 0.09, 0.08, 0.2, 0.07, 0.04, 0.06, 0.04, 0.03, 0.04, 0.14, 0.13, 0.22, 0.15, 0.09, 0.14, 0.09, 0.09, 0.08, 0.09, 0.09, 0.06, 0.1, 0.07, 0.05, 0.05, 0.08, 0.05, 0.0, 0.04, 0.04, 0.0, -0.02, 0.09, 0.1, 0.03, 0.05, 0.03, 0.25, 0.13, 0.0, 0.09, 0.13, 0.09, 0.14, 0.11, 0.1, 0.11, 0.08, 0.08, 0.08, 0.09, 0.08, 0.1, 0.08, 0.1, 0.09, 0.02, 0.04, 0.09, 0.03, 0.09, 0.12, 0.06, 0.12, -0.23, 0.14, 0.06, 0.11, 0.14, 0.13, 0.11, 0.08, 0.08, 0.1, 0.05, 0.07, 0.08, 0.07, 0.05, 0.03, 0.1, 0.07, 0.18, 0.1, 0.08, 0.03, 0.12, 0.08, 0.04, 0.1, 0.1, 0.1, 0.06, 0.04, 0.01, 0.04, 0.09, 0.04, 0.12, 0.05, 0.07, 0.08, 0.13, 0.15, 0.07, 0.01, 0.09, 0.02, -0.01, -0.02, 0.0, 0.0, 0.0, 0.0, 0.0, 0.0, 0.0, 0.0, 0.0, 0.0, 0.0, 0.0, 0.0, 0.0, 0.0, 0.0], \"yaxis\": \"y\"}],                        {\"barmode\": \"relative\", \"legend\": {\"tracegroupgap\": 0}, \"template\": {\"data\": {\"bar\": [{\"error_x\": {\"color\": \"#2a3f5f\"}, \"error_y\": {\"color\": \"#2a3f5f\"}, \"marker\": {\"line\": {\"color\": \"#E5ECF6\", \"width\": 0.5}}, \"type\": \"bar\"}], \"barpolar\": [{\"marker\": {\"line\": {\"color\": \"#E5ECF6\", \"width\": 0.5}}, \"type\": \"barpolar\"}], \"carpet\": [{\"aaxis\": {\"endlinecolor\": \"#2a3f5f\", \"gridcolor\": \"white\", \"linecolor\": \"white\", \"minorgridcolor\": \"white\", \"startlinecolor\": \"#2a3f5f\"}, \"baxis\": {\"endlinecolor\": \"#2a3f5f\", \"gridcolor\": \"white\", \"linecolor\": \"white\", \"minorgridcolor\": \"white\", \"startlinecolor\": \"#2a3f5f\"}, \"type\": \"carpet\"}], \"choropleth\": [{\"colorbar\": {\"outlinewidth\": 0, \"ticks\": \"\"}, \"type\": \"choropleth\"}], \"contour\": [{\"colorbar\": {\"outlinewidth\": 0, \"ticks\": \"\"}, \"colorscale\": [[0.0, \"#0d0887\"], [0.1111111111111111, \"#46039f\"], [0.2222222222222222, \"#7201a8\"], [0.3333333333333333, \"#9c179e\"], [0.4444444444444444, \"#bd3786\"], [0.5555555555555556, \"#d8576b\"], [0.6666666666666666, \"#ed7953\"], [0.7777777777777778, \"#fb9f3a\"], [0.8888888888888888, \"#fdca26\"], [1.0, \"#f0f921\"]], \"type\": \"contour\"}], \"contourcarpet\": [{\"colorbar\": {\"outlinewidth\": 0, \"ticks\": \"\"}, \"type\": \"contourcarpet\"}], \"heatmap\": [{\"colorbar\": {\"outlinewidth\": 0, \"ticks\": \"\"}, \"colorscale\": [[0.0, \"#0d0887\"], [0.1111111111111111, \"#46039f\"], [0.2222222222222222, \"#7201a8\"], [0.3333333333333333, \"#9c179e\"], [0.4444444444444444, \"#bd3786\"], [0.5555555555555556, \"#d8576b\"], [0.6666666666666666, \"#ed7953\"], [0.7777777777777778, \"#fb9f3a\"], [0.8888888888888888, \"#fdca26\"], [1.0, \"#f0f921\"]], \"type\": \"heatmap\"}], \"heatmapgl\": [{\"colorbar\": {\"outlinewidth\": 0, \"ticks\": \"\"}, \"colorscale\": [[0.0, \"#0d0887\"], [0.1111111111111111, \"#46039f\"], [0.2222222222222222, \"#7201a8\"], [0.3333333333333333, \"#9c179e\"], [0.4444444444444444, \"#bd3786\"], [0.5555555555555556, \"#d8576b\"], [0.6666666666666666, \"#ed7953\"], [0.7777777777777778, \"#fb9f3a\"], [0.8888888888888888, \"#fdca26\"], [1.0, \"#f0f921\"]], \"type\": \"heatmapgl\"}], \"histogram\": [{\"marker\": {\"colorbar\": {\"outlinewidth\": 0, \"ticks\": \"\"}}, \"type\": \"histogram\"}], \"histogram2d\": [{\"colorbar\": {\"outlinewidth\": 0, \"ticks\": \"\"}, \"colorscale\": [[0.0, \"#0d0887\"], [0.1111111111111111, \"#46039f\"], [0.2222222222222222, \"#7201a8\"], [0.3333333333333333, \"#9c179e\"], [0.4444444444444444, \"#bd3786\"], [0.5555555555555556, \"#d8576b\"], [0.6666666666666666, \"#ed7953\"], [0.7777777777777778, \"#fb9f3a\"], [0.8888888888888888, \"#fdca26\"], [1.0, \"#f0f921\"]], \"type\": \"histogram2d\"}], \"histogram2dcontour\": [{\"colorbar\": {\"outlinewidth\": 0, \"ticks\": \"\"}, \"colorscale\": [[0.0, \"#0d0887\"], [0.1111111111111111, \"#46039f\"], [0.2222222222222222, \"#7201a8\"], [0.3333333333333333, \"#9c179e\"], [0.4444444444444444, \"#bd3786\"], [0.5555555555555556, \"#d8576b\"], [0.6666666666666666, \"#ed7953\"], [0.7777777777777778, \"#fb9f3a\"], [0.8888888888888888, \"#fdca26\"], [1.0, \"#f0f921\"]], \"type\": \"histogram2dcontour\"}], \"mesh3d\": [{\"colorbar\": {\"outlinewidth\": 0, \"ticks\": \"\"}, \"type\": \"mesh3d\"}], \"parcoords\": [{\"line\": {\"colorbar\": {\"outlinewidth\": 0, \"ticks\": \"\"}}, \"type\": \"parcoords\"}], \"pie\": [{\"automargin\": true, \"type\": \"pie\"}], \"scatter\": [{\"marker\": {\"colorbar\": {\"outlinewidth\": 0, \"ticks\": \"\"}}, \"type\": \"scatter\"}], \"scatter3d\": [{\"line\": {\"colorbar\": {\"outlinewidth\": 0, \"ticks\": \"\"}}, \"marker\": {\"colorbar\": {\"outlinewidth\": 0, \"ticks\": \"\"}}, \"type\": \"scatter3d\"}], \"scattercarpet\": [{\"marker\": {\"colorbar\": {\"outlinewidth\": 0, \"ticks\": \"\"}}, \"type\": \"scattercarpet\"}], \"scattergeo\": [{\"marker\": {\"colorbar\": {\"outlinewidth\": 0, \"ticks\": \"\"}}, \"type\": \"scattergeo\"}], \"scattergl\": [{\"marker\": {\"colorbar\": {\"outlinewidth\": 0, \"ticks\": \"\"}}, \"type\": \"scattergl\"}], \"scattermapbox\": [{\"marker\": {\"colorbar\": {\"outlinewidth\": 0, \"ticks\": \"\"}}, \"type\": \"scattermapbox\"}], \"scatterpolar\": [{\"marker\": {\"colorbar\": {\"outlinewidth\": 0, \"ticks\": \"\"}}, \"type\": \"scatterpolar\"}], \"scatterpolargl\": [{\"marker\": {\"colorbar\": {\"outlinewidth\": 0, \"ticks\": \"\"}}, \"type\": \"scatterpolargl\"}], \"scatterternary\": [{\"marker\": {\"colorbar\": {\"outlinewidth\": 0, \"ticks\": \"\"}}, \"type\": \"scatterternary\"}], \"surface\": [{\"colorbar\": {\"outlinewidth\": 0, \"ticks\": \"\"}, \"colorscale\": [[0.0, \"#0d0887\"], [0.1111111111111111, \"#46039f\"], [0.2222222222222222, \"#7201a8\"], [0.3333333333333333, \"#9c179e\"], [0.4444444444444444, \"#bd3786\"], [0.5555555555555556, \"#d8576b\"], [0.6666666666666666, \"#ed7953\"], [0.7777777777777778, \"#fb9f3a\"], [0.8888888888888888, \"#fdca26\"], [1.0, \"#f0f921\"]], \"type\": \"surface\"}], \"table\": [{\"cells\": {\"fill\": {\"color\": \"#EBF0F8\"}, \"line\": {\"color\": \"white\"}}, \"header\": {\"fill\": {\"color\": \"#C8D4E3\"}, \"line\": {\"color\": \"white\"}}, \"type\": \"table\"}]}, \"layout\": {\"annotationdefaults\": {\"arrowcolor\": \"#2a3f5f\", \"arrowhead\": 0, \"arrowwidth\": 1}, \"coloraxis\": {\"colorbar\": {\"outlinewidth\": 0, \"ticks\": \"\"}}, \"colorscale\": {\"diverging\": [[0, \"#8e0152\"], [0.1, \"#c51b7d\"], [0.2, \"#de77ae\"], [0.3, \"#f1b6da\"], [0.4, \"#fde0ef\"], [0.5, \"#f7f7f7\"], [0.6, \"#e6f5d0\"], [0.7, \"#b8e186\"], [0.8, \"#7fbc41\"], [0.9, \"#4d9221\"], [1, \"#276419\"]], \"sequential\": [[0.0, \"#0d0887\"], [0.1111111111111111, \"#46039f\"], [0.2222222222222222, \"#7201a8\"], [0.3333333333333333, \"#9c179e\"], [0.4444444444444444, \"#bd3786\"], [0.5555555555555556, \"#d8576b\"], [0.6666666666666666, \"#ed7953\"], [0.7777777777777778, \"#fb9f3a\"], [0.8888888888888888, \"#fdca26\"], [1.0, \"#f0f921\"]], \"sequentialminus\": [[0.0, \"#0d0887\"], [0.1111111111111111, \"#46039f\"], [0.2222222222222222, \"#7201a8\"], [0.3333333333333333, \"#9c179e\"], [0.4444444444444444, \"#bd3786\"], [0.5555555555555556, \"#d8576b\"], [0.6666666666666666, \"#ed7953\"], [0.7777777777777778, \"#fb9f3a\"], [0.8888888888888888, \"#fdca26\"], [1.0, \"#f0f921\"]]}, \"colorway\": [\"#636efa\", \"#EF553B\", \"#00cc96\", \"#ab63fa\", \"#FFA15A\", \"#19d3f3\", \"#FF6692\", \"#B6E880\", \"#FF97FF\", \"#FECB52\"], \"font\": {\"color\": \"#2a3f5f\"}, \"geo\": {\"bgcolor\": \"white\", \"lakecolor\": \"white\", \"landcolor\": \"#E5ECF6\", \"showlakes\": true, \"showland\": true, \"subunitcolor\": \"white\"}, \"hoverlabel\": {\"align\": \"left\"}, \"hovermode\": \"closest\", \"mapbox\": {\"style\": \"light\"}, \"paper_bgcolor\": \"white\", \"plot_bgcolor\": \"#E5ECF6\", \"polar\": {\"angularaxis\": {\"gridcolor\": \"white\", \"linecolor\": \"white\", \"ticks\": \"\"}, \"bgcolor\": \"#E5ECF6\", \"radialaxis\": {\"gridcolor\": \"white\", \"linecolor\": \"white\", \"ticks\": \"\"}}, \"scene\": {\"xaxis\": {\"backgroundcolor\": \"#E5ECF6\", \"gridcolor\": \"white\", \"gridwidth\": 2, \"linecolor\": \"white\", \"showbackground\": true, \"ticks\": \"\", \"zerolinecolor\": \"white\"}, \"yaxis\": {\"backgroundcolor\": \"#E5ECF6\", \"gridcolor\": \"white\", \"gridwidth\": 2, \"linecolor\": \"white\", \"showbackground\": true, \"ticks\": \"\", \"zerolinecolor\": \"white\"}, \"zaxis\": {\"backgroundcolor\": \"#E5ECF6\", \"gridcolor\": \"white\", \"gridwidth\": 2, \"linecolor\": \"white\", \"showbackground\": true, \"ticks\": \"\", \"zerolinecolor\": \"white\"}}, \"shapedefaults\": {\"line\": {\"color\": \"#2a3f5f\"}}, \"ternary\": {\"aaxis\": {\"gridcolor\": \"white\", \"linecolor\": \"white\", \"ticks\": \"\"}, \"baxis\": {\"gridcolor\": \"white\", \"linecolor\": \"white\", \"ticks\": \"\"}, \"bgcolor\": \"#E5ECF6\", \"caxis\": {\"gridcolor\": \"white\", \"linecolor\": \"white\", \"ticks\": \"\"}}, \"title\": {\"x\": 0.05}, \"xaxis\": {\"automargin\": true, \"gridcolor\": \"white\", \"linecolor\": \"white\", \"ticks\": \"\", \"title\": {\"standoff\": 15}, \"zerolinecolor\": \"white\", \"zerolinewidth\": 2}, \"yaxis\": {\"automargin\": true, \"gridcolor\": \"white\", \"linecolor\": \"white\", \"ticks\": \"\", \"title\": {\"standoff\": 15}, \"zerolinecolor\": \"white\", \"zerolinewidth\": 2}}}, \"title\": {\"text\": \"% Change in People who are 25 or over and hold a Bachelor Degree or Higher 2006-2016\"}, \"xaxis\": {\"anchor\": \"y\", \"domain\": [0.0, 1.0], \"title\": {\"text\": \"SA2 Name\"}}, \"yaxis\": {\"anchor\": \"x\", \"domain\": [0.0, 1.0], \"title\": {\"text\": \"Bacherlor%2006-2016\"}}},                        {\"responsive\": true}                    ).then(function(){\n",
       "                            \n",
       "var gd = document.getElementById('caf7e657-7f3a-46f9-8b96-3c9587200b23');\n",
       "var x = new MutationObserver(function (mutations, observer) {{\n",
       "        var display = window.getComputedStyle(gd).display;\n",
       "        if (!display || display === 'none') {{\n",
       "            console.log([gd, 'removed!']);\n",
       "            Plotly.purge(gd);\n",
       "            observer.disconnect();\n",
       "        }}\n",
       "}});\n",
       "\n",
       "// Listen for the removal of the full notebook cells\n",
       "var notebookContainer = gd.closest('#notebook-container');\n",
       "if (notebookContainer) {{\n",
       "    x.observe(notebookContainer, {childList: true});\n",
       "}}\n",
       "\n",
       "// Listen for the clearing of the current output cell\n",
       "var outputEl = gd.closest('.output');\n",
       "if (outputEl) {{\n",
       "    x.observe(outputEl, {childList: true});\n",
       "}}\n",
       "\n",
       "                        })                };                });            </script>        </div>"
      ]
     },
     "metadata": {},
     "output_type": "display_data"
    }
   ],
   "source": [
    "#bachelor\n",
    "fig_bachelor = px.bar(df, x='SA2 Name', y='Bacherlor%2006-2016', title='% Change in People who are 25 or over and hold a Bachelor Degree or Higher 2006-2016')\n",
    "fig_bachelor.show()"
   ]
  },
  {
   "cell_type": "code",
   "execution_count": 39,
   "metadata": {},
   "outputs": [
    {
     "data": {
      "application/vnd.plotly.v1+json": {
       "config": {
        "plotlyServerURL": "https://plotly.com"
       },
       "data": [
        {
         "alignmentgroup": "True",
         "hovertemplate": "variable=2006 Bachelor 25 and over<br>SA2 Name=%{x}<br>value=%{y}<extra></extra>",
         "legendgroup": "2006 Bachelor 25 and over",
         "marker": {
          "color": "#636efa"
         },
         "name": "2006 Bachelor 25 and over",
         "offsetgroup": "2006 Bachelor 25 and over",
         "orientation": "v",
         "showlegend": true,
         "textposition": "auto",
         "type": "bar",
         "x": [
          "Kings Park (WA)",
          "North Coogee",
          "Innaloo - Doubleview",
          "Fremantle",
          "Manning - Waterford",
          "Swanbourne - Mount Claremont",
          "Fremantle - South",
          "Helena Valley - Koongamia",
          "Bentley - Wilson - St James",
          "Coolbellup",
          "Nedlands - Dalkeith - Crawley",
          "Mosman Park - Peppermint Grove",
          "Claremont (WA)",
          "Lesmurdie - Bickley - Carmel",
          "Neerabup National Park",
          "Rivervale - Kewdale - Cloverdale",
          "East Victoria Park - Carlisle",
          "Belmont - Ascot - Redcliffe",
          "Bayswater - Embleton - Bedford",
          "Yokine - Coolbinia - Menora",
          "Dianella",
          "Wanneroo",
          "Mundijong",
          "Glen Forrest - Darlington",
          "Noranda",
          "Mundaring",
          "Roleystone",
          "Huntingdale - Southern River",
          "Forrestfield - Wattle Grove",
          "High Wycombe",
          "Chidlow",
          "Riverton - Shelley - Rossmoyne",
          "Trigg - North Beach - Watermans Bay",
          "Bicton - Palmyra",
          "Booragoon",
          "Morley",
          "East Fremantle",
          "Casuarina - Wandi",
          "Mindarie - Quinns Rocks - Jindalee",
          "Spearwood",
          "Byford",
          "Wembley - West Leederville - Glendalough",
          "Nollamara - Westminster",
          "Maddington - Orange Grove - Martin",
          "Lockridge - Kiara",
          "Bassendean - Eden Hill - Ashfield",
          "Beechboro",
          "Hamilton Hill",
          "Mount Lawley - Inglewood",
          "Cannington - Queens Park",
          "Marangaroo",
          "Mount Nasura - Mount Richon - Bedfordale",
          "Waikiki",
          "Falcon - Wannanup",
          "Mandurah - East",
          "Swan View - Greenmount - Midvale",
          "Maylands",
          "Tuart Hill - Joondanna",
          "Alkimos - Eglinton",
          "Beckenham - Kenwick - Langford",
          "Coogee",
          "Stirling - Osborne Park",
          "Carramar",
          "Hazelmere - Guildford",
          "Gosnells",
          "Yangebup",
          "Craigie - Beldon",
          "Alexander Heights - Koondoola",
          "South Lake - Cockburn Central",
          "Parmelia - Orelia",
          "Safety Bay - Shoalwater",
          "Ballajura",
          "Camillo - Champion Lakes",
          "Kelmscott",
          "Bullsbrook",
          "Warnbro",
          "Stratton - Jane Brook",
          "Malmalling - Reservoir",
          "Serpentine - Jarrahdale",
          "Balcatta - Hamersley",
          "Thornlie",
          "Port Kennedy",
          "Kalamunda - Maida Vale - Gooseberry Hill",
          "Butler - Merriwa - Ridgewood",
          "Forrestdale - Harrisdale - Piara Waters",
          "Victoria Park - Lathlain - Burswood",
          "Gidgegannup",
          "Seville Grove",
          "Como",
          "Wembley Downs - Churchlands - Woodlands",
          "Willetton",
          "Scarborough",
          "Mount Hawthorn - Leederville",
          "South Perth - Kensington",
          "Melville",
          "Subiaco - Shenton Park",
          "Karrinyup - Gwelup - Carine",
          "Padbury",
          "Greenwood - Warwick",
          "Kingsley",
          "Hillarys",
          "Joondalup - Edgewater",
          "Leeming",
          "The Vines",
          "City Beach",
          "Murdoch - Kardinya",
          "Pinjarra",
          "Floreat",
          "Balga - Mirrabooka",
          "Midland - Guildford",
          "Parkwood - Ferndale - Lynwood",
          "Kwinana Industrial",
          "Perth City",
          "Middle Swan - Herne Hill",
          "North Perth",
          "Success - Hammond Park",
          "Banjup",
          "Madeley - Darch - Landsdale",
          "Girrawheen",
          "Mullaloo - Kallaroo",
          "Bateman",
          "Ellenbrook",
          "Armadale - Wungong - Brookdale",
          "Woodvale",
          "Currambine - Kinross",
          "Cooloongup",
          "Mandurah - North",
          "Clarkson",
          "Heathridge - Connolly",
          "Bertram - Wellard (West)",
          "Duncraig",
          "Sorrento - Marmion",
          "Singleton - Golden Bay - Secret Harbour",
          "Bull Creek",
          "Willagee",
          "Dawesville - Bouvard",
          "Applecross - Ardross",
          "Canning Vale - West",
          "Tapping - Ashby - Sinagra",
          "Ocean Reef",
          "Mandurah - South",
          "Yanchep",
          "Halls Head - Erskine",
          "Mandurah",
          "Greenfields",
          "Cottesloe",
          "Rockingham",
          "Calista",
          "Iluka - Burns Beach",
          "Beeliar - Wattleup",
          "Canning Vale - East",
          "Jandakot",
          "Two Rocks",
          "Winthrop",
          "Baldivis",
          "Carabooda - Pinjar",
          "Hope Valley - Postans",
          "Avon Valley National Park",
          "Malaga",
          "Melaleuca - Lexia",
          "Walyunga National Park",
          "Herdsman",
          "Osborne Park Industrial",
          "Ashendon - Lesley",
          "Kewdale Commercial",
          "Perth Airport",
          "Canning Vale Commercial",
          "Welshpool",
          "Bibra Lake",
          "Henderson",
          "O'Connor (WA)",
          "Rockingham Lakes",
          "Bibra Industrial"
         ],
         "xaxis": "x",
         "y": [
          3,
          0,
          2386,
          2865,
          2023,
          2018,
          2054,
          350,
          2147,
          643,
          5379,
          2391,
          1981,
          1434,
          0,
          1568,
          2208,
          1036,
          2666,
          2321,
          2946,
          1099,
          256,
          1302,
          905,
          1196,
          794,
          603,
          754,
          474,
          182,
          2218,
          1224,
          2032,
          2775,
          1441,
          1599,
          167,
          1073,
          433,
          212,
          3653,
          849,
          450,
          419,
          1402,
          739,
          768,
          3503,
          1048,
          509,
          604,
          416,
          374,
          215,
          723,
          1897,
          1609,
          0,
          964,
          453,
          1216,
          384,
          255,
          646,
          312,
          697,
          595,
          872,
          238,
          620,
          1184,
          174,
          580,
          196,
          460,
          319,
          0,
          260,
          1442,
          1410,
          529,
          1881,
          592,
          87,
          1974,
          239,
          182,
          2471,
          2858,
          2698,
          2348,
          2343,
          3667,
          2587,
          4459,
          3325,
          836,
          1511,
          1352,
          1511,
          1281,
          1806,
          431,
          1756,
          1673,
          181,
          1947,
          607,
          656,
          1322,
          14,
          4197,
          218,
          1709,
          564,
          828,
          962,
          289,
          1409,
          689,
          881,
          441,
          1024,
          1210,
          192,
          467,
          343,
          863,
          200,
          2521,
          1598,
          711,
          1408,
          503,
          241,
          2295,
          1124,
          402,
          999,
          308,
          150,
          893,
          290,
          325,
          2081,
          518,
          184,
          472,
          296,
          1412,
          364,
          87,
          1342,
          453,
          53,
          11,
          0,
          0,
          0,
          0,
          0,
          0,
          0,
          0,
          0,
          0,
          0,
          0,
          0,
          0,
          0,
          0
         ],
         "yaxis": "y"
        },
        {
         "alignmentgroup": "True",
         "hovertemplate": "variable=2011 Bachelor 25 and over<br>SA2 Name=%{x}<br>value=%{y}<extra></extra>",
         "legendgroup": "2011 Bachelor 25 and over",
         "marker": {
          "color": "#EF553B"
         },
         "name": "2011 Bachelor 25 and over",
         "offsetgroup": "2011 Bachelor 25 and over",
         "orientation": "v",
         "showlegend": true,
         "textposition": "auto",
         "type": "bar",
         "x": [
          "Kings Park (WA)",
          "North Coogee",
          "Innaloo - Doubleview",
          "Fremantle",
          "Manning - Waterford",
          "Swanbourne - Mount Claremont",
          "Fremantle - South",
          "Helena Valley - Koongamia",
          "Bentley - Wilson - St James",
          "Coolbellup",
          "Nedlands - Dalkeith - Crawley",
          "Mosman Park - Peppermint Grove",
          "Claremont (WA)",
          "Lesmurdie - Bickley - Carmel",
          "Neerabup National Park",
          "Rivervale - Kewdale - Cloverdale",
          "East Victoria Park - Carlisle",
          "Belmont - Ascot - Redcliffe",
          "Bayswater - Embleton - Bedford",
          "Yokine - Coolbinia - Menora",
          "Dianella",
          "Wanneroo",
          "Mundijong",
          "Glen Forrest - Darlington",
          "Noranda",
          "Mundaring",
          "Roleystone",
          "Huntingdale - Southern River",
          "Forrestfield - Wattle Grove",
          "High Wycombe",
          "Chidlow",
          "Riverton - Shelley - Rossmoyne",
          "Trigg - North Beach - Watermans Bay",
          "Bicton - Palmyra",
          "Booragoon",
          "Morley",
          "East Fremantle",
          "Casuarina - Wandi",
          "Mindarie - Quinns Rocks - Jindalee",
          "Spearwood",
          "Byford",
          "Wembley - West Leederville - Glendalough",
          "Nollamara - Westminster",
          "Maddington - Orange Grove - Martin",
          "Lockridge - Kiara",
          "Bassendean - Eden Hill - Ashfield",
          "Beechboro",
          "Hamilton Hill",
          "Mount Lawley - Inglewood",
          "Cannington - Queens Park",
          "Marangaroo",
          "Mount Nasura - Mount Richon - Bedfordale",
          "Waikiki",
          "Falcon - Wannanup",
          "Mandurah - East",
          "Swan View - Greenmount - Midvale",
          "Maylands",
          "Tuart Hill - Joondanna",
          "Alkimos - Eglinton",
          "Beckenham - Kenwick - Langford",
          "Coogee",
          "Stirling - Osborne Park",
          "Carramar",
          "Hazelmere - Guildford",
          "Gosnells",
          "Yangebup",
          "Craigie - Beldon",
          "Alexander Heights - Koondoola",
          "South Lake - Cockburn Central",
          "Parmelia - Orelia",
          "Safety Bay - Shoalwater",
          "Ballajura",
          "Camillo - Champion Lakes",
          "Kelmscott",
          "Bullsbrook",
          "Warnbro",
          "Stratton - Jane Brook",
          "Malmalling - Reservoir",
          "Serpentine - Jarrahdale",
          "Balcatta - Hamersley",
          "Thornlie",
          "Port Kennedy",
          "Kalamunda - Maida Vale - Gooseberry Hill",
          "Butler - Merriwa - Ridgewood",
          "Forrestdale - Harrisdale - Piara Waters",
          "Victoria Park - Lathlain - Burswood",
          "Gidgegannup",
          "Seville Grove",
          "Como",
          "Wembley Downs - Churchlands - Woodlands",
          "Willetton",
          "Scarborough",
          "Mount Hawthorn - Leederville",
          "South Perth - Kensington",
          "Melville",
          "Subiaco - Shenton Park",
          "Karrinyup - Gwelup - Carine",
          "Padbury",
          "Greenwood - Warwick",
          "Kingsley",
          "Hillarys",
          "Joondalup - Edgewater",
          "Leeming",
          "The Vines",
          "City Beach",
          "Murdoch - Kardinya",
          "Pinjarra",
          "Floreat",
          "Balga - Mirrabooka",
          "Midland - Guildford",
          "Parkwood - Ferndale - Lynwood",
          "Kwinana Industrial",
          "Perth City",
          "Middle Swan - Herne Hill",
          "North Perth",
          "Success - Hammond Park",
          "Banjup",
          "Madeley - Darch - Landsdale",
          "Girrawheen",
          "Mullaloo - Kallaroo",
          "Bateman",
          "Ellenbrook",
          "Armadale - Wungong - Brookdale",
          "Woodvale",
          "Currambine - Kinross",
          "Cooloongup",
          "Mandurah - North",
          "Clarkson",
          "Heathridge - Connolly",
          "Bertram - Wellard (West)",
          "Duncraig",
          "Sorrento - Marmion",
          "Singleton - Golden Bay - Secret Harbour",
          "Bull Creek",
          "Willagee",
          "Dawesville - Bouvard",
          "Applecross - Ardross",
          "Canning Vale - West",
          "Tapping - Ashby - Sinagra",
          "Ocean Reef",
          "Mandurah - South",
          "Yanchep",
          "Halls Head - Erskine",
          "Mandurah",
          "Greenfields",
          "Cottesloe",
          "Rockingham",
          "Calista",
          "Iluka - Burns Beach",
          "Beeliar - Wattleup",
          "Canning Vale - East",
          "Jandakot",
          "Two Rocks",
          "Winthrop",
          "Baldivis",
          "Carabooda - Pinjar",
          "Hope Valley - Postans",
          "Avon Valley National Park",
          "Malaga",
          "Melaleuca - Lexia",
          "Walyunga National Park",
          "Herdsman",
          "Osborne Park Industrial",
          "Ashendon - Lesley",
          "Kewdale Commercial",
          "Perth Airport",
          "Canning Vale Commercial",
          "Welshpool",
          "Bibra Lake",
          "Henderson",
          "O'Connor (WA)",
          "Rockingham Lakes",
          "Bibra Industrial"
         ],
         "xaxis": "x",
         "y": [
          6,
          140,
          3255,
          3648,
          2438,
          2441,
          2656,
          461,
          3284,
          998,
          6243,
          2921,
          2433,
          1579,
          0,
          2852,
          3219,
          1673,
          3844,
          3125,
          3817,
          2048,
          385,
          1446,
          1063,
          1461,
          952,
          1244,
          1223,
          746,
          206,
          2863,
          1520,
          2761,
          3467,
          2180,
          1889,
          190,
          1663,
          670,
          477,
          4996,
          2051,
          777,
          621,
          1925,
          980,
          1220,
          4493,
          2443,
          719,
          723,
          612,
          548,
          243,
          885,
          2954,
          2351,
          6,
          1606,
          673,
          2350,
          927,
          354,
          1005,
          537,
          998,
          788,
          1278,
          435,
          915,
          1450,
          233,
          771,
          247,
          563,
          403,
          0,
          296,
          2020,
          2015,
          688,
          2165,
          1245,
          1083,
          3298,
          291,
          435,
          3553,
          3547,
          3657,
          3273,
          2984,
          4735,
          3260,
          5474,
          4145,
          1147,
          1984,
          1814,
          1911,
          1781,
          2220,
          655,
          1988,
          2188,
          357,
          2276,
          1072,
          1029,
          1873,
          0,
          8035,
          304,
          2260,
          1571,
          2085,
          2208,
          425,
          1710,
          882,
          1830,
          691,
          1218,
          1558,
          301,
          950,
          958,
          1121,
          740,
          3107,
          1936,
          1304,
          1727,
          668,
          381,
          2889,
          1564,
          1228,
          1132,
          503,
          297,
          1285,
          487,
          407,
          2531,
          925,
          349,
          930,
          664,
          3062,
          412,
          109,
          1527,
          1293,
          42,
          0,
          0,
          0,
          0,
          0,
          0,
          0,
          0,
          0,
          0,
          0,
          0,
          0,
          0,
          0,
          0,
          0
         ],
         "yaxis": "y"
        },
        {
         "alignmentgroup": "True",
         "hovertemplate": "variable=2016 Bachelor 25 and over<br>SA2 Name=%{x}<br>value=%{y}<extra></extra>",
         "legendgroup": "2016 Bachelor 25 and over",
         "marker": {
          "color": "#00cc96"
         },
         "name": "2016 Bachelor 25 and over",
         "offsetgroup": "2016 Bachelor 25 and over",
         "orientation": "v",
         "showlegend": true,
         "textposition": "auto",
         "type": "bar",
         "x": [
          "Kings Park (WA)",
          "North Coogee",
          "Innaloo - Doubleview",
          "Fremantle",
          "Manning - Waterford",
          "Swanbourne - Mount Claremont",
          "Fremantle - South",
          "Helena Valley - Koongamia",
          "Bentley - Wilson - St James",
          "Coolbellup",
          "Nedlands - Dalkeith - Crawley",
          "Mosman Park - Peppermint Grove",
          "Claremont (WA)",
          "Lesmurdie - Bickley - Carmel",
          "Neerabup National Park",
          "Rivervale - Kewdale - Cloverdale",
          "East Victoria Park - Carlisle",
          "Belmont - Ascot - Redcliffe",
          "Bayswater - Embleton - Bedford",
          "Yokine - Coolbinia - Menora",
          "Dianella",
          "Wanneroo",
          "Mundijong",
          "Glen Forrest - Darlington",
          "Noranda",
          "Mundaring",
          "Roleystone",
          "Huntingdale - Southern River",
          "Forrestfield - Wattle Grove",
          "High Wycombe",
          "Chidlow",
          "Riverton - Shelley - Rossmoyne",
          "Trigg - North Beach - Watermans Bay",
          "Bicton - Palmyra",
          "Booragoon",
          "Morley",
          "East Fremantle",
          "Casuarina - Wandi",
          "Mindarie - Quinns Rocks - Jindalee",
          "Spearwood",
          "Byford",
          "Wembley - West Leederville - Glendalough",
          "Nollamara - Westminster",
          "Maddington - Orange Grove - Martin",
          "Lockridge - Kiara",
          "Bassendean - Eden Hill - Ashfield",
          "Beechboro",
          "Hamilton Hill",
          "Mount Lawley - Inglewood",
          "Cannington - Queens Park",
          "Marangaroo",
          "Mount Nasura - Mount Richon - Bedfordale",
          "Waikiki",
          "Falcon - Wannanup",
          "Mandurah - East",
          "Swan View - Greenmount - Midvale",
          "Maylands",
          "Tuart Hill - Joondanna",
          "Alkimos - Eglinton",
          "Beckenham - Kenwick - Langford",
          "Coogee",
          "Stirling - Osborne Park",
          "Carramar",
          "Hazelmere - Guildford",
          "Gosnells",
          "Yangebup",
          "Craigie - Beldon",
          "Alexander Heights - Koondoola",
          "South Lake - Cockburn Central",
          "Parmelia - Orelia",
          "Safety Bay - Shoalwater",
          "Ballajura",
          "Camillo - Champion Lakes",
          "Kelmscott",
          "Bullsbrook",
          "Warnbro",
          "Stratton - Jane Brook",
          "Malmalling - Reservoir",
          "Serpentine - Jarrahdale",
          "Balcatta - Hamersley",
          "Thornlie",
          "Port Kennedy",
          "Kalamunda - Maida Vale - Gooseberry Hill",
          "Butler - Merriwa - Ridgewood",
          "Forrestdale - Harrisdale - Piara Waters",
          "Victoria Park - Lathlain - Burswood",
          "Gidgegannup",
          "Seville Grove",
          "Como",
          "Wembley Downs - Churchlands - Woodlands",
          "Willetton",
          "Scarborough",
          "Mount Hawthorn - Leederville",
          "South Perth - Kensington",
          "Melville",
          "Subiaco - Shenton Park",
          "Karrinyup - Gwelup - Carine",
          "Padbury",
          "Greenwood - Warwick",
          "Kingsley",
          "Hillarys",
          "Joondalup - Edgewater",
          "Leeming",
          "The Vines",
          "City Beach",
          "Murdoch - Kardinya",
          "Pinjarra",
          "Floreat",
          "Balga - Mirrabooka",
          "Midland - Guildford",
          "Parkwood - Ferndale - Lynwood",
          "Kwinana Industrial",
          "Perth City",
          "Middle Swan - Herne Hill",
          "North Perth",
          "Success - Hammond Park",
          "Banjup",
          "Madeley - Darch - Landsdale",
          "Girrawheen",
          "Mullaloo - Kallaroo",
          "Bateman",
          "Ellenbrook",
          "Armadale - Wungong - Brookdale",
          "Woodvale",
          "Currambine - Kinross",
          "Cooloongup",
          "Mandurah - North",
          "Clarkson",
          "Heathridge - Connolly",
          "Bertram - Wellard (West)",
          "Duncraig",
          "Sorrento - Marmion",
          "Singleton - Golden Bay - Secret Harbour",
          "Bull Creek",
          "Willagee",
          "Dawesville - Bouvard",
          "Applecross - Ardross",
          "Canning Vale - West",
          "Tapping - Ashby - Sinagra",
          "Ocean Reef",
          "Mandurah - South",
          "Yanchep",
          "Halls Head - Erskine",
          "Mandurah",
          "Greenfields",
          "Cottesloe",
          "Rockingham",
          "Calista",
          "Iluka - Burns Beach",
          "Beeliar - Wattleup",
          "Canning Vale - East",
          "Jandakot",
          "Two Rocks",
          "Winthrop",
          "Baldivis",
          "Carabooda - Pinjar",
          "Hope Valley - Postans",
          "Avon Valley National Park",
          "Malaga",
          "Melaleuca - Lexia",
          "Walyunga National Park",
          "Herdsman",
          "Osborne Park Industrial",
          "Ashendon - Lesley",
          "Kewdale Commercial",
          "Perth Airport",
          "Canning Vale Commercial",
          "Welshpool",
          "Bibra Lake",
          "Henderson",
          "O'Connor (WA)",
          "Rockingham Lakes",
          "Bibra Industrial"
         ],
         "xaxis": "x",
         "y": [
          3,
          563,
          4304,
          4493,
          2918,
          2955,
          3459,
          633,
          4166,
          1272,
          7058,
          3415,
          2874,
          1823,
          0,
          4363,
          4135,
          2133,
          4991,
          3763,
          4642,
          2953,
          511,
          1666,
          1219,
          1710,
          1059,
          2666,
          2087,
          992,
          247,
          3547,
          1923,
          3335,
          4185,
          3186,
          2247,
          784,
          2265,
          1019,
          1304,
          5935,
          3234,
          1214,
          1244,
          2635,
          1812,
          1591,
          5119,
          3863,
          906,
          891,
          869,
          789,
          345,
          1070,
          3683,
          3093,
          883,
          2553,
          1043,
          2962,
          1825,
          575,
          1532,
          779,
          1239,
          952,
          1712,
          630,
          1082,
          1727,
          410,
          1026,
          318,
          685,
          504,
          0,
          339,
          2519,
          2775,
          842,
          2517,
          1739,
          4029,
          3942,
          334,
          707,
          4292,
          4346,
          4413,
          4223,
          3543,
          5324,
          3859,
          6439,
          4969,
          1353,
          2311,
          2197,
          2275,
          2320,
          2488,
          1232,
          2201,
          2673,
          496,
          2822,
          1945,
          1318,
          2435,
          0,
          10892,
          437,
          2729,
          2649,
          3080,
          3715,
          626,
          2053,
          1048,
          3629,
          1240,
          1544,
          1924,
          391,
          1623,
          1488,
          1384,
          2170,
          3570,
          2249,
          1812,
          2098,
          819,
          594,
          3451,
          1955,
          1624,
          1378,
          640,
          646,
          1718,
          794,
          548,
          2897,
          1120,
          489,
          1553,
          1101,
          4360,
          443,
          189,
          1699,
          2877,
          62,
          3,
          0,
          0,
          0,
          0,
          0,
          0,
          0,
          0,
          0,
          0,
          0,
          0,
          0,
          0,
          0,
          0
         ],
         "yaxis": "y"
        }
       ],
       "layout": {
        "barmode": "relative",
        "legend": {
         "title": {
          "text": "variable"
         },
         "tracegroupgap": 0
        },
        "template": {
         "data": {
          "bar": [
           {
            "error_x": {
             "color": "#2a3f5f"
            },
            "error_y": {
             "color": "#2a3f5f"
            },
            "marker": {
             "line": {
              "color": "#E5ECF6",
              "width": 0.5
             }
            },
            "type": "bar"
           }
          ],
          "barpolar": [
           {
            "marker": {
             "line": {
              "color": "#E5ECF6",
              "width": 0.5
             }
            },
            "type": "barpolar"
           }
          ],
          "carpet": [
           {
            "aaxis": {
             "endlinecolor": "#2a3f5f",
             "gridcolor": "white",
             "linecolor": "white",
             "minorgridcolor": "white",
             "startlinecolor": "#2a3f5f"
            },
            "baxis": {
             "endlinecolor": "#2a3f5f",
             "gridcolor": "white",
             "linecolor": "white",
             "minorgridcolor": "white",
             "startlinecolor": "#2a3f5f"
            },
            "type": "carpet"
           }
          ],
          "choropleth": [
           {
            "colorbar": {
             "outlinewidth": 0,
             "ticks": ""
            },
            "type": "choropleth"
           }
          ],
          "contour": [
           {
            "colorbar": {
             "outlinewidth": 0,
             "ticks": ""
            },
            "colorscale": [
             [
              0,
              "#0d0887"
             ],
             [
              0.1111111111111111,
              "#46039f"
             ],
             [
              0.2222222222222222,
              "#7201a8"
             ],
             [
              0.3333333333333333,
              "#9c179e"
             ],
             [
              0.4444444444444444,
              "#bd3786"
             ],
             [
              0.5555555555555556,
              "#d8576b"
             ],
             [
              0.6666666666666666,
              "#ed7953"
             ],
             [
              0.7777777777777778,
              "#fb9f3a"
             ],
             [
              0.8888888888888888,
              "#fdca26"
             ],
             [
              1,
              "#f0f921"
             ]
            ],
            "type": "contour"
           }
          ],
          "contourcarpet": [
           {
            "colorbar": {
             "outlinewidth": 0,
             "ticks": ""
            },
            "type": "contourcarpet"
           }
          ],
          "heatmap": [
           {
            "colorbar": {
             "outlinewidth": 0,
             "ticks": ""
            },
            "colorscale": [
             [
              0,
              "#0d0887"
             ],
             [
              0.1111111111111111,
              "#46039f"
             ],
             [
              0.2222222222222222,
              "#7201a8"
             ],
             [
              0.3333333333333333,
              "#9c179e"
             ],
             [
              0.4444444444444444,
              "#bd3786"
             ],
             [
              0.5555555555555556,
              "#d8576b"
             ],
             [
              0.6666666666666666,
              "#ed7953"
             ],
             [
              0.7777777777777778,
              "#fb9f3a"
             ],
             [
              0.8888888888888888,
              "#fdca26"
             ],
             [
              1,
              "#f0f921"
             ]
            ],
            "type": "heatmap"
           }
          ],
          "heatmapgl": [
           {
            "colorbar": {
             "outlinewidth": 0,
             "ticks": ""
            },
            "colorscale": [
             [
              0,
              "#0d0887"
             ],
             [
              0.1111111111111111,
              "#46039f"
             ],
             [
              0.2222222222222222,
              "#7201a8"
             ],
             [
              0.3333333333333333,
              "#9c179e"
             ],
             [
              0.4444444444444444,
              "#bd3786"
             ],
             [
              0.5555555555555556,
              "#d8576b"
             ],
             [
              0.6666666666666666,
              "#ed7953"
             ],
             [
              0.7777777777777778,
              "#fb9f3a"
             ],
             [
              0.8888888888888888,
              "#fdca26"
             ],
             [
              1,
              "#f0f921"
             ]
            ],
            "type": "heatmapgl"
           }
          ],
          "histogram": [
           {
            "marker": {
             "colorbar": {
              "outlinewidth": 0,
              "ticks": ""
             }
            },
            "type": "histogram"
           }
          ],
          "histogram2d": [
           {
            "colorbar": {
             "outlinewidth": 0,
             "ticks": ""
            },
            "colorscale": [
             [
              0,
              "#0d0887"
             ],
             [
              0.1111111111111111,
              "#46039f"
             ],
             [
              0.2222222222222222,
              "#7201a8"
             ],
             [
              0.3333333333333333,
              "#9c179e"
             ],
             [
              0.4444444444444444,
              "#bd3786"
             ],
             [
              0.5555555555555556,
              "#d8576b"
             ],
             [
              0.6666666666666666,
              "#ed7953"
             ],
             [
              0.7777777777777778,
              "#fb9f3a"
             ],
             [
              0.8888888888888888,
              "#fdca26"
             ],
             [
              1,
              "#f0f921"
             ]
            ],
            "type": "histogram2d"
           }
          ],
          "histogram2dcontour": [
           {
            "colorbar": {
             "outlinewidth": 0,
             "ticks": ""
            },
            "colorscale": [
             [
              0,
              "#0d0887"
             ],
             [
              0.1111111111111111,
              "#46039f"
             ],
             [
              0.2222222222222222,
              "#7201a8"
             ],
             [
              0.3333333333333333,
              "#9c179e"
             ],
             [
              0.4444444444444444,
              "#bd3786"
             ],
             [
              0.5555555555555556,
              "#d8576b"
             ],
             [
              0.6666666666666666,
              "#ed7953"
             ],
             [
              0.7777777777777778,
              "#fb9f3a"
             ],
             [
              0.8888888888888888,
              "#fdca26"
             ],
             [
              1,
              "#f0f921"
             ]
            ],
            "type": "histogram2dcontour"
           }
          ],
          "mesh3d": [
           {
            "colorbar": {
             "outlinewidth": 0,
             "ticks": ""
            },
            "type": "mesh3d"
           }
          ],
          "parcoords": [
           {
            "line": {
             "colorbar": {
              "outlinewidth": 0,
              "ticks": ""
             }
            },
            "type": "parcoords"
           }
          ],
          "pie": [
           {
            "automargin": true,
            "type": "pie"
           }
          ],
          "scatter": [
           {
            "marker": {
             "colorbar": {
              "outlinewidth": 0,
              "ticks": ""
             }
            },
            "type": "scatter"
           }
          ],
          "scatter3d": [
           {
            "line": {
             "colorbar": {
              "outlinewidth": 0,
              "ticks": ""
             }
            },
            "marker": {
             "colorbar": {
              "outlinewidth": 0,
              "ticks": ""
             }
            },
            "type": "scatter3d"
           }
          ],
          "scattercarpet": [
           {
            "marker": {
             "colorbar": {
              "outlinewidth": 0,
              "ticks": ""
             }
            },
            "type": "scattercarpet"
           }
          ],
          "scattergeo": [
           {
            "marker": {
             "colorbar": {
              "outlinewidth": 0,
              "ticks": ""
             }
            },
            "type": "scattergeo"
           }
          ],
          "scattergl": [
           {
            "marker": {
             "colorbar": {
              "outlinewidth": 0,
              "ticks": ""
             }
            },
            "type": "scattergl"
           }
          ],
          "scattermapbox": [
           {
            "marker": {
             "colorbar": {
              "outlinewidth": 0,
              "ticks": ""
             }
            },
            "type": "scattermapbox"
           }
          ],
          "scatterpolar": [
           {
            "marker": {
             "colorbar": {
              "outlinewidth": 0,
              "ticks": ""
             }
            },
            "type": "scatterpolar"
           }
          ],
          "scatterpolargl": [
           {
            "marker": {
             "colorbar": {
              "outlinewidth": 0,
              "ticks": ""
             }
            },
            "type": "scatterpolargl"
           }
          ],
          "scatterternary": [
           {
            "marker": {
             "colorbar": {
              "outlinewidth": 0,
              "ticks": ""
             }
            },
            "type": "scatterternary"
           }
          ],
          "surface": [
           {
            "colorbar": {
             "outlinewidth": 0,
             "ticks": ""
            },
            "colorscale": [
             [
              0,
              "#0d0887"
             ],
             [
              0.1111111111111111,
              "#46039f"
             ],
             [
              0.2222222222222222,
              "#7201a8"
             ],
             [
              0.3333333333333333,
              "#9c179e"
             ],
             [
              0.4444444444444444,
              "#bd3786"
             ],
             [
              0.5555555555555556,
              "#d8576b"
             ],
             [
              0.6666666666666666,
              "#ed7953"
             ],
             [
              0.7777777777777778,
              "#fb9f3a"
             ],
             [
              0.8888888888888888,
              "#fdca26"
             ],
             [
              1,
              "#f0f921"
             ]
            ],
            "type": "surface"
           }
          ],
          "table": [
           {
            "cells": {
             "fill": {
              "color": "#EBF0F8"
             },
             "line": {
              "color": "white"
             }
            },
            "header": {
             "fill": {
              "color": "#C8D4E3"
             },
             "line": {
              "color": "white"
             }
            },
            "type": "table"
           }
          ]
         },
         "layout": {
          "annotationdefaults": {
           "arrowcolor": "#2a3f5f",
           "arrowhead": 0,
           "arrowwidth": 1
          },
          "coloraxis": {
           "colorbar": {
            "outlinewidth": 0,
            "ticks": ""
           }
          },
          "colorscale": {
           "diverging": [
            [
             0,
             "#8e0152"
            ],
            [
             0.1,
             "#c51b7d"
            ],
            [
             0.2,
             "#de77ae"
            ],
            [
             0.3,
             "#f1b6da"
            ],
            [
             0.4,
             "#fde0ef"
            ],
            [
             0.5,
             "#f7f7f7"
            ],
            [
             0.6,
             "#e6f5d0"
            ],
            [
             0.7,
             "#b8e186"
            ],
            [
             0.8,
             "#7fbc41"
            ],
            [
             0.9,
             "#4d9221"
            ],
            [
             1,
             "#276419"
            ]
           ],
           "sequential": [
            [
             0,
             "#0d0887"
            ],
            [
             0.1111111111111111,
             "#46039f"
            ],
            [
             0.2222222222222222,
             "#7201a8"
            ],
            [
             0.3333333333333333,
             "#9c179e"
            ],
            [
             0.4444444444444444,
             "#bd3786"
            ],
            [
             0.5555555555555556,
             "#d8576b"
            ],
            [
             0.6666666666666666,
             "#ed7953"
            ],
            [
             0.7777777777777778,
             "#fb9f3a"
            ],
            [
             0.8888888888888888,
             "#fdca26"
            ],
            [
             1,
             "#f0f921"
            ]
           ],
           "sequentialminus": [
            [
             0,
             "#0d0887"
            ],
            [
             0.1111111111111111,
             "#46039f"
            ],
            [
             0.2222222222222222,
             "#7201a8"
            ],
            [
             0.3333333333333333,
             "#9c179e"
            ],
            [
             0.4444444444444444,
             "#bd3786"
            ],
            [
             0.5555555555555556,
             "#d8576b"
            ],
            [
             0.6666666666666666,
             "#ed7953"
            ],
            [
             0.7777777777777778,
             "#fb9f3a"
            ],
            [
             0.8888888888888888,
             "#fdca26"
            ],
            [
             1,
             "#f0f921"
            ]
           ]
          },
          "colorway": [
           "#636efa",
           "#EF553B",
           "#00cc96",
           "#ab63fa",
           "#FFA15A",
           "#19d3f3",
           "#FF6692",
           "#B6E880",
           "#FF97FF",
           "#FECB52"
          ],
          "font": {
           "color": "#2a3f5f"
          },
          "geo": {
           "bgcolor": "white",
           "lakecolor": "white",
           "landcolor": "#E5ECF6",
           "showlakes": true,
           "showland": true,
           "subunitcolor": "white"
          },
          "hoverlabel": {
           "align": "left"
          },
          "hovermode": "closest",
          "mapbox": {
           "style": "light"
          },
          "paper_bgcolor": "white",
          "plot_bgcolor": "#E5ECF6",
          "polar": {
           "angularaxis": {
            "gridcolor": "white",
            "linecolor": "white",
            "ticks": ""
           },
           "bgcolor": "#E5ECF6",
           "radialaxis": {
            "gridcolor": "white",
            "linecolor": "white",
            "ticks": ""
           }
          },
          "scene": {
           "xaxis": {
            "backgroundcolor": "#E5ECF6",
            "gridcolor": "white",
            "gridwidth": 2,
            "linecolor": "white",
            "showbackground": true,
            "ticks": "",
            "zerolinecolor": "white"
           },
           "yaxis": {
            "backgroundcolor": "#E5ECF6",
            "gridcolor": "white",
            "gridwidth": 2,
            "linecolor": "white",
            "showbackground": true,
            "ticks": "",
            "zerolinecolor": "white"
           },
           "zaxis": {
            "backgroundcolor": "#E5ECF6",
            "gridcolor": "white",
            "gridwidth": 2,
            "linecolor": "white",
            "showbackground": true,
            "ticks": "",
            "zerolinecolor": "white"
           }
          },
          "shapedefaults": {
           "line": {
            "color": "#2a3f5f"
           }
          },
          "ternary": {
           "aaxis": {
            "gridcolor": "white",
            "linecolor": "white",
            "ticks": ""
           },
           "baxis": {
            "gridcolor": "white",
            "linecolor": "white",
            "ticks": ""
           },
           "bgcolor": "#E5ECF6",
           "caxis": {
            "gridcolor": "white",
            "linecolor": "white",
            "ticks": ""
           }
          },
          "title": {
           "x": 0.05
          },
          "xaxis": {
           "automargin": true,
           "gridcolor": "white",
           "linecolor": "white",
           "ticks": "",
           "title": {
            "standoff": 15
           },
           "zerolinecolor": "white",
           "zerolinewidth": 2
          },
          "yaxis": {
           "automargin": true,
           "gridcolor": "white",
           "linecolor": "white",
           "ticks": "",
           "title": {
            "standoff": 15
           },
           "zerolinecolor": "white",
           "zerolinewidth": 2
          }
         }
        },
        "title": {
         "text": "Total People who are 25 or over and hold a Bachelor Degree of Census Year 2006,2011 and 2016"
        },
        "xaxis": {
         "anchor": "y",
         "domain": [
          0,
          1
         ],
         "title": {
          "text": "SA2 Name"
         }
        },
        "yaxis": {
         "anchor": "x",
         "domain": [
          0,
          1
         ],
         "title": {
          "text": "value"
         }
        }
       }
      },
      "text/html": [
       "<div>                            <div id=\"a9a1dfca-01ea-4a2e-8828-eb3a3b6f7ebe\" class=\"plotly-graph-div\" style=\"height:525px; width:100%;\"></div>            <script type=\"text/javascript\">                require([\"plotly\"], function(Plotly) {                    window.PLOTLYENV=window.PLOTLYENV || {};                                    if (document.getElementById(\"a9a1dfca-01ea-4a2e-8828-eb3a3b6f7ebe\")) {                    Plotly.newPlot(                        \"a9a1dfca-01ea-4a2e-8828-eb3a3b6f7ebe\",                        [{\"alignmentgroup\": \"True\", \"hovertemplate\": \"variable=2006 Bachelor 25 and over<br>SA2 Name=%{x}<br>value=%{y}<extra></extra>\", \"legendgroup\": \"2006 Bachelor 25 and over\", \"marker\": {\"color\": \"#636efa\"}, \"name\": \"2006 Bachelor 25 and over\", \"offsetgroup\": \"2006 Bachelor 25 and over\", \"orientation\": \"v\", \"showlegend\": true, \"textposition\": \"auto\", \"type\": \"bar\", \"x\": [\"Kings Park (WA)\", \"North Coogee\", \"Innaloo - Doubleview\", \"Fremantle\", \"Manning - Waterford\", \"Swanbourne - Mount Claremont\", \"Fremantle - South\", \"Helena Valley - Koongamia\", \"Bentley - Wilson - St James\", \"Coolbellup\", \"Nedlands - Dalkeith - Crawley\", \"Mosman Park - Peppermint Grove\", \"Claremont (WA)\", \"Lesmurdie - Bickley - Carmel\", \"Neerabup National Park\", \"Rivervale - Kewdale - Cloverdale\", \"East Victoria Park - Carlisle\", \"Belmont - Ascot - Redcliffe\", \"Bayswater - Embleton - Bedford\", \"Yokine - Coolbinia - Menora\", \"Dianella\", \"Wanneroo\", \"Mundijong\", \"Glen Forrest - Darlington\", \"Noranda\", \"Mundaring\", \"Roleystone\", \"Huntingdale - Southern River\", \"Forrestfield - Wattle Grove\", \"High Wycombe\", \"Chidlow\", \"Riverton - Shelley - Rossmoyne\", \"Trigg - North Beach - Watermans Bay\", \"Bicton - Palmyra\", \"Booragoon\", \"Morley\", \"East Fremantle\", \"Casuarina - Wandi\", \"Mindarie - Quinns Rocks - Jindalee\", \"Spearwood\", \"Byford\", \"Wembley - West Leederville - Glendalough\", \"Nollamara - Westminster\", \"Maddington - Orange Grove - Martin\", \"Lockridge - Kiara\", \"Bassendean - Eden Hill - Ashfield\", \"Beechboro\", \"Hamilton Hill\", \"Mount Lawley - Inglewood\", \"Cannington - Queens Park\", \"Marangaroo\", \"Mount Nasura - Mount Richon - Bedfordale\", \"Waikiki\", \"Falcon - Wannanup\", \"Mandurah - East\", \"Swan View - Greenmount - Midvale\", \"Maylands\", \"Tuart Hill - Joondanna\", \"Alkimos - Eglinton\", \"Beckenham - Kenwick - Langford\", \"Coogee\", \"Stirling - Osborne Park\", \"Carramar\", \"Hazelmere - Guildford\", \"Gosnells\", \"Yangebup\", \"Craigie - Beldon\", \"Alexander Heights - Koondoola\", \"South Lake - Cockburn Central\", \"Parmelia - Orelia\", \"Safety Bay - Shoalwater\", \"Ballajura\", \"Camillo - Champion Lakes\", \"Kelmscott\", \"Bullsbrook\", \"Warnbro\", \"Stratton - Jane Brook\", \"Malmalling - Reservoir\", \"Serpentine - Jarrahdale\", \"Balcatta - Hamersley\", \"Thornlie\", \"Port Kennedy\", \"Kalamunda - Maida Vale - Gooseberry Hill\", \"Butler - Merriwa - Ridgewood\", \"Forrestdale - Harrisdale - Piara Waters\", \"Victoria Park - Lathlain - Burswood\", \"Gidgegannup\", \"Seville Grove\", \"Como\", \"Wembley Downs - Churchlands - Woodlands\", \"Willetton\", \"Scarborough\", \"Mount Hawthorn - Leederville\", \"South Perth - Kensington\", \"Melville\", \"Subiaco - Shenton Park\", \"Karrinyup - Gwelup - Carine\", \"Padbury\", \"Greenwood - Warwick\", \"Kingsley\", \"Hillarys\", \"Joondalup - Edgewater\", \"Leeming\", \"The Vines\", \"City Beach\", \"Murdoch - Kardinya\", \"Pinjarra\", \"Floreat\", \"Balga - Mirrabooka\", \"Midland - Guildford\", \"Parkwood - Ferndale - Lynwood\", \"Kwinana Industrial\", \"Perth City\", \"Middle Swan - Herne Hill\", \"North Perth\", \"Success - Hammond Park\", \"Banjup\", \"Madeley - Darch - Landsdale\", \"Girrawheen\", \"Mullaloo - Kallaroo\", \"Bateman\", \"Ellenbrook\", \"Armadale - Wungong - Brookdale\", \"Woodvale\", \"Currambine - Kinross\", \"Cooloongup\", \"Mandurah - North\", \"Clarkson\", \"Heathridge - Connolly\", \"Bertram - Wellard (West)\", \"Duncraig\", \"Sorrento - Marmion\", \"Singleton - Golden Bay - Secret Harbour\", \"Bull Creek\", \"Willagee\", \"Dawesville - Bouvard\", \"Applecross - Ardross\", \"Canning Vale - West\", \"Tapping - Ashby - Sinagra\", \"Ocean Reef\", \"Mandurah - South\", \"Yanchep\", \"Halls Head - Erskine\", \"Mandurah\", \"Greenfields\", \"Cottesloe\", \"Rockingham\", \"Calista\", \"Iluka - Burns Beach\", \"Beeliar - Wattleup\", \"Canning Vale - East\", \"Jandakot\", \"Two Rocks\", \"Winthrop\", \"Baldivis\", \"Carabooda - Pinjar\", \"Hope Valley - Postans\", \"Avon Valley National Park\", \"Malaga\", \"Melaleuca - Lexia\", \"Walyunga National Park\", \"Herdsman\", \"Osborne Park Industrial\", \"Ashendon - Lesley\", \"Kewdale Commercial\", \"Perth Airport\", \"Canning Vale Commercial\", \"Welshpool\", \"Bibra Lake\", \"Henderson\", \"O'Connor (WA)\", \"Rockingham Lakes\", \"Bibra Industrial\"], \"xaxis\": \"x\", \"y\": [3, 0, 2386, 2865, 2023, 2018, 2054, 350, 2147, 643, 5379, 2391, 1981, 1434, 0, 1568, 2208, 1036, 2666, 2321, 2946, 1099, 256, 1302, 905, 1196, 794, 603, 754, 474, 182, 2218, 1224, 2032, 2775, 1441, 1599, 167, 1073, 433, 212, 3653, 849, 450, 419, 1402, 739, 768, 3503, 1048, 509, 604, 416, 374, 215, 723, 1897, 1609, 0, 964, 453, 1216, 384, 255, 646, 312, 697, 595, 872, 238, 620, 1184, 174, 580, 196, 460, 319, 0, 260, 1442, 1410, 529, 1881, 592, 87, 1974, 239, 182, 2471, 2858, 2698, 2348, 2343, 3667, 2587, 4459, 3325, 836, 1511, 1352, 1511, 1281, 1806, 431, 1756, 1673, 181, 1947, 607, 656, 1322, 14, 4197, 218, 1709, 564, 828, 962, 289, 1409, 689, 881, 441, 1024, 1210, 192, 467, 343, 863, 200, 2521, 1598, 711, 1408, 503, 241, 2295, 1124, 402, 999, 308, 150, 893, 290, 325, 2081, 518, 184, 472, 296, 1412, 364, 87, 1342, 453, 53, 11, 0, 0, 0, 0, 0, 0, 0, 0, 0, 0, 0, 0, 0, 0, 0, 0], \"yaxis\": \"y\"}, {\"alignmentgroup\": \"True\", \"hovertemplate\": \"variable=2011 Bachelor 25 and over<br>SA2 Name=%{x}<br>value=%{y}<extra></extra>\", \"legendgroup\": \"2011 Bachelor 25 and over\", \"marker\": {\"color\": \"#EF553B\"}, \"name\": \"2011 Bachelor 25 and over\", \"offsetgroup\": \"2011 Bachelor 25 and over\", \"orientation\": \"v\", \"showlegend\": true, \"textposition\": \"auto\", \"type\": \"bar\", \"x\": [\"Kings Park (WA)\", \"North Coogee\", \"Innaloo - Doubleview\", \"Fremantle\", \"Manning - Waterford\", \"Swanbourne - Mount Claremont\", \"Fremantle - South\", \"Helena Valley - Koongamia\", \"Bentley - Wilson - St James\", \"Coolbellup\", \"Nedlands - Dalkeith - Crawley\", \"Mosman Park - Peppermint Grove\", \"Claremont (WA)\", \"Lesmurdie - Bickley - Carmel\", \"Neerabup National Park\", \"Rivervale - Kewdale - Cloverdale\", \"East Victoria Park - Carlisle\", \"Belmont - Ascot - Redcliffe\", \"Bayswater - Embleton - Bedford\", \"Yokine - Coolbinia - Menora\", \"Dianella\", \"Wanneroo\", \"Mundijong\", \"Glen Forrest - Darlington\", \"Noranda\", \"Mundaring\", \"Roleystone\", \"Huntingdale - Southern River\", \"Forrestfield - Wattle Grove\", \"High Wycombe\", \"Chidlow\", \"Riverton - Shelley - Rossmoyne\", \"Trigg - North Beach - Watermans Bay\", \"Bicton - Palmyra\", \"Booragoon\", \"Morley\", \"East Fremantle\", \"Casuarina - Wandi\", \"Mindarie - Quinns Rocks - Jindalee\", \"Spearwood\", \"Byford\", \"Wembley - West Leederville - Glendalough\", \"Nollamara - Westminster\", \"Maddington - Orange Grove - Martin\", \"Lockridge - Kiara\", \"Bassendean - Eden Hill - Ashfield\", \"Beechboro\", \"Hamilton Hill\", \"Mount Lawley - Inglewood\", \"Cannington - Queens Park\", \"Marangaroo\", \"Mount Nasura - Mount Richon - Bedfordale\", \"Waikiki\", \"Falcon - Wannanup\", \"Mandurah - East\", \"Swan View - Greenmount - Midvale\", \"Maylands\", \"Tuart Hill - Joondanna\", \"Alkimos - Eglinton\", \"Beckenham - Kenwick - Langford\", \"Coogee\", \"Stirling - Osborne Park\", \"Carramar\", \"Hazelmere - Guildford\", \"Gosnells\", \"Yangebup\", \"Craigie - Beldon\", \"Alexander Heights - Koondoola\", \"South Lake - Cockburn Central\", \"Parmelia - Orelia\", \"Safety Bay - Shoalwater\", \"Ballajura\", \"Camillo - Champion Lakes\", \"Kelmscott\", \"Bullsbrook\", \"Warnbro\", \"Stratton - Jane Brook\", \"Malmalling - Reservoir\", \"Serpentine - Jarrahdale\", \"Balcatta - Hamersley\", \"Thornlie\", \"Port Kennedy\", \"Kalamunda - Maida Vale - Gooseberry Hill\", \"Butler - Merriwa - Ridgewood\", \"Forrestdale - Harrisdale - Piara Waters\", \"Victoria Park - Lathlain - Burswood\", \"Gidgegannup\", \"Seville Grove\", \"Como\", \"Wembley Downs - Churchlands - Woodlands\", \"Willetton\", \"Scarborough\", \"Mount Hawthorn - Leederville\", \"South Perth - Kensington\", \"Melville\", \"Subiaco - Shenton Park\", \"Karrinyup - Gwelup - Carine\", \"Padbury\", \"Greenwood - Warwick\", \"Kingsley\", \"Hillarys\", \"Joondalup - Edgewater\", \"Leeming\", \"The Vines\", \"City Beach\", \"Murdoch - Kardinya\", \"Pinjarra\", \"Floreat\", \"Balga - Mirrabooka\", \"Midland - Guildford\", \"Parkwood - Ferndale - Lynwood\", \"Kwinana Industrial\", \"Perth City\", \"Middle Swan - Herne Hill\", \"North Perth\", \"Success - Hammond Park\", \"Banjup\", \"Madeley - Darch - Landsdale\", \"Girrawheen\", \"Mullaloo - Kallaroo\", \"Bateman\", \"Ellenbrook\", \"Armadale - Wungong - Brookdale\", \"Woodvale\", \"Currambine - Kinross\", \"Cooloongup\", \"Mandurah - North\", \"Clarkson\", \"Heathridge - Connolly\", \"Bertram - Wellard (West)\", \"Duncraig\", \"Sorrento - Marmion\", \"Singleton - Golden Bay - Secret Harbour\", \"Bull Creek\", \"Willagee\", \"Dawesville - Bouvard\", \"Applecross - Ardross\", \"Canning Vale - West\", \"Tapping - Ashby - Sinagra\", \"Ocean Reef\", \"Mandurah - South\", \"Yanchep\", \"Halls Head - Erskine\", \"Mandurah\", \"Greenfields\", \"Cottesloe\", \"Rockingham\", \"Calista\", \"Iluka - Burns Beach\", \"Beeliar - Wattleup\", \"Canning Vale - East\", \"Jandakot\", \"Two Rocks\", \"Winthrop\", \"Baldivis\", \"Carabooda - Pinjar\", \"Hope Valley - Postans\", \"Avon Valley National Park\", \"Malaga\", \"Melaleuca - Lexia\", \"Walyunga National Park\", \"Herdsman\", \"Osborne Park Industrial\", \"Ashendon - Lesley\", \"Kewdale Commercial\", \"Perth Airport\", \"Canning Vale Commercial\", \"Welshpool\", \"Bibra Lake\", \"Henderson\", \"O'Connor (WA)\", \"Rockingham Lakes\", \"Bibra Industrial\"], \"xaxis\": \"x\", \"y\": [6, 140, 3255, 3648, 2438, 2441, 2656, 461, 3284, 998, 6243, 2921, 2433, 1579, 0, 2852, 3219, 1673, 3844, 3125, 3817, 2048, 385, 1446, 1063, 1461, 952, 1244, 1223, 746, 206, 2863, 1520, 2761, 3467, 2180, 1889, 190, 1663, 670, 477, 4996, 2051, 777, 621, 1925, 980, 1220, 4493, 2443, 719, 723, 612, 548, 243, 885, 2954, 2351, 6, 1606, 673, 2350, 927, 354, 1005, 537, 998, 788, 1278, 435, 915, 1450, 233, 771, 247, 563, 403, 0, 296, 2020, 2015, 688, 2165, 1245, 1083, 3298, 291, 435, 3553, 3547, 3657, 3273, 2984, 4735, 3260, 5474, 4145, 1147, 1984, 1814, 1911, 1781, 2220, 655, 1988, 2188, 357, 2276, 1072, 1029, 1873, 0, 8035, 304, 2260, 1571, 2085, 2208, 425, 1710, 882, 1830, 691, 1218, 1558, 301, 950, 958, 1121, 740, 3107, 1936, 1304, 1727, 668, 381, 2889, 1564, 1228, 1132, 503, 297, 1285, 487, 407, 2531, 925, 349, 930, 664, 3062, 412, 109, 1527, 1293, 42, 0, 0, 0, 0, 0, 0, 0, 0, 0, 0, 0, 0, 0, 0, 0, 0, 0], \"yaxis\": \"y\"}, {\"alignmentgroup\": \"True\", \"hovertemplate\": \"variable=2016 Bachelor 25 and over<br>SA2 Name=%{x}<br>value=%{y}<extra></extra>\", \"legendgroup\": \"2016 Bachelor 25 and over\", \"marker\": {\"color\": \"#00cc96\"}, \"name\": \"2016 Bachelor 25 and over\", \"offsetgroup\": \"2016 Bachelor 25 and over\", \"orientation\": \"v\", \"showlegend\": true, \"textposition\": \"auto\", \"type\": \"bar\", \"x\": [\"Kings Park (WA)\", \"North Coogee\", \"Innaloo - Doubleview\", \"Fremantle\", \"Manning - Waterford\", \"Swanbourne - Mount Claremont\", \"Fremantle - South\", \"Helena Valley - Koongamia\", \"Bentley - Wilson - St James\", \"Coolbellup\", \"Nedlands - Dalkeith - Crawley\", \"Mosman Park - Peppermint Grove\", \"Claremont (WA)\", \"Lesmurdie - Bickley - Carmel\", \"Neerabup National Park\", \"Rivervale - Kewdale - Cloverdale\", \"East Victoria Park - Carlisle\", \"Belmont - Ascot - Redcliffe\", \"Bayswater - Embleton - Bedford\", \"Yokine - Coolbinia - Menora\", \"Dianella\", \"Wanneroo\", \"Mundijong\", \"Glen Forrest - Darlington\", \"Noranda\", \"Mundaring\", \"Roleystone\", \"Huntingdale - Southern River\", \"Forrestfield - Wattle Grove\", \"High Wycombe\", \"Chidlow\", \"Riverton - Shelley - Rossmoyne\", \"Trigg - North Beach - Watermans Bay\", \"Bicton - Palmyra\", \"Booragoon\", \"Morley\", \"East Fremantle\", \"Casuarina - Wandi\", \"Mindarie - Quinns Rocks - Jindalee\", \"Spearwood\", \"Byford\", \"Wembley - West Leederville - Glendalough\", \"Nollamara - Westminster\", \"Maddington - Orange Grove - Martin\", \"Lockridge - Kiara\", \"Bassendean - Eden Hill - Ashfield\", \"Beechboro\", \"Hamilton Hill\", \"Mount Lawley - Inglewood\", \"Cannington - Queens Park\", \"Marangaroo\", \"Mount Nasura - Mount Richon - Bedfordale\", \"Waikiki\", \"Falcon - Wannanup\", \"Mandurah - East\", \"Swan View - Greenmount - Midvale\", \"Maylands\", \"Tuart Hill - Joondanna\", \"Alkimos - Eglinton\", \"Beckenham - Kenwick - Langford\", \"Coogee\", \"Stirling - Osborne Park\", \"Carramar\", \"Hazelmere - Guildford\", \"Gosnells\", \"Yangebup\", \"Craigie - Beldon\", \"Alexander Heights - Koondoola\", \"South Lake - Cockburn Central\", \"Parmelia - Orelia\", \"Safety Bay - Shoalwater\", \"Ballajura\", \"Camillo - Champion Lakes\", \"Kelmscott\", \"Bullsbrook\", \"Warnbro\", \"Stratton - Jane Brook\", \"Malmalling - Reservoir\", \"Serpentine - Jarrahdale\", \"Balcatta - Hamersley\", \"Thornlie\", \"Port Kennedy\", \"Kalamunda - Maida Vale - Gooseberry Hill\", \"Butler - Merriwa - Ridgewood\", \"Forrestdale - Harrisdale - Piara Waters\", \"Victoria Park - Lathlain - Burswood\", \"Gidgegannup\", \"Seville Grove\", \"Como\", \"Wembley Downs - Churchlands - Woodlands\", \"Willetton\", \"Scarborough\", \"Mount Hawthorn - Leederville\", \"South Perth - Kensington\", \"Melville\", \"Subiaco - Shenton Park\", \"Karrinyup - Gwelup - Carine\", \"Padbury\", \"Greenwood - Warwick\", \"Kingsley\", \"Hillarys\", \"Joondalup - Edgewater\", \"Leeming\", \"The Vines\", \"City Beach\", \"Murdoch - Kardinya\", \"Pinjarra\", \"Floreat\", \"Balga - Mirrabooka\", \"Midland - Guildford\", \"Parkwood - Ferndale - Lynwood\", \"Kwinana Industrial\", \"Perth City\", \"Middle Swan - Herne Hill\", \"North Perth\", \"Success - Hammond Park\", \"Banjup\", \"Madeley - Darch - Landsdale\", \"Girrawheen\", \"Mullaloo - Kallaroo\", \"Bateman\", \"Ellenbrook\", \"Armadale - Wungong - Brookdale\", \"Woodvale\", \"Currambine - Kinross\", \"Cooloongup\", \"Mandurah - North\", \"Clarkson\", \"Heathridge - Connolly\", \"Bertram - Wellard (West)\", \"Duncraig\", \"Sorrento - Marmion\", \"Singleton - Golden Bay - Secret Harbour\", \"Bull Creek\", \"Willagee\", \"Dawesville - Bouvard\", \"Applecross - Ardross\", \"Canning Vale - West\", \"Tapping - Ashby - Sinagra\", \"Ocean Reef\", \"Mandurah - South\", \"Yanchep\", \"Halls Head - Erskine\", \"Mandurah\", \"Greenfields\", \"Cottesloe\", \"Rockingham\", \"Calista\", \"Iluka - Burns Beach\", \"Beeliar - Wattleup\", \"Canning Vale - East\", \"Jandakot\", \"Two Rocks\", \"Winthrop\", \"Baldivis\", \"Carabooda - Pinjar\", \"Hope Valley - Postans\", \"Avon Valley National Park\", \"Malaga\", \"Melaleuca - Lexia\", \"Walyunga National Park\", \"Herdsman\", \"Osborne Park Industrial\", \"Ashendon - Lesley\", \"Kewdale Commercial\", \"Perth Airport\", \"Canning Vale Commercial\", \"Welshpool\", \"Bibra Lake\", \"Henderson\", \"O'Connor (WA)\", \"Rockingham Lakes\", \"Bibra Industrial\"], \"xaxis\": \"x\", \"y\": [3, 563, 4304, 4493, 2918, 2955, 3459, 633, 4166, 1272, 7058, 3415, 2874, 1823, 0, 4363, 4135, 2133, 4991, 3763, 4642, 2953, 511, 1666, 1219, 1710, 1059, 2666, 2087, 992, 247, 3547, 1923, 3335, 4185, 3186, 2247, 784, 2265, 1019, 1304, 5935, 3234, 1214, 1244, 2635, 1812, 1591, 5119, 3863, 906, 891, 869, 789, 345, 1070, 3683, 3093, 883, 2553, 1043, 2962, 1825, 575, 1532, 779, 1239, 952, 1712, 630, 1082, 1727, 410, 1026, 318, 685, 504, 0, 339, 2519, 2775, 842, 2517, 1739, 4029, 3942, 334, 707, 4292, 4346, 4413, 4223, 3543, 5324, 3859, 6439, 4969, 1353, 2311, 2197, 2275, 2320, 2488, 1232, 2201, 2673, 496, 2822, 1945, 1318, 2435, 0, 10892, 437, 2729, 2649, 3080, 3715, 626, 2053, 1048, 3629, 1240, 1544, 1924, 391, 1623, 1488, 1384, 2170, 3570, 2249, 1812, 2098, 819, 594, 3451, 1955, 1624, 1378, 640, 646, 1718, 794, 548, 2897, 1120, 489, 1553, 1101, 4360, 443, 189, 1699, 2877, 62, 3, 0, 0, 0, 0, 0, 0, 0, 0, 0, 0, 0, 0, 0, 0, 0, 0], \"yaxis\": \"y\"}],                        {\"barmode\": \"relative\", \"legend\": {\"title\": {\"text\": \"variable\"}, \"tracegroupgap\": 0}, \"template\": {\"data\": {\"bar\": [{\"error_x\": {\"color\": \"#2a3f5f\"}, \"error_y\": {\"color\": \"#2a3f5f\"}, \"marker\": {\"line\": {\"color\": \"#E5ECF6\", \"width\": 0.5}}, \"type\": \"bar\"}], \"barpolar\": [{\"marker\": {\"line\": {\"color\": \"#E5ECF6\", \"width\": 0.5}}, \"type\": \"barpolar\"}], \"carpet\": [{\"aaxis\": {\"endlinecolor\": \"#2a3f5f\", \"gridcolor\": \"white\", \"linecolor\": \"white\", \"minorgridcolor\": \"white\", \"startlinecolor\": \"#2a3f5f\"}, \"baxis\": {\"endlinecolor\": \"#2a3f5f\", \"gridcolor\": \"white\", \"linecolor\": \"white\", \"minorgridcolor\": \"white\", \"startlinecolor\": \"#2a3f5f\"}, \"type\": \"carpet\"}], \"choropleth\": [{\"colorbar\": {\"outlinewidth\": 0, \"ticks\": \"\"}, \"type\": \"choropleth\"}], \"contour\": [{\"colorbar\": {\"outlinewidth\": 0, \"ticks\": \"\"}, \"colorscale\": [[0.0, \"#0d0887\"], [0.1111111111111111, \"#46039f\"], [0.2222222222222222, \"#7201a8\"], [0.3333333333333333, \"#9c179e\"], [0.4444444444444444, \"#bd3786\"], [0.5555555555555556, \"#d8576b\"], [0.6666666666666666, \"#ed7953\"], [0.7777777777777778, \"#fb9f3a\"], [0.8888888888888888, \"#fdca26\"], [1.0, \"#f0f921\"]], \"type\": \"contour\"}], \"contourcarpet\": [{\"colorbar\": {\"outlinewidth\": 0, \"ticks\": \"\"}, \"type\": \"contourcarpet\"}], \"heatmap\": [{\"colorbar\": {\"outlinewidth\": 0, \"ticks\": \"\"}, \"colorscale\": [[0.0, \"#0d0887\"], [0.1111111111111111, \"#46039f\"], [0.2222222222222222, \"#7201a8\"], [0.3333333333333333, \"#9c179e\"], [0.4444444444444444, \"#bd3786\"], [0.5555555555555556, \"#d8576b\"], [0.6666666666666666, \"#ed7953\"], [0.7777777777777778, \"#fb9f3a\"], [0.8888888888888888, \"#fdca26\"], [1.0, \"#f0f921\"]], \"type\": \"heatmap\"}], \"heatmapgl\": [{\"colorbar\": {\"outlinewidth\": 0, \"ticks\": \"\"}, \"colorscale\": [[0.0, \"#0d0887\"], [0.1111111111111111, \"#46039f\"], [0.2222222222222222, \"#7201a8\"], [0.3333333333333333, \"#9c179e\"], [0.4444444444444444, \"#bd3786\"], [0.5555555555555556, \"#d8576b\"], [0.6666666666666666, \"#ed7953\"], [0.7777777777777778, \"#fb9f3a\"], [0.8888888888888888, \"#fdca26\"], [1.0, \"#f0f921\"]], \"type\": \"heatmapgl\"}], \"histogram\": [{\"marker\": {\"colorbar\": {\"outlinewidth\": 0, \"ticks\": \"\"}}, \"type\": \"histogram\"}], \"histogram2d\": [{\"colorbar\": {\"outlinewidth\": 0, \"ticks\": \"\"}, \"colorscale\": [[0.0, \"#0d0887\"], [0.1111111111111111, \"#46039f\"], [0.2222222222222222, \"#7201a8\"], [0.3333333333333333, \"#9c179e\"], [0.4444444444444444, \"#bd3786\"], [0.5555555555555556, \"#d8576b\"], [0.6666666666666666, \"#ed7953\"], [0.7777777777777778, \"#fb9f3a\"], [0.8888888888888888, \"#fdca26\"], [1.0, \"#f0f921\"]], \"type\": \"histogram2d\"}], \"histogram2dcontour\": [{\"colorbar\": {\"outlinewidth\": 0, \"ticks\": \"\"}, \"colorscale\": [[0.0, \"#0d0887\"], [0.1111111111111111, \"#46039f\"], [0.2222222222222222, \"#7201a8\"], [0.3333333333333333, \"#9c179e\"], [0.4444444444444444, \"#bd3786\"], [0.5555555555555556, \"#d8576b\"], [0.6666666666666666, \"#ed7953\"], [0.7777777777777778, \"#fb9f3a\"], [0.8888888888888888, \"#fdca26\"], [1.0, \"#f0f921\"]], \"type\": \"histogram2dcontour\"}], \"mesh3d\": [{\"colorbar\": {\"outlinewidth\": 0, \"ticks\": \"\"}, \"type\": \"mesh3d\"}], \"parcoords\": [{\"line\": {\"colorbar\": {\"outlinewidth\": 0, \"ticks\": \"\"}}, \"type\": \"parcoords\"}], \"pie\": [{\"automargin\": true, \"type\": \"pie\"}], \"scatter\": [{\"marker\": {\"colorbar\": {\"outlinewidth\": 0, \"ticks\": \"\"}}, \"type\": \"scatter\"}], \"scatter3d\": [{\"line\": {\"colorbar\": {\"outlinewidth\": 0, \"ticks\": \"\"}}, \"marker\": {\"colorbar\": {\"outlinewidth\": 0, \"ticks\": \"\"}}, \"type\": \"scatter3d\"}], \"scattercarpet\": [{\"marker\": {\"colorbar\": {\"outlinewidth\": 0, \"ticks\": \"\"}}, \"type\": \"scattercarpet\"}], \"scattergeo\": [{\"marker\": {\"colorbar\": {\"outlinewidth\": 0, \"ticks\": \"\"}}, \"type\": \"scattergeo\"}], \"scattergl\": [{\"marker\": {\"colorbar\": {\"outlinewidth\": 0, \"ticks\": \"\"}}, \"type\": \"scattergl\"}], \"scattermapbox\": [{\"marker\": {\"colorbar\": {\"outlinewidth\": 0, \"ticks\": \"\"}}, \"type\": \"scattermapbox\"}], \"scatterpolar\": [{\"marker\": {\"colorbar\": {\"outlinewidth\": 0, \"ticks\": \"\"}}, \"type\": \"scatterpolar\"}], \"scatterpolargl\": [{\"marker\": {\"colorbar\": {\"outlinewidth\": 0, \"ticks\": \"\"}}, \"type\": \"scatterpolargl\"}], \"scatterternary\": [{\"marker\": {\"colorbar\": {\"outlinewidth\": 0, \"ticks\": \"\"}}, \"type\": \"scatterternary\"}], \"surface\": [{\"colorbar\": {\"outlinewidth\": 0, \"ticks\": \"\"}, \"colorscale\": [[0.0, \"#0d0887\"], [0.1111111111111111, \"#46039f\"], [0.2222222222222222, \"#7201a8\"], [0.3333333333333333, \"#9c179e\"], [0.4444444444444444, \"#bd3786\"], [0.5555555555555556, \"#d8576b\"], [0.6666666666666666, \"#ed7953\"], [0.7777777777777778, \"#fb9f3a\"], [0.8888888888888888, \"#fdca26\"], [1.0, \"#f0f921\"]], \"type\": \"surface\"}], \"table\": [{\"cells\": {\"fill\": {\"color\": \"#EBF0F8\"}, \"line\": {\"color\": \"white\"}}, \"header\": {\"fill\": {\"color\": \"#C8D4E3\"}, \"line\": {\"color\": \"white\"}}, \"type\": \"table\"}]}, \"layout\": {\"annotationdefaults\": {\"arrowcolor\": \"#2a3f5f\", \"arrowhead\": 0, \"arrowwidth\": 1}, \"coloraxis\": {\"colorbar\": {\"outlinewidth\": 0, \"ticks\": \"\"}}, \"colorscale\": {\"diverging\": [[0, \"#8e0152\"], [0.1, \"#c51b7d\"], [0.2, \"#de77ae\"], [0.3, \"#f1b6da\"], [0.4, \"#fde0ef\"], [0.5, \"#f7f7f7\"], [0.6, \"#e6f5d0\"], [0.7, \"#b8e186\"], [0.8, \"#7fbc41\"], [0.9, \"#4d9221\"], [1, \"#276419\"]], \"sequential\": [[0.0, \"#0d0887\"], [0.1111111111111111, \"#46039f\"], [0.2222222222222222, \"#7201a8\"], [0.3333333333333333, \"#9c179e\"], [0.4444444444444444, \"#bd3786\"], [0.5555555555555556, \"#d8576b\"], [0.6666666666666666, \"#ed7953\"], [0.7777777777777778, \"#fb9f3a\"], [0.8888888888888888, \"#fdca26\"], [1.0, \"#f0f921\"]], \"sequentialminus\": [[0.0, \"#0d0887\"], [0.1111111111111111, \"#46039f\"], [0.2222222222222222, \"#7201a8\"], [0.3333333333333333, \"#9c179e\"], [0.4444444444444444, \"#bd3786\"], [0.5555555555555556, \"#d8576b\"], [0.6666666666666666, \"#ed7953\"], [0.7777777777777778, \"#fb9f3a\"], [0.8888888888888888, \"#fdca26\"], [1.0, \"#f0f921\"]]}, \"colorway\": [\"#636efa\", \"#EF553B\", \"#00cc96\", \"#ab63fa\", \"#FFA15A\", \"#19d3f3\", \"#FF6692\", \"#B6E880\", \"#FF97FF\", \"#FECB52\"], \"font\": {\"color\": \"#2a3f5f\"}, \"geo\": {\"bgcolor\": \"white\", \"lakecolor\": \"white\", \"landcolor\": \"#E5ECF6\", \"showlakes\": true, \"showland\": true, \"subunitcolor\": \"white\"}, \"hoverlabel\": {\"align\": \"left\"}, \"hovermode\": \"closest\", \"mapbox\": {\"style\": \"light\"}, \"paper_bgcolor\": \"white\", \"plot_bgcolor\": \"#E5ECF6\", \"polar\": {\"angularaxis\": {\"gridcolor\": \"white\", \"linecolor\": \"white\", \"ticks\": \"\"}, \"bgcolor\": \"#E5ECF6\", \"radialaxis\": {\"gridcolor\": \"white\", \"linecolor\": \"white\", \"ticks\": \"\"}}, \"scene\": {\"xaxis\": {\"backgroundcolor\": \"#E5ECF6\", \"gridcolor\": \"white\", \"gridwidth\": 2, \"linecolor\": \"white\", \"showbackground\": true, \"ticks\": \"\", \"zerolinecolor\": \"white\"}, \"yaxis\": {\"backgroundcolor\": \"#E5ECF6\", \"gridcolor\": \"white\", \"gridwidth\": 2, \"linecolor\": \"white\", \"showbackground\": true, \"ticks\": \"\", \"zerolinecolor\": \"white\"}, \"zaxis\": {\"backgroundcolor\": \"#E5ECF6\", \"gridcolor\": \"white\", \"gridwidth\": 2, \"linecolor\": \"white\", \"showbackground\": true, \"ticks\": \"\", \"zerolinecolor\": \"white\"}}, \"shapedefaults\": {\"line\": {\"color\": \"#2a3f5f\"}}, \"ternary\": {\"aaxis\": {\"gridcolor\": \"white\", \"linecolor\": \"white\", \"ticks\": \"\"}, \"baxis\": {\"gridcolor\": \"white\", \"linecolor\": \"white\", \"ticks\": \"\"}, \"bgcolor\": \"#E5ECF6\", \"caxis\": {\"gridcolor\": \"white\", \"linecolor\": \"white\", \"ticks\": \"\"}}, \"title\": {\"x\": 0.05}, \"xaxis\": {\"automargin\": true, \"gridcolor\": \"white\", \"linecolor\": \"white\", \"ticks\": \"\", \"title\": {\"standoff\": 15}, \"zerolinecolor\": \"white\", \"zerolinewidth\": 2}, \"yaxis\": {\"automargin\": true, \"gridcolor\": \"white\", \"linecolor\": \"white\", \"ticks\": \"\", \"title\": {\"standoff\": 15}, \"zerolinecolor\": \"white\", \"zerolinewidth\": 2}}}, \"title\": {\"text\": \"Total People who are 25 or over and hold a Bachelor Degree of Census Year 2006,2011 and 2016\"}, \"xaxis\": {\"anchor\": \"y\", \"domain\": [0.0, 1.0], \"title\": {\"text\": \"SA2 Name\"}}, \"yaxis\": {\"anchor\": \"x\", \"domain\": [0.0, 1.0], \"title\": {\"text\": \"value\"}}},                        {\"responsive\": true}                    ).then(function(){\n",
       "                            \n",
       "var gd = document.getElementById('a9a1dfca-01ea-4a2e-8828-eb3a3b6f7ebe');\n",
       "var x = new MutationObserver(function (mutations, observer) {{\n",
       "        var display = window.getComputedStyle(gd).display;\n",
       "        if (!display || display === 'none') {{\n",
       "            console.log([gd, 'removed!']);\n",
       "            Plotly.purge(gd);\n",
       "            observer.disconnect();\n",
       "        }}\n",
       "}});\n",
       "\n",
       "// Listen for the removal of the full notebook cells\n",
       "var notebookContainer = gd.closest('#notebook-container');\n",
       "if (notebookContainer) {{\n",
       "    x.observe(notebookContainer, {childList: true});\n",
       "}}\n",
       "\n",
       "// Listen for the clearing of the current output cell\n",
       "var outputEl = gd.closest('.output');\n",
       "if (outputEl) {{\n",
       "    x.observe(outputEl, {childList: true});\n",
       "}}\n",
       "\n",
       "                        })                };                });            </script>        </div>"
      ]
     },
     "metadata": {},
     "output_type": "display_data"
    }
   ],
   "source": [
    "fig_bachelor_total = px.bar(df, x=\"SA2 Name\", y=[\"2006 Bachelor 25 and over\", \"2011 Bachelor 25 and over\", \"2016 Bachelor 25 and over\"], title=\"Total People who are 25 or over and hold a Bachelor Degree of Census Year 2006,2011 and 2016\")\n",
    "fig_bachelor_total.show()"
   ]
  },
  {
   "cell_type": "code",
   "execution_count": 40,
   "metadata": {},
   "outputs": [
    {
     "data": {
      "application/vnd.plotly.v1+json": {
       "config": {
        "plotlyServerURL": "https://plotly.com"
       },
       "data": [
        {
         "alignmentgroup": "True",
         "hovertemplate": "variable=Sum2006-2016<br>SA2 Name=%{x}<br>value=%{y}<extra></extra>",
         "legendgroup": "Sum2006-2016",
         "marker": {
          "color": "#636efa"
         },
         "name": "Sum2006-2016",
         "offsetgroup": "Sum2006-2016",
         "orientation": "v",
         "showlegend": true,
         "textposition": "auto",
         "type": "bar",
         "x": [
          "Kings Park (WA)",
          "North Coogee",
          "Innaloo - Doubleview",
          "Fremantle",
          "Manning - Waterford",
          "Swanbourne - Mount Claremont",
          "Fremantle - South",
          "Helena Valley - Koongamia",
          "Bentley - Wilson - St James",
          "Coolbellup",
          "Nedlands - Dalkeith - Crawley",
          "Mosman Park - Peppermint Grove",
          "Claremont (WA)",
          "Lesmurdie - Bickley - Carmel",
          "Neerabup National Park",
          "Rivervale - Kewdale - Cloverdale",
          "East Victoria Park - Carlisle",
          "Belmont - Ascot - Redcliffe",
          "Bayswater - Embleton - Bedford",
          "Yokine - Coolbinia - Menora",
          "Dianella",
          "Wanneroo",
          "Mundijong",
          "Glen Forrest - Darlington",
          "Noranda",
          "Mundaring",
          "Roleystone",
          "Huntingdale - Southern River",
          "Forrestfield - Wattle Grove",
          "High Wycombe",
          "Chidlow",
          "Riverton - Shelley - Rossmoyne",
          "Trigg - North Beach - Watermans Bay",
          "Bicton - Palmyra",
          "Booragoon",
          "Morley",
          "East Fremantle",
          "Casuarina - Wandi",
          "Mindarie - Quinns Rocks - Jindalee",
          "Spearwood",
          "Byford",
          "Wembley - West Leederville - Glendalough",
          "Nollamara - Westminster",
          "Maddington - Orange Grove - Martin",
          "Lockridge - Kiara",
          "Bassendean - Eden Hill - Ashfield",
          "Beechboro",
          "Hamilton Hill",
          "Mount Lawley - Inglewood",
          "Cannington - Queens Park",
          "Marangaroo",
          "Mount Nasura - Mount Richon - Bedfordale",
          "Waikiki",
          "Falcon - Wannanup",
          "Mandurah - East",
          "Swan View - Greenmount - Midvale",
          "Maylands",
          "Tuart Hill - Joondanna",
          "Alkimos - Eglinton",
          "Beckenham - Kenwick - Langford",
          "Coogee",
          "Stirling - Osborne Park",
          "Carramar",
          "Hazelmere - Guildford",
          "Gosnells",
          "Yangebup",
          "Craigie - Beldon",
          "Alexander Heights - Koondoola",
          "South Lake - Cockburn Central",
          "Parmelia - Orelia",
          "Safety Bay - Shoalwater",
          "Ballajura",
          "Camillo - Champion Lakes",
          "Kelmscott",
          "Bullsbrook",
          "Warnbro",
          "Stratton - Jane Brook",
          "Malmalling - Reservoir",
          "Serpentine - Jarrahdale",
          "Balcatta - Hamersley",
          "Thornlie",
          "Port Kennedy",
          "Kalamunda - Maida Vale - Gooseberry Hill",
          "Butler - Merriwa - Ridgewood",
          "Forrestdale - Harrisdale - Piara Waters",
          "Victoria Park - Lathlain - Burswood",
          "Gidgegannup",
          "Seville Grove",
          "Como",
          "Wembley Downs - Churchlands - Woodlands",
          "Willetton",
          "Scarborough",
          "Mount Hawthorn - Leederville",
          "South Perth - Kensington",
          "Melville",
          "Subiaco - Shenton Park",
          "Karrinyup - Gwelup - Carine",
          "Padbury",
          "Greenwood - Warwick",
          "Kingsley",
          "Hillarys",
          "Joondalup - Edgewater",
          "Leeming",
          "The Vines",
          "City Beach",
          "Murdoch - Kardinya",
          "Pinjarra",
          "Floreat",
          "Balga - Mirrabooka",
          "Midland - Guildford",
          "Parkwood - Ferndale - Lynwood",
          "Kwinana Industrial",
          "Perth City",
          "Middle Swan - Herne Hill",
          "North Perth",
          "Success - Hammond Park",
          "Banjup",
          "Madeley - Darch - Landsdale",
          "Girrawheen",
          "Mullaloo - Kallaroo",
          "Bateman",
          "Ellenbrook",
          "Armadale - Wungong - Brookdale",
          "Woodvale",
          "Currambine - Kinross",
          "Cooloongup",
          "Mandurah - North",
          "Clarkson",
          "Heathridge - Connolly",
          "Bertram - Wellard (West)",
          "Duncraig",
          "Sorrento - Marmion",
          "Singleton - Golden Bay - Secret Harbour",
          "Bull Creek",
          "Willagee",
          "Dawesville - Bouvard",
          "Applecross - Ardross",
          "Canning Vale - West",
          "Tapping - Ashby - Sinagra",
          "Ocean Reef",
          "Mandurah - South",
          "Yanchep",
          "Halls Head - Erskine",
          "Mandurah",
          "Greenfields",
          "Cottesloe",
          "Rockingham",
          "Calista",
          "Iluka - Burns Beach",
          "Beeliar - Wattleup",
          "Canning Vale - East",
          "Jandakot",
          "Two Rocks",
          "Winthrop",
          "Baldivis",
          "Carabooda - Pinjar",
          "Hope Valley - Postans",
          "Avon Valley National Park",
          "Malaga",
          "Melaleuca - Lexia",
          "Walyunga National Park",
          "Herdsman",
          "Osborne Park Industrial",
          "Ashendon - Lesley",
          "Kewdale Commercial",
          "Perth Airport",
          "Canning Vale Commercial",
          "Welshpool",
          "Bibra Lake",
          "Henderson",
          "O'Connor (WA)",
          "Rockingham Lakes",
          "Bibra Industrial"
         ],
         "xaxis": "x",
         "y": [
          30.24,
          18.36,
          13.92,
          13.92,
          13.89,
          12.95,
          11.8,
          11.64,
          9.81,
          9.4,
          7.71,
          7.02,
          6.83,
          6.75,
          6.17,
          5.54,
          5.54,
          5.5,
          5.49,
          5.49,
          5.46,
          5.43,
          5.39,
          5.36,
          5.35,
          5.34,
          5.32,
          5.17,
          5.08,
          4.95,
          4.85,
          4.8,
          4.79,
          4.79,
          4.78,
          4.75,
          4.71,
          4.7,
          4.68,
          4.67,
          4.65,
          4.56,
          4.55,
          4.5,
          4.47,
          4.46,
          4.43,
          4.42,
          4.41,
          4.41,
          4.38,
          4.37,
          4.37,
          4.36,
          4.35,
          4.33,
          4.32,
          4.27,
          4.27,
          4.25,
          4.24,
          4.23,
          4.23,
          4.18,
          4.16,
          4.16,
          4.15,
          4.12,
          4.11,
          4.1,
          4.09,
          4.08,
          4.07,
          4.07,
          4.05,
          4.05,
          4.04,
          4.02,
          4.01,
          3.95,
          3.94,
          3.84,
          3.61,
          3.57,
          3.49,
          3.4,
          3.14,
          3.09,
          2.97,
          2.92,
          2.66,
          2.64,
          2.63,
          2.61,
          2.59,
          2.58,
          2.56,
          2.55,
          2.54,
          2.51,
          2.51,
          2.5,
          2.48,
          2.47,
          2.47,
          2.47,
          2.4,
          2.38,
          2.37,
          2.32,
          2.29,
          2.29,
          2.21,
          2.2,
          2.19,
          2.17,
          2.13,
          2.11,
          2.1,
          2.07,
          2.07,
          2.03,
          2.03,
          2.02,
          2.01,
          1.99,
          1.96,
          1.93,
          1.93,
          1.88,
          1.81,
          1.77,
          1.59,
          1.57,
          1.52,
          1.49,
          1.41,
          1.3,
          1.27,
          1.26,
          1.24,
          1.24,
          1.22,
          1.22,
          1.17,
          1.16,
          1.15,
          1.13,
          1.08,
          1.08,
          1.08,
          1.02,
          0.99,
          0.86,
          0.76,
          0.56,
          0.11,
          -0.25,
          -0.25,
          -0.25,
          -0.25,
          -0.25,
          -0.25,
          -0.25,
          -0.25,
          -0.25,
          -0.25,
          -0.25,
          -0.25,
          -0.25,
          -0.25,
          -0.25,
          -0.85
         ],
         "yaxis": "y"
        }
       ],
       "layout": {
        "barmode": "relative",
        "legend": {
         "title": {
          "text": "variable"
         },
         "tracegroupgap": 0
        },
        "template": {
         "data": {
          "bar": [
           {
            "error_x": {
             "color": "#2a3f5f"
            },
            "error_y": {
             "color": "#2a3f5f"
            },
            "marker": {
             "line": {
              "color": "#E5ECF6",
              "width": 0.5
             }
            },
            "type": "bar"
           }
          ],
          "barpolar": [
           {
            "marker": {
             "line": {
              "color": "#E5ECF6",
              "width": 0.5
             }
            },
            "type": "barpolar"
           }
          ],
          "carpet": [
           {
            "aaxis": {
             "endlinecolor": "#2a3f5f",
             "gridcolor": "white",
             "linecolor": "white",
             "minorgridcolor": "white",
             "startlinecolor": "#2a3f5f"
            },
            "baxis": {
             "endlinecolor": "#2a3f5f",
             "gridcolor": "white",
             "linecolor": "white",
             "minorgridcolor": "white",
             "startlinecolor": "#2a3f5f"
            },
            "type": "carpet"
           }
          ],
          "choropleth": [
           {
            "colorbar": {
             "outlinewidth": 0,
             "ticks": ""
            },
            "type": "choropleth"
           }
          ],
          "contour": [
           {
            "colorbar": {
             "outlinewidth": 0,
             "ticks": ""
            },
            "colorscale": [
             [
              0,
              "#0d0887"
             ],
             [
              0.1111111111111111,
              "#46039f"
             ],
             [
              0.2222222222222222,
              "#7201a8"
             ],
             [
              0.3333333333333333,
              "#9c179e"
             ],
             [
              0.4444444444444444,
              "#bd3786"
             ],
             [
              0.5555555555555556,
              "#d8576b"
             ],
             [
              0.6666666666666666,
              "#ed7953"
             ],
             [
              0.7777777777777778,
              "#fb9f3a"
             ],
             [
              0.8888888888888888,
              "#fdca26"
             ],
             [
              1,
              "#f0f921"
             ]
            ],
            "type": "contour"
           }
          ],
          "contourcarpet": [
           {
            "colorbar": {
             "outlinewidth": 0,
             "ticks": ""
            },
            "type": "contourcarpet"
           }
          ],
          "heatmap": [
           {
            "colorbar": {
             "outlinewidth": 0,
             "ticks": ""
            },
            "colorscale": [
             [
              0,
              "#0d0887"
             ],
             [
              0.1111111111111111,
              "#46039f"
             ],
             [
              0.2222222222222222,
              "#7201a8"
             ],
             [
              0.3333333333333333,
              "#9c179e"
             ],
             [
              0.4444444444444444,
              "#bd3786"
             ],
             [
              0.5555555555555556,
              "#d8576b"
             ],
             [
              0.6666666666666666,
              "#ed7953"
             ],
             [
              0.7777777777777778,
              "#fb9f3a"
             ],
             [
              0.8888888888888888,
              "#fdca26"
             ],
             [
              1,
              "#f0f921"
             ]
            ],
            "type": "heatmap"
           }
          ],
          "heatmapgl": [
           {
            "colorbar": {
             "outlinewidth": 0,
             "ticks": ""
            },
            "colorscale": [
             [
              0,
              "#0d0887"
             ],
             [
              0.1111111111111111,
              "#46039f"
             ],
             [
              0.2222222222222222,
              "#7201a8"
             ],
             [
              0.3333333333333333,
              "#9c179e"
             ],
             [
              0.4444444444444444,
              "#bd3786"
             ],
             [
              0.5555555555555556,
              "#d8576b"
             ],
             [
              0.6666666666666666,
              "#ed7953"
             ],
             [
              0.7777777777777778,
              "#fb9f3a"
             ],
             [
              0.8888888888888888,
              "#fdca26"
             ],
             [
              1,
              "#f0f921"
             ]
            ],
            "type": "heatmapgl"
           }
          ],
          "histogram": [
           {
            "marker": {
             "colorbar": {
              "outlinewidth": 0,
              "ticks": ""
             }
            },
            "type": "histogram"
           }
          ],
          "histogram2d": [
           {
            "colorbar": {
             "outlinewidth": 0,
             "ticks": ""
            },
            "colorscale": [
             [
              0,
              "#0d0887"
             ],
             [
              0.1111111111111111,
              "#46039f"
             ],
             [
              0.2222222222222222,
              "#7201a8"
             ],
             [
              0.3333333333333333,
              "#9c179e"
             ],
             [
              0.4444444444444444,
              "#bd3786"
             ],
             [
              0.5555555555555556,
              "#d8576b"
             ],
             [
              0.6666666666666666,
              "#ed7953"
             ],
             [
              0.7777777777777778,
              "#fb9f3a"
             ],
             [
              0.8888888888888888,
              "#fdca26"
             ],
             [
              1,
              "#f0f921"
             ]
            ],
            "type": "histogram2d"
           }
          ],
          "histogram2dcontour": [
           {
            "colorbar": {
             "outlinewidth": 0,
             "ticks": ""
            },
            "colorscale": [
             [
              0,
              "#0d0887"
             ],
             [
              0.1111111111111111,
              "#46039f"
             ],
             [
              0.2222222222222222,
              "#7201a8"
             ],
             [
              0.3333333333333333,
              "#9c179e"
             ],
             [
              0.4444444444444444,
              "#bd3786"
             ],
             [
              0.5555555555555556,
              "#d8576b"
             ],
             [
              0.6666666666666666,
              "#ed7953"
             ],
             [
              0.7777777777777778,
              "#fb9f3a"
             ],
             [
              0.8888888888888888,
              "#fdca26"
             ],
             [
              1,
              "#f0f921"
             ]
            ],
            "type": "histogram2dcontour"
           }
          ],
          "mesh3d": [
           {
            "colorbar": {
             "outlinewidth": 0,
             "ticks": ""
            },
            "type": "mesh3d"
           }
          ],
          "parcoords": [
           {
            "line": {
             "colorbar": {
              "outlinewidth": 0,
              "ticks": ""
             }
            },
            "type": "parcoords"
           }
          ],
          "pie": [
           {
            "automargin": true,
            "type": "pie"
           }
          ],
          "scatter": [
           {
            "marker": {
             "colorbar": {
              "outlinewidth": 0,
              "ticks": ""
             }
            },
            "type": "scatter"
           }
          ],
          "scatter3d": [
           {
            "line": {
             "colorbar": {
              "outlinewidth": 0,
              "ticks": ""
             }
            },
            "marker": {
             "colorbar": {
              "outlinewidth": 0,
              "ticks": ""
             }
            },
            "type": "scatter3d"
           }
          ],
          "scattercarpet": [
           {
            "marker": {
             "colorbar": {
              "outlinewidth": 0,
              "ticks": ""
             }
            },
            "type": "scattercarpet"
           }
          ],
          "scattergeo": [
           {
            "marker": {
             "colorbar": {
              "outlinewidth": 0,
              "ticks": ""
             }
            },
            "type": "scattergeo"
           }
          ],
          "scattergl": [
           {
            "marker": {
             "colorbar": {
              "outlinewidth": 0,
              "ticks": ""
             }
            },
            "type": "scattergl"
           }
          ],
          "scattermapbox": [
           {
            "marker": {
             "colorbar": {
              "outlinewidth": 0,
              "ticks": ""
             }
            },
            "type": "scattermapbox"
           }
          ],
          "scatterpolar": [
           {
            "marker": {
             "colorbar": {
              "outlinewidth": 0,
              "ticks": ""
             }
            },
            "type": "scatterpolar"
           }
          ],
          "scatterpolargl": [
           {
            "marker": {
             "colorbar": {
              "outlinewidth": 0,
              "ticks": ""
             }
            },
            "type": "scatterpolargl"
           }
          ],
          "scatterternary": [
           {
            "marker": {
             "colorbar": {
              "outlinewidth": 0,
              "ticks": ""
             }
            },
            "type": "scatterternary"
           }
          ],
          "surface": [
           {
            "colorbar": {
             "outlinewidth": 0,
             "ticks": ""
            },
            "colorscale": [
             [
              0,
              "#0d0887"
             ],
             [
              0.1111111111111111,
              "#46039f"
             ],
             [
              0.2222222222222222,
              "#7201a8"
             ],
             [
              0.3333333333333333,
              "#9c179e"
             ],
             [
              0.4444444444444444,
              "#bd3786"
             ],
             [
              0.5555555555555556,
              "#d8576b"
             ],
             [
              0.6666666666666666,
              "#ed7953"
             ],
             [
              0.7777777777777778,
              "#fb9f3a"
             ],
             [
              0.8888888888888888,
              "#fdca26"
             ],
             [
              1,
              "#f0f921"
             ]
            ],
            "type": "surface"
           }
          ],
          "table": [
           {
            "cells": {
             "fill": {
              "color": "#EBF0F8"
             },
             "line": {
              "color": "white"
             }
            },
            "header": {
             "fill": {
              "color": "#C8D4E3"
             },
             "line": {
              "color": "white"
             }
            },
            "type": "table"
           }
          ]
         },
         "layout": {
          "annotationdefaults": {
           "arrowcolor": "#2a3f5f",
           "arrowhead": 0,
           "arrowwidth": 1
          },
          "coloraxis": {
           "colorbar": {
            "outlinewidth": 0,
            "ticks": ""
           }
          },
          "colorscale": {
           "diverging": [
            [
             0,
             "#8e0152"
            ],
            [
             0.1,
             "#c51b7d"
            ],
            [
             0.2,
             "#de77ae"
            ],
            [
             0.3,
             "#f1b6da"
            ],
            [
             0.4,
             "#fde0ef"
            ],
            [
             0.5,
             "#f7f7f7"
            ],
            [
             0.6,
             "#e6f5d0"
            ],
            [
             0.7,
             "#b8e186"
            ],
            [
             0.8,
             "#7fbc41"
            ],
            [
             0.9,
             "#4d9221"
            ],
            [
             1,
             "#276419"
            ]
           ],
           "sequential": [
            [
             0,
             "#0d0887"
            ],
            [
             0.1111111111111111,
             "#46039f"
            ],
            [
             0.2222222222222222,
             "#7201a8"
            ],
            [
             0.3333333333333333,
             "#9c179e"
            ],
            [
             0.4444444444444444,
             "#bd3786"
            ],
            [
             0.5555555555555556,
             "#d8576b"
            ],
            [
             0.6666666666666666,
             "#ed7953"
            ],
            [
             0.7777777777777778,
             "#fb9f3a"
            ],
            [
             0.8888888888888888,
             "#fdca26"
            ],
            [
             1,
             "#f0f921"
            ]
           ],
           "sequentialminus": [
            [
             0,
             "#0d0887"
            ],
            [
             0.1111111111111111,
             "#46039f"
            ],
            [
             0.2222222222222222,
             "#7201a8"
            ],
            [
             0.3333333333333333,
             "#9c179e"
            ],
            [
             0.4444444444444444,
             "#bd3786"
            ],
            [
             0.5555555555555556,
             "#d8576b"
            ],
            [
             0.6666666666666666,
             "#ed7953"
            ],
            [
             0.7777777777777778,
             "#fb9f3a"
            ],
            [
             0.8888888888888888,
             "#fdca26"
            ],
            [
             1,
             "#f0f921"
            ]
           ]
          },
          "colorway": [
           "#636efa",
           "#EF553B",
           "#00cc96",
           "#ab63fa",
           "#FFA15A",
           "#19d3f3",
           "#FF6692",
           "#B6E880",
           "#FF97FF",
           "#FECB52"
          ],
          "font": {
           "color": "#2a3f5f"
          },
          "geo": {
           "bgcolor": "white",
           "lakecolor": "white",
           "landcolor": "#E5ECF6",
           "showlakes": true,
           "showland": true,
           "subunitcolor": "white"
          },
          "hoverlabel": {
           "align": "left"
          },
          "hovermode": "closest",
          "mapbox": {
           "style": "light"
          },
          "paper_bgcolor": "white",
          "plot_bgcolor": "#E5ECF6",
          "polar": {
           "angularaxis": {
            "gridcolor": "white",
            "linecolor": "white",
            "ticks": ""
           },
           "bgcolor": "#E5ECF6",
           "radialaxis": {
            "gridcolor": "white",
            "linecolor": "white",
            "ticks": ""
           }
          },
          "scene": {
           "xaxis": {
            "backgroundcolor": "#E5ECF6",
            "gridcolor": "white",
            "gridwidth": 2,
            "linecolor": "white",
            "showbackground": true,
            "ticks": "",
            "zerolinecolor": "white"
           },
           "yaxis": {
            "backgroundcolor": "#E5ECF6",
            "gridcolor": "white",
            "gridwidth": 2,
            "linecolor": "white",
            "showbackground": true,
            "ticks": "",
            "zerolinecolor": "white"
           },
           "zaxis": {
            "backgroundcolor": "#E5ECF6",
            "gridcolor": "white",
            "gridwidth": 2,
            "linecolor": "white",
            "showbackground": true,
            "ticks": "",
            "zerolinecolor": "white"
           }
          },
          "shapedefaults": {
           "line": {
            "color": "#2a3f5f"
           }
          },
          "ternary": {
           "aaxis": {
            "gridcolor": "white",
            "linecolor": "white",
            "ticks": ""
           },
           "baxis": {
            "gridcolor": "white",
            "linecolor": "white",
            "ticks": ""
           },
           "bgcolor": "#E5ECF6",
           "caxis": {
            "gridcolor": "white",
            "linecolor": "white",
            "ticks": ""
           }
          },
          "title": {
           "x": 0.05
          },
          "xaxis": {
           "automargin": true,
           "gridcolor": "white",
           "linecolor": "white",
           "ticks": "",
           "title": {
            "standoff": 15
           },
           "zerolinecolor": "white",
           "zerolinewidth": 2
          },
          "yaxis": {
           "automargin": true,
           "gridcolor": "white",
           "linecolor": "white",
           "ticks": "",
           "title": {
            "standoff": 15
           },
           "zerolinecolor": "white",
           "zerolinewidth": 2
          }
         }
        },
        "title": {
         "text": "Total % Change of All Attributes 2006-2011"
        },
        "xaxis": {
         "anchor": "y",
         "domain": [
          0,
          1
         ],
         "title": {
          "text": "SA2 Name"
         }
        },
        "yaxis": {
         "anchor": "x",
         "domain": [
          0,
          1
         ],
         "title": {
          "text": "value"
         }
        }
       }
      },
      "text/html": [
       "<div>                            <div id=\"286ae8ce-5e58-438c-82d5-3e23e12c1cfe\" class=\"plotly-graph-div\" style=\"height:525px; width:100%;\"></div>            <script type=\"text/javascript\">                require([\"plotly\"], function(Plotly) {                    window.PLOTLYENV=window.PLOTLYENV || {};                                    if (document.getElementById(\"286ae8ce-5e58-438c-82d5-3e23e12c1cfe\")) {                    Plotly.newPlot(                        \"286ae8ce-5e58-438c-82d5-3e23e12c1cfe\",                        [{\"alignmentgroup\": \"True\", \"hovertemplate\": \"variable=Sum2006-2016<br>SA2 Name=%{x}<br>value=%{y}<extra></extra>\", \"legendgroup\": \"Sum2006-2016\", \"marker\": {\"color\": \"#636efa\"}, \"name\": \"Sum2006-2016\", \"offsetgroup\": \"Sum2006-2016\", \"orientation\": \"v\", \"showlegend\": true, \"textposition\": \"auto\", \"type\": \"bar\", \"x\": [\"Kings Park (WA)\", \"North Coogee\", \"Innaloo - Doubleview\", \"Fremantle\", \"Manning - Waterford\", \"Swanbourne - Mount Claremont\", \"Fremantle - South\", \"Helena Valley - Koongamia\", \"Bentley - Wilson - St James\", \"Coolbellup\", \"Nedlands - Dalkeith - Crawley\", \"Mosman Park - Peppermint Grove\", \"Claremont (WA)\", \"Lesmurdie - Bickley - Carmel\", \"Neerabup National Park\", \"Rivervale - Kewdale - Cloverdale\", \"East Victoria Park - Carlisle\", \"Belmont - Ascot - Redcliffe\", \"Bayswater - Embleton - Bedford\", \"Yokine - Coolbinia - Menora\", \"Dianella\", \"Wanneroo\", \"Mundijong\", \"Glen Forrest - Darlington\", \"Noranda\", \"Mundaring\", \"Roleystone\", \"Huntingdale - Southern River\", \"Forrestfield - Wattle Grove\", \"High Wycombe\", \"Chidlow\", \"Riverton - Shelley - Rossmoyne\", \"Trigg - North Beach - Watermans Bay\", \"Bicton - Palmyra\", \"Booragoon\", \"Morley\", \"East Fremantle\", \"Casuarina - Wandi\", \"Mindarie - Quinns Rocks - Jindalee\", \"Spearwood\", \"Byford\", \"Wembley - West Leederville - Glendalough\", \"Nollamara - Westminster\", \"Maddington - Orange Grove - Martin\", \"Lockridge - Kiara\", \"Bassendean - Eden Hill - Ashfield\", \"Beechboro\", \"Hamilton Hill\", \"Mount Lawley - Inglewood\", \"Cannington - Queens Park\", \"Marangaroo\", \"Mount Nasura - Mount Richon - Bedfordale\", \"Waikiki\", \"Falcon - Wannanup\", \"Mandurah - East\", \"Swan View - Greenmount - Midvale\", \"Maylands\", \"Tuart Hill - Joondanna\", \"Alkimos - Eglinton\", \"Beckenham - Kenwick - Langford\", \"Coogee\", \"Stirling - Osborne Park\", \"Carramar\", \"Hazelmere - Guildford\", \"Gosnells\", \"Yangebup\", \"Craigie - Beldon\", \"Alexander Heights - Koondoola\", \"South Lake - Cockburn Central\", \"Parmelia - Orelia\", \"Safety Bay - Shoalwater\", \"Ballajura\", \"Camillo - Champion Lakes\", \"Kelmscott\", \"Bullsbrook\", \"Warnbro\", \"Stratton - Jane Brook\", \"Malmalling - Reservoir\", \"Serpentine - Jarrahdale\", \"Balcatta - Hamersley\", \"Thornlie\", \"Port Kennedy\", \"Kalamunda - Maida Vale - Gooseberry Hill\", \"Butler - Merriwa - Ridgewood\", \"Forrestdale - Harrisdale - Piara Waters\", \"Victoria Park - Lathlain - Burswood\", \"Gidgegannup\", \"Seville Grove\", \"Como\", \"Wembley Downs - Churchlands - Woodlands\", \"Willetton\", \"Scarborough\", \"Mount Hawthorn - Leederville\", \"South Perth - Kensington\", \"Melville\", \"Subiaco - Shenton Park\", \"Karrinyup - Gwelup - Carine\", \"Padbury\", \"Greenwood - Warwick\", \"Kingsley\", \"Hillarys\", \"Joondalup - Edgewater\", \"Leeming\", \"The Vines\", \"City Beach\", \"Murdoch - Kardinya\", \"Pinjarra\", \"Floreat\", \"Balga - Mirrabooka\", \"Midland - Guildford\", \"Parkwood - Ferndale - Lynwood\", \"Kwinana Industrial\", \"Perth City\", \"Middle Swan - Herne Hill\", \"North Perth\", \"Success - Hammond Park\", \"Banjup\", \"Madeley - Darch - Landsdale\", \"Girrawheen\", \"Mullaloo - Kallaroo\", \"Bateman\", \"Ellenbrook\", \"Armadale - Wungong - Brookdale\", \"Woodvale\", \"Currambine - Kinross\", \"Cooloongup\", \"Mandurah - North\", \"Clarkson\", \"Heathridge - Connolly\", \"Bertram - Wellard (West)\", \"Duncraig\", \"Sorrento - Marmion\", \"Singleton - Golden Bay - Secret Harbour\", \"Bull Creek\", \"Willagee\", \"Dawesville - Bouvard\", \"Applecross - Ardross\", \"Canning Vale - West\", \"Tapping - Ashby - Sinagra\", \"Ocean Reef\", \"Mandurah - South\", \"Yanchep\", \"Halls Head - Erskine\", \"Mandurah\", \"Greenfields\", \"Cottesloe\", \"Rockingham\", \"Calista\", \"Iluka - Burns Beach\", \"Beeliar - Wattleup\", \"Canning Vale - East\", \"Jandakot\", \"Two Rocks\", \"Winthrop\", \"Baldivis\", \"Carabooda - Pinjar\", \"Hope Valley - Postans\", \"Avon Valley National Park\", \"Malaga\", \"Melaleuca - Lexia\", \"Walyunga National Park\", \"Herdsman\", \"Osborne Park Industrial\", \"Ashendon - Lesley\", \"Kewdale Commercial\", \"Perth Airport\", \"Canning Vale Commercial\", \"Welshpool\", \"Bibra Lake\", \"Henderson\", \"O'Connor (WA)\", \"Rockingham Lakes\", \"Bibra Industrial\"], \"xaxis\": \"x\", \"y\": [30.24, 18.36, 13.92, 13.92, 13.89, 12.95, 11.8, 11.64, 9.81, 9.4, 7.71, 7.02, 6.83, 6.75, 6.17, 5.54, 5.54, 5.5, 5.49, 5.49, 5.46, 5.43, 5.39, 5.36, 5.35, 5.34, 5.32, 5.17, 5.08, 4.95, 4.85, 4.8, 4.79, 4.79, 4.78, 4.75, 4.71, 4.7, 4.68, 4.67, 4.65, 4.56, 4.55, 4.5, 4.47, 4.46, 4.43, 4.42, 4.41, 4.41, 4.38, 4.37, 4.37, 4.36, 4.35, 4.33, 4.32, 4.27, 4.27, 4.25, 4.24, 4.23, 4.23, 4.18, 4.16, 4.16, 4.15, 4.12, 4.11, 4.1, 4.09, 4.08, 4.07, 4.07, 4.05, 4.05, 4.04, 4.02, 4.01, 3.95, 3.94, 3.84, 3.61, 3.57, 3.49, 3.4, 3.14, 3.09, 2.97, 2.92, 2.66, 2.64, 2.63, 2.61, 2.59, 2.58, 2.56, 2.55, 2.54, 2.51, 2.51, 2.5, 2.48, 2.47, 2.47, 2.47, 2.4, 2.38, 2.37, 2.32, 2.29, 2.29, 2.21, 2.2, 2.19, 2.17, 2.13, 2.11, 2.1, 2.07, 2.07, 2.03, 2.03, 2.02, 2.01, 1.99, 1.96, 1.93, 1.93, 1.88, 1.81, 1.77, 1.59, 1.57, 1.52, 1.49, 1.41, 1.3, 1.27, 1.26, 1.24, 1.24, 1.22, 1.22, 1.17, 1.16, 1.15, 1.13, 1.08, 1.08, 1.08, 1.02, 0.99, 0.86, 0.76, 0.56, 0.11, -0.25, -0.25, -0.25, -0.25, -0.25, -0.25, -0.25, -0.25, -0.25, -0.25, -0.25, -0.25, -0.25, -0.25, -0.25, -0.85], \"yaxis\": \"y\"}],                        {\"barmode\": \"relative\", \"legend\": {\"title\": {\"text\": \"variable\"}, \"tracegroupgap\": 0}, \"template\": {\"data\": {\"bar\": [{\"error_x\": {\"color\": \"#2a3f5f\"}, \"error_y\": {\"color\": \"#2a3f5f\"}, \"marker\": {\"line\": {\"color\": \"#E5ECF6\", \"width\": 0.5}}, \"type\": \"bar\"}], \"barpolar\": [{\"marker\": {\"line\": {\"color\": \"#E5ECF6\", \"width\": 0.5}}, \"type\": \"barpolar\"}], \"carpet\": [{\"aaxis\": {\"endlinecolor\": \"#2a3f5f\", \"gridcolor\": \"white\", \"linecolor\": \"white\", \"minorgridcolor\": \"white\", \"startlinecolor\": \"#2a3f5f\"}, \"baxis\": {\"endlinecolor\": \"#2a3f5f\", \"gridcolor\": \"white\", \"linecolor\": \"white\", \"minorgridcolor\": \"white\", \"startlinecolor\": \"#2a3f5f\"}, \"type\": \"carpet\"}], \"choropleth\": [{\"colorbar\": {\"outlinewidth\": 0, \"ticks\": \"\"}, \"type\": \"choropleth\"}], \"contour\": [{\"colorbar\": {\"outlinewidth\": 0, \"ticks\": \"\"}, \"colorscale\": [[0.0, \"#0d0887\"], [0.1111111111111111, \"#46039f\"], [0.2222222222222222, \"#7201a8\"], [0.3333333333333333, \"#9c179e\"], [0.4444444444444444, \"#bd3786\"], [0.5555555555555556, \"#d8576b\"], [0.6666666666666666, \"#ed7953\"], [0.7777777777777778, \"#fb9f3a\"], [0.8888888888888888, \"#fdca26\"], [1.0, \"#f0f921\"]], \"type\": \"contour\"}], \"contourcarpet\": [{\"colorbar\": {\"outlinewidth\": 0, \"ticks\": \"\"}, \"type\": \"contourcarpet\"}], \"heatmap\": [{\"colorbar\": {\"outlinewidth\": 0, \"ticks\": \"\"}, \"colorscale\": [[0.0, \"#0d0887\"], [0.1111111111111111, \"#46039f\"], [0.2222222222222222, \"#7201a8\"], [0.3333333333333333, \"#9c179e\"], [0.4444444444444444, \"#bd3786\"], [0.5555555555555556, \"#d8576b\"], [0.6666666666666666, \"#ed7953\"], [0.7777777777777778, \"#fb9f3a\"], [0.8888888888888888, \"#fdca26\"], [1.0, \"#f0f921\"]], \"type\": \"heatmap\"}], \"heatmapgl\": [{\"colorbar\": {\"outlinewidth\": 0, \"ticks\": \"\"}, \"colorscale\": [[0.0, \"#0d0887\"], [0.1111111111111111, \"#46039f\"], [0.2222222222222222, \"#7201a8\"], [0.3333333333333333, \"#9c179e\"], [0.4444444444444444, \"#bd3786\"], [0.5555555555555556, \"#d8576b\"], [0.6666666666666666, \"#ed7953\"], [0.7777777777777778, \"#fb9f3a\"], [0.8888888888888888, \"#fdca26\"], [1.0, \"#f0f921\"]], \"type\": \"heatmapgl\"}], \"histogram\": [{\"marker\": {\"colorbar\": {\"outlinewidth\": 0, \"ticks\": \"\"}}, \"type\": \"histogram\"}], \"histogram2d\": [{\"colorbar\": {\"outlinewidth\": 0, \"ticks\": \"\"}, \"colorscale\": [[0.0, \"#0d0887\"], [0.1111111111111111, \"#46039f\"], [0.2222222222222222, \"#7201a8\"], [0.3333333333333333, \"#9c179e\"], [0.4444444444444444, \"#bd3786\"], [0.5555555555555556, \"#d8576b\"], [0.6666666666666666, \"#ed7953\"], [0.7777777777777778, \"#fb9f3a\"], [0.8888888888888888, \"#fdca26\"], [1.0, \"#f0f921\"]], \"type\": \"histogram2d\"}], \"histogram2dcontour\": [{\"colorbar\": {\"outlinewidth\": 0, \"ticks\": \"\"}, \"colorscale\": [[0.0, \"#0d0887\"], [0.1111111111111111, \"#46039f\"], [0.2222222222222222, \"#7201a8\"], [0.3333333333333333, \"#9c179e\"], [0.4444444444444444, \"#bd3786\"], [0.5555555555555556, \"#d8576b\"], [0.6666666666666666, \"#ed7953\"], [0.7777777777777778, \"#fb9f3a\"], [0.8888888888888888, \"#fdca26\"], [1.0, \"#f0f921\"]], \"type\": \"histogram2dcontour\"}], \"mesh3d\": [{\"colorbar\": {\"outlinewidth\": 0, \"ticks\": \"\"}, \"type\": \"mesh3d\"}], \"parcoords\": [{\"line\": {\"colorbar\": {\"outlinewidth\": 0, \"ticks\": \"\"}}, \"type\": \"parcoords\"}], \"pie\": [{\"automargin\": true, \"type\": \"pie\"}], \"scatter\": [{\"marker\": {\"colorbar\": {\"outlinewidth\": 0, \"ticks\": \"\"}}, \"type\": \"scatter\"}], \"scatter3d\": [{\"line\": {\"colorbar\": {\"outlinewidth\": 0, \"ticks\": \"\"}}, \"marker\": {\"colorbar\": {\"outlinewidth\": 0, \"ticks\": \"\"}}, \"type\": \"scatter3d\"}], \"scattercarpet\": [{\"marker\": {\"colorbar\": {\"outlinewidth\": 0, \"ticks\": \"\"}}, \"type\": \"scattercarpet\"}], \"scattergeo\": [{\"marker\": {\"colorbar\": {\"outlinewidth\": 0, \"ticks\": \"\"}}, \"type\": \"scattergeo\"}], \"scattergl\": [{\"marker\": {\"colorbar\": {\"outlinewidth\": 0, \"ticks\": \"\"}}, \"type\": \"scattergl\"}], \"scattermapbox\": [{\"marker\": {\"colorbar\": {\"outlinewidth\": 0, \"ticks\": \"\"}}, \"type\": \"scattermapbox\"}], \"scatterpolar\": [{\"marker\": {\"colorbar\": {\"outlinewidth\": 0, \"ticks\": \"\"}}, \"type\": \"scatterpolar\"}], \"scatterpolargl\": [{\"marker\": {\"colorbar\": {\"outlinewidth\": 0, \"ticks\": \"\"}}, \"type\": \"scatterpolargl\"}], \"scatterternary\": [{\"marker\": {\"colorbar\": {\"outlinewidth\": 0, \"ticks\": \"\"}}, \"type\": \"scatterternary\"}], \"surface\": [{\"colorbar\": {\"outlinewidth\": 0, \"ticks\": \"\"}, \"colorscale\": [[0.0, \"#0d0887\"], [0.1111111111111111, \"#46039f\"], [0.2222222222222222, \"#7201a8\"], [0.3333333333333333, \"#9c179e\"], [0.4444444444444444, \"#bd3786\"], [0.5555555555555556, \"#d8576b\"], [0.6666666666666666, \"#ed7953\"], [0.7777777777777778, \"#fb9f3a\"], [0.8888888888888888, \"#fdca26\"], [1.0, \"#f0f921\"]], \"type\": \"surface\"}], \"table\": [{\"cells\": {\"fill\": {\"color\": \"#EBF0F8\"}, \"line\": {\"color\": \"white\"}}, \"header\": {\"fill\": {\"color\": \"#C8D4E3\"}, \"line\": {\"color\": \"white\"}}, \"type\": \"table\"}]}, \"layout\": {\"annotationdefaults\": {\"arrowcolor\": \"#2a3f5f\", \"arrowhead\": 0, \"arrowwidth\": 1}, \"coloraxis\": {\"colorbar\": {\"outlinewidth\": 0, \"ticks\": \"\"}}, \"colorscale\": {\"diverging\": [[0, \"#8e0152\"], [0.1, \"#c51b7d\"], [0.2, \"#de77ae\"], [0.3, \"#f1b6da\"], [0.4, \"#fde0ef\"], [0.5, \"#f7f7f7\"], [0.6, \"#e6f5d0\"], [0.7, \"#b8e186\"], [0.8, \"#7fbc41\"], [0.9, \"#4d9221\"], [1, \"#276419\"]], \"sequential\": [[0.0, \"#0d0887\"], [0.1111111111111111, \"#46039f\"], [0.2222222222222222, \"#7201a8\"], [0.3333333333333333, \"#9c179e\"], [0.4444444444444444, \"#bd3786\"], [0.5555555555555556, \"#d8576b\"], [0.6666666666666666, \"#ed7953\"], [0.7777777777777778, \"#fb9f3a\"], [0.8888888888888888, \"#fdca26\"], [1.0, \"#f0f921\"]], \"sequentialminus\": [[0.0, \"#0d0887\"], [0.1111111111111111, \"#46039f\"], [0.2222222222222222, \"#7201a8\"], [0.3333333333333333, \"#9c179e\"], [0.4444444444444444, \"#bd3786\"], [0.5555555555555556, \"#d8576b\"], [0.6666666666666666, \"#ed7953\"], [0.7777777777777778, \"#fb9f3a\"], [0.8888888888888888, \"#fdca26\"], [1.0, \"#f0f921\"]]}, \"colorway\": [\"#636efa\", \"#EF553B\", \"#00cc96\", \"#ab63fa\", \"#FFA15A\", \"#19d3f3\", \"#FF6692\", \"#B6E880\", \"#FF97FF\", \"#FECB52\"], \"font\": {\"color\": \"#2a3f5f\"}, \"geo\": {\"bgcolor\": \"white\", \"lakecolor\": \"white\", \"landcolor\": \"#E5ECF6\", \"showlakes\": true, \"showland\": true, \"subunitcolor\": \"white\"}, \"hoverlabel\": {\"align\": \"left\"}, \"hovermode\": \"closest\", \"mapbox\": {\"style\": \"light\"}, \"paper_bgcolor\": \"white\", \"plot_bgcolor\": \"#E5ECF6\", \"polar\": {\"angularaxis\": {\"gridcolor\": \"white\", \"linecolor\": \"white\", \"ticks\": \"\"}, \"bgcolor\": \"#E5ECF6\", \"radialaxis\": {\"gridcolor\": \"white\", \"linecolor\": \"white\", \"ticks\": \"\"}}, \"scene\": {\"xaxis\": {\"backgroundcolor\": \"#E5ECF6\", \"gridcolor\": \"white\", \"gridwidth\": 2, \"linecolor\": \"white\", \"showbackground\": true, \"ticks\": \"\", \"zerolinecolor\": \"white\"}, \"yaxis\": {\"backgroundcolor\": \"#E5ECF6\", \"gridcolor\": \"white\", \"gridwidth\": 2, \"linecolor\": \"white\", \"showbackground\": true, \"ticks\": \"\", \"zerolinecolor\": \"white\"}, \"zaxis\": {\"backgroundcolor\": \"#E5ECF6\", \"gridcolor\": \"white\", \"gridwidth\": 2, \"linecolor\": \"white\", \"showbackground\": true, \"ticks\": \"\", \"zerolinecolor\": \"white\"}}, \"shapedefaults\": {\"line\": {\"color\": \"#2a3f5f\"}}, \"ternary\": {\"aaxis\": {\"gridcolor\": \"white\", \"linecolor\": \"white\", \"ticks\": \"\"}, \"baxis\": {\"gridcolor\": \"white\", \"linecolor\": \"white\", \"ticks\": \"\"}, \"bgcolor\": \"#E5ECF6\", \"caxis\": {\"gridcolor\": \"white\", \"linecolor\": \"white\", \"ticks\": \"\"}}, \"title\": {\"x\": 0.05}, \"xaxis\": {\"automargin\": true, \"gridcolor\": \"white\", \"linecolor\": \"white\", \"ticks\": \"\", \"title\": {\"standoff\": 15}, \"zerolinecolor\": \"white\", \"zerolinewidth\": 2}, \"yaxis\": {\"automargin\": true, \"gridcolor\": \"white\", \"linecolor\": \"white\", \"ticks\": \"\", \"title\": {\"standoff\": 15}, \"zerolinecolor\": \"white\", \"zerolinewidth\": 2}}}, \"title\": {\"text\": \"Total % Change of All Attributes 2006-2011\"}, \"xaxis\": {\"anchor\": \"y\", \"domain\": [0.0, 1.0], \"title\": {\"text\": \"SA2 Name\"}}, \"yaxis\": {\"anchor\": \"x\", \"domain\": [0.0, 1.0], \"title\": {\"text\": \"value\"}}},                        {\"responsive\": true}                    ).then(function(){\n",
       "                            \n",
       "var gd = document.getElementById('286ae8ce-5e58-438c-82d5-3e23e12c1cfe');\n",
       "var x = new MutationObserver(function (mutations, observer) {{\n",
       "        var display = window.getComputedStyle(gd).display;\n",
       "        if (!display || display === 'none') {{\n",
       "            console.log([gd, 'removed!']);\n",
       "            Plotly.purge(gd);\n",
       "            observer.disconnect();\n",
       "        }}\n",
       "}});\n",
       "\n",
       "// Listen for the removal of the full notebook cells\n",
       "var notebookContainer = gd.closest('#notebook-container');\n",
       "if (notebookContainer) {{\n",
       "    x.observe(notebookContainer, {childList: true});\n",
       "}}\n",
       "\n",
       "// Listen for the clearing of the current output cell\n",
       "var outputEl = gd.closest('.output');\n",
       "if (outputEl) {{\n",
       "    x.observe(outputEl, {childList: true});\n",
       "}}\n",
       "\n",
       "                        })                };                });            </script>        </div>"
      ]
     },
     "metadata": {},
     "output_type": "display_data"
    }
   ],
   "source": [
    "#gentrification index\n",
    "fig_gentrification_index = px.bar(df, x=\"SA2 Name\", y=[\"Sum2006-2016\"], title=\"Total % Change of All Attributes 2006-2011\")\n",
    "fig_gentrification_index.show()"
   ]
  },
  {
   "cell_type": "code",
   "execution_count": 3,
   "metadata": {},
   "outputs": [],
   "source": [
    "import chart_studio.plotly as py\n",
    "import chart_studio"
   ]
  },
  {
   "cell_type": "code",
   "execution_count": 4,
   "metadata": {},
   "outputs": [],
   "source": [
    "username = 'parkdaddy' # your username\n",
    "api_key = 'RD1PS8VVvgcr0n3IFkNe' # your api key - go to profile > settings > regenerate key\n",
    "chart_studio.tools.set_credentials_file(username=username, api_key=api_key)"
   ]
  },
  {
   "cell_type": "code",
   "execution_count": 41,
   "metadata": {},
   "outputs": [
    {
     "data": {
      "text/plain": [
       "'https://plotly.com/~parkdaddy/13/'"
      ]
     },
     "execution_count": 41,
     "metadata": {},
     "output_type": "execute_result"
    }
   ],
   "source": [
    "py.plot(fig_rent, filename = 'rent%', auto_open=True)"
   ]
  },
  {
   "cell_type": "code",
   "execution_count": 42,
   "metadata": {},
   "outputs": [
    {
     "data": {
      "text/plain": [
       "'https://plotly.com/~parkdaddy/15/'"
      ]
     },
     "execution_count": 42,
     "metadata": {},
     "output_type": "execute_result"
    }
   ],
   "source": [
    "py.plot(fig_rent_total, filename = 'rent', auto_open=True)"
   ]
  },
  {
   "cell_type": "code",
   "execution_count": 43,
   "metadata": {},
   "outputs": [
    {
     "data": {
      "text/plain": [
       "'https://plotly.com/~parkdaddy/17/'"
      ]
     },
     "execution_count": 43,
     "metadata": {},
     "output_type": "execute_result"
    }
   ],
   "source": [
    "py.plot(fig_house, filename = 'house%', auto_open=True)"
   ]
  },
  {
   "cell_type": "code",
   "execution_count": 44,
   "metadata": {},
   "outputs": [
    {
     "data": {
      "text/plain": [
       "'https://plotly.com/~parkdaddy/19/'"
      ]
     },
     "execution_count": 44,
     "metadata": {},
     "output_type": "execute_result"
    }
   ],
   "source": [
    "py.plot(fig_house_total, filename = 'house_total', auto_open=True)"
   ]
  },
  {
   "cell_type": "code",
   "execution_count": 45,
   "metadata": {},
   "outputs": [
    {
     "data": {
      "text/plain": [
       "'https://plotly.com/~parkdaddy/21/'"
      ]
     },
     "execution_count": 45,
     "metadata": {},
     "output_type": "execute_result"
    }
   ],
   "source": [
    "py.plot(fig_income, filename = 'income%', auto_open=True)"
   ]
  },
  {
   "cell_type": "code",
   "execution_count": 46,
   "metadata": {},
   "outputs": [
    {
     "data": {
      "text/plain": [
       "'https://plotly.com/~parkdaddy/23/'"
      ]
     },
     "execution_count": 46,
     "metadata": {},
     "output_type": "execute_result"
    }
   ],
   "source": [
    "py.plot(fig_income_total, filename = 'income_total', auto_open=True)"
   ]
  },
  {
   "cell_type": "code",
   "execution_count": 47,
   "metadata": {},
   "outputs": [
    {
     "data": {
      "text/plain": [
       "'https://plotly.com/~parkdaddy/25/'"
      ]
     },
     "execution_count": 47,
     "metadata": {},
     "output_type": "execute_result"
    }
   ],
   "source": [
    "py.plot(fig_bachelor, filename = 'edu%', auto_open=True)"
   ]
  },
  {
   "cell_type": "code",
   "execution_count": 48,
   "metadata": {},
   "outputs": [
    {
     "data": {
      "text/plain": [
       "'https://plotly.com/~parkdaddy/27/'"
      ]
     },
     "execution_count": 48,
     "metadata": {},
     "output_type": "execute_result"
    }
   ],
   "source": [
    "py.plot(fig_bachelor_total, filename = 'edu_total', auto_open=True)"
   ]
  },
  {
   "cell_type": "code",
   "execution_count": 49,
   "metadata": {},
   "outputs": [
    {
     "data": {
      "text/plain": [
       "'https://plotly.com/~parkdaddy/29/'"
      ]
     },
     "execution_count": 49,
     "metadata": {},
     "output_type": "execute_result"
    }
   ],
   "source": [
    "py.plot(fig_gentrification_index, filename = 'gen%', auto_open=True)"
   ]
  },
  {
   "cell_type": "code",
   "execution_count": null,
   "metadata": {},
   "outputs": [],
   "source": []
  },
  {
   "cell_type": "code",
   "execution_count": null,
   "metadata": {},
   "outputs": [],
   "source": []
  },
  {
   "cell_type": "code",
   "execution_count": null,
   "metadata": {},
   "outputs": [],
   "source": []
  },
  {
   "cell_type": "code",
   "execution_count": null,
   "metadata": {},
   "outputs": [],
   "source": []
  },
  {
   "cell_type": "code",
   "execution_count": null,
   "metadata": {},
   "outputs": [],
   "source": []
  },
  {
   "cell_type": "code",
   "execution_count": null,
   "metadata": {},
   "outputs": [],
   "source": []
  },
  {
   "cell_type": "code",
   "execution_count": null,
   "metadata": {},
   "outputs": [],
   "source": []
  },
  {
   "cell_type": "code",
   "execution_count": null,
   "metadata": {},
   "outputs": [],
   "source": []
  }
 ],
 "metadata": {
  "kernelspec": {
   "display_name": "Python 3",
   "language": "python",
   "name": "python3"
  },
  "language_info": {
   "codemirror_mode": {
    "name": "ipython",
    "version": 3
   },
   "file_extension": ".py",
   "mimetype": "text/x-python",
   "name": "python",
   "nbconvert_exporter": "python",
   "pygments_lexer": "ipython3",
   "version": "3.7.6"
  }
 },
 "nbformat": 4,
 "nbformat_minor": 4
}
