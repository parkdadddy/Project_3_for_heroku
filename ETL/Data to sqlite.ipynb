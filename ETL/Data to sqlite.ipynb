{
 "cells": [
  {
   "cell_type": "code",
   "execution_count": 8,
   "metadata": {},
   "outputs": [],
   "source": [
    "import os\n",
    "\n",
    "import pandas as pd\n",
    "import numpy as np\n",
    "\n",
    "import sqlalchemy\n",
    "from sqlalchemy.ext.automap import automap_base\n",
    "from sqlalchemy.orm import Session\n",
    "from sqlalchemy import create_engine\n",
    "\n",
    "from flask import Flask, jsonify, render_template\n",
    "from flask_sqlalchemy import SQLAlchemy\n",
    "from sqlalchemy import create_engine, inspect"
   ]
  },
  {
   "cell_type": "code",
   "execution_count": 9,
   "metadata": {},
   "outputs": [],
   "source": [
    "engine = create_engine('sqlite:///gentrification.db')\n"
   ]
  },
  {
   "cell_type": "code",
   "execution_count": 10,
   "metadata": {},
   "outputs": [
    {
     "data": {
      "text/plain": [
       "['total_attributes']"
      ]
     },
     "execution_count": 10,
     "metadata": {},
     "output_type": "execute_result"
    }
   ],
   "source": [
    "# reflect an existing database into a new model\n",
    "Base = automap_base()\n",
    "# reflect the tables\n",
    "Base.prepare(engine, reflect=True)\n",
    "        \n",
    "# Save reference to the table\n",
    "Base.classes.keys()"
   ]
  },
  {
   "cell_type": "code",
   "execution_count": 11,
   "metadata": {},
   "outputs": [
    {
     "data": {
      "text/plain": [
       "['total_attributes']"
      ]
     },
     "execution_count": 11,
     "metadata": {},
     "output_type": "execute_result"
    }
   ],
   "source": [
    "inspector = inspect(engine)\n",
    "inspector.get_table_names()"
   ]
  },
  {
   "cell_type": "code",
   "execution_count": 12,
   "metadata": {},
   "outputs": [
    {
     "name": "stdout",
     "output_type": "stream",
     "text": [
      "id\n",
      "SA2_Code\n",
      "SA2_Name\n",
      "Rent_2006\n",
      "Rent_2011\n",
      "Rent_2016\n",
      "Rent_per_2006_2011\n",
      "Rent_per_2011_2016\n",
      "Rent_per_2006_2016\n",
      "House_avg2006\n",
      "House_avg2011\n",
      "House_avg2016\n",
      "House_per_2006_2011\n",
      "House_per_2011_2016\n",
      "House_per_2006_2016\n",
      "Income_total_2006\n",
      "Income_total_2011\n",
      "Income_total_2016\n",
      "Income_per_2006_2011\n",
      "Income_per_2011_2016\n",
      "Income_per_2006_2016\n",
      "Bachelor_2006\n",
      "Bachelor_2011\n",
      "Bachelor_2016\n",
      "Bachelor_per_2006_2011\n",
      "Bachelor_per_2011_2016\n",
      "Bachelor_per_2006_2016\n",
      "Sum2006_2011\n",
      "Sum2011_2016\n",
      "Sum2006_2016\n"
     ]
    }
   ],
   "source": [
    "columns = inspector.get_columns('total_attributes')\n",
    "for c in columns:\n",
    "    print(c['name'])"
   ]
  },
  {
   "cell_type": "code",
   "execution_count": 13,
   "metadata": {},
   "outputs": [
    {
     "name": "stdout",
     "output_type": "stream",
     "text": [
      "('16',)\n"
     ]
    }
   ],
   "source": [
    "Data = Base.classes.total_attributes\n",
    "session = Session(engine)\n",
    "results = session.query(Data.id)\n",
    "print(results[0])"
   ]
  },
  {
   "cell_type": "code",
   "execution_count": 14,
   "metadata": {},
   "outputs": [
    {
     "name": "stdout",
     "output_type": "stream",
     "text": [
      "-----------------------\n",
      "<sqlalchemy.orm.session.Session object at 0x000002023F547448>\n"
     ]
    }
   ],
   "source": [
    "\n",
    "Gentrification = [\n",
    "    Data.id,\n",
    "    Data.SA2_Code,\n",
    "    Data.SA2_Name,\n",
    "    Data.Rent_2006,\n",
    "    Data.Rent_2011,\n",
    "    Data.Rent_2016,\n",
    "    Data.Rent_per_2006_2011,\n",
    "    Data.Rent_per_2011_2016,\n",
    "    Data.Rent_per_2006_2016,\n",
    "    Data.House_avg2006,\n",
    "    Data.House_avg2011,\n",
    "    Data.House_avg2016,\n",
    "    Data.House_per_2006_2011,\n",
    "    Data.House_per_2011_2016,\n",
    "    Data.House_per_2006_2016,\n",
    "    Data.Income_total_2006,\n",
    "    Data.Income_total_2011,\n",
    "    Data.Income_total_2016,\n",
    "    Data.Income_per_2006_2011,\n",
    "    Data.Income_per_2011_2016,\n",
    "    Data.Income_per_2006_2016,\n",
    "    Data.Bachelor_2006,\n",
    "    Data.Bachelor_2011,\n",
    "    Data.Bachelor_2016,\n",
    "    Data.Bachelor_per_2006_2011,\n",
    "    Data.Bachelor_per_2011_2016,\n",
    "    Data.Bachelor_per_2006_2016,\n",
    "    Data.Sum2006_2011,\n",
    "    Data.Sum2011_2016,\n",
    "    Data.Sum2006_2016\n",
    "    ]\n",
    "\n",
    "\n",
    "session = Session(engine)\n",
    "print(\"-----------------------\")\n",
    "\n",
    "print(session)\n",
    "# results = session.query(*crash).filter(Data.YEAR == year).all()\n",
    "results = session.query(*Gentrification).all()"
   ]
  },
  {
   "cell_type": "code",
   "execution_count": null,
   "metadata": {},
   "outputs": [],
   "source": []
  }
 ],
 "metadata": {
  "kernelspec": {
   "display_name": "Python 3",
   "language": "python",
   "name": "python3"
  },
  "language_info": {
   "codemirror_mode": {
    "name": "ipython",
    "version": 3
   },
   "file_extension": ".py",
   "mimetype": "text/x-python",
   "name": "python",
   "nbconvert_exporter": "python",
   "pygments_lexer": "ipython3",
   "version": "3.7.6"
  }
 },
 "nbformat": 4,
 "nbformat_minor": 4
}
