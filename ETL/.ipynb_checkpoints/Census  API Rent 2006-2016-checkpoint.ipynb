{
 "cells": [
  {
   "cell_type": "code",
   "execution_count": 1,
   "metadata": {},
   "outputs": [],
   "source": [
    "import pandas as pd\n",
    "import requests\n",
    "import json"
   ]
  },
  {
   "cell_type": "code",
   "execution_count": 2,
   "metadata": {},
   "outputs": [
    {
     "data": {
      "text/html": [
       "<div>\n",
       "<style scoped>\n",
       "    .dataframe tbody tr th:only-of-type {\n",
       "        vertical-align: middle;\n",
       "    }\n",
       "\n",
       "    .dataframe tbody tr th {\n",
       "        vertical-align: top;\n",
       "    }\n",
       "\n",
       "    .dataframe thead th {\n",
       "        text-align: right;\n",
       "    }\n",
       "</style>\n",
       "<table border=\"1\" class=\"dataframe\">\n",
       "  <thead>\n",
       "    <tr style=\"text-align: right;\">\n",
       "      <th></th>\n",
       "      <th>SA2_MAINCODE_2016</th>\n",
       "      <th>SA2_5DIGITCODE_2016</th>\n",
       "      <th>SA2_NAME_2016</th>\n",
       "      <th>SA3_CODE_2016</th>\n",
       "      <th>SA3_NAME_2016</th>\n",
       "      <th>SA4_CODE_2016</th>\n",
       "      <th>SA4_NAME_2016</th>\n",
       "      <th>GCCSA_CODE_2016</th>\n",
       "      <th>GCCSA_NAME_2016</th>\n",
       "      <th>STATE_CODE_2016</th>\n",
       "      <th>STATE_NAME_2016</th>\n",
       "      <th>AREA_ALBERS_SQKM</th>\n",
       "    </tr>\n",
       "  </thead>\n",
       "  <tbody>\n",
       "    <tr>\n",
       "      <th>0</th>\n",
       "      <td>101021007</td>\n",
       "      <td>11007</td>\n",
       "      <td>Braidwood</td>\n",
       "      <td>10102</td>\n",
       "      <td>Queanbeyan</td>\n",
       "      <td>101</td>\n",
       "      <td>Capital Region</td>\n",
       "      <td>1RNSW</td>\n",
       "      <td>Rest of NSW</td>\n",
       "      <td>1</td>\n",
       "      <td>New South Wales</td>\n",
       "      <td>3418.3525</td>\n",
       "    </tr>\n",
       "    <tr>\n",
       "      <th>1</th>\n",
       "      <td>101021008</td>\n",
       "      <td>11008</td>\n",
       "      <td>Karabar</td>\n",
       "      <td>10102</td>\n",
       "      <td>Queanbeyan</td>\n",
       "      <td>101</td>\n",
       "      <td>Capital Region</td>\n",
       "      <td>1RNSW</td>\n",
       "      <td>Rest of NSW</td>\n",
       "      <td>1</td>\n",
       "      <td>New South Wales</td>\n",
       "      <td>6.9825</td>\n",
       "    </tr>\n",
       "    <tr>\n",
       "      <th>2</th>\n",
       "      <td>101021009</td>\n",
       "      <td>11009</td>\n",
       "      <td>Queanbeyan</td>\n",
       "      <td>10102</td>\n",
       "      <td>Queanbeyan</td>\n",
       "      <td>101</td>\n",
       "      <td>Capital Region</td>\n",
       "      <td>1RNSW</td>\n",
       "      <td>Rest of NSW</td>\n",
       "      <td>1</td>\n",
       "      <td>New South Wales</td>\n",
       "      <td>4.7634</td>\n",
       "    </tr>\n",
       "    <tr>\n",
       "      <th>3</th>\n",
       "      <td>101021010</td>\n",
       "      <td>11010</td>\n",
       "      <td>Queanbeyan - East</td>\n",
       "      <td>10102</td>\n",
       "      <td>Queanbeyan</td>\n",
       "      <td>101</td>\n",
       "      <td>Capital Region</td>\n",
       "      <td>1RNSW</td>\n",
       "      <td>Rest of NSW</td>\n",
       "      <td>1</td>\n",
       "      <td>New South Wales</td>\n",
       "      <td>13.0034</td>\n",
       "    </tr>\n",
       "    <tr>\n",
       "      <th>4</th>\n",
       "      <td>101021011</td>\n",
       "      <td>11011</td>\n",
       "      <td>Queanbeyan Region</td>\n",
       "      <td>10102</td>\n",
       "      <td>Queanbeyan</td>\n",
       "      <td>101</td>\n",
       "      <td>Capital Region</td>\n",
       "      <td>1RNSW</td>\n",
       "      <td>Rest of NSW</td>\n",
       "      <td>1</td>\n",
       "      <td>New South Wales</td>\n",
       "      <td>3054.4099</td>\n",
       "    </tr>\n",
       "  </tbody>\n",
       "</table>\n",
       "</div>"
      ],
      "text/plain": [
       "   SA2_MAINCODE_2016  SA2_5DIGITCODE_2016      SA2_NAME_2016  SA3_CODE_2016  \\\n",
       "0          101021007                11007          Braidwood          10102   \n",
       "1          101021008                11008            Karabar          10102   \n",
       "2          101021009                11009         Queanbeyan          10102   \n",
       "3          101021010                11010  Queanbeyan - East          10102   \n",
       "4          101021011                11011  Queanbeyan Region          10102   \n",
       "\n",
       "  SA3_NAME_2016  SA4_CODE_2016   SA4_NAME_2016 GCCSA_CODE_2016  \\\n",
       "0    Queanbeyan            101  Capital Region           1RNSW   \n",
       "1    Queanbeyan            101  Capital Region           1RNSW   \n",
       "2    Queanbeyan            101  Capital Region           1RNSW   \n",
       "3    Queanbeyan            101  Capital Region           1RNSW   \n",
       "4    Queanbeyan            101  Capital Region           1RNSW   \n",
       "\n",
       "  GCCSA_NAME_2016  STATE_CODE_2016  STATE_NAME_2016  AREA_ALBERS_SQKM  \n",
       "0     Rest of NSW                1  New South Wales         3418.3525  \n",
       "1     Rest of NSW                1  New South Wales            6.9825  \n",
       "2     Rest of NSW                1  New South Wales            4.7634  \n",
       "3     Rest of NSW                1  New South Wales           13.0034  \n",
       "4     Rest of NSW                1  New South Wales         3054.4099  "
      ]
     },
     "execution_count": 2,
     "metadata": {},
     "output_type": "execute_result"
    }
   ],
   "source": [
    "g_perth_sa2 = pd.read_csv(\"SA2_2016_AUST.csv\")\n",
    "g_perth_sa2.head()"
   ]
  },
  {
   "cell_type": "code",
   "execution_count": 3,
   "metadata": {},
   "outputs": [],
   "source": [
    "g_perth_sa2 = g_perth_sa2.loc[g_perth_sa2[\"GCCSA_NAME_2016\"] == \"Greater Perth\"]\n",
    "g_perth_cols = [\"SA2_MAINCODE_2016\", \"SA2_NAME_2016\",\"GCCSA_NAME_2016\"]\n",
    "g_perth_sa2= g_perth_sa2[g_perth_cols].copy()\n",
    "g_perth_sa2.dtypes\n",
    "g_perth_sa2[\"SA2_MAINCODE_2016\"] = g_perth_sa2[\"SA2_MAINCODE_2016\"].apply(str)"
   ]
  },
  {
   "cell_type": "code",
   "execution_count": 4,
   "metadata": {},
   "outputs": [],
   "source": [
    "#make a list of SA2 Maincode for ABS API\n",
    "sa2_list = g_perth_sa2[\"SA2_MAINCODE_2016\"].tolist()\n",
    "rent_dict = {\"SA2 Code\" : [], \"SA2 Name\":[], \"Rent\":[], \"2006\":[], \"2011\":[], \"2016\":[] }"
   ]
  },
  {
   "cell_type": "code",
   "execution_count": 5,
   "metadata": {},
   "outputs": [],
   "source": [
    "# Rent 2006 2011 2016\n",
    "rent_url = \"http://stat.data.abs.gov.au/sdmx-json/data/ABS_C16_T26_TS_SA/TOT.2.5.SA2.506071145/all?detail=Full&dimensionAtObservation=AllDimensions&startPeriod=2006&endPeriod=2016\"\n",
    "\n",
    "bins_rent = ['1','2','3','4', '5', '6', '7', '8', '9', '10', '11', '12', '13', '14', '15', '16', '17', '18', '19', '20', '21', '22', '23']\n",
    "    \n",
    "for sa2 in sa2_list:\n",
    "    for bins in bins_rent:\n",
    "             response = requests.get(f\"http://stat.data.abs.gov.au/sdmx-json/data/ABS_C16_T26_TS_SA/TOT.{bins}.5.SA2.{sa2}/all?detail=Full&dimensionAtObservation=AllDimensions&startPeriod=2006&endPeriod=2016\")\n",
    "             rent = response.json()\n",
    "#              print(rent[\"structure\"][\"dimensions\"][\"observation\"][4][\"values\"][0][\"id\"])\n",
    "#              print(rent[\"structure\"][\"dimensions\"][\"observation\"][4][\"values\"][0][\"name\"])\n",
    "#              print(rent[\"structure\"][\"dimensions\"][\"observation\"][1][\"values\"][0][\"name\"])\n",
    "#              print(rent[\"dataSets\"][0][\"observations\"][\"0:0:0:0:0:0\"][0])\n",
    "#              print(rent[\"dataSets\"][0][\"observations\"][\"0:0:0:0:0:1\"][0])\n",
    "#              print(rent[\"dataSets\"][0][\"observations\"][\"0:0:0:0:0:2\"][0])\n",
    "             rent_dict[\"SA2 Code\"].append(rent[\"structure\"][\"dimensions\"][\"observation\"][4][\"values\"][0][\"id\"])\n",
    "             rent_dict[\"SA2 Name\"].append(rent[\"structure\"][\"dimensions\"][\"observation\"][4][\"values\"][0][\"name\"])\n",
    "             rent_dict[\"Rent\"].append(rent[\"structure\"][\"dimensions\"][\"observation\"][1][\"values\"][0][\"name\"])\n",
    "             rent_dict[\"2006\"].append(rent[\"dataSets\"][0][\"observations\"][\"0:0:0:0:0:0\"][0])\n",
    "             rent_dict[\"2011\"].append(rent[\"dataSets\"][0][\"observations\"][\"0:0:0:0:0:1\"][0])\n",
    "             rent_dict[\"2016\"].append(rent[\"dataSets\"][0][\"observations\"][\"0:0:0:0:0:2\"][0])\n",
    " \n",
    "#            print(rent_dict)\n"
   ]
  },
  {
   "cell_type": "code",
   "execution_count": 2,
   "metadata": {},
   "outputs": [
    {
     "ename": "NameError",
     "evalue": "name 'pd' is not defined",
     "output_type": "error",
     "traceback": [
      "\u001b[1;31m---------------------------------------------------------------------------\u001b[0m",
      "\u001b[1;31mNameError\u001b[0m                                 Traceback (most recent call last)",
      "\u001b[1;32m<ipython-input-2-1c374582179b>\u001b[0m in \u001b[0;36m<module>\u001b[1;34m\u001b[0m\n\u001b[1;32m----> 1\u001b[1;33m \u001b[0mrent_df\u001b[0m \u001b[1;33m=\u001b[0m \u001b[0mpd\u001b[0m\u001b[1;33m.\u001b[0m\u001b[0mDataFrame\u001b[0m\u001b[1;33m(\u001b[0m\u001b[0mrent_dict\u001b[0m\u001b[1;33m)\u001b[0m\u001b[1;33m\u001b[0m\u001b[1;33m\u001b[0m\u001b[0m\n\u001b[0m\u001b[0;32m      2\u001b[0m \u001b[0mprint\u001b[0m\u001b[1;33m(\u001b[0m\u001b[0mrent_df\u001b[0m\u001b[1;33m)\u001b[0m\u001b[1;33m\u001b[0m\u001b[1;33m\u001b[0m\u001b[0m\n",
      "\u001b[1;31mNameError\u001b[0m: name 'pd' is not defined"
     ]
    }
   ],
   "source": [
    "rent_df = pd.DataFrame(rent_dict)\n",
    "print(rent_df)"
   ]
  },
  {
   "cell_type": "code",
   "execution_count": 8,
   "metadata": {},
   "outputs": [],
   "source": [
    "rent_df.to_csv(\"Rent 2006-2016.csv\")"
   ]
  },
  {
   "cell_type": "code",
   "execution_count": null,
   "metadata": {},
   "outputs": [],
   "source": [
    "rent_df['2006'] = rent_df['2006'].replace()"
   ]
  },
  {
   "cell_type": "code",
   "execution_count": 1,
   "metadata": {},
   "outputs": [
    {
     "ename": "NameError",
     "evalue": "name 'rent_df' is not defined",
     "output_type": "error",
     "traceback": [
      "\u001b[1;31m---------------------------------------------------------------------------\u001b[0m",
      "\u001b[1;31mNameError\u001b[0m                                 Traceback (most recent call last)",
      "\u001b[1;32m<ipython-input-1-bd37b2e56a72>\u001b[0m in \u001b[0;36m<module>\u001b[1;34m\u001b[0m\n\u001b[1;32m----> 1\u001b[1;33m \u001b[0mrent_df\u001b[0m\u001b[1;33m.\u001b[0m\u001b[0mGroupBy\u001b[0m\u001b[1;33m.\u001b[0m\u001b[0mmedian\u001b[0m\u001b[1;33m(\u001b[0m\u001b[0mnumeric_only\u001b[0m\u001b[1;33m=\u001b[0m\u001b[1;32mTrue\u001b[0m\u001b[1;33m)\u001b[0m\u001b[1;33m\u001b[0m\u001b[1;33m\u001b[0m\u001b[0m\n\u001b[0m",
      "\u001b[1;31mNameError\u001b[0m: name 'rent_df' is not defined"
     ]
    }
   ],
   "source": []
  },
  {
   "cell_type": "code",
   "execution_count": null,
   "metadata": {},
   "outputs": [],
   "source": []
  }
 ],
 "metadata": {
  "kernelspec": {
   "display_name": "Python 3",
   "language": "python",
   "name": "python3"
  },
  "language_info": {
   "codemirror_mode": {
    "name": "ipython",
    "version": 3
   },
   "file_extension": ".py",
   "mimetype": "text/x-python",
   "name": "python",
   "nbconvert_exporter": "python",
   "pygments_lexer": "ipython3",
   "version": "3.7.6"
  }
 },
 "nbformat": 4,
 "nbformat_minor": 4
}
