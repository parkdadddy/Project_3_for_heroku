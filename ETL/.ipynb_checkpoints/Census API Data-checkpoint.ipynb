{
 "cells": [
  {
   "cell_type": "code",
   "execution_count": 27,
   "metadata": {},
   "outputs": [],
   "source": [
    "import pandas as pd\n",
    "import requests\n",
    "import json"
   ]
  },
  {
   "cell_type": "code",
   "execution_count": 28,
   "metadata": {},
   "outputs": [
    {
     "data": {
      "text/html": [
       "<div>\n",
       "<style scoped>\n",
       "    .dataframe tbody tr th:only-of-type {\n",
       "        vertical-align: middle;\n",
       "    }\n",
       "\n",
       "    .dataframe tbody tr th {\n",
       "        vertical-align: top;\n",
       "    }\n",
       "\n",
       "    .dataframe thead th {\n",
       "        text-align: right;\n",
       "    }\n",
       "</style>\n",
       "<table border=\"1\" class=\"dataframe\">\n",
       "  <thead>\n",
       "    <tr style=\"text-align: right;\">\n",
       "      <th></th>\n",
       "      <th>SA2_MAINCODE_2016</th>\n",
       "      <th>SA2_5DIGITCODE_2016</th>\n",
       "      <th>SA2_NAME_2016</th>\n",
       "      <th>SA3_CODE_2016</th>\n",
       "      <th>SA3_NAME_2016</th>\n",
       "      <th>SA4_CODE_2016</th>\n",
       "      <th>SA4_NAME_2016</th>\n",
       "      <th>GCCSA_CODE_2016</th>\n",
       "      <th>GCCSA_NAME_2016</th>\n",
       "      <th>STATE_CODE_2016</th>\n",
       "      <th>STATE_NAME_2016</th>\n",
       "      <th>AREA_ALBERS_SQKM</th>\n",
       "    </tr>\n",
       "  </thead>\n",
       "  <tbody>\n",
       "    <tr>\n",
       "      <th>0</th>\n",
       "      <td>101021007</td>\n",
       "      <td>11007</td>\n",
       "      <td>Braidwood</td>\n",
       "      <td>10102</td>\n",
       "      <td>Queanbeyan</td>\n",
       "      <td>101</td>\n",
       "      <td>Capital Region</td>\n",
       "      <td>1RNSW</td>\n",
       "      <td>Rest of NSW</td>\n",
       "      <td>1</td>\n",
       "      <td>New South Wales</td>\n",
       "      <td>3418.3525</td>\n",
       "    </tr>\n",
       "    <tr>\n",
       "      <th>1</th>\n",
       "      <td>101021008</td>\n",
       "      <td>11008</td>\n",
       "      <td>Karabar</td>\n",
       "      <td>10102</td>\n",
       "      <td>Queanbeyan</td>\n",
       "      <td>101</td>\n",
       "      <td>Capital Region</td>\n",
       "      <td>1RNSW</td>\n",
       "      <td>Rest of NSW</td>\n",
       "      <td>1</td>\n",
       "      <td>New South Wales</td>\n",
       "      <td>6.9825</td>\n",
       "    </tr>\n",
       "    <tr>\n",
       "      <th>2</th>\n",
       "      <td>101021009</td>\n",
       "      <td>11009</td>\n",
       "      <td>Queanbeyan</td>\n",
       "      <td>10102</td>\n",
       "      <td>Queanbeyan</td>\n",
       "      <td>101</td>\n",
       "      <td>Capital Region</td>\n",
       "      <td>1RNSW</td>\n",
       "      <td>Rest of NSW</td>\n",
       "      <td>1</td>\n",
       "      <td>New South Wales</td>\n",
       "      <td>4.7634</td>\n",
       "    </tr>\n",
       "    <tr>\n",
       "      <th>3</th>\n",
       "      <td>101021010</td>\n",
       "      <td>11010</td>\n",
       "      <td>Queanbeyan - East</td>\n",
       "      <td>10102</td>\n",
       "      <td>Queanbeyan</td>\n",
       "      <td>101</td>\n",
       "      <td>Capital Region</td>\n",
       "      <td>1RNSW</td>\n",
       "      <td>Rest of NSW</td>\n",
       "      <td>1</td>\n",
       "      <td>New South Wales</td>\n",
       "      <td>13.0034</td>\n",
       "    </tr>\n",
       "    <tr>\n",
       "      <th>4</th>\n",
       "      <td>101021011</td>\n",
       "      <td>11011</td>\n",
       "      <td>Queanbeyan Region</td>\n",
       "      <td>10102</td>\n",
       "      <td>Queanbeyan</td>\n",
       "      <td>101</td>\n",
       "      <td>Capital Region</td>\n",
       "      <td>1RNSW</td>\n",
       "      <td>Rest of NSW</td>\n",
       "      <td>1</td>\n",
       "      <td>New South Wales</td>\n",
       "      <td>3054.4099</td>\n",
       "    </tr>\n",
       "  </tbody>\n",
       "</table>\n",
       "</div>"
      ],
      "text/plain": [
       "   SA2_MAINCODE_2016  SA2_5DIGITCODE_2016      SA2_NAME_2016  SA3_CODE_2016  \\\n",
       "0          101021007                11007          Braidwood          10102   \n",
       "1          101021008                11008            Karabar          10102   \n",
       "2          101021009                11009         Queanbeyan          10102   \n",
       "3          101021010                11010  Queanbeyan - East          10102   \n",
       "4          101021011                11011  Queanbeyan Region          10102   \n",
       "\n",
       "  SA3_NAME_2016  SA4_CODE_2016   SA4_NAME_2016 GCCSA_CODE_2016  \\\n",
       "0    Queanbeyan            101  Capital Region           1RNSW   \n",
       "1    Queanbeyan            101  Capital Region           1RNSW   \n",
       "2    Queanbeyan            101  Capital Region           1RNSW   \n",
       "3    Queanbeyan            101  Capital Region           1RNSW   \n",
       "4    Queanbeyan            101  Capital Region           1RNSW   \n",
       "\n",
       "  GCCSA_NAME_2016  STATE_CODE_2016  STATE_NAME_2016  AREA_ALBERS_SQKM  \n",
       "0     Rest of NSW                1  New South Wales         3418.3525  \n",
       "1     Rest of NSW                1  New South Wales            6.9825  \n",
       "2     Rest of NSW                1  New South Wales            4.7634  \n",
       "3     Rest of NSW                1  New South Wales           13.0034  \n",
       "4     Rest of NSW                1  New South Wales         3054.4099  "
      ]
     },
     "execution_count": 28,
     "metadata": {},
     "output_type": "execute_result"
    }
   ],
   "source": [
    "g_perth_sa2 = pd.read_csv(\"SA2_2016_AUST.csv\")\n",
    "g_perth_sa2.head()"
   ]
  },
  {
   "cell_type": "code",
   "execution_count": 29,
   "metadata": {},
   "outputs": [],
   "source": [
    "g_perth_sa2 = g_perth_sa2.loc[g_perth_sa2[\"GCCSA_NAME_2016\"] == \"Greater Perth\"]\n"
   ]
  },
  {
   "cell_type": "code",
   "execution_count": 30,
   "metadata": {},
   "outputs": [],
   "source": [
    "g_perth_cols = [\"SA2_MAINCODE_2016\", \"SA2_NAME_2016\",\"GCCSA_NAME_2016\"]\n",
    "g_perth_sa2= g_perth_sa2[g_perth_cols].copy()\n",
    "\n",
    "g_perth_sa2.dtypes\n",
    "\n",
    "g_perth_sa2[\"SA2_MAINCODE_2016\"] = g_perth_sa2[\"SA2_MAINCODE_2016\"].apply(str)"
   ]
  },
  {
   "cell_type": "code",
   "execution_count": 31,
   "metadata": {},
   "outputs": [],
   "source": [
    "#make a list of SA2 Maincode for ABS API\n",
    "sa2_list = g_perth_sa2[\"SA2_MAINCODE_2016\"].tolist()\n",
    "# sa2_list\n"
   ]
  },
  {
   "cell_type": "code",
   "execution_count": 32,
   "metadata": {},
   "outputs": [],
   "source": [
    "# Census API\n",
    "base_url =  \"http://stat.data.abs.gov.au/sdmx-json/data/ABS_SEIFA2016_SA2/505011079.IRSAD.SCORE/all?detail=Full&dimensionAtObservation=AllDimensions&startPeriod=2016\"\n",
    "# response = requests.get(base_url)\n",
    "# print(response.json())\n",
    "\n",
    "part1_url = \"http://stat.data.abs.gov.au/sdmx-json/data/ABS_SEIFA2016_SA2/\"\n",
    "part2_url = \".IRSAD.SCORE/all?detail=Full&dimensionAtObservation=AllDimensions&startPeriod=2016?\"\n"
   ]
  },
  {
   "cell_type": "code",
   "execution_count": 33,
   "metadata": {},
   "outputs": [
    {
     "name": "stdout",
     "output_type": "stream",
     "text": [
      "{'header': {'id': 'c34d6c93-dafa-487e-9df7-a8bd63021e1d', 'test': False, 'prepared': '2020-10-29T15:17:06.8672111Z', 'sender': {'id': 'ABS', 'name': 'Australian Bureau of Statistics'}, 'links': [{'href': 'http://stat.data.abs.gov.au:80/sdmx-json/data/ABS_SEIFA2016_SA2/502011021.IRSAD.SCORE/all?detail=Full&dimensionAtObservation=AllDimensions&startPeriod=2016', 'rel': 'request'}]}, 'dataSets': [{'action': 'Information', 'observations': {'0:0:0:0': [988.0, 0, None]}}], 'structure': {'links': [{'href': 'http://stat.data.abs.gov.au/sdmx-json/dataflow/ABS_SEIFA2016_SA2/all', 'rel': 'dataflow'}], 'name': 'SEIFA 2016 by Statistical Area 2', 'description': 'SEIFA 2016 by Statistical Area 2', 'dimensions': {'observation': [{'keyPosition': 0, 'id': 'ASGS_2016', 'name': 'Statistical Area (SA) 2', 'values': [{'id': '502011021', 'name': 'Dawesville - Bouvard'}]}, {'keyPosition': 1, 'id': 'SEIFAINDEXTYPE', 'name': 'Index Type', 'values': [{'id': 'IRSAD', 'name': 'Index of Relative Socio-economic Advantage and Disadvantage'}]}, {'keyPosition': 2, 'id': 'SEIFA_MEASURE', 'name': 'Measure', 'values': [{'id': 'SCORE', 'name': 'Score'}]}, {'id': 'TIME_PERIOD', 'name': 'Time', 'values': [{'id': '2016', 'name': '2016'}], 'role': 'TIME_PERIOD'}]}, 'attributes': {'dataSet': [], 'series': [], 'observation': [{'id': 'TIME_FORMAT', 'name': 'Time Format', 'values': [{'id': 'P1Y', 'name': 'Annual'}]}, {'id': 'OBS_STATUS', 'name': 'Observation Status', 'values': []}]}, 'annotations': [{'title': 'Statistical usage warning', 'uri': '', 'text': 'ABS.Stat beta is continuing to be developed.  Data will be updated as soon as possible following its 11:30 am release on the ABS website.'}]}}\n",
      "{'header': {'id': 'c9374b0d-3b11-4f43-99ab-d9d08018998b', 'test': False, 'prepared': '2020-10-29T15:17:07.2226424Z', 'sender': {'id': 'ABS', 'name': 'Australian Bureau of Statistics'}, 'links': [{'href': 'http://stat.data.abs.gov.au:80/sdmx-json/data/ABS_SEIFA2016_SA2/502011022.IRSAD.SCORE/all?detail=Full&dimensionAtObservation=AllDimensions&startPeriod=2016', 'rel': 'request'}]}, 'dataSets': [{'action': 'Information', 'observations': {'0:0:0:0': [979.0, 0, None]}}], 'structure': {'links': [{'href': 'http://stat.data.abs.gov.au/sdmx-json/dataflow/ABS_SEIFA2016_SA2/all', 'rel': 'dataflow'}], 'name': 'SEIFA 2016 by Statistical Area 2', 'description': 'SEIFA 2016 by Statistical Area 2', 'dimensions': {'observation': [{'keyPosition': 0, 'id': 'ASGS_2016', 'name': 'Statistical Area (SA) 2', 'values': [{'id': '502011022', 'name': 'Falcon - Wannanup'}]}, {'keyPosition': 1, 'id': 'SEIFAINDEXTYPE', 'name': 'Index Type', 'values': [{'id': 'IRSAD', 'name': 'Index of Relative Socio-economic Advantage and Disadvantage'}]}, {'keyPosition': 2, 'id': 'SEIFA_MEASURE', 'name': 'Measure', 'values': [{'id': 'SCORE', 'name': 'Score'}]}, {'id': 'TIME_PERIOD', 'name': 'Time', 'values': [{'id': '2016', 'name': '2016'}], 'role': 'TIME_PERIOD'}]}, 'attributes': {'dataSet': [], 'series': [], 'observation': [{'id': 'TIME_FORMAT', 'name': 'Time Format', 'values': [{'id': 'P1Y', 'name': 'Annual'}]}, {'id': 'OBS_STATUS', 'name': 'Observation Status', 'values': []}]}, 'annotations': [{'title': 'Statistical usage warning', 'uri': '', 'text': 'ABS.Stat beta is continuing to be developed.  Data will be updated as soon as possible following its 11:30 am release on the ABS website.'}]}}\n",
      "{'header': {'id': '0fc0da84-c240-451c-8c38-fa0cde6fd80f', 'test': False, 'prepared': '2020-10-29T15:27:05.5167883Z', 'sender': {'id': 'ABS', 'name': 'Australian Bureau of Statistics'}, 'links': [{'href': 'http://stat.data.abs.gov.au:80/sdmx-json/data/ABS_SEIFA2016_SA2/502011023.IRSAD.SCORE/all?detail=Full&dimensionAtObservation=AllDimensions&startPeriod=2016', 'rel': 'request'}]}, 'dataSets': [{'action': 'Information', 'observations': {'0:0:0:0': [903.0, 0, None]}}], 'structure': {'links': [{'href': 'http://stat.data.abs.gov.au/sdmx-json/dataflow/ABS_SEIFA2016_SA2/all', 'rel': 'dataflow'}], 'name': 'SEIFA 2016 by Statistical Area 2', 'description': 'SEIFA 2016 by Statistical Area 2', 'dimensions': {'observation': [{'keyPosition': 0, 'id': 'ASGS_2016', 'name': 'Statistical Area (SA) 2', 'values': [{'id': '502011023', 'name': 'Greenfields'}]}, {'keyPosition': 1, 'id': 'SEIFAINDEXTYPE', 'name': 'Index Type', 'values': [{'id': 'IRSAD', 'name': 'Index of Relative Socio-economic Advantage and Disadvantage'}]}, {'keyPosition': 2, 'id': 'SEIFA_MEASURE', 'name': 'Measure', 'values': [{'id': 'SCORE', 'name': 'Score'}]}, {'id': 'TIME_PERIOD', 'name': 'Time', 'values': [{'id': '2016', 'name': '2016'}], 'role': 'TIME_PERIOD'}]}, 'attributes': {'dataSet': [], 'series': [], 'observation': [{'id': 'TIME_FORMAT', 'name': 'Time Format', 'values': [{'id': 'P1Y', 'name': 'Annual'}]}, {'id': 'OBS_STATUS', 'name': 'Observation Status', 'values': []}]}, 'annotations': [{'title': 'Statistical usage warning', 'uri': '', 'text': 'ABS.Stat beta is continuing to be developed.  Data will be updated as soon as possible following its 11:30 am release on the ABS website.'}]}}\n",
      "{'header': {'id': '3f9e6380-e777-41c8-a725-715ba9e5d977', 'test': False, 'prepared': '2020-10-29T15:28:56.6587316Z', 'sender': {'id': 'ABS', 'name': 'Australian Bureau of Statistics'}, 'links': [{'href': 'http://stat.data.abs.gov.au:80/sdmx-json/data/ABS_SEIFA2016_SA2/502011024.IRSAD.SCORE/all?detail=Full&dimensionAtObservation=AllDimensions&startPeriod=2016', 'rel': 'request'}]}, 'dataSets': [{'action': 'Information', 'observations': {'0:0:0:0': [998.0, 0, None]}}], 'structure': {'links': [{'href': 'http://stat.data.abs.gov.au/sdmx-json/dataflow/ABS_SEIFA2016_SA2/all', 'rel': 'dataflow'}], 'name': 'SEIFA 2016 by Statistical Area 2', 'description': 'SEIFA 2016 by Statistical Area 2', 'dimensions': {'observation': [{'keyPosition': 0, 'id': 'ASGS_2016', 'name': 'Statistical Area (SA) 2', 'values': [{'id': '502011024', 'name': 'Halls Head - Erskine'}]}, {'keyPosition': 1, 'id': 'SEIFAINDEXTYPE', 'name': 'Index Type', 'values': [{'id': 'IRSAD', 'name': 'Index of Relative Socio-economic Advantage and Disadvantage'}]}, {'keyPosition': 2, 'id': 'SEIFA_MEASURE', 'name': 'Measure', 'values': [{'id': 'SCORE', 'name': 'Score'}]}, {'id': 'TIME_PERIOD', 'name': 'Time', 'values': [{'id': '2016', 'name': '2016'}], 'role': 'TIME_PERIOD'}]}, 'attributes': {'dataSet': [], 'series': [], 'observation': [{'id': 'TIME_FORMAT', 'name': 'Time Format', 'values': [{'id': 'P1Y', 'name': 'Annual'}]}, {'id': 'OBS_STATUS', 'name': 'Observation Status', 'values': []}]}, 'annotations': [{'title': 'Statistical usage warning', 'uri': '', 'text': 'ABS.Stat beta is continuing to be developed.  Data will be updated as soon as possible following its 11:30 am release on the ABS website.'}]}}\n",
      "{'header': {'id': '8175148f-349f-4cb0-8532-13e2f2256b40', 'test': False, 'prepared': '2020-10-29T15:27:06.1262035Z', 'sender': {'id': 'ABS', 'name': 'Australian Bureau of Statistics'}, 'links': [{'href': 'http://stat.data.abs.gov.au:80/sdmx-json/data/ABS_SEIFA2016_SA2/502011025.IRSAD.SCORE/all?detail=Full&dimensionAtObservation=AllDimensions&startPeriod=2016', 'rel': 'request'}]}, 'dataSets': [{'action': 'Information', 'observations': {'0:0:0:0': [876.0, 0, None]}}], 'structure': {'links': [{'href': 'http://stat.data.abs.gov.au/sdmx-json/dataflow/ABS_SEIFA2016_SA2/all', 'rel': 'dataflow'}], 'name': 'SEIFA 2016 by Statistical Area 2', 'description': 'SEIFA 2016 by Statistical Area 2', 'dimensions': {'observation': [{'keyPosition': 0, 'id': 'ASGS_2016', 'name': 'Statistical Area (SA) 2', 'values': [{'id': '502011025', 'name': 'Mandurah'}]}, {'keyPosition': 1, 'id': 'SEIFAINDEXTYPE', 'name': 'Index Type', 'values': [{'id': 'IRSAD', 'name': 'Index of Relative Socio-economic Advantage and Disadvantage'}]}, {'keyPosition': 2, 'id': 'SEIFA_MEASURE', 'name': 'Measure', 'values': [{'id': 'SCORE', 'name': 'Score'}]}, {'id': 'TIME_PERIOD', 'name': 'Time', 'values': [{'id': '2016', 'name': '2016'}], 'role': 'TIME_PERIOD'}]}, 'attributes': {'dataSet': [], 'series': [], 'observation': [{'id': 'TIME_FORMAT', 'name': 'Time Format', 'values': [{'id': 'P1Y', 'name': 'Annual'}]}, {'id': 'OBS_STATUS', 'name': 'Observation Status', 'values': []}]}, 'annotations': [{'title': 'Statistical usage warning', 'uri': '', 'text': 'ABS.Stat beta is continuing to be developed.  Data will be updated as soon as possible following its 11:30 am release on the ABS website.'}]}}\n",
      "{'header': {'id': 'be03e5e2-fe2b-4885-8003-0ae507e9a392', 'test': False, 'prepared': '2020-10-29T15:28:58.1523542Z', 'sender': {'id': 'ABS', 'name': 'Australian Bureau of Statistics'}, 'links': [{'href': 'http://stat.data.abs.gov.au:80/sdmx-json/data/ABS_SEIFA2016_SA2/502011026.IRSAD.SCORE/all?detail=Full&dimensionAtObservation=AllDimensions&startPeriod=2016', 'rel': 'request'}]}, 'dataSets': [{'action': 'Information', 'observations': {'0:0:0:0': [956.0, 0, None]}}], 'structure': {'links': [{'href': 'http://stat.data.abs.gov.au/sdmx-json/dataflow/ABS_SEIFA2016_SA2/all', 'rel': 'dataflow'}], 'name': 'SEIFA 2016 by Statistical Area 2', 'description': 'SEIFA 2016 by Statistical Area 2', 'dimensions': {'observation': [{'keyPosition': 0, 'id': 'ASGS_2016', 'name': 'Statistical Area (SA) 2', 'values': [{'id': '502011026', 'name': 'Mandurah - East'}]}, {'keyPosition': 1, 'id': 'SEIFAINDEXTYPE', 'name': 'Index Type', 'values': [{'id': 'IRSAD', 'name': 'Index of Relative Socio-economic Advantage and Disadvantage'}]}, {'keyPosition': 2, 'id': 'SEIFA_MEASURE', 'name': 'Measure', 'values': [{'id': 'SCORE', 'name': 'Score'}]}, {'id': 'TIME_PERIOD', 'name': 'Time', 'values': [{'id': '2016', 'name': '2016'}], 'role': 'TIME_PERIOD'}]}, 'attributes': {'dataSet': [], 'series': [], 'observation': [{'id': 'TIME_FORMAT', 'name': 'Time Format', 'values': [{'id': 'P1Y', 'name': 'Annual'}]}, {'id': 'OBS_STATUS', 'name': 'Observation Status', 'values': []}]}, 'annotations': [{'title': 'Statistical usage warning', 'uri': '', 'text': 'ABS.Stat beta is continuing to be developed.  Data will be updated as soon as possible following its 11:30 am release on the ABS website.'}]}}\n"
     ]
    },
    {
     "name": "stdout",
     "output_type": "stream",
     "text": [
      "{'header': {'id': '3df5d7d3-0ff2-4ebe-8a42-867cf621212b', 'test': False, 'prepared': '2020-10-29T15:17:08.4203552Z', 'sender': {'id': 'ABS', 'name': 'Australian Bureau of Statistics'}, 'links': [{'href': 'http://stat.data.abs.gov.au:80/sdmx-json/data/ABS_SEIFA2016_SA2/502011027.IRSAD.SCORE/all?detail=Full&dimensionAtObservation=AllDimensions&startPeriod=2016', 'rel': 'request'}]}, 'dataSets': [{'action': 'Information', 'observations': {'0:0:0:0': [1001.0, 0, None]}}], 'structure': {'links': [{'href': 'http://stat.data.abs.gov.au/sdmx-json/dataflow/ABS_SEIFA2016_SA2/all', 'rel': 'dataflow'}], 'name': 'SEIFA 2016 by Statistical Area 2', 'description': 'SEIFA 2016 by Statistical Area 2', 'dimensions': {'observation': [{'keyPosition': 0, 'id': 'ASGS_2016', 'name': 'Statistical Area (SA) 2', 'values': [{'id': '502011027', 'name': 'Mandurah - North'}]}, {'keyPosition': 1, 'id': 'SEIFAINDEXTYPE', 'name': 'Index Type', 'values': [{'id': 'IRSAD', 'name': 'Index of Relative Socio-economic Advantage and Disadvantage'}]}, {'keyPosition': 2, 'id': 'SEIFA_MEASURE', 'name': 'Measure', 'values': [{'id': 'SCORE', 'name': 'Score'}]}, {'id': 'TIME_PERIOD', 'name': 'Time', 'values': [{'id': '2016', 'name': '2016'}], 'role': 'TIME_PERIOD'}]}, 'attributes': {'dataSet': [], 'series': [], 'observation': [{'id': 'TIME_FORMAT', 'name': 'Time Format', 'values': [{'id': 'P1Y', 'name': 'Annual'}]}, {'id': 'OBS_STATUS', 'name': 'Observation Status', 'values': []}]}, 'annotations': [{'title': 'Statistical usage warning', 'uri': '', 'text': 'ABS.Stat beta is continuing to be developed.  Data will be updated as soon as possible following its 11:30 am release on the ABS website.'}]}}\n",
      "{'header': {'id': 'bb856bb4-aa72-4d23-8443-a6e91b1413da', 'test': False, 'prepared': '2020-10-29T15:28:04.6511572Z', 'sender': {'id': 'ABS', 'name': 'Australian Bureau of Statistics'}, 'links': [{'href': 'http://stat.data.abs.gov.au:80/sdmx-json/data/ABS_SEIFA2016_SA2/502011028.IRSAD.SCORE/all?detail=Full&dimensionAtObservation=AllDimensions&startPeriod=2016', 'rel': 'request'}]}, 'dataSets': [{'action': 'Information', 'observations': {'0:0:0:0': [906.0, 0, None]}}], 'structure': {'links': [{'href': 'http://stat.data.abs.gov.au/sdmx-json/dataflow/ABS_SEIFA2016_SA2/all', 'rel': 'dataflow'}], 'name': 'SEIFA 2016 by Statistical Area 2', 'description': 'SEIFA 2016 by Statistical Area 2', 'dimensions': {'observation': [{'keyPosition': 0, 'id': 'ASGS_2016', 'name': 'Statistical Area (SA) 2', 'values': [{'id': '502011028', 'name': 'Mandurah - South'}]}, {'keyPosition': 1, 'id': 'SEIFAINDEXTYPE', 'name': 'Index Type', 'values': [{'id': 'IRSAD', 'name': 'Index of Relative Socio-economic Advantage and Disadvantage'}]}, {'keyPosition': 2, 'id': 'SEIFA_MEASURE', 'name': 'Measure', 'values': [{'id': 'SCORE', 'name': 'Score'}]}, {'id': 'TIME_PERIOD', 'name': 'Time', 'values': [{'id': '2016', 'name': '2016'}], 'role': 'TIME_PERIOD'}]}, 'attributes': {'dataSet': [], 'series': [], 'observation': [{'id': 'TIME_FORMAT', 'name': 'Time Format', 'values': [{'id': 'P1Y', 'name': 'Annual'}]}, {'id': 'OBS_STATUS', 'name': 'Observation Status', 'values': []}]}, 'annotations': [{'title': 'Statistical usage warning', 'uri': '', 'text': 'ABS.Stat beta is continuing to be developed.  Data will be updated as soon as possible following its 11:30 am release on the ABS website.'}]}}\n",
      "{'header': {'id': 'd83e8f42-0a8c-48a9-b4a1-567382db6e39', 'test': False, 'prepared': '2020-10-29T15:28:03.7962346Z', 'sender': {'id': 'ABS', 'name': 'Australian Bureau of Statistics'}, 'links': [{'href': 'http://stat.data.abs.gov.au:80/sdmx-json/data/ABS_SEIFA2016_SA2/502011029.IRSAD.SCORE/all?detail=Full&dimensionAtObservation=AllDimensions&startPeriod=2016', 'rel': 'request'}]}, 'dataSets': [{'action': 'Information', 'observations': {'0:0:0:0': [934.0, 0, None]}}], 'structure': {'links': [{'href': 'http://stat.data.abs.gov.au/sdmx-json/dataflow/ABS_SEIFA2016_SA2/all', 'rel': 'dataflow'}], 'name': 'SEIFA 2016 by Statistical Area 2', 'description': 'SEIFA 2016 by Statistical Area 2', 'dimensions': {'observation': [{'keyPosition': 0, 'id': 'ASGS_2016', 'name': 'Statistical Area (SA) 2', 'values': [{'id': '502011029', 'name': 'Pinjarra'}]}, {'keyPosition': 1, 'id': 'SEIFAINDEXTYPE', 'name': 'Index Type', 'values': [{'id': 'IRSAD', 'name': 'Index of Relative Socio-economic Advantage and Disadvantage'}]}, {'keyPosition': 2, 'id': 'SEIFA_MEASURE', 'name': 'Measure', 'values': [{'id': 'SCORE', 'name': 'Score'}]}, {'id': 'TIME_PERIOD', 'name': 'Time', 'values': [{'id': '2016', 'name': '2016'}], 'role': 'TIME_PERIOD'}]}, 'attributes': {'dataSet': [], 'series': [], 'observation': [{'id': 'TIME_FORMAT', 'name': 'Time Format', 'values': [{'id': 'P1Y', 'name': 'Annual'}]}, {'id': 'OBS_STATUS', 'name': 'Observation Status', 'values': []}]}, 'annotations': [{'title': 'Statistical usage warning', 'uri': '', 'text': 'ABS.Stat beta is continuing to be developed.  Data will be updated as soon as possible following its 11:30 am release on the ABS website.'}]}}\n",
      "{'header': {'id': 'b332bdad-b88b-4c1f-ba0f-70c5110b2190', 'test': False, 'prepared': '2020-10-29T15:28:03.9399466Z', 'sender': {'id': 'ABS', 'name': 'Australian Bureau of Statistics'}, 'links': [{'href': 'http://stat.data.abs.gov.au:80/sdmx-json/data/ABS_SEIFA2016_SA2/503011030.IRSAD.SCORE/all?detail=Full&dimensionAtObservation=AllDimensions&startPeriod=2016', 'rel': 'request'}]}, 'dataSets': [{'action': 'Information', 'observations': {'0:0:0:0': [1168.0, 0, None]}}], 'structure': {'links': [{'href': 'http://stat.data.abs.gov.au/sdmx-json/dataflow/ABS_SEIFA2016_SA2/all', 'rel': 'dataflow'}], 'name': 'SEIFA 2016 by Statistical Area 2', 'description': 'SEIFA 2016 by Statistical Area 2', 'dimensions': {'observation': [{'keyPosition': 0, 'id': 'ASGS_2016', 'name': 'Statistical Area (SA) 2', 'values': [{'id': '503011030', 'name': 'City Beach'}]}, {'keyPosition': 1, 'id': 'SEIFAINDEXTYPE', 'name': 'Index Type', 'values': [{'id': 'IRSAD', 'name': 'Index of Relative Socio-economic Advantage and Disadvantage'}]}, {'keyPosition': 2, 'id': 'SEIFA_MEASURE', 'name': 'Measure', 'values': [{'id': 'SCORE', 'name': 'Score'}]}, {'id': 'TIME_PERIOD', 'name': 'Time', 'values': [{'id': '2016', 'name': '2016'}], 'role': 'TIME_PERIOD'}]}, 'attributes': {'dataSet': [], 'series': [], 'observation': [{'id': 'TIME_FORMAT', 'name': 'Time Format', 'values': [{'id': 'P1Y', 'name': 'Annual'}]}, {'id': 'OBS_STATUS', 'name': 'Observation Status', 'values': []}]}, 'annotations': [{'title': 'Statistical usage warning', 'uri': '', 'text': 'ABS.Stat beta is continuing to be developed.  Data will be updated as soon as possible following its 11:30 am release on the ABS website.'}]}}\n",
      "{'header': {'id': '80292db6-e587-4e22-94f5-871e2fb5a40a', 'test': False, 'prepared': '2020-10-29T15:17:10.5945102Z', 'sender': {'id': 'ABS', 'name': 'Australian Bureau of Statistics'}, 'links': [{'href': 'http://stat.data.abs.gov.au:80/sdmx-json/data/ABS_SEIFA2016_SA2/503011031.IRSAD.SCORE/all?detail=Full&dimensionAtObservation=AllDimensions&startPeriod=2016', 'rel': 'request'}]}, 'dataSets': [{'action': 'Information', 'observations': {'0:0:0:0': [1119.0, 0, None]}}], 'structure': {'links': [{'href': 'http://stat.data.abs.gov.au/sdmx-json/dataflow/ABS_SEIFA2016_SA2/all', 'rel': 'dataflow'}], 'name': 'SEIFA 2016 by Statistical Area 2', 'description': 'SEIFA 2016 by Statistical Area 2', 'dimensions': {'observation': [{'keyPosition': 0, 'id': 'ASGS_2016', 'name': 'Statistical Area (SA) 2', 'values': [{'id': '503011031', 'name': 'Claremont (WA)'}]}, {'keyPosition': 1, 'id': 'SEIFAINDEXTYPE', 'name': 'Index Type', 'values': [{'id': 'IRSAD', 'name': 'Index of Relative Socio-economic Advantage and Disadvantage'}]}, {'keyPosition': 2, 'id': 'SEIFA_MEASURE', 'name': 'Measure', 'values': [{'id': 'SCORE', 'name': 'Score'}]}, {'id': 'TIME_PERIOD', 'name': 'Time', 'values': [{'id': '2016', 'name': '2016'}], 'role': 'TIME_PERIOD'}]}, 'attributes': {'dataSet': [], 'series': [], 'observation': [{'id': 'TIME_FORMAT', 'name': 'Time Format', 'values': [{'id': 'P1Y', 'name': 'Annual'}]}, {'id': 'OBS_STATUS', 'name': 'Observation Status', 'values': []}]}, 'annotations': [{'title': 'Statistical usage warning', 'uri': '', 'text': 'ABS.Stat beta is continuing to be developed.  Data will be updated as soon as possible following its 11:30 am release on the ABS website.'}]}}\n",
      "{'header': {'id': '156e8ace-1d81-4b21-857c-1eaf7fd5064f', 'test': False, 'prepared': '2020-10-29T15:17:09.6286742Z', 'sender': {'id': 'ABS', 'name': 'Australian Bureau of Statistics'}, 'links': [{'href': 'http://stat.data.abs.gov.au:80/sdmx-json/data/ABS_SEIFA2016_SA2/503011032.IRSAD.SCORE/all?detail=Full&dimensionAtObservation=AllDimensions&startPeriod=2016', 'rel': 'request'}]}, 'dataSets': [{'action': 'Information', 'observations': {'0:0:0:0': [1166.0, 0, None]}}], 'structure': {'links': [{'href': 'http://stat.data.abs.gov.au/sdmx-json/dataflow/ABS_SEIFA2016_SA2/all', 'rel': 'dataflow'}], 'name': 'SEIFA 2016 by Statistical Area 2', 'description': 'SEIFA 2016 by Statistical Area 2', 'dimensions': {'observation': [{'keyPosition': 0, 'id': 'ASGS_2016', 'name': 'Statistical Area (SA) 2', 'values': [{'id': '503011032', 'name': 'Cottesloe'}]}, {'keyPosition': 1, 'id': 'SEIFAINDEXTYPE', 'name': 'Index Type', 'values': [{'id': 'IRSAD', 'name': 'Index of Relative Socio-economic Advantage and Disadvantage'}]}, {'keyPosition': 2, 'id': 'SEIFA_MEASURE', 'name': 'Measure', 'values': [{'id': 'SCORE', 'name': 'Score'}]}, {'id': 'TIME_PERIOD', 'name': 'Time', 'values': [{'id': '2016', 'name': '2016'}], 'role': 'TIME_PERIOD'}]}, 'attributes': {'dataSet': [], 'series': [], 'observation': [{'id': 'TIME_FORMAT', 'name': 'Time Format', 'values': [{'id': 'P1Y', 'name': 'Annual'}]}, {'id': 'OBS_STATUS', 'name': 'Observation Status', 'values': []}]}, 'annotations': [{'title': 'Statistical usage warning', 'uri': '', 'text': 'ABS.Stat beta is continuing to be developed.  Data will be updated as soon as possible following its 11:30 am release on the ABS website.'}]}}\n"
     ]
    },
    {
     "name": "stdout",
     "output_type": "stream",
     "text": [
      "{'header': {'id': '996d49e9-27f7-42c0-93d2-f678ba41198a', 'test': False, 'prepared': '2020-10-29T15:44:26.0939218Z', 'sender': {'id': 'ABS', 'name': 'Australian Bureau of Statistics'}, 'links': [{'href': 'http://stat.data.abs.gov.au:80/sdmx-json/data/ABS_SEIFA2016_SA2/503011033.IRSAD.SCORE/all?detail=Full&dimensionAtObservation=AllDimensions&startPeriod=2016', 'rel': 'request'}]}, 'dataSets': [{'action': 'Information', 'observations': {'0:0:0:0': [1177.0, 0, None]}}], 'structure': {'links': [{'href': 'http://stat.data.abs.gov.au/sdmx-json/dataflow/ABS_SEIFA2016_SA2/all', 'rel': 'dataflow'}], 'name': 'SEIFA 2016 by Statistical Area 2', 'description': 'SEIFA 2016 by Statistical Area 2', 'dimensions': {'observation': [{'keyPosition': 0, 'id': 'ASGS_2016', 'name': 'Statistical Area (SA) 2', 'values': [{'id': '503011033', 'name': 'Floreat'}]}, {'keyPosition': 1, 'id': 'SEIFAINDEXTYPE', 'name': 'Index Type', 'values': [{'id': 'IRSAD', 'name': 'Index of Relative Socio-economic Advantage and Disadvantage'}]}, {'keyPosition': 2, 'id': 'SEIFA_MEASURE', 'name': 'Measure', 'values': [{'id': 'SCORE', 'name': 'Score'}]}, {'id': 'TIME_PERIOD', 'name': 'Time', 'values': [{'id': '2016', 'name': '2016'}], 'role': 'TIME_PERIOD'}]}, 'attributes': {'dataSet': [], 'series': [], 'observation': [{'id': 'TIME_FORMAT', 'name': 'Time Format', 'values': [{'id': 'P1Y', 'name': 'Annual'}]}, {'id': 'OBS_STATUS', 'name': 'Observation Status', 'values': []}]}, 'annotations': [{'title': 'Statistical usage warning', 'uri': '', 'text': 'ABS.Stat beta is continuing to be developed.  Data will be updated as soon as possible following its 11:30 am release on the ABS website.'}]}}\n",
      "{'header': {'id': 'c17e1d5f-cf8b-4e65-94d0-cdf9f7e3c581', 'test': False, 'prepared': '2020-10-29T15:28:05.7866444Z', 'sender': {'id': 'ABS', 'name': 'Australian Bureau of Statistics'}, 'links': [{'href': 'http://stat.data.abs.gov.au:80/sdmx-json/data/ABS_SEIFA2016_SA2/503011034.IRSAD.SCORE/all?detail=Full&dimensionAtObservation=AllDimensions&startPeriod=2016', 'rel': 'request'}]}, 'dataSets': [{'action': 'Information', 'observations': {'0:0:0:0': [1122.0, 0, None]}}], 'structure': {'links': [{'href': 'http://stat.data.abs.gov.au/sdmx-json/dataflow/ABS_SEIFA2016_SA2/all', 'rel': 'dataflow'}], 'name': 'SEIFA 2016 by Statistical Area 2', 'description': 'SEIFA 2016 by Statistical Area 2', 'dimensions': {'observation': [{'keyPosition': 0, 'id': 'ASGS_2016', 'name': 'Statistical Area (SA) 2', 'values': [{'id': '503011034', 'name': 'Mosman Park - Peppermint Grove'}]}, {'keyPosition': 1, 'id': 'SEIFAINDEXTYPE', 'name': 'Index Type', 'values': [{'id': 'IRSAD', 'name': 'Index of Relative Socio-economic Advantage and Disadvantage'}]}, {'keyPosition': 2, 'id': 'SEIFA_MEASURE', 'name': 'Measure', 'values': [{'id': 'SCORE', 'name': 'Score'}]}, {'id': 'TIME_PERIOD', 'name': 'Time', 'values': [{'id': '2016', 'name': '2016'}], 'role': 'TIME_PERIOD'}]}, 'attributes': {'dataSet': [], 'series': [], 'observation': [{'id': 'TIME_FORMAT', 'name': 'Time Format', 'values': [{'id': 'P1Y', 'name': 'Annual'}]}, {'id': 'OBS_STATUS', 'name': 'Observation Status', 'values': []}]}, 'annotations': [{'title': 'Statistical usage warning', 'uri': '', 'text': 'ABS.Stat beta is continuing to be developed.  Data will be updated as soon as possible following its 11:30 am release on the ABS website.'}]}}\n",
      "{'header': {'id': '586f2637-026c-4d58-aad0-686c3028f39e', 'test': False, 'prepared': '2020-10-29T15:30:18.5773824Z', 'sender': {'id': 'ABS', 'name': 'Australian Bureau of Statistics'}, 'links': [{'href': 'http://stat.data.abs.gov.au:80/sdmx-json/data/ABS_SEIFA2016_SA2/503011035.IRSAD.SCORE/all?detail=Full&dimensionAtObservation=AllDimensions&startPeriod=2016', 'rel': 'request'}]}, 'dataSets': [{'action': 'Information', 'observations': {'0:0:0:0': [1150.0, 0, None]}}], 'structure': {'links': [{'href': 'http://stat.data.abs.gov.au/sdmx-json/dataflow/ABS_SEIFA2016_SA2/all', 'rel': 'dataflow'}], 'name': 'SEIFA 2016 by Statistical Area 2', 'description': 'SEIFA 2016 by Statistical Area 2', 'dimensions': {'observation': [{'keyPosition': 0, 'id': 'ASGS_2016', 'name': 'Statistical Area (SA) 2', 'values': [{'id': '503011035', 'name': 'Nedlands - Dalkeith - Crawley'}]}, {'keyPosition': 1, 'id': 'SEIFAINDEXTYPE', 'name': 'Index Type', 'values': [{'id': 'IRSAD', 'name': 'Index of Relative Socio-economic Advantage and Disadvantage'}]}, {'keyPosition': 2, 'id': 'SEIFA_MEASURE', 'name': 'Measure', 'values': [{'id': 'SCORE', 'name': 'Score'}]}, {'id': 'TIME_PERIOD', 'name': 'Time', 'values': [{'id': '2016', 'name': '2016'}], 'role': 'TIME_PERIOD'}]}, 'attributes': {'dataSet': [], 'series': [], 'observation': [{'id': 'TIME_FORMAT', 'name': 'Time Format', 'values': [{'id': 'P1Y', 'name': 'Annual'}]}, {'id': 'OBS_STATUS', 'name': 'Observation Status', 'values': []}]}, 'annotations': [{'title': 'Statistical usage warning', 'uri': '', 'text': 'ABS.Stat beta is continuing to be developed.  Data will be updated as soon as possible following its 11:30 am release on the ABS website.'}]}}\n",
      "{'header': {'id': '7c765bdb-de81-4263-9dae-cb13a53eb171', 'test': False, 'prepared': '2020-10-29T15:27:07.2496665Z', 'sender': {'id': 'ABS', 'name': 'Australian Bureau of Statistics'}, 'links': [{'href': 'http://stat.data.abs.gov.au:80/sdmx-json/data/ABS_SEIFA2016_SA2/503011036.IRSAD.SCORE/all?detail=Full&dimensionAtObservation=AllDimensions&startPeriod=2016', 'rel': 'request'}]}, 'dataSets': [{'action': 'Information', 'observations': {'0:0:0:0': [1153.0, 0, None]}}], 'structure': {'links': [{'href': 'http://stat.data.abs.gov.au/sdmx-json/dataflow/ABS_SEIFA2016_SA2/all', 'rel': 'dataflow'}], 'name': 'SEIFA 2016 by Statistical Area 2', 'description': 'SEIFA 2016 by Statistical Area 2', 'dimensions': {'observation': [{'keyPosition': 0, 'id': 'ASGS_2016', 'name': 'Statistical Area (SA) 2', 'values': [{'id': '503011036', 'name': 'Swanbourne - Mount Claremont'}]}, {'keyPosition': 1, 'id': 'SEIFAINDEXTYPE', 'name': 'Index Type', 'values': [{'id': 'IRSAD', 'name': 'Index of Relative Socio-economic Advantage and Disadvantage'}]}, {'keyPosition': 2, 'id': 'SEIFA_MEASURE', 'name': 'Measure', 'values': [{'id': 'SCORE', 'name': 'Score'}]}, {'id': 'TIME_PERIOD', 'name': 'Time', 'values': [{'id': '2016', 'name': '2016'}], 'role': 'TIME_PERIOD'}]}, 'attributes': {'dataSet': [], 'series': [], 'observation': [{'id': 'TIME_FORMAT', 'name': 'Time Format', 'values': [{'id': 'P1Y', 'name': 'Annual'}]}, {'id': 'OBS_STATUS', 'name': 'Observation Status', 'values': []}]}, 'annotations': [{'title': 'Statistical usage warning', 'uri': '', 'text': 'ABS.Stat beta is continuing to be developed.  Data will be updated as soon as possible following its 11:30 am release on the ABS website.'}]}}\n",
      "{'header': {'id': '7a4d6f36-5aff-4d28-8bd0-67abad247f14', 'test': False, 'prepared': '2020-10-29T15:27:08.6493433Z', 'sender': {'id': 'ABS', 'name': 'Australian Bureau of Statistics'}, 'links': [{'href': 'http://stat.data.abs.gov.au:80/sdmx-json/data/ABS_SEIFA2016_SA2/503021037.IRSAD.SCORE/all?detail=Full&dimensionAtObservation=AllDimensions&startPeriod=2016', 'rel': 'request'}]}, 'dataSets': [{'action': 'Information', 'observations': {}}], 'structure': {'links': [{'href': 'http://stat.data.abs.gov.au/sdmx-json/dataflow/ABS_SEIFA2016_SA2/all', 'rel': 'dataflow'}], 'name': 'SEIFA 2016 by Statistical Area 2', 'description': 'SEIFA 2016 by Statistical Area 2', 'dimensions': {'observation': []}, 'attributes': {'dataSet': [], 'series': [], 'observation': [{'id': 'TIME_FORMAT', 'name': 'Time Format', 'values': []}, {'id': 'OBS_STATUS', 'name': 'Observation Status', 'values': []}]}, 'annotations': [{'title': 'Statistical usage warning', 'uri': '', 'text': 'ABS.Stat beta is continuing to be developed.  Data will be updated as soon as possible following its 11:30 am release on the ABS website.'}]}}\n",
      "{'header': {'id': 'ebcd3696-c96e-4ef4-9188-a6b6b86186be', 'test': False, 'prepared': '2020-10-29T15:28:05.3086838Z', 'sender': {'id': 'ABS', 'name': 'Australian Bureau of Statistics'}, 'links': [{'href': 'http://stat.data.abs.gov.au:80/sdmx-json/data/ABS_SEIFA2016_SA2/503021038.IRSAD.SCORE/all?detail=Full&dimensionAtObservation=AllDimensions&startPeriod=2016', 'rel': 'request'}]}, 'dataSets': [{'action': 'Information', 'observations': {'0:0:0:0': [1118.0, 0, None]}}], 'structure': {'links': [{'href': 'http://stat.data.abs.gov.au/sdmx-json/dataflow/ABS_SEIFA2016_SA2/all', 'rel': 'dataflow'}], 'name': 'SEIFA 2016 by Statistical Area 2', 'description': 'SEIFA 2016 by Statistical Area 2', 'dimensions': {'observation': [{'keyPosition': 0, 'id': 'ASGS_2016', 'name': 'Statistical Area (SA) 2', 'values': [{'id': '503021038', 'name': 'Mount Hawthorn - Leederville'}]}, {'keyPosition': 1, 'id': 'SEIFAINDEXTYPE', 'name': 'Index Type', 'values': [{'id': 'IRSAD', 'name': 'Index of Relative Socio-economic Advantage and Disadvantage'}]}, {'keyPosition': 2, 'id': 'SEIFA_MEASURE', 'name': 'Measure', 'values': [{'id': 'SCORE', 'name': 'Score'}]}, {'id': 'TIME_PERIOD', 'name': 'Time', 'values': [{'id': '2016', 'name': '2016'}], 'role': 'TIME_PERIOD'}]}, 'attributes': {'dataSet': [], 'series': [], 'observation': [{'id': 'TIME_FORMAT', 'name': 'Time Format', 'values': [{'id': 'P1Y', 'name': 'Annual'}]}, {'id': 'OBS_STATUS', 'name': 'Observation Status', 'values': []}]}, 'annotations': [{'title': 'Statistical usage warning', 'uri': '', 'text': 'ABS.Stat beta is continuing to be developed.  Data will be updated as soon as possible following its 11:30 am release on the ABS website.'}]}}\n"
     ]
    },
    {
     "name": "stdout",
     "output_type": "stream",
     "text": [
      "{'header': {'id': '36cf863d-1f07-4c64-ad70-aa9e6dee2a7d', 'test': False, 'prepared': '2020-10-29T15:17:11.2975268Z', 'sender': {'id': 'ABS', 'name': 'Australian Bureau of Statistics'}, 'links': [{'href': 'http://stat.data.abs.gov.au:80/sdmx-json/data/ABS_SEIFA2016_SA2/503021039.IRSAD.SCORE/all?detail=Full&dimensionAtObservation=AllDimensions&startPeriod=2016', 'rel': 'request'}]}, 'dataSets': [{'action': 'Information', 'observations': {'0:0:0:0': [1101.0, 0, None]}}], 'structure': {'links': [{'href': 'http://stat.data.abs.gov.au/sdmx-json/dataflow/ABS_SEIFA2016_SA2/all', 'rel': 'dataflow'}], 'name': 'SEIFA 2016 by Statistical Area 2', 'description': 'SEIFA 2016 by Statistical Area 2', 'dimensions': {'observation': [{'keyPosition': 0, 'id': 'ASGS_2016', 'name': 'Statistical Area (SA) 2', 'values': [{'id': '503021039', 'name': 'Mount Lawley - Inglewood'}]}, {'keyPosition': 1, 'id': 'SEIFAINDEXTYPE', 'name': 'Index Type', 'values': [{'id': 'IRSAD', 'name': 'Index of Relative Socio-economic Advantage and Disadvantage'}]}, {'keyPosition': 2, 'id': 'SEIFA_MEASURE', 'name': 'Measure', 'values': [{'id': 'SCORE', 'name': 'Score'}]}, {'id': 'TIME_PERIOD', 'name': 'Time', 'values': [{'id': '2016', 'name': '2016'}], 'role': 'TIME_PERIOD'}]}, 'attributes': {'dataSet': [], 'series': [], 'observation': [{'id': 'TIME_FORMAT', 'name': 'Time Format', 'values': [{'id': 'P1Y', 'name': 'Annual'}]}, {'id': 'OBS_STATUS', 'name': 'Observation Status', 'values': []}]}, 'annotations': [{'title': 'Statistical usage warning', 'uri': '', 'text': 'ABS.Stat beta is continuing to be developed.  Data will be updated as soon as possible following its 11:30 am release on the ABS website.'}]}}\n",
      "{'header': {'id': '087f13d3-7876-4fb2-95c0-e4aa069f7a51', 'test': False, 'prepared': '2020-10-29T15:17:11.6307755Z', 'sender': {'id': 'ABS', 'name': 'Australian Bureau of Statistics'}, 'links': [{'href': 'http://stat.data.abs.gov.au:80/sdmx-json/data/ABS_SEIFA2016_SA2/503021040.IRSAD.SCORE/all?detail=Full&dimensionAtObservation=AllDimensions&startPeriod=2016', 'rel': 'request'}]}, 'dataSets': [{'action': 'Information', 'observations': {'0:0:0:0': [1099.0, 0, None]}}], 'structure': {'links': [{'href': 'http://stat.data.abs.gov.au/sdmx-json/dataflow/ABS_SEIFA2016_SA2/all', 'rel': 'dataflow'}], 'name': 'SEIFA 2016 by Statistical Area 2', 'description': 'SEIFA 2016 by Statistical Area 2', 'dimensions': {'observation': [{'keyPosition': 0, 'id': 'ASGS_2016', 'name': 'Statistical Area (SA) 2', 'values': [{'id': '503021040', 'name': 'North Perth'}]}, {'keyPosition': 1, 'id': 'SEIFAINDEXTYPE', 'name': 'Index Type', 'values': [{'id': 'IRSAD', 'name': 'Index of Relative Socio-economic Advantage and Disadvantage'}]}, {'keyPosition': 2, 'id': 'SEIFA_MEASURE', 'name': 'Measure', 'values': [{'id': 'SCORE', 'name': 'Score'}]}, {'id': 'TIME_PERIOD', 'name': 'Time', 'values': [{'id': '2016', 'name': '2016'}], 'role': 'TIME_PERIOD'}]}, 'attributes': {'dataSet': [], 'series': [], 'observation': [{'id': 'TIME_FORMAT', 'name': 'Time Format', 'values': [{'id': 'P1Y', 'name': 'Annual'}]}, {'id': 'OBS_STATUS', 'name': 'Observation Status', 'values': []}]}, 'annotations': [{'title': 'Statistical usage warning', 'uri': '', 'text': 'ABS.Stat beta is continuing to be developed.  Data will be updated as soon as possible following its 11:30 am release on the ABS website.'}]}}\n",
      "{'header': {'id': '14ead650-4748-4bac-bca8-740715ea1d6b', 'test': False, 'prepared': '2020-10-29T15:17:12.9699764Z', 'sender': {'id': 'ABS', 'name': 'Australian Bureau of Statistics'}, 'links': [{'href': 'http://stat.data.abs.gov.au:80/sdmx-json/data/ABS_SEIFA2016_SA2/503021041.IRSAD.SCORE/all?detail=Full&dimensionAtObservation=AllDimensions&startPeriod=2016', 'rel': 'request'}]}, 'dataSets': [{'action': 'Information', 'observations': {'0:0:0:0': [1083.0, 0, None]}}], 'structure': {'links': [{'href': 'http://stat.data.abs.gov.au/sdmx-json/dataflow/ABS_SEIFA2016_SA2/all', 'rel': 'dataflow'}], 'name': 'SEIFA 2016 by Statistical Area 2', 'description': 'SEIFA 2016 by Statistical Area 2', 'dimensions': {'observation': [{'keyPosition': 0, 'id': 'ASGS_2016', 'name': 'Statistical Area (SA) 2', 'values': [{'id': '503021041', 'name': 'Perth City'}]}, {'keyPosition': 1, 'id': 'SEIFAINDEXTYPE', 'name': 'Index Type', 'values': [{'id': 'IRSAD', 'name': 'Index of Relative Socio-economic Advantage and Disadvantage'}]}, {'keyPosition': 2, 'id': 'SEIFA_MEASURE', 'name': 'Measure', 'values': [{'id': 'SCORE', 'name': 'Score'}]}, {'id': 'TIME_PERIOD', 'name': 'Time', 'values': [{'id': '2016', 'name': '2016'}], 'role': 'TIME_PERIOD'}]}, 'attributes': {'dataSet': [], 'series': [], 'observation': [{'id': 'TIME_FORMAT', 'name': 'Time Format', 'values': [{'id': 'P1Y', 'name': 'Annual'}]}, {'id': 'OBS_STATUS', 'name': 'Observation Status', 'values': []}]}, 'annotations': [{'title': 'Statistical usage warning', 'uri': '', 'text': 'ABS.Stat beta is continuing to be developed.  Data will be updated as soon as possible following its 11:30 am release on the ABS website.'}]}}\n",
      "{'header': {'id': '858a8c21-7396-4726-ba5e-74fb8b184bf7', 'test': False, 'prepared': '2020-10-29T15:30:19.6888756Z', 'sender': {'id': 'ABS', 'name': 'Australian Bureau of Statistics'}, 'links': [{'href': 'http://stat.data.abs.gov.au:80/sdmx-json/data/ABS_SEIFA2016_SA2/503021042.IRSAD.SCORE/all?detail=Full&dimensionAtObservation=AllDimensions&startPeriod=2016', 'rel': 'request'}]}, 'dataSets': [{'action': 'Information', 'observations': {'0:0:0:0': [1122.0, 0, None]}}], 'structure': {'links': [{'href': 'http://stat.data.abs.gov.au/sdmx-json/dataflow/ABS_SEIFA2016_SA2/all', 'rel': 'dataflow'}], 'name': 'SEIFA 2016 by Statistical Area 2', 'description': 'SEIFA 2016 by Statistical Area 2', 'dimensions': {'observation': [{'keyPosition': 0, 'id': 'ASGS_2016', 'name': 'Statistical Area (SA) 2', 'values': [{'id': '503021042', 'name': 'Subiaco - Shenton Park'}]}, {'keyPosition': 1, 'id': 'SEIFAINDEXTYPE', 'name': 'Index Type', 'values': [{'id': 'IRSAD', 'name': 'Index of Relative Socio-economic Advantage and Disadvantage'}]}, {'keyPosition': 2, 'id': 'SEIFA_MEASURE', 'name': 'Measure', 'values': [{'id': 'SCORE', 'name': 'Score'}]}, {'id': 'TIME_PERIOD', 'name': 'Time', 'values': [{'id': '2016', 'name': '2016'}], 'role': 'TIME_PERIOD'}]}, 'attributes': {'dataSet': [], 'series': [], 'observation': [{'id': 'TIME_FORMAT', 'name': 'Time Format', 'values': [{'id': 'P1Y', 'name': 'Annual'}]}, {'id': 'OBS_STATUS', 'name': 'Observation Status', 'values': []}]}, 'annotations': [{'title': 'Statistical usage warning', 'uri': '', 'text': 'ABS.Stat beta is continuing to be developed.  Data will be updated as soon as possible following its 11:30 am release on the ABS website.'}]}}\n",
      "{'header': {'id': 'e4a9077e-656e-4dae-9bea-417625228f22', 'test': False, 'prepared': '2020-10-29T15:44:27.5028954Z', 'sender': {'id': 'ABS', 'name': 'Australian Bureau of Statistics'}, 'links': [{'href': 'http://stat.data.abs.gov.au:80/sdmx-json/data/ABS_SEIFA2016_SA2/503021043.IRSAD.SCORE/all?detail=Full&dimensionAtObservation=AllDimensions&startPeriod=2016', 'rel': 'request'}]}, 'dataSets': [{'action': 'Information', 'observations': {'0:0:0:0': [1091.0, 0, None]}}], 'structure': {'links': [{'href': 'http://stat.data.abs.gov.au/sdmx-json/dataflow/ABS_SEIFA2016_SA2/all', 'rel': 'dataflow'}], 'name': 'SEIFA 2016 by Statistical Area 2', 'description': 'SEIFA 2016 by Statistical Area 2', 'dimensions': {'observation': [{'keyPosition': 0, 'id': 'ASGS_2016', 'name': 'Statistical Area (SA) 2', 'values': [{'id': '503021043', 'name': 'Wembley - West Leederville - Glendalough'}]}, {'keyPosition': 1, 'id': 'SEIFAINDEXTYPE', 'name': 'Index Type', 'values': [{'id': 'IRSAD', 'name': 'Index of Relative Socio-economic Advantage and Disadvantage'}]}, {'keyPosition': 2, 'id': 'SEIFA_MEASURE', 'name': 'Measure', 'values': [{'id': 'SCORE', 'name': 'Score'}]}, {'id': 'TIME_PERIOD', 'name': 'Time', 'values': [{'id': '2016', 'name': '2016'}], 'role': 'TIME_PERIOD'}]}, 'attributes': {'dataSet': [], 'series': [], 'observation': [{'id': 'TIME_FORMAT', 'name': 'Time Format', 'values': [{'id': 'P1Y', 'name': 'Annual'}]}, {'id': 'OBS_STATUS', 'name': 'Observation Status', 'values': []}]}, 'annotations': [{'title': 'Statistical usage warning', 'uri': '', 'text': 'ABS.Stat beta is continuing to be developed.  Data will be updated as soon as possible following its 11:30 am release on the ABS website.'}]}}\n",
      "{'header': {'id': '48678d17-4550-47b5-af21-45e535c5f9e0', 'test': False, 'prepared': '2020-10-29T15:17:13.8169124Z', 'sender': {'id': 'ABS', 'name': 'Australian Bureau of Statistics'}, 'links': [{'href': 'http://stat.data.abs.gov.au:80/sdmx-json/data/ABS_SEIFA2016_SA2/504011044.IRSAD.SCORE/all?detail=Full&dimensionAtObservation=AllDimensions&startPeriod=2016', 'rel': 'request'}]}, 'dataSets': [{'action': 'Information', 'observations': {'0:0:0:0': [1008.0, 0, None]}}], 'structure': {'links': [{'href': 'http://stat.data.abs.gov.au/sdmx-json/dataflow/ABS_SEIFA2016_SA2/all', 'rel': 'dataflow'}], 'name': 'SEIFA 2016 by Statistical Area 2', 'description': 'SEIFA 2016 by Statistical Area 2', 'dimensions': {'observation': [{'keyPosition': 0, 'id': 'ASGS_2016', 'name': 'Statistical Area (SA) 2', 'values': [{'id': '504011044', 'name': 'Bassendean - Eden Hill - Ashfield'}]}, {'keyPosition': 1, 'id': 'SEIFAINDEXTYPE', 'name': 'Index Type', 'values': [{'id': 'IRSAD', 'name': 'Index of Relative Socio-economic Advantage and Disadvantage'}]}, {'keyPosition': 2, 'id': 'SEIFA_MEASURE', 'name': 'Measure', 'values': [{'id': 'SCORE', 'name': 'Score'}]}, {'id': 'TIME_PERIOD', 'name': 'Time', 'values': [{'id': '2016', 'name': '2016'}], 'role': 'TIME_PERIOD'}]}, 'attributes': {'dataSet': [], 'series': [], 'observation': [{'id': 'TIME_FORMAT', 'name': 'Time Format', 'values': [{'id': 'P1Y', 'name': 'Annual'}]}, {'id': 'OBS_STATUS', 'name': 'Observation Status', 'values': []}]}, 'annotations': [{'title': 'Statistical usage warning', 'uri': '', 'text': 'ABS.Stat beta is continuing to be developed.  Data will be updated as soon as possible following its 11:30 am release on the ABS website.'}]}}\n"
     ]
    },
    {
     "name": "stdout",
     "output_type": "stream",
     "text": [
      "{'header': {'id': 'c6416fbe-b41d-49e2-a8d4-89864d40b301', 'test': False, 'prepared': '2020-10-29T15:17:12.9756836Z', 'sender': {'id': 'ABS', 'name': 'Australian Bureau of Statistics'}, 'links': [{'href': 'http://stat.data.abs.gov.au:80/sdmx-json/data/ABS_SEIFA2016_SA2/504011045.IRSAD.SCORE/all?detail=Full&dimensionAtObservation=AllDimensions&startPeriod=2016', 'rel': 'request'}]}, 'dataSets': [{'action': 'Information', 'observations': {'0:0:0:0': [1042.0, 0, None]}}], 'structure': {'links': [{'href': 'http://stat.data.abs.gov.au/sdmx-json/dataflow/ABS_SEIFA2016_SA2/all', 'rel': 'dataflow'}], 'name': 'SEIFA 2016 by Statistical Area 2', 'description': 'SEIFA 2016 by Statistical Area 2', 'dimensions': {'observation': [{'keyPosition': 0, 'id': 'ASGS_2016', 'name': 'Statistical Area (SA) 2', 'values': [{'id': '504011045', 'name': 'Bayswater - Embleton - Bedford'}]}, {'keyPosition': 1, 'id': 'SEIFAINDEXTYPE', 'name': 'Index Type', 'values': [{'id': 'IRSAD', 'name': 'Index of Relative Socio-economic Advantage and Disadvantage'}]}, {'keyPosition': 2, 'id': 'SEIFA_MEASURE', 'name': 'Measure', 'values': [{'id': 'SCORE', 'name': 'Score'}]}, {'id': 'TIME_PERIOD', 'name': 'Time', 'values': [{'id': '2016', 'name': '2016'}], 'role': 'TIME_PERIOD'}]}, 'attributes': {'dataSet': [], 'series': [], 'observation': [{'id': 'TIME_FORMAT', 'name': 'Time Format', 'values': [{'id': 'P1Y', 'name': 'Annual'}]}, {'id': 'OBS_STATUS', 'name': 'Observation Status', 'values': []}]}, 'annotations': [{'title': 'Statistical usage warning', 'uri': '', 'text': 'ABS.Stat beta is continuing to be developed.  Data will be updated as soon as possible following its 11:30 am release on the ABS website.'}]}}\n",
      "{'header': {'id': '4e8eda1b-fe52-4058-bc92-25d07c576366', 'test': False, 'prepared': '2020-10-29T15:27:09.2307734Z', 'sender': {'id': 'ABS', 'name': 'Australian Bureau of Statistics'}, 'links': [{'href': 'http://stat.data.abs.gov.au:80/sdmx-json/data/ABS_SEIFA2016_SA2/504011046.IRSAD.SCORE/all?detail=Full&dimensionAtObservation=AllDimensions&startPeriod=2016', 'rel': 'request'}]}, 'dataSets': [{'action': 'Information', 'observations': {'0:0:0:0': [1038.0, 0, None]}}], 'structure': {'links': [{'href': 'http://stat.data.abs.gov.au/sdmx-json/dataflow/ABS_SEIFA2016_SA2/all', 'rel': 'dataflow'}], 'name': 'SEIFA 2016 by Statistical Area 2', 'description': 'SEIFA 2016 by Statistical Area 2', 'dimensions': {'observation': [{'keyPosition': 0, 'id': 'ASGS_2016', 'name': 'Statistical Area (SA) 2', 'values': [{'id': '504011046', 'name': 'Maylands'}]}, {'keyPosition': 1, 'id': 'SEIFAINDEXTYPE', 'name': 'Index Type', 'values': [{'id': 'IRSAD', 'name': 'Index of Relative Socio-economic Advantage and Disadvantage'}]}, {'keyPosition': 2, 'id': 'SEIFA_MEASURE', 'name': 'Measure', 'values': [{'id': 'SCORE', 'name': 'Score'}]}, {'id': 'TIME_PERIOD', 'name': 'Time', 'values': [{'id': '2016', 'name': '2016'}], 'role': 'TIME_PERIOD'}]}, 'attributes': {'dataSet': [], 'series': [], 'observation': [{'id': 'TIME_FORMAT', 'name': 'Time Format', 'values': [{'id': 'P1Y', 'name': 'Annual'}]}, {'id': 'OBS_STATUS', 'name': 'Observation Status', 'values': []}]}, 'annotations': [{'title': 'Statistical usage warning', 'uri': '', 'text': 'ABS.Stat beta is continuing to be developed.  Data will be updated as soon as possible following its 11:30 am release on the ABS website.'}]}}\n",
      "{'header': {'id': '832bd45d-4855-4233-b97b-dffcc0165c0f', 'test': False, 'prepared': '2020-10-29T15:29:01.5741116Z', 'sender': {'id': 'ABS', 'name': 'Australian Bureau of Statistics'}, 'links': [{'href': 'http://stat.data.abs.gov.au:80/sdmx-json/data/ABS_SEIFA2016_SA2/504011047.IRSAD.SCORE/all?detail=Full&dimensionAtObservation=AllDimensions&startPeriod=2016', 'rel': 'request'}]}, 'dataSets': [{'action': 'Information', 'observations': {'0:0:0:0': [992.0, 0, None]}}], 'structure': {'links': [{'href': 'http://stat.data.abs.gov.au/sdmx-json/dataflow/ABS_SEIFA2016_SA2/all', 'rel': 'dataflow'}], 'name': 'SEIFA 2016 by Statistical Area 2', 'description': 'SEIFA 2016 by Statistical Area 2', 'dimensions': {'observation': [{'keyPosition': 0, 'id': 'ASGS_2016', 'name': 'Statistical Area (SA) 2', 'values': [{'id': '504011047', 'name': 'Morley'}]}, {'keyPosition': 1, 'id': 'SEIFAINDEXTYPE', 'name': 'Index Type', 'values': [{'id': 'IRSAD', 'name': 'Index of Relative Socio-economic Advantage and Disadvantage'}]}, {'keyPosition': 2, 'id': 'SEIFA_MEASURE', 'name': 'Measure', 'values': [{'id': 'SCORE', 'name': 'Score'}]}, {'id': 'TIME_PERIOD', 'name': 'Time', 'values': [{'id': '2016', 'name': '2016'}], 'role': 'TIME_PERIOD'}]}, 'attributes': {'dataSet': [], 'series': [], 'observation': [{'id': 'TIME_FORMAT', 'name': 'Time Format', 'values': [{'id': 'P1Y', 'name': 'Annual'}]}, {'id': 'OBS_STATUS', 'name': 'Observation Status', 'values': []}]}, 'annotations': [{'title': 'Statistical usage warning', 'uri': '', 'text': 'ABS.Stat beta is continuing to be developed.  Data will be updated as soon as possible following its 11:30 am release on the ABS website.'}]}}\n",
      "{'header': {'id': 'd1a3d2df-0d94-4da9-9e45-109b445f42d6', 'test': False, 'prepared': '2020-10-29T15:27:09.7102836Z', 'sender': {'id': 'ABS', 'name': 'Australian Bureau of Statistics'}, 'links': [{'href': 'http://stat.data.abs.gov.au:80/sdmx-json/data/ABS_SEIFA2016_SA2/504011048.IRSAD.SCORE/all?detail=Full&dimensionAtObservation=AllDimensions&startPeriod=2016', 'rel': 'request'}]}, 'dataSets': [{'action': 'Information', 'observations': {'0:0:0:0': [1032.0, 0, None]}}], 'structure': {'links': [{'href': 'http://stat.data.abs.gov.au/sdmx-json/dataflow/ABS_SEIFA2016_SA2/all', 'rel': 'dataflow'}], 'name': 'SEIFA 2016 by Statistical Area 2', 'description': 'SEIFA 2016 by Statistical Area 2', 'dimensions': {'observation': [{'keyPosition': 0, 'id': 'ASGS_2016', 'name': 'Statistical Area (SA) 2', 'values': [{'id': '504011048', 'name': 'Noranda'}]}, {'keyPosition': 1, 'id': 'SEIFAINDEXTYPE', 'name': 'Index Type', 'values': [{'id': 'IRSAD', 'name': 'Index of Relative Socio-economic Advantage and Disadvantage'}]}, {'keyPosition': 2, 'id': 'SEIFA_MEASURE', 'name': 'Measure', 'values': [{'id': 'SCORE', 'name': 'Score'}]}, {'id': 'TIME_PERIOD', 'name': 'Time', 'values': [{'id': '2016', 'name': '2016'}], 'role': 'TIME_PERIOD'}]}, 'attributes': {'dataSet': [], 'series': [], 'observation': [{'id': 'TIME_FORMAT', 'name': 'Time Format', 'values': [{'id': 'P1Y', 'name': 'Annual'}]}, {'id': 'OBS_STATUS', 'name': 'Observation Status', 'values': []}]}, 'annotations': [{'title': 'Statistical usage warning', 'uri': '', 'text': 'ABS.Stat beta is continuing to be developed.  Data will be updated as soon as possible following its 11:30 am release on the ABS website.'}]}}\n",
      "{'header': {'id': 'd32a831c-a1c7-4245-a8d5-ff279630e33f', 'test': False, 'prepared': '2020-10-29T15:29:00.8373812Z', 'sender': {'id': 'ABS', 'name': 'Australian Bureau of Statistics'}, 'links': [{'href': 'http://stat.data.abs.gov.au:80/sdmx-json/data/ABS_SEIFA2016_SA2/504021049.IRSAD.SCORE/all?detail=Full&dimensionAtObservation=AllDimensions&startPeriod=2016', 'rel': 'request'}]}, 'dataSets': [{'action': 'Information', 'observations': {'0:0:0:0': [1011.0, 0, None]}}], 'structure': {'links': [{'href': 'http://stat.data.abs.gov.au/sdmx-json/dataflow/ABS_SEIFA2016_SA2/all', 'rel': 'dataflow'}], 'name': 'SEIFA 2016 by Statistical Area 2', 'description': 'SEIFA 2016 by Statistical Area 2', 'dimensions': {'observation': [{'keyPosition': 0, 'id': 'ASGS_2016', 'name': 'Statistical Area (SA) 2', 'values': [{'id': '504021049', 'name': 'Chidlow'}]}, {'keyPosition': 1, 'id': 'SEIFAINDEXTYPE', 'name': 'Index Type', 'values': [{'id': 'IRSAD', 'name': 'Index of Relative Socio-economic Advantage and Disadvantage'}]}, {'keyPosition': 2, 'id': 'SEIFA_MEASURE', 'name': 'Measure', 'values': [{'id': 'SCORE', 'name': 'Score'}]}, {'id': 'TIME_PERIOD', 'name': 'Time', 'values': [{'id': '2016', 'name': '2016'}], 'role': 'TIME_PERIOD'}]}, 'attributes': {'dataSet': [], 'series': [], 'observation': [{'id': 'TIME_FORMAT', 'name': 'Time Format', 'values': [{'id': 'P1Y', 'name': 'Annual'}]}, {'id': 'OBS_STATUS', 'name': 'Observation Status', 'values': []}]}, 'annotations': [{'title': 'Statistical usage warning', 'uri': '', 'text': 'ABS.Stat beta is continuing to be developed.  Data will be updated as soon as possible following its 11:30 am release on the ABS website.'}]}}\n",
      "{'header': {'id': '75e14321-f094-4f97-8fc6-c7a8a73120b7', 'test': False, 'prepared': '2020-10-29T15:17:14.1558129Z', 'sender': {'id': 'ABS', 'name': 'Australian Bureau of Statistics'}, 'links': [{'href': 'http://stat.data.abs.gov.au:80/sdmx-json/data/ABS_SEIFA2016_SA2/504021050.IRSAD.SCORE/all?detail=Full&dimensionAtObservation=AllDimensions&startPeriod=2016', 'rel': 'request'}]}, 'dataSets': [{'action': 'Information', 'observations': {'0:0:0:0': [1098.0, 0, None]}}], 'structure': {'links': [{'href': 'http://stat.data.abs.gov.au/sdmx-json/dataflow/ABS_SEIFA2016_SA2/all', 'rel': 'dataflow'}], 'name': 'SEIFA 2016 by Statistical Area 2', 'description': 'SEIFA 2016 by Statistical Area 2', 'dimensions': {'observation': [{'keyPosition': 0, 'id': 'ASGS_2016', 'name': 'Statistical Area (SA) 2', 'values': [{'id': '504021050', 'name': 'Glen Forrest - Darlington'}]}, {'keyPosition': 1, 'id': 'SEIFAINDEXTYPE', 'name': 'Index Type', 'values': [{'id': 'IRSAD', 'name': 'Index of Relative Socio-economic Advantage and Disadvantage'}]}, {'keyPosition': 2, 'id': 'SEIFA_MEASURE', 'name': 'Measure', 'values': [{'id': 'SCORE', 'name': 'Score'}]}, {'id': 'TIME_PERIOD', 'name': 'Time', 'values': [{'id': '2016', 'name': '2016'}], 'role': 'TIME_PERIOD'}]}, 'attributes': {'dataSet': [], 'series': [], 'observation': [{'id': 'TIME_FORMAT', 'name': 'Time Format', 'values': [{'id': 'P1Y', 'name': 'Annual'}]}, {'id': 'OBS_STATUS', 'name': 'Observation Status', 'values': []}]}, 'annotations': [{'title': 'Statistical usage warning', 'uri': '', 'text': 'ABS.Stat beta is continuing to be developed.  Data will be updated as soon as possible following its 11:30 am release on the ABS website.'}]}}\n"
     ]
    },
    {
     "name": "stdout",
     "output_type": "stream",
     "text": [
      "{'header': {'id': '58f27187-e114-493c-a8f0-784632a31934', 'test': False, 'prepared': '2020-10-29T15:27:11.5891899Z', 'sender': {'id': 'ABS', 'name': 'Australian Bureau of Statistics'}, 'links': [{'href': 'http://stat.data.abs.gov.au:80/sdmx-json/data/ABS_SEIFA2016_SA2/504021051.IRSAD.SCORE/all?detail=Full&dimensionAtObservation=AllDimensions&startPeriod=2016', 'rel': 'request'}]}, 'dataSets': [{'action': 'Information', 'observations': {'0:0:0:0': [1024.0, 0, None]}}], 'structure': {'links': [{'href': 'http://stat.data.abs.gov.au/sdmx-json/dataflow/ABS_SEIFA2016_SA2/all', 'rel': 'dataflow'}], 'name': 'SEIFA 2016 by Statistical Area 2', 'description': 'SEIFA 2016 by Statistical Area 2', 'dimensions': {'observation': [{'keyPosition': 0, 'id': 'ASGS_2016', 'name': 'Statistical Area (SA) 2', 'values': [{'id': '504021051', 'name': 'Helena Valley - Koongamia'}]}, {'keyPosition': 1, 'id': 'SEIFAINDEXTYPE', 'name': 'Index Type', 'values': [{'id': 'IRSAD', 'name': 'Index of Relative Socio-economic Advantage and Disadvantage'}]}, {'keyPosition': 2, 'id': 'SEIFA_MEASURE', 'name': 'Measure', 'values': [{'id': 'SCORE', 'name': 'Score'}]}, {'id': 'TIME_PERIOD', 'name': 'Time', 'values': [{'id': '2016', 'name': '2016'}], 'role': 'TIME_PERIOD'}]}, 'attributes': {'dataSet': [], 'series': [], 'observation': [{'id': 'TIME_FORMAT', 'name': 'Time Format', 'values': [{'id': 'P1Y', 'name': 'Annual'}]}, {'id': 'OBS_STATUS', 'name': 'Observation Status', 'values': []}]}, 'annotations': [{'title': 'Statistical usage warning', 'uri': '', 'text': 'ABS.Stat beta is continuing to be developed.  Data will be updated as soon as possible following its 11:30 am release on the ABS website.'}]}}\n"
     ]
    },
    {
     "ename": "JSONDecodeError",
     "evalue": "Expecting property name enclosed in double quotes: line 1 column 420 (char 419)",
     "output_type": "error",
     "traceback": [
      "\u001b[1;31m---------------------------------------------------------------------------\u001b[0m",
      "\u001b[1;31mJSONDecodeError\u001b[0m                           Traceback (most recent call last)",
      "\u001b[1;32m<ipython-input-33-3680c05000d8>\u001b[0m in \u001b[0;36m<module>\u001b[1;34m\u001b[0m\n\u001b[0;32m      5\u001b[0m     \u001b[0mresponse\u001b[0m \u001b[1;33m=\u001b[0m \u001b[0mrequests\u001b[0m\u001b[1;33m.\u001b[0m\u001b[0mget\u001b[0m\u001b[1;33m(\u001b[0m\u001b[1;34mf\"http://stat.data.abs.gov.au/sdmx-json/data/ABS_SEIFA2016_SA2/{sa2}.IRSAD.SCORE/all?detail=Full&dimensionAtObservation=AllDimensions&startPeriod=2016\"\u001b[0m\u001b[1;33m)\u001b[0m\u001b[1;33m\u001b[0m\u001b[1;33m\u001b[0m\u001b[0m\n\u001b[0;32m      6\u001b[0m \u001b[1;33m\u001b[0m\u001b[0m\n\u001b[1;32m----> 7\u001b[1;33m     \u001b[0mseifa_socio\u001b[0m \u001b[1;33m=\u001b[0m \u001b[0mresponse\u001b[0m\u001b[1;33m.\u001b[0m\u001b[0mjson\u001b[0m\u001b[1;33m(\u001b[0m\u001b[1;33m)\u001b[0m\u001b[1;33m\u001b[0m\u001b[1;33m\u001b[0m\u001b[0m\n\u001b[0m\u001b[0;32m      8\u001b[0m     \u001b[0mprint\u001b[0m\u001b[1;33m(\u001b[0m\u001b[0mseifa_socio\u001b[0m\u001b[1;33m)\u001b[0m\u001b[1;33m\u001b[0m\u001b[1;33m\u001b[0m\u001b[0m\n\u001b[0;32m      9\u001b[0m \u001b[1;31m#     for seifa in seifa_socio:\u001b[0m\u001b[1;33m\u001b[0m\u001b[1;33m\u001b[0m\u001b[1;33m\u001b[0m\u001b[0m\n",
      "\u001b[1;32m~\\anaconda3\\lib\\site-packages\\requests\\models.py\u001b[0m in \u001b[0;36mjson\u001b[1;34m(self, **kwargs)\u001b[0m\n\u001b[0;32m    895\u001b[0m                     \u001b[1;31m# used.\u001b[0m\u001b[1;33m\u001b[0m\u001b[1;33m\u001b[0m\u001b[1;33m\u001b[0m\u001b[0m\n\u001b[0;32m    896\u001b[0m                     \u001b[1;32mpass\u001b[0m\u001b[1;33m\u001b[0m\u001b[1;33m\u001b[0m\u001b[0m\n\u001b[1;32m--> 897\u001b[1;33m         \u001b[1;32mreturn\u001b[0m \u001b[0mcomplexjson\u001b[0m\u001b[1;33m.\u001b[0m\u001b[0mloads\u001b[0m\u001b[1;33m(\u001b[0m\u001b[0mself\u001b[0m\u001b[1;33m.\u001b[0m\u001b[0mtext\u001b[0m\u001b[1;33m,\u001b[0m \u001b[1;33m**\u001b[0m\u001b[0mkwargs\u001b[0m\u001b[1;33m)\u001b[0m\u001b[1;33m\u001b[0m\u001b[1;33m\u001b[0m\u001b[0m\n\u001b[0m\u001b[0;32m    898\u001b[0m \u001b[1;33m\u001b[0m\u001b[0m\n\u001b[0;32m    899\u001b[0m     \u001b[1;33m@\u001b[0m\u001b[0mproperty\u001b[0m\u001b[1;33m\u001b[0m\u001b[1;33m\u001b[0m\u001b[0m\n",
      "\u001b[1;32m~\\anaconda3\\lib\\json\\__init__.py\u001b[0m in \u001b[0;36mloads\u001b[1;34m(s, encoding, cls, object_hook, parse_float, parse_int, parse_constant, object_pairs_hook, **kw)\u001b[0m\n\u001b[0;32m    346\u001b[0m             \u001b[0mparse_int\u001b[0m \u001b[1;32mis\u001b[0m \u001b[1;32mNone\u001b[0m \u001b[1;32mand\u001b[0m \u001b[0mparse_float\u001b[0m \u001b[1;32mis\u001b[0m \u001b[1;32mNone\u001b[0m \u001b[1;32mand\u001b[0m\u001b[1;33m\u001b[0m\u001b[1;33m\u001b[0m\u001b[0m\n\u001b[0;32m    347\u001b[0m             parse_constant is None and object_pairs_hook is None and not kw):\n\u001b[1;32m--> 348\u001b[1;33m         \u001b[1;32mreturn\u001b[0m \u001b[0m_default_decoder\u001b[0m\u001b[1;33m.\u001b[0m\u001b[0mdecode\u001b[0m\u001b[1;33m(\u001b[0m\u001b[0ms\u001b[0m\u001b[1;33m)\u001b[0m\u001b[1;33m\u001b[0m\u001b[1;33m\u001b[0m\u001b[0m\n\u001b[0m\u001b[0;32m    349\u001b[0m     \u001b[1;32mif\u001b[0m \u001b[0mcls\u001b[0m \u001b[1;32mis\u001b[0m \u001b[1;32mNone\u001b[0m\u001b[1;33m:\u001b[0m\u001b[1;33m\u001b[0m\u001b[1;33m\u001b[0m\u001b[0m\n\u001b[0;32m    350\u001b[0m         \u001b[0mcls\u001b[0m \u001b[1;33m=\u001b[0m \u001b[0mJSONDecoder\u001b[0m\u001b[1;33m\u001b[0m\u001b[1;33m\u001b[0m\u001b[0m\n",
      "\u001b[1;32m~\\anaconda3\\lib\\json\\decoder.py\u001b[0m in \u001b[0;36mdecode\u001b[1;34m(self, s, _w)\u001b[0m\n\u001b[0;32m    335\u001b[0m \u001b[1;33m\u001b[0m\u001b[0m\n\u001b[0;32m    336\u001b[0m         \"\"\"\n\u001b[1;32m--> 337\u001b[1;33m         \u001b[0mobj\u001b[0m\u001b[1;33m,\u001b[0m \u001b[0mend\u001b[0m \u001b[1;33m=\u001b[0m \u001b[0mself\u001b[0m\u001b[1;33m.\u001b[0m\u001b[0mraw_decode\u001b[0m\u001b[1;33m(\u001b[0m\u001b[0ms\u001b[0m\u001b[1;33m,\u001b[0m \u001b[0midx\u001b[0m\u001b[1;33m=\u001b[0m\u001b[0m_w\u001b[0m\u001b[1;33m(\u001b[0m\u001b[0ms\u001b[0m\u001b[1;33m,\u001b[0m \u001b[1;36m0\u001b[0m\u001b[1;33m)\u001b[0m\u001b[1;33m.\u001b[0m\u001b[0mend\u001b[0m\u001b[1;33m(\u001b[0m\u001b[1;33m)\u001b[0m\u001b[1;33m)\u001b[0m\u001b[1;33m\u001b[0m\u001b[1;33m\u001b[0m\u001b[0m\n\u001b[0m\u001b[0;32m    338\u001b[0m         \u001b[0mend\u001b[0m \u001b[1;33m=\u001b[0m \u001b[0m_w\u001b[0m\u001b[1;33m(\u001b[0m\u001b[0ms\u001b[0m\u001b[1;33m,\u001b[0m \u001b[0mend\u001b[0m\u001b[1;33m)\u001b[0m\u001b[1;33m.\u001b[0m\u001b[0mend\u001b[0m\u001b[1;33m(\u001b[0m\u001b[1;33m)\u001b[0m\u001b[1;33m\u001b[0m\u001b[1;33m\u001b[0m\u001b[0m\n\u001b[0;32m    339\u001b[0m         \u001b[1;32mif\u001b[0m \u001b[0mend\u001b[0m \u001b[1;33m!=\u001b[0m \u001b[0mlen\u001b[0m\u001b[1;33m(\u001b[0m\u001b[0ms\u001b[0m\u001b[1;33m)\u001b[0m\u001b[1;33m:\u001b[0m\u001b[1;33m\u001b[0m\u001b[1;33m\u001b[0m\u001b[0m\n",
      "\u001b[1;32m~\\anaconda3\\lib\\json\\decoder.py\u001b[0m in \u001b[0;36mraw_decode\u001b[1;34m(self, s, idx)\u001b[0m\n\u001b[0;32m    351\u001b[0m         \"\"\"\n\u001b[0;32m    352\u001b[0m         \u001b[1;32mtry\u001b[0m\u001b[1;33m:\u001b[0m\u001b[1;33m\u001b[0m\u001b[1;33m\u001b[0m\u001b[0m\n\u001b[1;32m--> 353\u001b[1;33m             \u001b[0mobj\u001b[0m\u001b[1;33m,\u001b[0m \u001b[0mend\u001b[0m \u001b[1;33m=\u001b[0m \u001b[0mself\u001b[0m\u001b[1;33m.\u001b[0m\u001b[0mscan_once\u001b[0m\u001b[1;33m(\u001b[0m\u001b[0ms\u001b[0m\u001b[1;33m,\u001b[0m \u001b[0midx\u001b[0m\u001b[1;33m)\u001b[0m\u001b[1;33m\u001b[0m\u001b[1;33m\u001b[0m\u001b[0m\n\u001b[0m\u001b[0;32m    354\u001b[0m         \u001b[1;32mexcept\u001b[0m \u001b[0mStopIteration\u001b[0m \u001b[1;32mas\u001b[0m \u001b[0merr\u001b[0m\u001b[1;33m:\u001b[0m\u001b[1;33m\u001b[0m\u001b[1;33m\u001b[0m\u001b[0m\n\u001b[0;32m    355\u001b[0m             \u001b[1;32mraise\u001b[0m \u001b[0mJSONDecodeError\u001b[0m\u001b[1;33m(\u001b[0m\u001b[1;34m\"Expecting value\"\u001b[0m\u001b[1;33m,\u001b[0m \u001b[0ms\u001b[0m\u001b[1;33m,\u001b[0m \u001b[0merr\u001b[0m\u001b[1;33m.\u001b[0m\u001b[0mvalue\u001b[0m\u001b[1;33m)\u001b[0m \u001b[1;32mfrom\u001b[0m \u001b[1;32mNone\u001b[0m\u001b[1;33m\u001b[0m\u001b[1;33m\u001b[0m\u001b[0m\n",
      "\u001b[1;31mJSONDecodeError\u001b[0m: Expecting property name enclosed in double quotes: line 1 column 420 (char 419)"
     ]
    }
   ],
   "source": [
    "# seifa_socio_query = f'http://stat.data.abs.gov.au/sdmx-json/data/ABS_SEIFA2016_SA2/{sa2}.IRSAD.SCORE/all?detail=Full&dimensionAtObservation=AllDimensions&startPeriod=2016'\n",
    "\n",
    "\n",
    "for sa2 in sa2_list:\n",
    "    response = requests.get(f\"http://stat.data.abs.gov.au/sdmx-json/data/ABS_SEIFA2016_SA2/{sa2}.IRSAD.SCORE/all?detail=Full&dimensionAtObservation=AllDimensions&startPeriod=2016\")\n",
    "\n",
    "    seifa_socio = response.json()\n",
    "    print(seifa_socio)\n",
    "#     for seifa in seifa_socio:\n",
    "#         print([d['dataSets'] for d in seifa_socio])\n",
    "        \n",
    "\n",
    "\n",
    "\n",
    "    "
   ]
  },
  {
   "cell_type": "code",
   "execution_count": null,
   "metadata": {},
   "outputs": [],
   "source": []
  },
  {
   "cell_type": "code",
   "execution_count": null,
   "metadata": {},
   "outputs": [],
   "source": []
  }
 ],
 "metadata": {
  "kernelspec": {
   "display_name": "Python 3",
   "language": "python",
   "name": "python3"
  },
  "language_info": {
   "codemirror_mode": {
    "name": "ipython",
    "version": 3
   },
   "file_extension": ".py",
   "mimetype": "text/x-python",
   "name": "python",
   "nbconvert_exporter": "python",
   "pygments_lexer": "ipython3",
   "version": "3.7.6"
  }
 },
 "nbformat": 4,
 "nbformat_minor": 4
}
